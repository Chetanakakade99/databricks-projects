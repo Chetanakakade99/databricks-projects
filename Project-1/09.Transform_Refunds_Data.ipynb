{
 "cells": [
  {
   "cell_type": "markdown",
   "metadata": {
    "application/vnd.databricks.v1+cell": {
     "cellMetadata": {},
     "inputWidgets": {},
     "nuid": "f367b6e9-6e8c-4979-8e4f-58aa47619dbd",
     "showTitle": false,
     "tableResultSettingsMap": {},
     "title": ""
    }
   },
   "source": [
    "###Transform Refunds Data\n",
    "1. Extract specific portion of the string from refund_reason using split function\n",
    "2. Extract specific portion of the string from refund_reason using regexp_extract function\n",
    "3. Extract date and time from the refund_timestamp\n",
    "4. Write transformed data to the silver schema in hive meta store"
   ]
  },
  {
   "cell_type": "code",
   "execution_count": 0,
   "metadata": {
    "application/vnd.databricks.v1+cell": {
     "cellMetadata": {
      "byteLimit": 2048000,
      "rowLimit": 10000
     },
     "inputWidgets": {},
     "nuid": "663d817c-2b00-4958-9447-2912f622378b",
     "showTitle": false,
     "tableResultSettingsMap": {},
     "title": ""
    }
   },
   "outputs": [
    {
     "output_type": "display_data",
     "data": {
      "text/html": [
       "<style scoped>\n",
       "  .table-result-container {\n",
       "    max-height: 300px;\n",
       "    overflow: auto;\n",
       "  }\n",
       "  table, th, td {\n",
       "    border: 1px solid black;\n",
       "    border-collapse: collapse;\n",
       "  }\n",
       "  th, td {\n",
       "    padding: 5px;\n",
       "  }\n",
       "  th {\n",
       "    text-align: left;\n",
       "  }\n",
       "</style><div class='table-result-container'><table class='table-result'><thead style='background-color: white'><tr><th>refund_id</th><th>payment_id</th><th>refund_timestamp</th><th>refund_amount</th><th>refund_reason</th></tr></thead><tbody><tr><td>1</td><td>66</td><td>2025-01-10T11:30:00Z</td><td>85.75</td><td>Payment Error:Retailer</td></tr><tr><td>2</td><td>69</td><td>2025-01-03T12:40:15Z</td><td>120.50</td><td>Order Cancelled:Customer</td></tr><tr><td>3</td><td>72</td><td>2025-01-06T14:45:30Z</td><td>65.00</td><td>Product Returned:Customer</td></tr><tr><td>4</td><td>73</td><td>2025-01-07T16:10:45Z</td><td>210.99</td><td>Order Cancelled:Customer</td></tr><tr><td>5</td><td>75</td><td>2025-01-09T18:25:00Z</td><td>45.20</td><td>Payment Error:Retailer</td></tr><tr><td>6</td><td>80</td><td>2025-01-10T09:35:20Z</td><td>130.15</td><td>Order Cancelled:Customer</td></tr><tr><td>7</td><td>83</td><td>2025-01-12T11:20:40Z</td><td>150.00</td><td>Product Returned:Customer</td></tr><tr><td>8</td><td>85</td><td>2025-01-14T13:15:30Z</td><td>89.99</td><td>Order Cancelled:Customer</td></tr><tr><td>9</td><td>89</td><td>2025-01-15T15:00:00Z</td><td>78.50</td><td>Payment Error:Retailer</td></tr><tr><td>10</td><td>91</td><td>2025-01-17T16:45:15Z</td><td>250.75</td><td>Product Returned:Customer</td></tr></tbody></table></div>"
      ]
     },
     "metadata": {
      "application/vnd.databricks.v1+output": {
       "addedWidgets": {},
       "aggData": [],
       "aggError": "",
       "aggOverflow": false,
       "aggSchema": [],
       "aggSeriesLimitReached": false,
       "aggType": "",
       "arguments": {},
       "columnCustomDisplayInfos": {},
       "data": [
        [
         1,
         66,
         "2025-01-10T11:30:00Z",
         "85.75",
         "Payment Error:Retailer"
        ],
        [
         2,
         69,
         "2025-01-03T12:40:15Z",
         "120.50",
         "Order Cancelled:Customer"
        ],
        [
         3,
         72,
         "2025-01-06T14:45:30Z",
         "65.00",
         "Product Returned:Customer"
        ],
        [
         4,
         73,
         "2025-01-07T16:10:45Z",
         "210.99",
         "Order Cancelled:Customer"
        ],
        [
         5,
         75,
         "2025-01-09T18:25:00Z",
         "45.20",
         "Payment Error:Retailer"
        ],
        [
         6,
         80,
         "2025-01-10T09:35:20Z",
         "130.15",
         "Order Cancelled:Customer"
        ],
        [
         7,
         83,
         "2025-01-12T11:20:40Z",
         "150.00",
         "Product Returned:Customer"
        ],
        [
         8,
         85,
         "2025-01-14T13:15:30Z",
         "89.99",
         "Order Cancelled:Customer"
        ],
        [
         9,
         89,
         "2025-01-15T15:00:00Z",
         "78.50",
         "Payment Error:Retailer"
        ],
        [
         10,
         91,
         "2025-01-17T16:45:15Z",
         "250.75",
         "Product Returned:Customer"
        ]
       ],
       "datasetInfos": [],
       "dbfsResultPath": null,
       "isJsonSchema": true,
       "metadata": {
        "isDbfsCommandResult": false
       },
       "overflow": false,
       "plotOptions": {
        "customPlotOptions": {},
        "displayType": "table",
        "pivotAggregation": null,
        "pivotColumns": null,
        "xColumns": null,
        "yColumns": null
       },
       "removedWidgets": [],
       "schema": [
        {
         "metadata": "{\"isTimestampNTZ\":false,\"signed\":true,\"scale\":0}",
         "name": "refund_id",
         "type": "\"integer\""
        },
        {
         "metadata": "{\"isTimestampNTZ\":false,\"signed\":true,\"scale\":0}",
         "name": "payment_id",
         "type": "\"integer\""
        },
        {
         "metadata": "{\"isTimestampNTZ\":false,\"signed\":false,\"scale\":3}",
         "name": "refund_timestamp",
         "type": "\"timestamp\""
        },
        {
         "metadata": "{\"isTimestampNTZ\":false,\"signed\":true,\"scale\":2}",
         "name": "refund_amount",
         "type": "\"decimal(10,2)\""
        },
        {
         "metadata": "{\"isTimestampNTZ\":false,\"signed\":false,\"scale\":0}",
         "name": "refund_reason",
         "type": "\"string\""
        }
       ],
       "type": "table"
      }
     },
     "output_type": "display_data"
    }
   ],
   "source": [
    "SELECT refund_id,\n",
    "       payment_id,\n",
    "       refund_timestamp,\n",
    "       refund_amount,\n",
    "       refund_reason\n",
    "FROM hive_metastore.bronze.refunds;"
   ]
  },
  {
   "cell_type": "markdown",
   "metadata": {
    "application/vnd.databricks.v1+cell": {
     "cellMetadata": {},
     "inputWidgets": {},
     "nuid": "07877bbf-40d2-4ebf-bd51-c01f4a65f5c1",
     "showTitle": false,
     "tableResultSettingsMap": {},
     "title": ""
    }
   },
   "source": [
    "#####1. Extract specific portion of the string from refund_reason using split function"
   ]
  },
  {
   "cell_type": "code",
   "execution_count": 0,
   "metadata": {
    "application/vnd.databricks.v1+cell": {
     "cellMetadata": {
      "byteLimit": 2048000,
      "rowLimit": 10000
     },
     "inputWidgets": {},
     "nuid": "9ebe1e8f-e606-40dc-ba3a-96bdd5553f6d",
     "showTitle": false,
     "tableResultSettingsMap": {},
     "title": ""
    }
   },
   "outputs": [
    {
     "output_type": "display_data",
     "data": {
      "text/html": [
       "<style scoped>\n",
       "  .table-result-container {\n",
       "    max-height: 300px;\n",
       "    overflow: auto;\n",
       "  }\n",
       "  table, th, td {\n",
       "    border: 1px solid black;\n",
       "    border-collapse: collapse;\n",
       "  }\n",
       "  th, td {\n",
       "    padding: 5px;\n",
       "  }\n",
       "  th {\n",
       "    text-align: left;\n",
       "  }\n",
       "</style><div class='table-result-container'><table class='table-result'><thead style='background-color: white'><tr><th>refund_id</th><th>payment_id</th><th>refund_timestamp</th><th>refund_amount</th><th>refund_reason</th><th>refund_source</th></tr></thead><tbody><tr><td>1</td><td>66</td><td>2025-01-10T11:30:00Z</td><td>85.75</td><td>Payment Error</td><td>Retailer</td></tr><tr><td>2</td><td>69</td><td>2025-01-03T12:40:15Z</td><td>120.50</td><td>Order Cancelled</td><td>Customer</td></tr><tr><td>3</td><td>72</td><td>2025-01-06T14:45:30Z</td><td>65.00</td><td>Product Returned</td><td>Customer</td></tr><tr><td>4</td><td>73</td><td>2025-01-07T16:10:45Z</td><td>210.99</td><td>Order Cancelled</td><td>Customer</td></tr><tr><td>5</td><td>75</td><td>2025-01-09T18:25:00Z</td><td>45.20</td><td>Payment Error</td><td>Retailer</td></tr><tr><td>6</td><td>80</td><td>2025-01-10T09:35:20Z</td><td>130.15</td><td>Order Cancelled</td><td>Customer</td></tr><tr><td>7</td><td>83</td><td>2025-01-12T11:20:40Z</td><td>150.00</td><td>Product Returned</td><td>Customer</td></tr><tr><td>8</td><td>85</td><td>2025-01-14T13:15:30Z</td><td>89.99</td><td>Order Cancelled</td><td>Customer</td></tr><tr><td>9</td><td>89</td><td>2025-01-15T15:00:00Z</td><td>78.50</td><td>Payment Error</td><td>Retailer</td></tr><tr><td>10</td><td>91</td><td>2025-01-17T16:45:15Z</td><td>250.75</td><td>Product Returned</td><td>Customer</td></tr></tbody></table></div>"
      ]
     },
     "metadata": {
      "application/vnd.databricks.v1+output": {
       "addedWidgets": {},
       "aggData": [],
       "aggError": "",
       "aggOverflow": false,
       "aggSchema": [],
       "aggSeriesLimitReached": false,
       "aggType": "",
       "arguments": {},
       "columnCustomDisplayInfos": {},
       "data": [
        [
         1,
         66,
         "2025-01-10T11:30:00Z",
         "85.75",
         "Payment Error",
         "Retailer"
        ],
        [
         2,
         69,
         "2025-01-03T12:40:15Z",
         "120.50",
         "Order Cancelled",
         "Customer"
        ],
        [
         3,
         72,
         "2025-01-06T14:45:30Z",
         "65.00",
         "Product Returned",
         "Customer"
        ],
        [
         4,
         73,
         "2025-01-07T16:10:45Z",
         "210.99",
         "Order Cancelled",
         "Customer"
        ],
        [
         5,
         75,
         "2025-01-09T18:25:00Z",
         "45.20",
         "Payment Error",
         "Retailer"
        ],
        [
         6,
         80,
         "2025-01-10T09:35:20Z",
         "130.15",
         "Order Cancelled",
         "Customer"
        ],
        [
         7,
         83,
         "2025-01-12T11:20:40Z",
         "150.00",
         "Product Returned",
         "Customer"
        ],
        [
         8,
         85,
         "2025-01-14T13:15:30Z",
         "89.99",
         "Order Cancelled",
         "Customer"
        ],
        [
         9,
         89,
         "2025-01-15T15:00:00Z",
         "78.50",
         "Payment Error",
         "Retailer"
        ],
        [
         10,
         91,
         "2025-01-17T16:45:15Z",
         "250.75",
         "Product Returned",
         "Customer"
        ]
       ],
       "datasetInfos": [],
       "dbfsResultPath": null,
       "isJsonSchema": true,
       "metadata": {
        "isDbfsCommandResult": false
       },
       "overflow": false,
       "plotOptions": {
        "customPlotOptions": {},
        "displayType": "table",
        "pivotAggregation": null,
        "pivotColumns": null,
        "xColumns": null,
        "yColumns": null
       },
       "removedWidgets": [],
       "schema": [
        {
         "metadata": "{\"isTimestampNTZ\":false,\"signed\":true,\"scale\":0}",
         "name": "refund_id",
         "type": "\"integer\""
        },
        {
         "metadata": "{\"isTimestampNTZ\":false,\"signed\":true,\"scale\":0}",
         "name": "payment_id",
         "type": "\"integer\""
        },
        {
         "metadata": "{\"isTimestampNTZ\":false,\"signed\":false,\"scale\":3}",
         "name": "refund_timestamp",
         "type": "\"timestamp\""
        },
        {
         "metadata": "{\"isTimestampNTZ\":false,\"signed\":true,\"scale\":2}",
         "name": "refund_amount",
         "type": "\"decimal(10,2)\""
        },
        {
         "metadata": "{}",
         "name": "refund_reason",
         "type": "\"string\""
        },
        {
         "metadata": "{}",
         "name": "refund_source",
         "type": "\"string\""
        }
       ],
       "type": "table"
      }
     },
     "output_type": "display_data"
    }
   ],
   "source": [
    "select refund_id,\n",
    "       payment_id,\n",
    "       refund_timestamp,\n",
    "       refund_amount,\n",
    "       split(refund_reason, ':')[0] as refund_reason,\n",
    "       split(refund_reason, ':')[1] as refund_source\n",
    "from hive_metastore.bronze.refunds;"
   ]
  },
  {
   "cell_type": "markdown",
   "metadata": {
    "application/vnd.databricks.v1+cell": {
     "cellMetadata": {},
     "inputWidgets": {},
     "nuid": "7641d4c6-4ea8-4a30-a0c1-03f2ee76a858",
     "showTitle": false,
     "tableResultSettingsMap": {},
     "title": ""
    }
   },
   "source": [
    "#####3. Extract date and time from the refund_timestamp"
   ]
  },
  {
   "cell_type": "code",
   "execution_count": 0,
   "metadata": {
    "application/vnd.databricks.v1+cell": {
     "cellMetadata": {
      "byteLimit": 2048000,
      "rowLimit": 10000
     },
     "inputWidgets": {},
     "nuid": "f8273bdb-b020-4283-ba4c-042938c0afd7",
     "showTitle": false,
     "tableResultSettingsMap": {},
     "title": ""
    }
   },
   "outputs": [
    {
     "output_type": "display_data",
     "data": {
      "text/html": [
       "<style scoped>\n",
       "  .table-result-container {\n",
       "    max-height: 300px;\n",
       "    overflow: auto;\n",
       "  }\n",
       "  table, th, td {\n",
       "    border: 1px solid black;\n",
       "    border-collapse: collapse;\n",
       "  }\n",
       "  th, td {\n",
       "    padding: 5px;\n",
       "  }\n",
       "  th {\n",
       "    text-align: left;\n",
       "  }\n",
       "</style><div class='table-result-container'><table class='table-result'><thead style='background-color: white'><tr><th>refund_id</th><th>payment_id</th><th>refund_date</th><th>refund_time</th><th>refund_amount</th><th>refund_reason</th><th>refund_source</th></tr></thead><tbody><tr><td>1</td><td>66</td><td>2025-01-10</td><td>11:30:00</td><td>85.75</td><td>Payment Error</td><td>Retailer</td></tr><tr><td>2</td><td>69</td><td>2025-01-03</td><td>12:40:15</td><td>120.50</td><td>Order Cancelled</td><td>Customer</td></tr><tr><td>3</td><td>72</td><td>2025-01-06</td><td>14:45:30</td><td>65.00</td><td>Product Returned</td><td>Customer</td></tr><tr><td>4</td><td>73</td><td>2025-01-07</td><td>16:10:45</td><td>210.99</td><td>Order Cancelled</td><td>Customer</td></tr><tr><td>5</td><td>75</td><td>2025-01-09</td><td>18:25:00</td><td>45.20</td><td>Payment Error</td><td>Retailer</td></tr><tr><td>6</td><td>80</td><td>2025-01-10</td><td>09:35:20</td><td>130.15</td><td>Order Cancelled</td><td>Customer</td></tr><tr><td>7</td><td>83</td><td>2025-01-12</td><td>11:20:40</td><td>150.00</td><td>Product Returned</td><td>Customer</td></tr><tr><td>8</td><td>85</td><td>2025-01-14</td><td>13:15:30</td><td>89.99</td><td>Order Cancelled</td><td>Customer</td></tr><tr><td>9</td><td>89</td><td>2025-01-15</td><td>15:00:00</td><td>78.50</td><td>Payment Error</td><td>Retailer</td></tr><tr><td>10</td><td>91</td><td>2025-01-17</td><td>16:45:15</td><td>250.75</td><td>Product Returned</td><td>Customer</td></tr></tbody></table></div>"
      ]
     },
     "metadata": {
      "application/vnd.databricks.v1+output": {
       "addedWidgets": {},
       "aggData": [],
       "aggError": "",
       "aggOverflow": false,
       "aggSchema": [],
       "aggSeriesLimitReached": false,
       "aggType": "",
       "arguments": {},
       "columnCustomDisplayInfos": {},
       "data": [
        [
         1,
         66,
         "2025-01-10",
         "11:30:00",
         "85.75",
         "Payment Error",
         "Retailer"
        ],
        [
         2,
         69,
         "2025-01-03",
         "12:40:15",
         "120.50",
         "Order Cancelled",
         "Customer"
        ],
        [
         3,
         72,
         "2025-01-06",
         "14:45:30",
         "65.00",
         "Product Returned",
         "Customer"
        ],
        [
         4,
         73,
         "2025-01-07",
         "16:10:45",
         "210.99",
         "Order Cancelled",
         "Customer"
        ],
        [
         5,
         75,
         "2025-01-09",
         "18:25:00",
         "45.20",
         "Payment Error",
         "Retailer"
        ],
        [
         6,
         80,
         "2025-01-10",
         "09:35:20",
         "130.15",
         "Order Cancelled",
         "Customer"
        ],
        [
         7,
         83,
         "2025-01-12",
         "11:20:40",
         "150.00",
         "Product Returned",
         "Customer"
        ],
        [
         8,
         85,
         "2025-01-14",
         "13:15:30",
         "89.99",
         "Order Cancelled",
         "Customer"
        ],
        [
         9,
         89,
         "2025-01-15",
         "15:00:00",
         "78.50",
         "Payment Error",
         "Retailer"
        ],
        [
         10,
         91,
         "2025-01-17",
         "16:45:15",
         "250.75",
         "Product Returned",
         "Customer"
        ]
       ],
       "datasetInfos": [],
       "dbfsResultPath": null,
       "isJsonSchema": true,
       "metadata": {
        "isDbfsCommandResult": false
       },
       "overflow": false,
       "plotOptions": {
        "customPlotOptions": {},
        "displayType": "table",
        "pivotAggregation": null,
        "pivotColumns": null,
        "xColumns": null,
        "yColumns": null
       },
       "removedWidgets": [],
       "schema": [
        {
         "metadata": "{\"isTimestampNTZ\":false,\"signed\":true,\"scale\":0}",
         "name": "refund_id",
         "type": "\"integer\""
        },
        {
         "metadata": "{\"isTimestampNTZ\":false,\"signed\":true,\"scale\":0}",
         "name": "payment_id",
         "type": "\"integer\""
        },
        {
         "metadata": "{}",
         "name": "refund_date",
         "type": "\"date\""
        },
        {
         "metadata": "{}",
         "name": "refund_time",
         "type": "\"string\""
        },
        {
         "metadata": "{\"isTimestampNTZ\":false,\"signed\":true,\"scale\":2}",
         "name": "refund_amount",
         "type": "\"decimal(10,2)\""
        },
        {
         "metadata": "{}",
         "name": "refund_reason",
         "type": "\"string\""
        },
        {
         "metadata": "{}",
         "name": "refund_source",
         "type": "\"string\""
        }
       ],
       "type": "table"
      }
     },
     "output_type": "display_data"
    }
   ],
   "source": [
    "select refund_id,\n",
    "       payment_id,\n",
    "       CAST(date_format(refund_timestamp, 'yyyy-MM-dd') AS DATE) as refund_date,\n",
    "       date_format(refund_timestamp, 'HH:mm:ss') as refund_time,\n",
    "       refund_amount,\n",
    "       split(refund_reason, ':')[0] as refund_reason,\n",
    "       split(refund_reason, ':')[1] as refund_source\n",
    "from hive_metastore.bronze.refunds;"
   ]
  },
  {
   "cell_type": "markdown",
   "metadata": {
    "application/vnd.databricks.v1+cell": {
     "cellMetadata": {},
     "inputWidgets": {},
     "nuid": "1244e2dc-d0c2-41e7-a38a-4e1ec68d2a96",
     "showTitle": false,
     "tableResultSettingsMap": {},
     "title": ""
    }
   },
   "source": [
    "#####4. Write transformed data to the silver schema in hive meta store"
   ]
  },
  {
   "cell_type": "code",
   "execution_count": 0,
   "metadata": {
    "application/vnd.databricks.v1+cell": {
     "cellMetadata": {
      "byteLimit": 2048000,
      "rowLimit": 10000
     },
     "inputWidgets": {},
     "nuid": "67cd4998-fd43-4caa-9660-58a677272e16",
     "showTitle": false,
     "tableResultSettingsMap": {},
     "title": ""
    }
   },
   "outputs": [
    {
     "output_type": "display_data",
     "data": {
      "text/html": [
       "<style scoped>\n",
       "  .table-result-container {\n",
       "    max-height: 300px;\n",
       "    overflow: auto;\n",
       "  }\n",
       "  table, th, td {\n",
       "    border: 1px solid black;\n",
       "    border-collapse: collapse;\n",
       "  }\n",
       "  th, td {\n",
       "    padding: 5px;\n",
       "  }\n",
       "  th {\n",
       "    text-align: left;\n",
       "  }\n",
       "</style><div class='table-result-container'><table class='table-result'><thead style='background-color: white'><tr></tr></thead><tbody></tbody></table></div>"
      ]
     },
     "metadata": {
      "application/vnd.databricks.v1+output": {
       "addedWidgets": {},
       "aggData": [],
       "aggError": "",
       "aggOverflow": false,
       "aggSchema": [],
       "aggSeriesLimitReached": false,
       "aggType": "",
       "arguments": {},
       "columnCustomDisplayInfos": {},
       "data": [],
       "datasetInfos": [],
       "dbfsResultPath": null,
       "isJsonSchema": true,
       "metadata": {
        "isDbfsCommandResult": false
       },
       "overflow": false,
       "plotOptions": {
        "customPlotOptions": {},
        "displayType": "table",
        "pivotAggregation": null,
        "pivotColumns": null,
        "xColumns": null,
        "yColumns": null
       },
       "removedWidgets": [],
       "schema": [],
       "type": "table"
      }
     },
     "output_type": "display_data"
    }
   ],
   "source": [
    "-- We have not created the silver schema in the hive_metastore yet. Lets create one\n",
    "\n",
    "create schema hive_metastore.silver"
   ]
  },
  {
   "cell_type": "code",
   "execution_count": 0,
   "metadata": {
    "application/vnd.databricks.v1+cell": {
     "cellMetadata": {
      "byteLimit": 2048000,
      "rowLimit": 10000
     },
     "inputWidgets": {},
     "nuid": "ba61e156-4204-485f-92bd-f97cc7536d4c",
     "showTitle": false,
     "tableResultSettingsMap": {},
     "title": ""
    }
   },
   "outputs": [
    {
     "output_type": "display_data",
     "data": {
      "text/html": [
       "<style scoped>\n",
       "  .table-result-container {\n",
       "    max-height: 300px;\n",
       "    overflow: auto;\n",
       "  }\n",
       "  table, th, td {\n",
       "    border: 1px solid black;\n",
       "    border-collapse: collapse;\n",
       "  }\n",
       "  th, td {\n",
       "    padding: 5px;\n",
       "  }\n",
       "  th {\n",
       "    text-align: left;\n",
       "  }\n",
       "</style><div class='table-result-container'><table class='table-result'><thead style='background-color: white'><tr><th>num_affected_rows</th><th>num_inserted_rows</th></tr></thead><tbody></tbody></table></div>"
      ]
     },
     "metadata": {
      "application/vnd.databricks.v1+output": {
       "addedWidgets": {},
       "aggData": [],
       "aggError": "",
       "aggOverflow": false,
       "aggSchema": [],
       "aggSeriesLimitReached": false,
       "aggType": "",
       "arguments": {},
       "columnCustomDisplayInfos": {},
       "data": [],
       "datasetInfos": [],
       "dbfsResultPath": null,
       "isJsonSchema": true,
       "metadata": {
        "isDbfsCommandResult": false
       },
       "overflow": false,
       "plotOptions": {
        "customPlotOptions": {},
        "displayType": "table",
        "pivotAggregation": null,
        "pivotColumns": null,
        "xColumns": null,
        "yColumns": null
       },
       "removedWidgets": [],
       "schema": [
        {
         "metadata": "{}",
         "name": "num_affected_rows",
         "type": "\"long\""
        },
        {
         "metadata": "{}",
         "name": "num_inserted_rows",
         "type": "\"long\""
        }
       ],
       "type": "table"
      }
     },
     "output_type": "display_data"
    }
   ],
   "source": [
    "CREATE TABLE hive_metastore.silver.refunds\n",
    "AS\n",
    "select refund_id,\n",
    "       payment_id,\n",
    "       CAST(date_format(refund_timestamp, 'yyyy-MM-dd') AS DATE) as refund_date,\n",
    "       date_format(refund_timestamp, 'HH:mm:ss') as refund_time,\n",
    "       refund_amount,\n",
    "       split(refund_reason, ':')[0] as refund_reason,\n",
    "       split(refund_reason, ':')[1] as refund_source\n",
    "from hive_metastore.bronze.refunds;"
   ]
  },
  {
   "cell_type": "code",
   "execution_count": 0,
   "metadata": {
    "application/vnd.databricks.v1+cell": {
     "cellMetadata": {
      "byteLimit": 2048000,
      "rowLimit": 10000
     },
     "inputWidgets": {},
     "nuid": "9b6841eb-c5bd-4c23-8d47-8a0c41173e26",
     "showTitle": false,
     "tableResultSettingsMap": {},
     "title": ""
    }
   },
   "outputs": [
    {
     "output_type": "display_data",
     "data": {
      "text/html": [
       "<style scoped>\n",
       "  .table-result-container {\n",
       "    max-height: 300px;\n",
       "    overflow: auto;\n",
       "  }\n",
       "  table, th, td {\n",
       "    border: 1px solid black;\n",
       "    border-collapse: collapse;\n",
       "  }\n",
       "  th, td {\n",
       "    padding: 5px;\n",
       "  }\n",
       "  th {\n",
       "    text-align: left;\n",
       "  }\n",
       "</style><div class='table-result-container'><table class='table-result'><thead style='background-color: white'><tr><th>col_name</th><th>data_type</th><th>comment</th></tr></thead><tbody><tr><td>refund_id</td><td>int</td><td>null</td></tr><tr><td>payment_id</td><td>int</td><td>null</td></tr><tr><td>refund_date</td><td>date</td><td>null</td></tr><tr><td>refund_time</td><td>string</td><td>null</td></tr><tr><td>refund_amount</td><td>decimal(10,2)</td><td>null</td></tr><tr><td>refund_reason</td><td>string</td><td>null</td></tr><tr><td>refund_source</td><td>string</td><td>null</td></tr><tr><td></td><td></td><td></td></tr><tr><td># Delta Statistics Columns</td><td></td><td></td></tr><tr><td>Column Names</td><td>refund_id, refund_source, refund_amount, refund_reason, payment_id, refund_time, refund_date</td><td></td></tr><tr><td>Column Selection Method</td><td>first-32</td><td></td></tr><tr><td></td><td></td><td></td></tr><tr><td># Detailed Table Information</td><td></td><td></td></tr><tr><td>Catalog</td><td>hive_metastore</td><td></td></tr><tr><td>Database</td><td>silver</td><td></td></tr><tr><td>Table</td><td>refunds</td><td></td></tr><tr><td>Created Time</td><td>Thu May 22 16:12:29 UTC 2025</td><td></td></tr><tr><td>Last Access</td><td>UNKNOWN</td><td></td></tr><tr><td>Created By</td><td>Spark 3.5.2</td><td></td></tr><tr><td>Type</td><td>MANAGED</td><td></td></tr><tr><td>Location</td><td>dbfs:/user/hive/warehouse/silver.db/refunds</td><td></td></tr><tr><td>Provider</td><td>delta</td><td></td></tr><tr><td>Owner</td><td>root</td><td></td></tr><tr><td>Is_managed_location</td><td>true</td><td></td></tr><tr><td>Table Properties</td><td>[delta.enableDeletionVectors=true,delta.feature.appendOnly=supported,delta.feature.deletionVectors=supported,delta.feature.invariants=supported,delta.minReaderVersion=3,delta.minWriterVersion=7]</td><td></td></tr></tbody></table></div>"
      ]
     },
     "metadata": {
      "application/vnd.databricks.v1+output": {
       "addedWidgets": {},
       "aggData": [],
       "aggError": "",
       "aggOverflow": false,
       "aggSchema": [],
       "aggSeriesLimitReached": false,
       "aggType": "",
       "arguments": {},
       "columnCustomDisplayInfos": {},
       "data": [
        [
         "refund_id",
         "int",
         null
        ],
        [
         "payment_id",
         "int",
         null
        ],
        [
         "refund_date",
         "date",
         null
        ],
        [
         "refund_time",
         "string",
         null
        ],
        [
         "refund_amount",
         "decimal(10,2)",
         null
        ],
        [
         "refund_reason",
         "string",
         null
        ],
        [
         "refund_source",
         "string",
         null
        ],
        [
         "",
         "",
         ""
        ],
        [
         "# Delta Statistics Columns",
         "",
         ""
        ],
        [
         "Column Names",
         "refund_id, refund_source, refund_amount, refund_reason, payment_id, refund_time, refund_date",
         ""
        ],
        [
         "Column Selection Method",
         "first-32",
         ""
        ],
        [
         "",
         "",
         ""
        ],
        [
         "# Detailed Table Information",
         "",
         ""
        ],
        [
         "Catalog",
         "hive_metastore",
         ""
        ],
        [
         "Database",
         "silver",
         ""
        ],
        [
         "Table",
         "refunds",
         ""
        ],
        [
         "Created Time",
         "Thu May 22 16:12:29 UTC 2025",
         ""
        ],
        [
         "Last Access",
         "UNKNOWN",
         ""
        ],
        [
         "Created By",
         "Spark 3.5.2",
         ""
        ],
        [
         "Type",
         "MANAGED",
         ""
        ],
        [
         "Location",
         "dbfs:/user/hive/warehouse/silver.db/refunds",
         ""
        ],
        [
         "Provider",
         "delta",
         ""
        ],
        [
         "Owner",
         "root",
         ""
        ],
        [
         "Is_managed_location",
         "true",
         ""
        ],
        [
         "Table Properties",
         "[delta.enableDeletionVectors=true,delta.feature.appendOnly=supported,delta.feature.deletionVectors=supported,delta.feature.invariants=supported,delta.minReaderVersion=3,delta.minWriterVersion=7]",
         ""
        ]
       ],
       "datasetInfos": [],
       "dbfsResultPath": null,
       "isJsonSchema": true,
       "metadata": {
        "isDbfsCommandResult": false
       },
       "overflow": false,
       "plotOptions": {
        "customPlotOptions": {},
        "displayType": "table",
        "pivotAggregation": null,
        "pivotColumns": null,
        "xColumns": null,
        "yColumns": null
       },
       "removedWidgets": [],
       "schema": [
        {
         "metadata": "{\"comment\":\"name of the column\"}",
         "name": "col_name",
         "type": "\"string\""
        },
        {
         "metadata": "{\"comment\":\"data type of the column\"}",
         "name": "data_type",
         "type": "\"string\""
        },
        {
         "metadata": "{\"comment\":\"comment of the column\"}",
         "name": "comment",
         "type": "\"string\""
        }
       ],
       "type": "table"
      }
     },
     "output_type": "display_data"
    }
   ],
   "source": [
    "desc extended hive_metastore.silver.refunds"
   ]
  },
  {
   "cell_type": "code",
   "execution_count": 0,
   "metadata": {
    "application/vnd.databricks.v1+cell": {
     "cellMetadata": {},
     "inputWidgets": {},
     "nuid": "a2ad8892-a51d-456c-b8a3-94e3aa3eb87b",
     "showTitle": false,
     "tableResultSettingsMap": {},
     "title": ""
    }
   },
   "outputs": [],
   "source": [
    "-- Since we did not specified the location for this managed table that got created, to be written, it stored the data in the default location:\n",
    "-- dbfs:/user/hive/warehouse/silver.db/refunds\n",
    "\n",
    "-- Important NOTE: WHen you don't specify the location for a schema, when you create a managed table in that schema, the data will be returned to the default storage, which is the user Hive warehouse directory - that's created as part of the workspace itself.\n",
    "\n",
    "--e.i, The files will be stored in the user Hive warehouse folder in the root storage and when you delete a workspace, the storage also gets deleted\n",
    "\n",
    "-- Hence it is always important to create an external location like we did with the unity catalog, and write all your data to external storage -  You can do the same to Hive metastore as well."
   ]
  }
 ],
 "metadata": {
  "application/vnd.databricks.v1+notebook": {
   "computePreferences": null,
   "dashboards": [],
   "environmentMetadata": {
    "base_environment": "",
    "environment_version": "2"
   },
   "inputWidgetPreferences": null,
   "language": "sql",
   "notebookMetadata": {},
   "notebookName": "09.Transform_Refunds_Data",
   "widgets": {}
  },
  "language_info": {
   "name": "sql"
  }
 },
 "nbformat": 4,
 "nbformat_minor": 0
}