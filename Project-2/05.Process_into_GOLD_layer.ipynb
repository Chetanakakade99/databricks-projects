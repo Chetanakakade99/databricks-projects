{
 "cells": [
  {
   "cell_type": "markdown",
   "metadata": {
    "application/vnd.databricks.v1+cell": {
     "cellMetadata": {},
     "inputWidgets": {},
     "nuid": "180726ed-23ba-491e-a068-b925ad438c09",
     "showTitle": false,
     "tableResultSettingsMap": {},
     "title": ""
    }
   },
   "source": [
    "###Create Customer Order Summary in Gold Layer\n",
    "1. Joining the tables from the silver layer: silver_customers, silver_addresses and silver_orders\n",
    "2. Retrieving the latest Address of the customer - since Customer had SCD type 2, it saves all the previous addresses as well\n",
    "3. Calculating the following values:\n",
    "   - total_orders\n",
    "   - total_items_ordered\n",
    "   - total_order_amount\n"
   ]
  },
  {
   "cell_type": "code",
   "execution_count": 0,
   "metadata": {
    "application/vnd.databricks.v1+cell": {
     "cellMetadata": {},
     "inputWidgets": {},
     "nuid": "f501de92-7976-448f-bf85-f859e14f3760",
     "showTitle": false,
     "tableResultSettingsMap": {},
     "title": ""
    }
   },
   "outputs": [],
   "source": [
    "CREATE OR REFRESH MATERIALIZED VIEW IF NOT EXISTS gold_customer_order_summary\n",
    "AS \n",
    "SELECT c.customer_id,\n",
    "       c.customer_name,\n",
    "       c.date_of_birth,\n",
    "       c.telephone,\n",
    "       c.email,\n",
    "       a.address_line_1,\n",
    "       a.city,\n",
    "       a.state,\n",
    "       a.postcode,\n",
    "       COUNT(DISTINCT o.order_id) AS total_orders,\n",
    "       SUM(o.item_quantity) AS total_items_ordered,\n",
    "       SUM(o.item_quantity * o.item_price) AS total_order_amount\n",
    "FROM LIVE.silver_customers c\n",
    "JOIN LIVE.silver_addresses a ON c.address_id = a.address_id\n",
    "JOIN LIVE.silver_orders o ON c.customer_id = o.customer_id\n",
    "WHERE a.__END_AT IS NULL\n",
    "GROUP BY ALL;"
   ]
  }
 ],
 "metadata": {
  "application/vnd.databricks.v1+notebook": {
   "computePreferences": null,
   "dashboards": [],
   "environmentMetadata": {
    "base_environment": "",
    "environment_version": "2"
   },
   "inputWidgetPreferences": null,
   "language": "sql",
   "notebookMetadata": {},
   "notebookName": "05.Process_into_GOLD_layer",
   "widgets": {}
  },
  "language_info": {
   "name": "sql"
  }
 },
 "nbformat": 4,
 "nbformat_minor": 0
}