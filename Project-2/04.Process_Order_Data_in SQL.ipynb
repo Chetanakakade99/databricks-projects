{
 "cells": [
  {
   "cell_type": "markdown",
   "metadata": {
    "application/vnd.databricks.v1+cell": {
     "cellMetadata": {},
     "inputWidgets": {},
     "nuid": "75a3930f-6eb0-4958-97cb-ce30d5255ec9",
     "showTitle": false,
     "tableResultSettingsMap": {},
     "title": ""
    }
   },
   "source": [
    "###Processing Order Data\n",
    "1. Ingest the data into the data lakehouse : bronze_orders\n",
    "2. Perform data quality checks and transform the data as required : silver_orders_clean\n",
    "3. Explode the items array from the order object : silver_orders"
   ]
  },
  {
   "cell_type": "markdown",
   "metadata": {
    "application/vnd.databricks.v1+cell": {
     "cellMetadata": {},
     "inputWidgets": {},
     "nuid": "7338b59c-247c-4b63-b3bb-a14c7840b29a",
     "showTitle": false,
     "tableResultSettingsMap": {},
     "title": ""
    }
   },
   "source": [
    "####1. Ingest the data into the data lakehouse : bronze_orders"
   ]
  },
  {
   "cell_type": "code",
   "execution_count": 0,
   "metadata": {
    "application/vnd.databricks.v1+cell": {
     "cellMetadata": {},
     "inputWidgets": {},
     "nuid": "d9d50e27-fcf6-44a7-8cd2-970d9950dda3",
     "showTitle": false,
     "tableResultSettingsMap": {},
     "title": ""
    }
   },
   "outputs": [],
   "source": [
    "-- CREATING DELTA LIVE TABLES in SQL\n",
    "\n",
    "CREATE OR REFRESH STREAMING TABLE bronze_orders\n",
    "COMMENTS \"Raw orders data ingested from the source system\"\n",
    "TBLPROPERTIES(\"quality\" = \"bronze\")\n",
    "AS\n",
    "SELECT *,\n",
    "       _metadata.file_path AS input_file_path,\n",
    "       CURRENT_TIMESTAMP AS ingest_timestamp\n",
    "FROM cloud_files(\n",
    "                  '/Volumes/circuitbox/landing/operational_data/orders/',\n",
    "                  'json',\n",
    "                  map('cloudFiles.inferColumnTypes' -> 'true')\n",
    "                  );"
   ]
  },
  {
   "cell_type": "markdown",
   "metadata": {
    "application/vnd.databricks.v1+cell": {
     "cellMetadata": {},
     "inputWidgets": {},
     "nuid": "c6351913-3034-4ec9-83e9-bea2f333a915",
     "showTitle": false,
     "tableResultSettingsMap": {},
     "title": ""
    }
   },
   "source": [
    "####2. Perform data quality checks and transform the data as required : silver_orders_clean"
   ]
  },
  {
   "cell_type": "code",
   "execution_count": 0,
   "metadata": {
    "application/vnd.databricks.v1+cell": {
     "cellMetadata": {},
     "inputWidgets": {},
     "nuid": "c8914ac4-7b05-45d2-a0a4-ab794aaafc86",
     "showTitle": false,
     "tableResultSettingsMap": {},
     "title": ""
    }
   },
   "outputs": [],
   "source": [
    "CREATE OR REFRESH STREAMING TABLE silver_orders_clean(\n",
    "  CONSTRAINT valid_customer_id EXPECT (customer_id IS NOT NULL) ON VIOLATION FAIL UPDATE,\n",
    "  CONSTRAINT valid_order_id EXPECT (order_id IS NOT NULL) ON VIOLATION FAIL UPDATE,\n",
    "  CONSTRAINT valid_order_status EXPECT(order_status IN('processing', 'shipped', 'delivered', 'cancelled')),\n",
    "  CONSTRAINT valid_payment_method EXPECT(payment_method IN('Credit Card', 'Bank Transfer', 'PayPal'))\n",
    ")\n",
    "COMMENT \"Cleaned orders data ingested from the source system\"\n",
    "TBLPROPERTIES(\"quality\" = \"silver\")\n",
    "AS\n",
    "SELECT order_id,\n",
    "       customer_id,\n",
    "       CAST(order_timestamp AS TIMESTAMP) AS order_timestamp,\n",
    "       payment_method,\n",
    "       items,\n",
    "       order_status\n",
    "FROM STREAM(LIVE.bronze_orders);"
   ]
  },
  {
   "cell_type": "markdown",
   "metadata": {
    "application/vnd.databricks.v1+cell": {
     "cellMetadata": {},
     "inputWidgets": {},
     "nuid": "84ff6fb2-aa8a-4b99-9f40-d9f37b2fc597",
     "showTitle": false,
     "tableResultSettingsMap": {},
     "title": ""
    }
   },
   "source": [
    "####3. Explode the items array from the order object : silver_orders"
   ]
  },
  {
   "cell_type": "code",
   "execution_count": 0,
   "metadata": {
    "application/vnd.databricks.v1+cell": {
     "cellMetadata": {},
     "inputWidgets": {},
     "nuid": "75f180c7-78f8-47c7-89fe-c19cf272482a",
     "showTitle": false,
     "tableResultSettingsMap": {},
     "title": ""
    }
   },
   "outputs": [],
   "source": [
    "CREATE STREAMING TABLE silver_orders\n",
    "AS\n",
    "SELECT order_id,\n",
    "       customer_id,\n",
    "       order_timestamp,\n",
    "       payment_method,\n",
    "       order_status,\n",
    "       item.item_id,\n",
    "       item.name AS item_name,\n",
    "       item.price AS item_price,\n",
    "       item.quantity AS item_quantity\n",
    "       item.category AS item_category\n",
    "FROM (\n",
    "      SELECT order_id,\n",
    "             customer_id,\n",
    "             order_timestamp,\n",
    "             payment_method,\n",
    "             order_status,\n",
    "             explode(items) AS item\n",
    "      FROM STREAM(LIVE.silver_orders_clean)\n",
    ");"
   ]
  },
  {
   "cell_type": "markdown",
   "metadata": {
    "application/vnd.databricks.v1+cell": {
     "cellMetadata": {},
     "inputWidgets": {},
     "nuid": "3ba71e0c-9b9a-4c02-b2af-2c97493f3124",
     "showTitle": false,
     "tableResultSettingsMap": {},
     "title": ""
    }
   },
   "source": []
  }
 ],
 "metadata": {
  "application/vnd.databricks.v1+notebook": {
   "computePreferences": null,
   "dashboards": [],
   "environmentMetadata": {
    "base_environment": "",
    "environment_version": "2"
   },
   "inputWidgetPreferences": null,
   "language": "sql",
   "notebookMetadata": {
    "pythonIndentUnit": 4
   },
   "notebookName": "04.Process_Order_Data_in SQL",
   "widgets": {}
  },
  "language_info": {
   "name": "sql"
  }
 },
 "nbformat": 4,
 "nbformat_minor": 0
}