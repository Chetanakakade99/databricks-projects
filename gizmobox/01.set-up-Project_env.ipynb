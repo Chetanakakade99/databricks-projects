{
 "cells": [
  {
   "cell_type": "markdown",
   "metadata": {
    "application/vnd.databricks.v1+cell": {
     "cellMetadata": {},
     "inputWidgets": {},
     "nuid": "87690b61-ca66-4292-8f67-13714cd96c9a",
     "showTitle": false,
     "tableResultSettingsMap": {},
     "title": ""
    }
   },
   "source": [
    "####1. Testing to see if we can access the ADLS files"
   ]
  },
  {
   "cell_type": "markdown",
   "metadata": {
    "application/vnd.databricks.v1+cell": {
     "cellMetadata": {},
     "inputWidgets": {},
     "nuid": "27d23fff-ca87-404a-8e7b-16210715254c",
     "showTitle": false,
     "tableResultSettingsMap": {},
     "title": ""
    }
   },
   "source": [
    "####1. Create External Location"
   ]
  },
  {
   "cell_type": "markdown",
   "metadata": {
    "application/vnd.databricks.v1+cell": {
     "cellMetadata": {},
     "inputWidgets": {},
     "nuid": "b1b4b8b7-4dd3-44fc-9333-c6ba25cd63e2",
     "showTitle": false,
     "tableResultSettingsMap": {},
     "title": ""
    }
   },
   "source": [
    "####For each container in ADLS Gen2 that we want to access from Databricks, we need to create a corresponding external location. Therefore, we are creating an external location for the gizmobox container."
   ]
  },
  {
   "cell_type": "code",
   "execution_count": 0,
   "metadata": {
    "application/vnd.databricks.v1+cell": {
     "cellMetadata": {
      "byteLimit": 2048000,
      "implicitDf": true,
      "rowLimit": 10000
     },
     "inputWidgets": {},
     "nuid": "09cd6f04-173f-44de-8007-a30ebe37f384",
     "showTitle": false,
     "tableResultSettingsMap": {},
     "title": ""
    }
   },
   "outputs": [],
   "source": [
    "%sql\n",
    "CREATE EXTERNAL LOCATION IF NOT EXISTS dbcertificationsa_gizmobox\n",
    "    URL 'abfss://gizmobox@dbcertificationsa.dfs.core.windows.net/'\n",
    "    WITH (STORAGE CREDENTIAL ckdatabrickscredential)\n",
    "    COMMENT 'External location for gizmobox'"
   ]
  },
  {
   "cell_type": "markdown",
   "metadata": {
    "application/vnd.databricks.v1+cell": {
     "cellMetadata": {},
     "inputWidgets": {},
     "nuid": "e523c2a4-3957-467f-8a2e-6f37fa25cf2c",
     "showTitle": false,
     "tableResultSettingsMap": {},
     "title": ""
    }
   },
   "source": [
    "####2. Testing to see if we can access the ADLS files"
   ]
  },
  {
   "cell_type": "code",
   "execution_count": 0,
   "metadata": {
    "application/vnd.databricks.v1+cell": {
     "cellMetadata": {},
     "inputWidgets": {},
     "nuid": "2951ca8f-8519-4c21-8184-d11868134b3c",
     "showTitle": false,
     "tableResultSettingsMap": {},
     "title": ""
    }
   },
   "outputs": [],
   "source": [
    "%fs ls 'abfss://gizmobox@dbcertificationsa.dfs.core.windows.net/landing/operational-data/'"
   ]
  },
  {
   "cell_type": "markdown",
   "metadata": {
    "application/vnd.databricks.v1+cell": {
     "cellMetadata": {},
     "inputWidgets": {},
     "nuid": "730408a7-8195-42d7-ad15-c1176852ff4c",
     "showTitle": false,
     "tableResultSettingsMap": {},
     "title": ""
    }
   },
   "source": [
    "####3. Create the catalog - gizmobox"
   ]
  },
  {
   "cell_type": "code",
   "execution_count": 0,
   "metadata": {
    "application/vnd.databricks.v1+cell": {
     "cellMetadata": {
      "byteLimit": 2048000,
      "implicitDf": true,
      "rowLimit": 10000
     },
     "inputWidgets": {},
     "nuid": "9f162c67-a598-4b71-bed8-5df9cfa021dc",
     "showTitle": false,
     "tableResultSettingsMap": {},
     "title": ""
    }
   },
   "outputs": [
    {
     "output_type": "display_data",
     "data": {
      "text/html": [
       "<style scoped>\n",
       "  .table-result-container {\n",
       "    max-height: 300px;\n",
       "    overflow: auto;\n",
       "  }\n",
       "  table, th, td {\n",
       "    border: 1px solid black;\n",
       "    border-collapse: collapse;\n",
       "  }\n",
       "  th, td {\n",
       "    padding: 5px;\n",
       "  }\n",
       "  th {\n",
       "    text-align: left;\n",
       "  }\n",
       "</style><div class='table-result-container'><table class='table-result'><thead style='background-color: white'><tr><th>catalog</th></tr></thead><tbody><tr><td>certificationdatabricks</td></tr><tr><td>gizmobox</td></tr><tr><td>hive_metastore</td></tr><tr><td>samples</td></tr><tr><td>system</td></tr></tbody></table></div>"
      ]
     },
     "metadata": {
      "application/vnd.databricks.v1+output": {
       "addedWidgets": {},
       "aggData": [],
       "aggError": "",
       "aggOverflow": false,
       "aggSchema": [],
       "aggSeriesLimitReached": false,
       "aggType": "",
       "arguments": {},
       "columnCustomDisplayInfos": {},
       "data": [
        [
         "certificationdatabricks"
        ],
        [
         "gizmobox"
        ],
        [
         "hive_metastore"
        ],
        [
         "samples"
        ],
        [
         "system"
        ]
       ],
       "datasetInfos": [],
       "dbfsResultPath": null,
       "isJsonSchema": true,
       "metadata": {
        "isDbfsCommandResult": false
       },
       "overflow": false,
       "plotOptions": {
        "customPlotOptions": {},
        "displayType": "table",
        "pivotAggregation": null,
        "pivotColumns": null,
        "xColumns": null,
        "yColumns": null
       },
       "removedWidgets": [],
       "schema": [
        {
         "metadata": "{}",
         "name": "catalog",
         "type": "\"string\""
        }
       ],
       "type": "table"
      }
     },
     "output_type": "display_data"
    }
   ],
   "source": [
    "%sql\n",
    "show catalogs;"
   ]
  },
  {
   "cell_type": "code",
   "execution_count": 0,
   "metadata": {
    "application/vnd.databricks.v1+cell": {
     "cellMetadata": {
      "byteLimit": 2048000,
      "rowLimit": 10000
     },
     "inputWidgets": {},
     "nuid": "3acec868-56f9-413a-95df-c638554963a4",
     "showTitle": false,
     "tableResultSettingsMap": {},
     "title": ""
    }
   },
   "outputs": [
    {
     "output_type": "display_data",
     "data": {
      "text/html": [
       "<style scoped>\n",
       "  .table-result-container {\n",
       "    max-height: 300px;\n",
       "    overflow: auto;\n",
       "  }\n",
       "  table, th, td {\n",
       "    border: 1px solid black;\n",
       "    border-collapse: collapse;\n",
       "  }\n",
       "  th, td {\n",
       "    padding: 5px;\n",
       "  }\n",
       "  th {\n",
       "    text-align: left;\n",
       "  }\n",
       "</style><div class='table-result-container'><table class='table-result'><thead style='background-color: white'><tr></tr></thead><tbody></tbody></table></div>"
      ]
     },
     "metadata": {
      "application/vnd.databricks.v1+output": {
       "addedWidgets": {},
       "aggData": [],
       "aggError": "",
       "aggOverflow": false,
       "aggSchema": [],
       "aggSeriesLimitReached": false,
       "aggType": "",
       "arguments": {},
       "columnCustomDisplayInfos": {},
       "data": [],
       "datasetInfos": [],
       "dbfsResultPath": null,
       "isJsonSchema": true,
       "metadata": {
        "isDbfsCommandResult": false
       },
       "overflow": false,
       "plotOptions": {
        "customPlotOptions": {},
        "displayType": "table",
        "pivotAggregation": null,
        "pivotColumns": null,
        "xColumns": null,
        "yColumns": null
       },
       "removedWidgets": [],
       "schema": [],
       "type": "table"
      }
     },
     "output_type": "display_data"
    }
   ],
   "source": [
    "--While we are creating the catalog, we will not be storing any data under its default managed location, as we plan to define dedicated schemas with their own managed locations. However, we are still specifying a managed location for the catalog as a fallback, just in case it's needed.\n",
    "\n",
    "CREATE CATALOG IF NOT EXISTS gizmobox\n",
    "   MANAGED LOCATION 'abfss://gizmobox@dbcertificationsa.dfs.core.windows.net/'\n",
    "   COMMENT 'This is the catalog for the Gizmobox Data Lakehouse';"
   ]
  },
  {
   "cell_type": "markdown",
   "metadata": {
    "application/vnd.databricks.v1+cell": {
     "cellMetadata": {},
     "inputWidgets": {},
     "nuid": "d7c06e74-e821-4650-974e-0f6011fcb7ed",
     "showTitle": false,
     "tableResultSettingsMap": {},
     "title": ""
    }
   },
   "source": [
    "####4. Create Schemas\n",
    "1. Landing\n",
    "2. Bronze\n",
    "3. Silver\n",
    "4. Gold"
   ]
  },
  {
   "cell_type": "code",
   "execution_count": 0,
   "metadata": {
    "application/vnd.databricks.v1+cell": {
     "cellMetadata": {
      "byteLimit": 2048000,
      "rowLimit": 10000
     },
     "inputWidgets": {},
     "nuid": "308f5fa0-37bc-4866-8cf3-39ec8119ba7e",
     "showTitle": false,
     "tableResultSettingsMap": {},
     "title": ""
    }
   },
   "outputs": [
    {
     "output_type": "display_data",
     "data": {
      "text/html": [
       "<style scoped>\n",
       "  .table-result-container {\n",
       "    max-height: 300px;\n",
       "    overflow: auto;\n",
       "  }\n",
       "  table, th, td {\n",
       "    border: 1px solid black;\n",
       "    border-collapse: collapse;\n",
       "  }\n",
       "  th, td {\n",
       "    padding: 5px;\n",
       "  }\n",
       "  th {\n",
       "    text-align: left;\n",
       "  }\n",
       "</style><div class='table-result-container'><table class='table-result'><thead style='background-color: white'><tr><th>current_catalog()</th></tr></thead><tbody><tr><td>certificationdatabricks</td></tr></tbody></table></div>"
      ]
     },
     "metadata": {
      "application/vnd.databricks.v1+output": {
       "addedWidgets": {},
       "aggData": [],
       "aggError": "",
       "aggOverflow": false,
       "aggSchema": [],
       "aggSeriesLimitReached": false,
       "aggType": "",
       "arguments": {},
       "columnCustomDisplayInfos": {},
       "data": [
        [
         "certificationdatabricks"
        ]
       ],
       "datasetInfos": [],
       "dbfsResultPath": null,
       "isJsonSchema": true,
       "metadata": {
        "isDbfsCommandResult": false
       },
       "overflow": false,
       "plotOptions": {
        "customPlotOptions": {},
        "displayType": "table",
        "pivotAggregation": null,
        "pivotColumns": null,
        "xColumns": null,
        "yColumns": null
       },
       "removedWidgets": [],
       "schema": [
        {
         "metadata": "{\"__autoGeneratedAlias\":\"true\"}",
         "name": "current_catalog()",
         "type": "\"string\""
        }
       ],
       "type": "table"
      }
     },
     "output_type": "display_data"
    }
   ],
   "source": [
    "-- the schemas are to be created under the gizmo catalog.\n",
    "-- first lets see what catalog are we under\n",
    "\n",
    "SELECT current_catalog();"
   ]
  },
  {
   "cell_type": "code",
   "execution_count": 0,
   "metadata": {
    "application/vnd.databricks.v1+cell": {
     "cellMetadata": {
      "byteLimit": 2048000,
      "rowLimit": 10000
     },
     "inputWidgets": {},
     "nuid": "281d5629-5463-496d-9b72-f1745ecbc9c9",
     "showTitle": false,
     "tableResultSettingsMap": {},
     "title": ""
    }
   },
   "outputs": [
    {
     "output_type": "display_data",
     "data": {
      "text/html": [
       "<style scoped>\n",
       "  .table-result-container {\n",
       "    max-height: 300px;\n",
       "    overflow: auto;\n",
       "  }\n",
       "  table, th, td {\n",
       "    border: 1px solid black;\n",
       "    border-collapse: collapse;\n",
       "  }\n",
       "  th, td {\n",
       "    padding: 5px;\n",
       "  }\n",
       "  th {\n",
       "    text-align: left;\n",
       "  }\n",
       "</style><div class='table-result-container'><table class='table-result'><thead style='background-color: white'><tr></tr></thead><tbody></tbody></table></div>"
      ]
     },
     "metadata": {
      "application/vnd.databricks.v1+output": {
       "addedWidgets": {},
       "aggData": [],
       "aggError": "",
       "aggOverflow": false,
       "aggSchema": [],
       "aggSeriesLimitReached": false,
       "aggType": "",
       "arguments": {},
       "columnCustomDisplayInfos": {},
       "data": [],
       "datasetInfos": [],
       "dbfsResultPath": null,
       "isJsonSchema": true,
       "metadata": {
        "isDbfsCommandResult": false
       },
       "overflow": false,
       "plotOptions": {
        "customPlotOptions": {},
        "displayType": "table",
        "pivotAggregation": null,
        "pivotColumns": null,
        "xColumns": null,
        "yColumns": null
       },
       "removedWidgets": [],
       "schema": [],
       "type": "table"
      }
     },
     "output_type": "display_data"
    }
   ],
   "source": [
    "-- we need to switch to gizmobox catalog\n",
    "USE CATALOG gizmobox;\n",
    "\n",
    "-- CREATING 4 schemas(databases): landing, bronze, silver and gold\n",
    "\n",
    "CREATE SCHEMA IF NOT EXISTS landing\n",
    "  MANAGED LOCATION 'abfss://gizmobox@dbcertificationsa.dfs.core.windows.net/landing'\n",
    "  COMMENT 'This is the landing schema for the Gizmobox Data Lakehouse';\n",
    "CREATE SCHEMA IF NOT EXISTS bronze\n",
    "  MANAGED LOCATION 'abfss://gizmobox@dbcertificationsa.dfs.core.windows.net/bronze'\n",
    "  COMMENT 'This is the bronze schema for the Gizmobox Data Lakehouse';\n",
    "CREATE SCHEMA IF NOT EXISTS silver\n",
    "  MANAGED LOCATION 'abfss://gizmobox@dbcertificationsa.dfs.core.windows.net/silver'\n",
    "  COMMENT 'This is the silver schema for the Gizmobox Data Lakehouse';\n",
    "CREATE SCHEMA IF NOT EXISTS gold\n",
    "  MANAGED LOCATION 'abfss://gizmobox@dbcertificationsa.dfs.core.windows.net/gold'\n",
    "  COMMENT 'This is the gold schema for the Gizmobox Data Lakehouse';  "
   ]
  },
  {
   "cell_type": "code",
   "execution_count": 0,
   "metadata": {
    "application/vnd.databricks.v1+cell": {
     "cellMetadata": {
      "byteLimit": 2048000,
      "rowLimit": 10000
     },
     "inputWidgets": {},
     "nuid": "6ec1e3f7-7a4c-42bb-862e-1c5cc3e01f99",
     "showTitle": false,
     "tableResultSettingsMap": {},
     "title": ""
    }
   },
   "outputs": [
    {
     "output_type": "display_data",
     "data": {
      "text/html": [
       "<style scoped>\n",
       "  .table-result-container {\n",
       "    max-height: 300px;\n",
       "    overflow: auto;\n",
       "  }\n",
       "  table, th, td {\n",
       "    border: 1px solid black;\n",
       "    border-collapse: collapse;\n",
       "  }\n",
       "  th, td {\n",
       "    padding: 5px;\n",
       "  }\n",
       "  th {\n",
       "    text-align: left;\n",
       "  }\n",
       "</style><div class='table-result-container'><table class='table-result'><thead style='background-color: white'><tr><th>databaseName</th></tr></thead><tbody><tr><td>bronze</td></tr><tr><td>default</td></tr><tr><td>gold</td></tr><tr><td>information_schema</td></tr><tr><td>landing</td></tr><tr><td>silver</td></tr></tbody></table></div>"
      ]
     },
     "metadata": {
      "application/vnd.databricks.v1+output": {
       "addedWidgets": {},
       "aggData": [],
       "aggError": "",
       "aggOverflow": false,
       "aggSchema": [],
       "aggSeriesLimitReached": false,
       "aggType": "",
       "arguments": {},
       "columnCustomDisplayInfos": {},
       "data": [
        [
         "bronze"
        ],
        [
         "default"
        ],
        [
         "gold"
        ],
        [
         "information_schema"
        ],
        [
         "landing"
        ],
        [
         "silver"
        ]
       ],
       "datasetInfos": [],
       "dbfsResultPath": null,
       "isJsonSchema": true,
       "metadata": {
        "isDbfsCommandResult": false
       },
       "overflow": false,
       "plotOptions": {
        "customPlotOptions": {},
        "displayType": "table",
        "pivotAggregation": null,
        "pivotColumns": null,
        "xColumns": null,
        "yColumns": null
       },
       "removedWidgets": [],
       "schema": [
        {
         "metadata": "{}",
         "name": "databaseName",
         "type": "\"string\""
        }
       ],
       "type": "table"
      }
     },
     "output_type": "display_data"
    }
   ],
   "source": [
    "-- lets see what schemas are available in the gizmobox catalog\n",
    "SHOW SCHEMAS;"
   ]
  },
  {
   "cell_type": "markdown",
   "metadata": {
    "application/vnd.databricks.v1+cell": {
     "cellMetadata": {},
     "inputWidgets": {},
     "nuid": "5284e46d-94e6-4f0c-86aa-ac89d58772c2",
     "showTitle": false,
     "tableResultSettingsMap": {},
     "title": ""
    }
   },
   "source": [
    "####5. Create Volume: Operational_data"
   ]
  },
  {
   "cell_type": "markdown",
   "metadata": {
    "application/vnd.databricks.v1+cell": {
     "cellMetadata": {},
     "inputWidgets": {},
     "nuid": "a276b9a5-8f83-4ba2-9c55-02e7ad1c3f52",
     "showTitle": false,
     "tableResultSettingsMap": {},
     "title": ""
    }
   },
   "source": [
    "#### Volumes give us a simpler path to access the storage account files\n",
    "- After creating the volume, we can refer to this location: \"abfss://gizmobox@dbcertificationsa.dfs.core.windows.net/landing/operational_data\"\n",
    "- with just \"/Volumes/gizmobox/landing/operational_data\""
   ]
  },
  {
   "cell_type": "code",
   "execution_count": 0,
   "metadata": {
    "application/vnd.databricks.v1+cell": {
     "cellMetadata": {
      "byteLimit": 2048000,
      "rowLimit": 10000
     },
     "inputWidgets": {},
     "nuid": "85366ebd-a11e-4376-a9d0-c3ef2abf969c",
     "showTitle": false,
     "tableResultSettingsMap": {},
     "title": ""
    }
   },
   "outputs": [
    {
     "output_type": "display_data",
     "data": {
      "text/html": [
       "<style scoped>\n",
       "  .table-result-container {\n",
       "    max-height: 300px;\n",
       "    overflow: auto;\n",
       "  }\n",
       "  table, th, td {\n",
       "    border: 1px solid black;\n",
       "    border-collapse: collapse;\n",
       "  }\n",
       "  th, td {\n",
       "    padding: 5px;\n",
       "  }\n",
       "  th {\n",
       "    text-align: left;\n",
       "  }\n",
       "</style><div class='table-result-container'><table class='table-result'><thead style='background-color: white'><tr></tr></thead><tbody></tbody></table></div>"
      ]
     },
     "metadata": {
      "application/vnd.databricks.v1+output": {
       "addedWidgets": {},
       "aggData": [],
       "aggError": "",
       "aggOverflow": false,
       "aggSchema": [],
       "aggSeriesLimitReached": false,
       "aggType": "",
       "arguments": {},
       "columnCustomDisplayInfos": {},
       "data": [],
       "datasetInfos": [],
       "dbfsResultPath": null,
       "isJsonSchema": true,
       "metadata": {
        "isDbfsCommandResult": false
       },
       "overflow": false,
       "plotOptions": {
        "customPlotOptions": {},
        "displayType": "table",
        "pivotAggregation": null,
        "pivotColumns": null,
        "xColumns": null,
        "yColumns": null
       },
       "removedWidgets": [],
       "schema": [],
       "type": "table"
      }
     },
     "output_type": "display_data"
    }
   ],
   "source": [
    "use catalog gizmobox;\n",
    "use schema landing;\n",
    "\n",
    "CREATE EXTERNAL VOLUME IF NOT EXISTS operational_data\n",
    "  LOCATION 'abfss://gizmobox@dbcertificationsa.dfs.core.windows.net/landing/operational_data'\n",
    "  COMMENT 'This is the operational data volume under landing schema for the Gizmobox Data Lakehouse';"
   ]
  },
  {
   "cell_type": "markdown",
   "metadata": {
    "application/vnd.databricks.v1+cell": {
     "cellMetadata": {},
     "inputWidgets": {},
     "nuid": "5c88cb8a-b17b-424b-8ba5-ad13dfe87b17",
     "showTitle": false,
     "tableResultSettingsMap": {},
     "title": ""
    }
   },
   "source": [
    "#### we can read json/parquet/csv and many other semi structured files in Spark SQL as tables"
   ]
  },
  {
   "cell_type": "code",
   "execution_count": 0,
   "metadata": {
    "application/vnd.databricks.v1+cell": {
     "cellMetadata": {},
     "inputWidgets": {},
     "nuid": "e2ebddc1-0529-4d26-ac28-59281852ab10",
     "showTitle": false,
     "tableResultSettingsMap": {},
     "title": ""
    }
   },
   "outputs": [],
   "source": [
    "-- format is [fileformat.`path`]\n",
    "-- Note: it is using backticks and not the single quotes\n",
    "\n",
    "--This is to read a single file\n",
    "select * from json.`Volumes/gizmobox/landing/operational_data/Cutomer/customer_2024_10.json`\n",
    "\n",
    "\n",
    "--This is to read all files in year 2024\n",
    "select * from json.`Volumes/gizmobox/landing/operational_data/Cutomer/customer_2024*.json`\n",
    "\n",
    "-- This is to read the entire folder\n",
    "select * from json.`Volumes/gizmobox/landing/operational_data/Cutomer`\n",
    "\n",
    "-- When reading entire folder, if we want to incluse the path as a column, we can use the function input_file_name() :DEPRECATED FROM DATABRICKS VERSION 13.3 LTS ONWARDS\n",
    "select *, input_file_name() as file_path from json.`Volumes/gizmobox/landing/operational_data/Cutomer`\n",
    "\n",
    "-- INSTEAD OF input_file_name(), we can use the function spark.files.metadata() to get the file path\n",
    "select *, _metadata() as file_path from json.`Volumes/gizmobox/landing/operational_data/Cutomer`\n",
    "           -- _metadata is a column that is automatically created by Databricks when reading data from a file or a directory. It contains metadata about the file or directory, such as the file path, file size, and file modification time\n",
    "           -- _metadata.file \n"
   ]
  },
  {
   "cell_type": "code",
   "execution_count": 0,
   "metadata": {
    "application/vnd.databricks.v1+cell": {
     "cellMetadata": {
      "byteLimit": 2048000,
      "rowLimit": 10000
     },
     "inputWidgets": {},
     "nuid": "68c350f8-b100-420f-a3a2-f76193a1c9b5",
     "showTitle": false,
     "tableResultSettingsMap": {},
     "title": ""
    }
   },
   "outputs": [
    {
     "output_type": "display_data",
     "data": {
      "text/html": [
       "<style scoped>\n",
       "  .table-result-container {\n",
       "    max-height: 300px;\n",
       "    overflow: auto;\n",
       "  }\n",
       "  table, th, td {\n",
       "    border: 1px solid black;\n",
       "    border-collapse: collapse;\n",
       "  }\n",
       "  th, td {\n",
       "    padding: 5px;\n",
       "  }\n",
       "  th {\n",
       "    text-align: left;\n",
       "  }\n",
       "</style><div class='table-result-container'><table class='table-result'><thead style='background-color: white'><tr><th>created_timestamp</th><th>customer_id</th><th>customer_name</th><th>date_of_birth</th><th>email</th><th>member_since</th><th>telephone</th></tr></thead><tbody><tr><td>2024-10-17 16:12:27</td><td>9179</td><td>Richard Cox</td><td>1996-10-25</td><td>devon84@mail.com</td><td>2024-09-26</td><td>+1 6680703335</td></tr><tr><td>2024-10-01 00:50:29</td><td>4858</td><td>Carla Morton</td><td>2004-06-21</td><td>joseph88@mail.com</td><td>2024-09-15</td><td>+1 8616454195</td></tr><tr><td>2024-10-23 22:03:08</td><td>7207</td><td>Billy Scott</td><td>1997-03-17</td><td>christopher30@mail.com</td><td>2024-09-23</td><td>+1 5544387564</td></tr><tr><td>2024-10-12 06:02:27</td><td>8539</td><td>Lori Mason</td><td>2002-11-01</td><td>stephanie7@mail.com</td><td>2024-09-12</td><td>+1 0498301620</td></tr><tr><td>2024-10-24 13:03:13</td><td>9706</td><td>Jennifer Haas</td><td>2001-04-03</td><td>benjamin55@mail.com</td><td>2024-10-05</td><td>+1 4725460000</td></tr><tr><td>2024-10-08 22:49:25</td><td>9263</td><td>Joseph Keller</td><td>2003-02-11</td><td>null</td><td>2024-10-04</td><td>+1 3817867756</td></tr><tr><td>2024-10-06 19:55:52</td><td>5028</td><td>Jessica Harris</td><td>2004-04-19</td><td>null</td><td>2024-09-10</td><td>+1 8604009935</td></tr><tr><td>2024-10-18 23:24:52</td><td>9018</td><td>William Carter</td><td>2003-09-05</td><td>james70@gmail.com</td><td>2024-10-08</td><td>+1 1448753611</td></tr><tr><td>2024-10-21 13:20:26</td><td>8580</td><td>Shannon Austin</td><td>2002-03-22</td><td>john30@gmail.com</td><td>2024-10-07</td><td>+1 4594705629</td></tr><tr><td>2024-10-02 14:53:40</td><td>3409</td><td>Andrew Phillips</td><td>2003-04-17</td><td>peter73@yahoo.com</td><td>2024-09-30</td><td>+1 4079273853</td></tr><tr><td>2024-10-26 15:14:33</td><td>2344</td><td>Martin Thomas DDS</td><td>2002-05-01</td><td>billy42@outlook.com</td><td>2024-10-13</td><td>+1 0201457151</td></tr><tr><td>2024-10-15 02:48:29</td><td>5011</td><td>Rachel Thomas</td><td>2003-02-17</td><td>lauren59@yahoo.com</td><td>2024-09-24</td><td>+1 5437271621</td></tr><tr><td>2024-10-28 00:57:09</td><td>9247</td><td>Dr. Daniel Hall</td><td>2004-03-21</td><td>tamara30@gmail.com</td><td>2024-10-03</td><td>+1 7544137170</td></tr><tr><td>2024-10-22 05:52:57</td><td>6627</td><td>Candice Rosales</td><td>2004-04-03</td><td>amber79@example.org</td><td>2024-10-15</td><td>+1 4788451559</td></tr><tr><td>2024-10-06 19:55:52</td><td>5028</td><td>Jessica Harris</td><td>2004-04-19</td><td>null</td><td>2024-09-10</td><td>+1 8604009935</td></tr><tr><td>2024-10-08 03:30:53</td><td>5816</td><td>Amy Morales</td><td>1999-12-11</td><td>daniel12@hotmail.com</td><td>2024-09-17</td><td>+46 4407385044</td></tr><tr><td>2024-10-15 01:27:54</td><td>9247</td><td>Dr. Daniel Hall</td><td>2004-03-21</td><td>sheena11@alexander.com</td><td>2024-09-15</td><td>+46 7281991017</td></tr><tr><td>2024-10-09 18:54:00</td><td>3889</td><td>Jennifer Jackson</td><td>1995-10-30</td><td>null</td><td>2024-09-16</td><td>+68 2276996612</td></tr><tr><td>2024-10-10 16:53:44</td><td>9084</td><td>Olivia Lyons</td><td>1997-06-17</td><td>johnsonmichael@yahoo.com</td><td>2024-09-26</td><td>null</td></tr><tr><td>2024-10-19 11:53:44</td><td>null</td><td>John Smith</td><td>1998-01-19</td><td>john.smith@outlook.com</td><td>2024-07-16</td><td>+1 8762342456</td></tr><tr><td>2024-11-14 20:41:18</td><td>3892</td><td>Jason Bridges</td><td>2004-01-01</td><td>nicole29@gmail.com</td><td>2024-10-29</td><td>+1 8220011928</td></tr><tr><td>2024-11-16 01:47:25</td><td>1987</td><td>Amanda Alvarez</td><td>1995-10-11</td><td>eric40@outlook.com</td><td>2024-10-27</td><td>+1 9673066300</td></tr><tr><td>2024-11-19 14:03:09</td><td>5816</td><td>Amy Morales</td><td>1999-12-11</td><td>katelyn82@example.org</td><td>2024-11-04</td><td>+1 4140982719</td></tr><tr><td>2024-11-09 14:52:31</td><td>5204</td><td>Jennifer Nichols DDS</td><td>1997-02-17</td><td>joseph8@example.org</td><td>2024-11-04</td><td>+1 0383356328</td></tr><tr><td>2024-11-23 18:16:18</td><td>4468</td><td>Mrs. Roberta Salas PhD</td><td>1997-05-10</td><td>null</td><td>2024-10-25</td><td>+1 4679955118</td></tr><tr><td>2024-11-14 16:41:14</td><td>4761</td><td>Timothy Smith</td><td>1996-11-07</td><td>joshua40@yahoo.com</td><td>2024-11-03</td><td>+1 9450920858</td></tr><tr><td>2024-11-07 22:20:00</td><td>2703</td><td>Anthony Miller</td><td>1997-11-02</td><td>null</td><td>2024-11-05</td><td>+1 1586310752</td></tr><tr><td>2024-11-12 12:57:38</td><td>4914</td><td>Samantha Johnson</td><td>1997-03-26</td><td>theresa14@mail.com</td><td>2024-10-13</td><td>+1 4095003738</td></tr><tr><td>2024-11-08 02:26:42</td><td>7295</td><td>Lauren Reed</td><td>2001-08-11</td><td>jeanette48@example.org</td><td>2024-10-10</td><td>+1 0104088765</td></tr><tr><td>2024-11-09 20:24:30</td><td>7803</td><td>Katherine Lee</td><td>2000-03-09</td><td>jennifer85@mail.com</td><td>2024-10-27</td><td>+1 3119886866</td></tr><tr><td>2024-11-24 11:14:03</td><td>3712</td><td>Robin Chavez</td><td>1997-03-16</td><td>lisa15@gmail.com</td><td>2024-11-24</td><td>+1 2654756919</td></tr><tr><td>2024-11-23 11:14:03</td><td>null</td><td>Andrew Taylor</td><td>1996-01-11</td><td>andrew.taylor@gmail.com</td><td>2024-11-21</td><td>+1 1235447333</td></tr><tr><td>2024-11-03 17:22:56</td><td>2054</td><td>Alan Price</td><td>1998-08-25</td><td>connor40@yahoo.com</td><td>2024-10-14</td><td>+1 3745642936</td></tr><tr><td>2024-11-09 07:14:17</td><td>7123</td><td>Edgar Stevens</td><td>2003-02-15</td><td>kevin68@example.org</td><td>2024-10-27</td><td>+1 0793189847</td></tr><tr><td>2024-11-27 12:56:20</td><td>4996</td><td>Brandon Reed</td><td>1997-05-11</td><td>handerson@barker.info</td><td>2024-11-06</td><td>+43 2750540511</td></tr><tr><td>2024-12-25 11:06:35</td><td>6973</td><td>Tracy Cole</td><td>1998-07-24</td><td>tony46@mail.com</td><td>2024-12-16</td><td>+1 5515836612</td></tr><tr><td>2024-12-26 09:29:16</td><td>3532</td><td>Holly Wilkinson</td><td>2003-03-06</td><td>lindsey61@yahoo.com</td><td>2024-12-22</td><td>null</td></tr><tr><td>2024-12-16 16:54:10</td><td>1211</td><td>Jeremy Ball</td><td>2002-03-26</td><td>megan86@yahoo.com</td><td>2024-12-01</td><td>+1 5793543882</td></tr><tr><td>2024-12-07 18:09:58</td><td>7829</td><td>Daniel Black</td><td>1998-04-13</td><td>sandra54@example.org</td><td>2024-11-16</td><td>+1 0933795082</td></tr><tr><td>2024-12-24 14:46:04</td><td>6384</td><td>Jennifer Carrillo</td><td>1994-12-18</td><td>james34@yahoo.com</td><td>2024-12-22</td><td>+1 5592179843</td></tr><tr><td>2024-12-21 07:08:28</td><td>2639</td><td>Jessica Deleon</td><td>1995-06-04</td><td>jeremiah96@gmail.com</td><td>2024-11-22</td><td>+1 1304435999</td></tr><tr><td>2024-12-20 12:32:29</td><td>3084</td><td>Tyler Simmons</td><td>2003-02-20</td><td>brian94@mail.com</td><td>2024-12-02</td><td>null</td></tr><tr><td>2024-12-22 23:00:48</td><td>7997</td><td>Patricia Abbott</td><td>1997-07-31</td><td>angela97@mail.com</td><td>2024-11-28</td><td>+1 4053366448</td></tr><tr><td>2024-12-05 08:58:52</td><td>9687</td><td>Micheal Perez MD</td><td>2002-07-18</td><td>christopher65@example.org</td><td>2024-11-22</td><td>+1 3079718622</td></tr><tr><td>2024-12-17 15:05:15</td><td>2141</td><td>Zachary Lopez</td><td>2002-09-20</td><td>glenn87@example.org</td><td>2024-12-14</td><td>+1 7431190983</td></tr><tr><td>2024-12-04 13:16:03</td><td>5592</td><td>Richard Neal</td><td>1995-11-05</td><td>eric52@gmail.com</td><td>2024-11-15</td><td>+1 4425187397</td></tr><tr><td>2024-12-13 14:23:27</td><td>6406</td><td>Christopher Ritter</td><td>2004-07-12</td><td>null</td><td>2024-11-24</td><td>+1 1752511241</td></tr><tr><td>2024-12-16 16:54:10</td><td>1211</td><td>Jeremy Ball</td><td>2002-03-26</td><td>megan86@yahoo.com</td><td>2024-12-01</td><td>+1 5793543882</td></tr><tr><td>2024-12-22 23:00:48</td><td>7997</td><td>Patricia Abbott</td><td>1997-07-31</td><td>angela97@mail.com</td><td>2024-11-28</td><td>+1 4053366448</td></tr><tr><td>2025-01-05 17:29:34</td><td>7007</td><td>Joe Castaneda</td><td>1999-04-27</td><td>michael34@mail.com</td><td>2024-12-31</td><td>+1 1767970338</td></tr><tr><td>2025-01-17 15:59:39</td><td>5953</td><td>Kevin Harris</td><td>2003-01-23</td><td>timothy99@mail.com</td><td>2024-12-31</td><td>+1 6517763640</td></tr><tr><td>2025-01-12 20:13:31</td><td>4996</td><td>Brandon Reed</td><td>1997-05-11</td><td>stacey71@yahoo.com</td><td>2024-12-13</td><td>null</td></tr><tr><td>2025-01-14 13:30:57</td><td>9605</td><td>Tiffany Rocha</td><td>2003-04-25</td><td>michael82@yahoo.com</td><td>2024-12-22</td><td>+1 6232811506</td></tr><tr><td>2025-01-16 21:17:22</td><td>8845</td><td>Joseph Robbins</td><td>1997-04-04</td><td>derek53@yahoo.com</td><td>2025-01-12</td><td>+1 9513893820</td></tr><tr><td>2025-01-26 09:46:03</td><td>4973</td><td>Daniel Thompson</td><td>1999-07-17</td><td>connor32@example.org</td><td>2024-12-27</td><td>+1 5823046206</td></tr><tr><td>2025-01-25 13:28:31</td><td>3889</td><td>Jennifer Jackson</td><td>1995-10-30</td><td>catherine77@example.org</td><td>2025-01-07</td><td>+1 5932456755</td></tr><tr><td>2025-01-14 18:31:28</td><td>6167</td><td>Leslie Smith</td><td>2001-10-28</td><td>angela16@mail.com</td><td>2024-12-16</td><td>+1 2978446880</td></tr><tr><td>2025-01-17 07:50:48</td><td>3295</td><td>Drew Hanson</td><td>1996-11-21</td><td>cathy31@gmail.com</td><td>2025-01-01</td><td>+1 6521792889</td></tr><tr><td>2025-01-03 03:28:34</td><td>9084</td><td>Olivia Lyons</td><td>1997-06-17</td><td>patty47@outlook.com</td><td>2024-12-16</td><td>+1 2909899135</td></tr><tr><td>2025-01-23 02:07:26</td><td>9150</td><td>Alison Davis</td><td>2004-01-17</td><td>jacob31@yahoo.com</td><td>2024-12-26</td><td>+1 7119851149</td></tr><tr><td>2025-01-14 13:30:57</td><td>9605</td><td>Tiffany Rocha</td><td>2003-04-25</td><td>michael82@yahoo.com</td><td>2024-12-22</td><td>+1 6232811506</td></tr><tr><td>2025-01-12 20:13:31</td><td>4996</td><td>Brandon Reed</td><td>1997-05-11</td><td>stacey71@yahoo.com</td><td>2024-12-13</td><td>null</td></tr></tbody></table></div>"
      ]
     },
     "metadata": {
      "application/vnd.databricks.v1+output": {
       "addedWidgets": {},
       "aggData": [],
       "aggError": "",
       "aggOverflow": false,
       "aggSchema": [],
       "aggSeriesLimitReached": false,
       "aggType": "",
       "arguments": {},
       "columnCustomDisplayInfos": {},
       "data": [
        [
         "2024-10-17 16:12:27",
         9179,
         "Richard Cox",
         "1996-10-25",
         "devon84@mail.com",
         "2024-09-26",
         "+1 6680703335"
        ],
        [
         "2024-10-01 00:50:29",
         4858,
         "Carla Morton",
         "2004-06-21",
         "joseph88@mail.com",
         "2024-09-15",
         "+1 8616454195"
        ],
        [
         "2024-10-23 22:03:08",
         7207,
         "Billy Scott",
         "1997-03-17",
         "christopher30@mail.com",
         "2024-09-23",
         "+1 5544387564"
        ],
        [
         "2024-10-12 06:02:27",
         8539,
         "Lori Mason",
         "2002-11-01",
         "stephanie7@mail.com",
         "2024-09-12",
         "+1 0498301620"
        ],
        [
         "2024-10-24 13:03:13",
         9706,
         "Jennifer Haas",
         "2001-04-03",
         "benjamin55@mail.com",
         "2024-10-05",
         "+1 4725460000"
        ],
        [
         "2024-10-08 22:49:25",
         9263,
         "Joseph Keller",
         "2003-02-11",
         null,
         "2024-10-04",
         "+1 3817867756"
        ],
        [
         "2024-10-06 19:55:52",
         5028,
         "Jessica Harris",
         "2004-04-19",
         null,
         "2024-09-10",
         "+1 8604009935"
        ],
        [
         "2024-10-18 23:24:52",
         9018,
         "William Carter",
         "2003-09-05",
         "james70@gmail.com",
         "2024-10-08",
         "+1 1448753611"
        ],
        [
         "2024-10-21 13:20:26",
         8580,
         "Shannon Austin",
         "2002-03-22",
         "john30@gmail.com",
         "2024-10-07",
         "+1 4594705629"
        ],
        [
         "2024-10-02 14:53:40",
         3409,
         "Andrew Phillips",
         "2003-04-17",
         "peter73@yahoo.com",
         "2024-09-30",
         "+1 4079273853"
        ],
        [
         "2024-10-26 15:14:33",
         2344,
         "Martin Thomas DDS",
         "2002-05-01",
         "billy42@outlook.com",
         "2024-10-13",
         "+1 0201457151"
        ],
        [
         "2024-10-15 02:48:29",
         5011,
         "Rachel Thomas",
         "2003-02-17",
         "lauren59@yahoo.com",
         "2024-09-24",
         "+1 5437271621"
        ],
        [
         "2024-10-28 00:57:09",
         9247,
         "Dr. Daniel Hall",
         "2004-03-21",
         "tamara30@gmail.com",
         "2024-10-03",
         "+1 7544137170"
        ],
        [
         "2024-10-22 05:52:57",
         6627,
         "Candice Rosales",
         "2004-04-03",
         "amber79@example.org",
         "2024-10-15",
         "+1 4788451559"
        ],
        [
         "2024-10-06 19:55:52",
         5028,
         "Jessica Harris",
         "2004-04-19",
         null,
         "2024-09-10",
         "+1 8604009935"
        ],
        [
         "2024-10-08 03:30:53",
         5816,
         "Amy Morales",
         "1999-12-11",
         "daniel12@hotmail.com",
         "2024-09-17",
         "+46 4407385044"
        ],
        [
         "2024-10-15 01:27:54",
         9247,
         "Dr. Daniel Hall",
         "2004-03-21",
         "sheena11@alexander.com",
         "2024-09-15",
         "+46 7281991017"
        ],
        [
         "2024-10-09 18:54:00",
         3889,
         "Jennifer Jackson",
         "1995-10-30",
         null,
         "2024-09-16",
         "+68 2276996612"
        ],
        [
         "2024-10-10 16:53:44",
         9084,
         "Olivia Lyons",
         "1997-06-17",
         "johnsonmichael@yahoo.com",
         "2024-09-26",
         null
        ],
        [
         "2024-10-19 11:53:44",
         null,
         "John Smith",
         "1998-01-19",
         "john.smith@outlook.com",
         "2024-07-16",
         "+1 8762342456"
        ],
        [
         "2024-11-14 20:41:18",
         3892,
         "Jason Bridges",
         "2004-01-01",
         "nicole29@gmail.com",
         "2024-10-29",
         "+1 8220011928"
        ],
        [
         "2024-11-16 01:47:25",
         1987,
         "Amanda Alvarez",
         "1995-10-11",
         "eric40@outlook.com",
         "2024-10-27",
         "+1 9673066300"
        ],
        [
         "2024-11-19 14:03:09",
         5816,
         "Amy Morales",
         "1999-12-11",
         "katelyn82@example.org",
         "2024-11-04",
         "+1 4140982719"
        ],
        [
         "2024-11-09 14:52:31",
         5204,
         "Jennifer Nichols DDS",
         "1997-02-17",
         "joseph8@example.org",
         "2024-11-04",
         "+1 0383356328"
        ],
        [
         "2024-11-23 18:16:18",
         4468,
         "Mrs. Roberta Salas PhD",
         "1997-05-10",
         null,
         "2024-10-25",
         "+1 4679955118"
        ],
        [
         "2024-11-14 16:41:14",
         4761,
         "Timothy Smith",
         "1996-11-07",
         "joshua40@yahoo.com",
         "2024-11-03",
         "+1 9450920858"
        ],
        [
         "2024-11-07 22:20:00",
         2703,
         "Anthony Miller",
         "1997-11-02",
         null,
         "2024-11-05",
         "+1 1586310752"
        ],
        [
         "2024-11-12 12:57:38",
         4914,
         "Samantha Johnson",
         "1997-03-26",
         "theresa14@mail.com",
         "2024-10-13",
         "+1 4095003738"
        ],
        [
         "2024-11-08 02:26:42",
         7295,
         "Lauren Reed",
         "2001-08-11",
         "jeanette48@example.org",
         "2024-10-10",
         "+1 0104088765"
        ],
        [
         "2024-11-09 20:24:30",
         7803,
         "Katherine Lee",
         "2000-03-09",
         "jennifer85@mail.com",
         "2024-10-27",
         "+1 3119886866"
        ],
        [
         "2024-11-24 11:14:03",
         3712,
         "Robin Chavez",
         "1997-03-16",
         "lisa15@gmail.com",
         "2024-11-24",
         "+1 2654756919"
        ],
        [
         "2024-11-23 11:14:03",
         null,
         "Andrew Taylor",
         "1996-01-11",
         "andrew.taylor@gmail.com",
         "2024-11-21",
         "+1 1235447333"
        ],
        [
         "2024-11-03 17:22:56",
         2054,
         "Alan Price",
         "1998-08-25",
         "connor40@yahoo.com",
         "2024-10-14",
         "+1 3745642936"
        ],
        [
         "2024-11-09 07:14:17",
         7123,
         "Edgar Stevens",
         "2003-02-15",
         "kevin68@example.org",
         "2024-10-27",
         "+1 0793189847"
        ],
        [
         "2024-11-27 12:56:20",
         4996,
         "Brandon Reed",
         "1997-05-11",
         "handerson@barker.info",
         "2024-11-06",
         "+43 2750540511"
        ],
        [
         "2024-12-25 11:06:35",
         6973,
         "Tracy Cole",
         "1998-07-24",
         "tony46@mail.com",
         "2024-12-16",
         "+1 5515836612"
        ],
        [
         "2024-12-26 09:29:16",
         3532,
         "Holly Wilkinson",
         "2003-03-06",
         "lindsey61@yahoo.com",
         "2024-12-22",
         null
        ],
        [
         "2024-12-16 16:54:10",
         1211,
         "Jeremy Ball",
         "2002-03-26",
         "megan86@yahoo.com",
         "2024-12-01",
         "+1 5793543882"
        ],
        [
         "2024-12-07 18:09:58",
         7829,
         "Daniel Black",
         "1998-04-13",
         "sandra54@example.org",
         "2024-11-16",
         "+1 0933795082"
        ],
        [
         "2024-12-24 14:46:04",
         6384,
         "Jennifer Carrillo",
         "1994-12-18",
         "james34@yahoo.com",
         "2024-12-22",
         "+1 5592179843"
        ],
        [
         "2024-12-21 07:08:28",
         2639,
         "Jessica Deleon",
         "1995-06-04",
         "jeremiah96@gmail.com",
         "2024-11-22",
         "+1 1304435999"
        ],
        [
         "2024-12-20 12:32:29",
         3084,
         "Tyler Simmons",
         "2003-02-20",
         "brian94@mail.com",
         "2024-12-02",
         null
        ],
        [
         "2024-12-22 23:00:48",
         7997,
         "Patricia Abbott",
         "1997-07-31",
         "angela97@mail.com",
         "2024-11-28",
         "+1 4053366448"
        ],
        [
         "2024-12-05 08:58:52",
         9687,
         "Micheal Perez MD",
         "2002-07-18",
         "christopher65@example.org",
         "2024-11-22",
         "+1 3079718622"
        ],
        [
         "2024-12-17 15:05:15",
         2141,
         "Zachary Lopez",
         "2002-09-20",
         "glenn87@example.org",
         "2024-12-14",
         "+1 7431190983"
        ],
        [
         "2024-12-04 13:16:03",
         5592,
         "Richard Neal",
         "1995-11-05",
         "eric52@gmail.com",
         "2024-11-15",
         "+1 4425187397"
        ],
        [
         "2024-12-13 14:23:27",
         6406,
         "Christopher Ritter",
         "2004-07-12",
         null,
         "2024-11-24",
         "+1 1752511241"
        ],
        [
         "2024-12-16 16:54:10",
         1211,
         "Jeremy Ball",
         "2002-03-26",
         "megan86@yahoo.com",
         "2024-12-01",
         "+1 5793543882"
        ],
        [
         "2024-12-22 23:00:48",
         7997,
         "Patricia Abbott",
         "1997-07-31",
         "angela97@mail.com",
         "2024-11-28",
         "+1 4053366448"
        ],
        [
         "2025-01-05 17:29:34",
         7007,
         "Joe Castaneda",
         "1999-04-27",
         "michael34@mail.com",
         "2024-12-31",
         "+1 1767970338"
        ],
        [
         "2025-01-17 15:59:39",
         5953,
         "Kevin Harris",
         "2003-01-23",
         "timothy99@mail.com",
         "2024-12-31",
         "+1 6517763640"
        ],
        [
         "2025-01-12 20:13:31",
         4996,
         "Brandon Reed",
         "1997-05-11",
         "stacey71@yahoo.com",
         "2024-12-13",
         null
        ],
        [
         "2025-01-14 13:30:57",
         9605,
         "Tiffany Rocha",
         "2003-04-25",
         "michael82@yahoo.com",
         "2024-12-22",
         "+1 6232811506"
        ],
        [
         "2025-01-16 21:17:22",
         8845,
         "Joseph Robbins",
         "1997-04-04",
         "derek53@yahoo.com",
         "2025-01-12",
         "+1 9513893820"
        ],
        [
         "2025-01-26 09:46:03",
         4973,
         "Daniel Thompson",
         "1999-07-17",
         "connor32@example.org",
         "2024-12-27",
         "+1 5823046206"
        ],
        [
         "2025-01-25 13:28:31",
         3889,
         "Jennifer Jackson",
         "1995-10-30",
         "catherine77@example.org",
         "2025-01-07",
         "+1 5932456755"
        ],
        [
         "2025-01-14 18:31:28",
         6167,
         "Leslie Smith",
         "2001-10-28",
         "angela16@mail.com",
         "2024-12-16",
         "+1 2978446880"
        ],
        [
         "2025-01-17 07:50:48",
         3295,
         "Drew Hanson",
         "1996-11-21",
         "cathy31@gmail.com",
         "2025-01-01",
         "+1 6521792889"
        ],
        [
         "2025-01-03 03:28:34",
         9084,
         "Olivia Lyons",
         "1997-06-17",
         "patty47@outlook.com",
         "2024-12-16",
         "+1 2909899135"
        ],
        [
         "2025-01-23 02:07:26",
         9150,
         "Alison Davis",
         "2004-01-17",
         "jacob31@yahoo.com",
         "2024-12-26",
         "+1 7119851149"
        ],
        [
         "2025-01-14 13:30:57",
         9605,
         "Tiffany Rocha",
         "2003-04-25",
         "michael82@yahoo.com",
         "2024-12-22",
         "+1 6232811506"
        ],
        [
         "2025-01-12 20:13:31",
         4996,
         "Brandon Reed",
         "1997-05-11",
         "stacey71@yahoo.com",
         "2024-12-13",
         null
        ]
       ],
       "datasetInfos": [],
       "dbfsResultPath": null,
       "isJsonSchema": true,
       "metadata": {
        "isDbfsCommandResult": false
       },
       "overflow": false,
       "plotOptions": {
        "customPlotOptions": {},
        "displayType": "table",
        "pivotAggregation": null,
        "pivotColumns": null,
        "xColumns": null,
        "yColumns": null
       },
       "removedWidgets": [],
       "schema": [
        {
         "metadata": "{}",
         "name": "created_timestamp",
         "type": "\"string\""
        },
        {
         "metadata": "{}",
         "name": "customer_id",
         "type": "\"long\""
        },
        {
         "metadata": "{}",
         "name": "customer_name",
         "type": "\"string\""
        },
        {
         "metadata": "{}",
         "name": "date_of_birth",
         "type": "\"string\""
        },
        {
         "metadata": "{}",
         "name": "email",
         "type": "\"string\""
        },
        {
         "metadata": "{}",
         "name": "member_since",
         "type": "\"string\""
        },
        {
         "metadata": "{}",
         "name": "telephone",
         "type": "\"string\""
        }
       ],
       "type": "table"
      }
     },
     "output_type": "display_data"
    }
   ],
   "source": [
    "select * from json.`/Volumes/gizmobox/landing/operational_data/customers`"
   ]
  },
  {
   "cell_type": "code",
   "execution_count": 0,
   "metadata": {
    "application/vnd.databricks.v1+cell": {
     "cellMetadata": {
      "byteLimit": 2048000,
      "rowLimit": 10000
     },
     "inputWidgets": {},
     "nuid": "446555da-1f08-43bb-b4af-5bc3e805d264",
     "showTitle": false,
     "tableResultSettingsMap": {},
     "title": ""
    }
   },
   "outputs": [
    {
     "output_type": "display_data",
     "data": {
      "text/html": [
       "<style scoped>\n",
       "  .table-result-container {\n",
       "    max-height: 300px;\n",
       "    overflow: auto;\n",
       "  }\n",
       "  table, th, td {\n",
       "    border: 1px solid black;\n",
       "    border-collapse: collapse;\n",
       "  }\n",
       "  th, td {\n",
       "    padding: 5px;\n",
       "  }\n",
       "  th {\n",
       "    text-align: left;\n",
       "  }\n",
       "</style><div class='table-result-container'><table class='table-result'><thead style='background-color: white'><tr><th>created_timestamp</th><th>customer_id</th><th>customer_name</th><th>date_of_birth</th><th>email</th><th>member_since</th><th>telephone</th><th>file_path</th></tr></thead><tbody><tr><td>2024-10-17 16:12:27</td><td>9179</td><td>Richard Cox</td><td>1996-10-25</td><td>devon84@mail.com</td><td>2024-09-26</td><td>+1 6680703335</td><td>List(dbfs:/Volumes/gizmobox/landing/operational_data/customers/customers_2024_10.json, customers_2024_10.json, 4389, 0, 4389, 2025-05-19T17:42:46Z)</td></tr><tr><td>2024-10-01 00:50:29</td><td>4858</td><td>Carla Morton</td><td>2004-06-21</td><td>joseph88@mail.com</td><td>2024-09-15</td><td>+1 8616454195</td><td>List(dbfs:/Volumes/gizmobox/landing/operational_data/customers/customers_2024_10.json, customers_2024_10.json, 4389, 0, 4389, 2025-05-19T17:42:46Z)</td></tr><tr><td>2024-10-23 22:03:08</td><td>7207</td><td>Billy Scott</td><td>1997-03-17</td><td>christopher30@mail.com</td><td>2024-09-23</td><td>+1 5544387564</td><td>List(dbfs:/Volumes/gizmobox/landing/operational_data/customers/customers_2024_10.json, customers_2024_10.json, 4389, 0, 4389, 2025-05-19T17:42:46Z)</td></tr><tr><td>2024-10-12 06:02:27</td><td>8539</td><td>Lori Mason</td><td>2002-11-01</td><td>stephanie7@mail.com</td><td>2024-09-12</td><td>+1 0498301620</td><td>List(dbfs:/Volumes/gizmobox/landing/operational_data/customers/customers_2024_10.json, customers_2024_10.json, 4389, 0, 4389, 2025-05-19T17:42:46Z)</td></tr><tr><td>2024-10-24 13:03:13</td><td>9706</td><td>Jennifer Haas</td><td>2001-04-03</td><td>benjamin55@mail.com</td><td>2024-10-05</td><td>+1 4725460000</td><td>List(dbfs:/Volumes/gizmobox/landing/operational_data/customers/customers_2024_10.json, customers_2024_10.json, 4389, 0, 4389, 2025-05-19T17:42:46Z)</td></tr><tr><td>2024-10-08 22:49:25</td><td>9263</td><td>Joseph Keller</td><td>2003-02-11</td><td>null</td><td>2024-10-04</td><td>+1 3817867756</td><td>List(dbfs:/Volumes/gizmobox/landing/operational_data/customers/customers_2024_10.json, customers_2024_10.json, 4389, 0, 4389, 2025-05-19T17:42:46Z)</td></tr><tr><td>2024-10-06 19:55:52</td><td>5028</td><td>Jessica Harris</td><td>2004-04-19</td><td>null</td><td>2024-09-10</td><td>+1 8604009935</td><td>List(dbfs:/Volumes/gizmobox/landing/operational_data/customers/customers_2024_10.json, customers_2024_10.json, 4389, 0, 4389, 2025-05-19T17:42:46Z)</td></tr><tr><td>2024-10-18 23:24:52</td><td>9018</td><td>William Carter</td><td>2003-09-05</td><td>james70@gmail.com</td><td>2024-10-08</td><td>+1 1448753611</td><td>List(dbfs:/Volumes/gizmobox/landing/operational_data/customers/customers_2024_10.json, customers_2024_10.json, 4389, 0, 4389, 2025-05-19T17:42:46Z)</td></tr><tr><td>2024-10-21 13:20:26</td><td>8580</td><td>Shannon Austin</td><td>2002-03-22</td><td>john30@gmail.com</td><td>2024-10-07</td><td>+1 4594705629</td><td>List(dbfs:/Volumes/gizmobox/landing/operational_data/customers/customers_2024_10.json, customers_2024_10.json, 4389, 0, 4389, 2025-05-19T17:42:46Z)</td></tr><tr><td>2024-10-02 14:53:40</td><td>3409</td><td>Andrew Phillips</td><td>2003-04-17</td><td>peter73@yahoo.com</td><td>2024-09-30</td><td>+1 4079273853</td><td>List(dbfs:/Volumes/gizmobox/landing/operational_data/customers/customers_2024_10.json, customers_2024_10.json, 4389, 0, 4389, 2025-05-19T17:42:46Z)</td></tr><tr><td>2024-10-26 15:14:33</td><td>2344</td><td>Martin Thomas DDS</td><td>2002-05-01</td><td>billy42@outlook.com</td><td>2024-10-13</td><td>+1 0201457151</td><td>List(dbfs:/Volumes/gizmobox/landing/operational_data/customers/customers_2024_10.json, customers_2024_10.json, 4389, 0, 4389, 2025-05-19T17:42:46Z)</td></tr><tr><td>2024-10-15 02:48:29</td><td>5011</td><td>Rachel Thomas</td><td>2003-02-17</td><td>lauren59@yahoo.com</td><td>2024-09-24</td><td>+1 5437271621</td><td>List(dbfs:/Volumes/gizmobox/landing/operational_data/customers/customers_2024_10.json, customers_2024_10.json, 4389, 0, 4389, 2025-05-19T17:42:46Z)</td></tr><tr><td>2024-10-28 00:57:09</td><td>9247</td><td>Dr. Daniel Hall</td><td>2004-03-21</td><td>tamara30@gmail.com</td><td>2024-10-03</td><td>+1 7544137170</td><td>List(dbfs:/Volumes/gizmobox/landing/operational_data/customers/customers_2024_10.json, customers_2024_10.json, 4389, 0, 4389, 2025-05-19T17:42:46Z)</td></tr><tr><td>2024-10-22 05:52:57</td><td>6627</td><td>Candice Rosales</td><td>2004-04-03</td><td>amber79@example.org</td><td>2024-10-15</td><td>+1 4788451559</td><td>List(dbfs:/Volumes/gizmobox/landing/operational_data/customers/customers_2024_10.json, customers_2024_10.json, 4389, 0, 4389, 2025-05-19T17:42:46Z)</td></tr><tr><td>2024-10-06 19:55:52</td><td>5028</td><td>Jessica Harris</td><td>2004-04-19</td><td>null</td><td>2024-09-10</td><td>+1 8604009935</td><td>List(dbfs:/Volumes/gizmobox/landing/operational_data/customers/customers_2024_10.json, customers_2024_10.json, 4389, 0, 4389, 2025-05-19T17:42:46Z)</td></tr><tr><td>2024-10-08 03:30:53</td><td>5816</td><td>Amy Morales</td><td>1999-12-11</td><td>daniel12@hotmail.com</td><td>2024-09-17</td><td>+46 4407385044</td><td>List(dbfs:/Volumes/gizmobox/landing/operational_data/customers/customers_2024_10.json, customers_2024_10.json, 4389, 0, 4389, 2025-05-19T17:42:46Z)</td></tr><tr><td>2024-10-15 01:27:54</td><td>9247</td><td>Dr. Daniel Hall</td><td>2004-03-21</td><td>sheena11@alexander.com</td><td>2024-09-15</td><td>+46 7281991017</td><td>List(dbfs:/Volumes/gizmobox/landing/operational_data/customers/customers_2024_10.json, customers_2024_10.json, 4389, 0, 4389, 2025-05-19T17:42:46Z)</td></tr><tr><td>2024-10-09 18:54:00</td><td>3889</td><td>Jennifer Jackson</td><td>1995-10-30</td><td>null</td><td>2024-09-16</td><td>+68 2276996612</td><td>List(dbfs:/Volumes/gizmobox/landing/operational_data/customers/customers_2024_10.json, customers_2024_10.json, 4389, 0, 4389, 2025-05-19T17:42:46Z)</td></tr><tr><td>2024-10-10 16:53:44</td><td>9084</td><td>Olivia Lyons</td><td>1997-06-17</td><td>johnsonmichael@yahoo.com</td><td>2024-09-26</td><td>null</td><td>List(dbfs:/Volumes/gizmobox/landing/operational_data/customers/customers_2024_10.json, customers_2024_10.json, 4389, 0, 4389, 2025-05-19T17:42:46Z)</td></tr><tr><td>2024-10-19 11:53:44</td><td>null</td><td>John Smith</td><td>1998-01-19</td><td>john.smith@outlook.com</td><td>2024-07-16</td><td>+1 8762342456</td><td>List(dbfs:/Volumes/gizmobox/landing/operational_data/customers/customers_2024_10.json, customers_2024_10.json, 4389, 0, 4389, 2025-05-19T17:42:46Z)</td></tr><tr><td>2024-11-14 20:41:18</td><td>3892</td><td>Jason Bridges</td><td>2004-01-01</td><td>nicole29@gmail.com</td><td>2024-10-29</td><td>+1 8220011928</td><td>List(dbfs:/Volumes/gizmobox/landing/operational_data/customers/customers_2024_11.json, customers_2024_11.json, 3327, 0, 3327, 2025-05-19T17:42:47Z)</td></tr><tr><td>2024-11-16 01:47:25</td><td>1987</td><td>Amanda Alvarez</td><td>1995-10-11</td><td>eric40@outlook.com</td><td>2024-10-27</td><td>+1 9673066300</td><td>List(dbfs:/Volumes/gizmobox/landing/operational_data/customers/customers_2024_11.json, customers_2024_11.json, 3327, 0, 3327, 2025-05-19T17:42:47Z)</td></tr><tr><td>2024-11-19 14:03:09</td><td>5816</td><td>Amy Morales</td><td>1999-12-11</td><td>katelyn82@example.org</td><td>2024-11-04</td><td>+1 4140982719</td><td>List(dbfs:/Volumes/gizmobox/landing/operational_data/customers/customers_2024_11.json, customers_2024_11.json, 3327, 0, 3327, 2025-05-19T17:42:47Z)</td></tr><tr><td>2024-11-09 14:52:31</td><td>5204</td><td>Jennifer Nichols DDS</td><td>1997-02-17</td><td>joseph8@example.org</td><td>2024-11-04</td><td>+1 0383356328</td><td>List(dbfs:/Volumes/gizmobox/landing/operational_data/customers/customers_2024_11.json, customers_2024_11.json, 3327, 0, 3327, 2025-05-19T17:42:47Z)</td></tr><tr><td>2024-11-23 18:16:18</td><td>4468</td><td>Mrs. Roberta Salas PhD</td><td>1997-05-10</td><td>null</td><td>2024-10-25</td><td>+1 4679955118</td><td>List(dbfs:/Volumes/gizmobox/landing/operational_data/customers/customers_2024_11.json, customers_2024_11.json, 3327, 0, 3327, 2025-05-19T17:42:47Z)</td></tr><tr><td>2024-11-14 16:41:14</td><td>4761</td><td>Timothy Smith</td><td>1996-11-07</td><td>joshua40@yahoo.com</td><td>2024-11-03</td><td>+1 9450920858</td><td>List(dbfs:/Volumes/gizmobox/landing/operational_data/customers/customers_2024_11.json, customers_2024_11.json, 3327, 0, 3327, 2025-05-19T17:42:47Z)</td></tr><tr><td>2024-11-07 22:20:00</td><td>2703</td><td>Anthony Miller</td><td>1997-11-02</td><td>null</td><td>2024-11-05</td><td>+1 1586310752</td><td>List(dbfs:/Volumes/gizmobox/landing/operational_data/customers/customers_2024_11.json, customers_2024_11.json, 3327, 0, 3327, 2025-05-19T17:42:47Z)</td></tr><tr><td>2024-11-12 12:57:38</td><td>4914</td><td>Samantha Johnson</td><td>1997-03-26</td><td>theresa14@mail.com</td><td>2024-10-13</td><td>+1 4095003738</td><td>List(dbfs:/Volumes/gizmobox/landing/operational_data/customers/customers_2024_11.json, customers_2024_11.json, 3327, 0, 3327, 2025-05-19T17:42:47Z)</td></tr><tr><td>2024-11-08 02:26:42</td><td>7295</td><td>Lauren Reed</td><td>2001-08-11</td><td>jeanette48@example.org</td><td>2024-10-10</td><td>+1 0104088765</td><td>List(dbfs:/Volumes/gizmobox/landing/operational_data/customers/customers_2024_11.json, customers_2024_11.json, 3327, 0, 3327, 2025-05-19T17:42:47Z)</td></tr><tr><td>2024-11-09 20:24:30</td><td>7803</td><td>Katherine Lee</td><td>2000-03-09</td><td>jennifer85@mail.com</td><td>2024-10-27</td><td>+1 3119886866</td><td>List(dbfs:/Volumes/gizmobox/landing/operational_data/customers/customers_2024_11.json, customers_2024_11.json, 3327, 0, 3327, 2025-05-19T17:42:47Z)</td></tr><tr><td>2024-11-24 11:14:03</td><td>3712</td><td>Robin Chavez</td><td>1997-03-16</td><td>lisa15@gmail.com</td><td>2024-11-24</td><td>+1 2654756919</td><td>List(dbfs:/Volumes/gizmobox/landing/operational_data/customers/customers_2024_11.json, customers_2024_11.json, 3327, 0, 3327, 2025-05-19T17:42:47Z)</td></tr><tr><td>2024-11-23 11:14:03</td><td>null</td><td>Andrew Taylor</td><td>1996-01-11</td><td>andrew.taylor@gmail.com</td><td>2024-11-21</td><td>+1 1235447333</td><td>List(dbfs:/Volumes/gizmobox/landing/operational_data/customers/customers_2024_11.json, customers_2024_11.json, 3327, 0, 3327, 2025-05-19T17:42:47Z)</td></tr><tr><td>2024-11-03 17:22:56</td><td>2054</td><td>Alan Price</td><td>1998-08-25</td><td>connor40@yahoo.com</td><td>2024-10-14</td><td>+1 3745642936</td><td>List(dbfs:/Volumes/gizmobox/landing/operational_data/customers/customers_2024_11.json, customers_2024_11.json, 3327, 0, 3327, 2025-05-19T17:42:47Z)</td></tr><tr><td>2024-11-09 07:14:17</td><td>7123</td><td>Edgar Stevens</td><td>2003-02-15</td><td>kevin68@example.org</td><td>2024-10-27</td><td>+1 0793189847</td><td>List(dbfs:/Volumes/gizmobox/landing/operational_data/customers/customers_2024_11.json, customers_2024_11.json, 3327, 0, 3327, 2025-05-19T17:42:47Z)</td></tr><tr><td>2024-11-27 12:56:20</td><td>4996</td><td>Brandon Reed</td><td>1997-05-11</td><td>handerson@barker.info</td><td>2024-11-06</td><td>+43 2750540511</td><td>List(dbfs:/Volumes/gizmobox/landing/operational_data/customers/customers_2024_11.json, customers_2024_11.json, 3327, 0, 3327, 2025-05-19T17:42:47Z)</td></tr><tr><td>2024-12-25 11:06:35</td><td>6973</td><td>Tracy Cole</td><td>1998-07-24</td><td>tony46@mail.com</td><td>2024-12-16</td><td>+1 5515836612</td><td>List(dbfs:/Volumes/gizmobox/landing/operational_data/customers/customers_2024_12.json, customers_2024_12.json, 3081, 0, 3081, 2025-05-19T17:42:47Z)</td></tr><tr><td>2024-12-26 09:29:16</td><td>3532</td><td>Holly Wilkinson</td><td>2003-03-06</td><td>lindsey61@yahoo.com</td><td>2024-12-22</td><td>null</td><td>List(dbfs:/Volumes/gizmobox/landing/operational_data/customers/customers_2024_12.json, customers_2024_12.json, 3081, 0, 3081, 2025-05-19T17:42:47Z)</td></tr><tr><td>2024-12-16 16:54:10</td><td>1211</td><td>Jeremy Ball</td><td>2002-03-26</td><td>megan86@yahoo.com</td><td>2024-12-01</td><td>+1 5793543882</td><td>List(dbfs:/Volumes/gizmobox/landing/operational_data/customers/customers_2024_12.json, customers_2024_12.json, 3081, 0, 3081, 2025-05-19T17:42:47Z)</td></tr><tr><td>2024-12-07 18:09:58</td><td>7829</td><td>Daniel Black</td><td>1998-04-13</td><td>sandra54@example.org</td><td>2024-11-16</td><td>+1 0933795082</td><td>List(dbfs:/Volumes/gizmobox/landing/operational_data/customers/customers_2024_12.json, customers_2024_12.json, 3081, 0, 3081, 2025-05-19T17:42:47Z)</td></tr><tr><td>2024-12-24 14:46:04</td><td>6384</td><td>Jennifer Carrillo</td><td>1994-12-18</td><td>james34@yahoo.com</td><td>2024-12-22</td><td>+1 5592179843</td><td>List(dbfs:/Volumes/gizmobox/landing/operational_data/customers/customers_2024_12.json, customers_2024_12.json, 3081, 0, 3081, 2025-05-19T17:42:47Z)</td></tr><tr><td>2024-12-21 07:08:28</td><td>2639</td><td>Jessica Deleon</td><td>1995-06-04</td><td>jeremiah96@gmail.com</td><td>2024-11-22</td><td>+1 1304435999</td><td>List(dbfs:/Volumes/gizmobox/landing/operational_data/customers/customers_2024_12.json, customers_2024_12.json, 3081, 0, 3081, 2025-05-19T17:42:47Z)</td></tr><tr><td>2024-12-20 12:32:29</td><td>3084</td><td>Tyler Simmons</td><td>2003-02-20</td><td>brian94@mail.com</td><td>2024-12-02</td><td>null</td><td>List(dbfs:/Volumes/gizmobox/landing/operational_data/customers/customers_2024_12.json, customers_2024_12.json, 3081, 0, 3081, 2025-05-19T17:42:47Z)</td></tr><tr><td>2024-12-22 23:00:48</td><td>7997</td><td>Patricia Abbott</td><td>1997-07-31</td><td>angela97@mail.com</td><td>2024-11-28</td><td>+1 4053366448</td><td>List(dbfs:/Volumes/gizmobox/landing/operational_data/customers/customers_2024_12.json, customers_2024_12.json, 3081, 0, 3081, 2025-05-19T17:42:47Z)</td></tr><tr><td>2024-12-05 08:58:52</td><td>9687</td><td>Micheal Perez MD</td><td>2002-07-18</td><td>christopher65@example.org</td><td>2024-11-22</td><td>+1 3079718622</td><td>List(dbfs:/Volumes/gizmobox/landing/operational_data/customers/customers_2024_12.json, customers_2024_12.json, 3081, 0, 3081, 2025-05-19T17:42:47Z)</td></tr><tr><td>2024-12-17 15:05:15</td><td>2141</td><td>Zachary Lopez</td><td>2002-09-20</td><td>glenn87@example.org</td><td>2024-12-14</td><td>+1 7431190983</td><td>List(dbfs:/Volumes/gizmobox/landing/operational_data/customers/customers_2024_12.json, customers_2024_12.json, 3081, 0, 3081, 2025-05-19T17:42:47Z)</td></tr><tr><td>2024-12-04 13:16:03</td><td>5592</td><td>Richard Neal</td><td>1995-11-05</td><td>eric52@gmail.com</td><td>2024-11-15</td><td>+1 4425187397</td><td>List(dbfs:/Volumes/gizmobox/landing/operational_data/customers/customers_2024_12.json, customers_2024_12.json, 3081, 0, 3081, 2025-05-19T17:42:47Z)</td></tr><tr><td>2024-12-13 14:23:27</td><td>6406</td><td>Christopher Ritter</td><td>2004-07-12</td><td>null</td><td>2024-11-24</td><td>+1 1752511241</td><td>List(dbfs:/Volumes/gizmobox/landing/operational_data/customers/customers_2024_12.json, customers_2024_12.json, 3081, 0, 3081, 2025-05-19T17:42:47Z)</td></tr><tr><td>2024-12-16 16:54:10</td><td>1211</td><td>Jeremy Ball</td><td>2002-03-26</td><td>megan86@yahoo.com</td><td>2024-12-01</td><td>+1 5793543882</td><td>List(dbfs:/Volumes/gizmobox/landing/operational_data/customers/customers_2024_12.json, customers_2024_12.json, 3081, 0, 3081, 2025-05-19T17:42:47Z)</td></tr><tr><td>2024-12-22 23:00:48</td><td>7997</td><td>Patricia Abbott</td><td>1997-07-31</td><td>angela97@mail.com</td><td>2024-11-28</td><td>+1 4053366448</td><td>List(dbfs:/Volumes/gizmobox/landing/operational_data/customers/customers_2024_12.json, customers_2024_12.json, 3081, 0, 3081, 2025-05-19T17:42:47Z)</td></tr><tr><td>2025-01-05 17:29:34</td><td>7007</td><td>Joe Castaneda</td><td>1999-04-27</td><td>michael34@mail.com</td><td>2024-12-31</td><td>+1 1767970338</td><td>List(dbfs:/Volumes/gizmobox/landing/operational_data/customers/customers_2025_01.json, customers_2025_01.json, 2868, 0, 2868, 2025-05-19T17:42:47Z)</td></tr><tr><td>2025-01-17 15:59:39</td><td>5953</td><td>Kevin Harris</td><td>2003-01-23</td><td>timothy99@mail.com</td><td>2024-12-31</td><td>+1 6517763640</td><td>List(dbfs:/Volumes/gizmobox/landing/operational_data/customers/customers_2025_01.json, customers_2025_01.json, 2868, 0, 2868, 2025-05-19T17:42:47Z)</td></tr><tr><td>2025-01-12 20:13:31</td><td>4996</td><td>Brandon Reed</td><td>1997-05-11</td><td>stacey71@yahoo.com</td><td>2024-12-13</td><td>null</td><td>List(dbfs:/Volumes/gizmobox/landing/operational_data/customers/customers_2025_01.json, customers_2025_01.json, 2868, 0, 2868, 2025-05-19T17:42:47Z)</td></tr><tr><td>2025-01-14 13:30:57</td><td>9605</td><td>Tiffany Rocha</td><td>2003-04-25</td><td>michael82@yahoo.com</td><td>2024-12-22</td><td>+1 6232811506</td><td>List(dbfs:/Volumes/gizmobox/landing/operational_data/customers/customers_2025_01.json, customers_2025_01.json, 2868, 0, 2868, 2025-05-19T17:42:47Z)</td></tr><tr><td>2025-01-16 21:17:22</td><td>8845</td><td>Joseph Robbins</td><td>1997-04-04</td><td>derek53@yahoo.com</td><td>2025-01-12</td><td>+1 9513893820</td><td>List(dbfs:/Volumes/gizmobox/landing/operational_data/customers/customers_2025_01.json, customers_2025_01.json, 2868, 0, 2868, 2025-05-19T17:42:47Z)</td></tr><tr><td>2025-01-26 09:46:03</td><td>4973</td><td>Daniel Thompson</td><td>1999-07-17</td><td>connor32@example.org</td><td>2024-12-27</td><td>+1 5823046206</td><td>List(dbfs:/Volumes/gizmobox/landing/operational_data/customers/customers_2025_01.json, customers_2025_01.json, 2868, 0, 2868, 2025-05-19T17:42:47Z)</td></tr><tr><td>2025-01-25 13:28:31</td><td>3889</td><td>Jennifer Jackson</td><td>1995-10-30</td><td>catherine77@example.org</td><td>2025-01-07</td><td>+1 5932456755</td><td>List(dbfs:/Volumes/gizmobox/landing/operational_data/customers/customers_2025_01.json, customers_2025_01.json, 2868, 0, 2868, 2025-05-19T17:42:47Z)</td></tr><tr><td>2025-01-14 18:31:28</td><td>6167</td><td>Leslie Smith</td><td>2001-10-28</td><td>angela16@mail.com</td><td>2024-12-16</td><td>+1 2978446880</td><td>List(dbfs:/Volumes/gizmobox/landing/operational_data/customers/customers_2025_01.json, customers_2025_01.json, 2868, 0, 2868, 2025-05-19T17:42:47Z)</td></tr><tr><td>2025-01-17 07:50:48</td><td>3295</td><td>Drew Hanson</td><td>1996-11-21</td><td>cathy31@gmail.com</td><td>2025-01-01</td><td>+1 6521792889</td><td>List(dbfs:/Volumes/gizmobox/landing/operational_data/customers/customers_2025_01.json, customers_2025_01.json, 2868, 0, 2868, 2025-05-19T17:42:47Z)</td></tr><tr><td>2025-01-03 03:28:34</td><td>9084</td><td>Olivia Lyons</td><td>1997-06-17</td><td>patty47@outlook.com</td><td>2024-12-16</td><td>+1 2909899135</td><td>List(dbfs:/Volumes/gizmobox/landing/operational_data/customers/customers_2025_01.json, customers_2025_01.json, 2868, 0, 2868, 2025-05-19T17:42:47Z)</td></tr><tr><td>2025-01-23 02:07:26</td><td>9150</td><td>Alison Davis</td><td>2004-01-17</td><td>jacob31@yahoo.com</td><td>2024-12-26</td><td>+1 7119851149</td><td>List(dbfs:/Volumes/gizmobox/landing/operational_data/customers/customers_2025_01.json, customers_2025_01.json, 2868, 0, 2868, 2025-05-19T17:42:47Z)</td></tr><tr><td>2025-01-14 13:30:57</td><td>9605</td><td>Tiffany Rocha</td><td>2003-04-25</td><td>michael82@yahoo.com</td><td>2024-12-22</td><td>+1 6232811506</td><td>List(dbfs:/Volumes/gizmobox/landing/operational_data/customers/customers_2025_01.json, customers_2025_01.json, 2868, 0, 2868, 2025-05-19T17:42:47Z)</td></tr><tr><td>2025-01-12 20:13:31</td><td>4996</td><td>Brandon Reed</td><td>1997-05-11</td><td>stacey71@yahoo.com</td><td>2024-12-13</td><td>null</td><td>List(dbfs:/Volumes/gizmobox/landing/operational_data/customers/customers_2025_01.json, customers_2025_01.json, 2868, 0, 2868, 2025-05-19T17:42:47Z)</td></tr></tbody></table></div>"
      ]
     },
     "metadata": {
      "application/vnd.databricks.v1+output": {
       "addedWidgets": {},
       "aggData": [],
       "aggError": "",
       "aggOverflow": false,
       "aggSchema": [],
       "aggSeriesLimitReached": false,
       "aggType": "",
       "arguments": {},
       "columnCustomDisplayInfos": {},
       "data": [
        [
         "2024-10-17 16:12:27",
         9179,
         "Richard Cox",
         "1996-10-25",
         "devon84@mail.com",
         "2024-09-26",
         "+1 6680703335",
         [
          "dbfs:/Volumes/gizmobox/landing/operational_data/customers/customers_2024_10.json",
          "customers_2024_10.json",
          4389,
          0,
          4389,
          "2025-05-19T17:42:46Z"
         ]
        ],
        [
         "2024-10-01 00:50:29",
         4858,
         "Carla Morton",
         "2004-06-21",
         "joseph88@mail.com",
         "2024-09-15",
         "+1 8616454195",
         [
          "dbfs:/Volumes/gizmobox/landing/operational_data/customers/customers_2024_10.json",
          "customers_2024_10.json",
          4389,
          0,
          4389,
          "2025-05-19T17:42:46Z"
         ]
        ],
        [
         "2024-10-23 22:03:08",
         7207,
         "Billy Scott",
         "1997-03-17",
         "christopher30@mail.com",
         "2024-09-23",
         "+1 5544387564",
         [
          "dbfs:/Volumes/gizmobox/landing/operational_data/customers/customers_2024_10.json",
          "customers_2024_10.json",
          4389,
          0,
          4389,
          "2025-05-19T17:42:46Z"
         ]
        ],
        [
         "2024-10-12 06:02:27",
         8539,
         "Lori Mason",
         "2002-11-01",
         "stephanie7@mail.com",
         "2024-09-12",
         "+1 0498301620",
         [
          "dbfs:/Volumes/gizmobox/landing/operational_data/customers/customers_2024_10.json",
          "customers_2024_10.json",
          4389,
          0,
          4389,
          "2025-05-19T17:42:46Z"
         ]
        ],
        [
         "2024-10-24 13:03:13",
         9706,
         "Jennifer Haas",
         "2001-04-03",
         "benjamin55@mail.com",
         "2024-10-05",
         "+1 4725460000",
         [
          "dbfs:/Volumes/gizmobox/landing/operational_data/customers/customers_2024_10.json",
          "customers_2024_10.json",
          4389,
          0,
          4389,
          "2025-05-19T17:42:46Z"
         ]
        ],
        [
         "2024-10-08 22:49:25",
         9263,
         "Joseph Keller",
         "2003-02-11",
         null,
         "2024-10-04",
         "+1 3817867756",
         [
          "dbfs:/Volumes/gizmobox/landing/operational_data/customers/customers_2024_10.json",
          "customers_2024_10.json",
          4389,
          0,
          4389,
          "2025-05-19T17:42:46Z"
         ]
        ],
        [
         "2024-10-06 19:55:52",
         5028,
         "Jessica Harris",
         "2004-04-19",
         null,
         "2024-09-10",
         "+1 8604009935",
         [
          "dbfs:/Volumes/gizmobox/landing/operational_data/customers/customers_2024_10.json",
          "customers_2024_10.json",
          4389,
          0,
          4389,
          "2025-05-19T17:42:46Z"
         ]
        ],
        [
         "2024-10-18 23:24:52",
         9018,
         "William Carter",
         "2003-09-05",
         "james70@gmail.com",
         "2024-10-08",
         "+1 1448753611",
         [
          "dbfs:/Volumes/gizmobox/landing/operational_data/customers/customers_2024_10.json",
          "customers_2024_10.json",
          4389,
          0,
          4389,
          "2025-05-19T17:42:46Z"
         ]
        ],
        [
         "2024-10-21 13:20:26",
         8580,
         "Shannon Austin",
         "2002-03-22",
         "john30@gmail.com",
         "2024-10-07",
         "+1 4594705629",
         [
          "dbfs:/Volumes/gizmobox/landing/operational_data/customers/customers_2024_10.json",
          "customers_2024_10.json",
          4389,
          0,
          4389,
          "2025-05-19T17:42:46Z"
         ]
        ],
        [
         "2024-10-02 14:53:40",
         3409,
         "Andrew Phillips",
         "2003-04-17",
         "peter73@yahoo.com",
         "2024-09-30",
         "+1 4079273853",
         [
          "dbfs:/Volumes/gizmobox/landing/operational_data/customers/customers_2024_10.json",
          "customers_2024_10.json",
          4389,
          0,
          4389,
          "2025-05-19T17:42:46Z"
         ]
        ],
        [
         "2024-10-26 15:14:33",
         2344,
         "Martin Thomas DDS",
         "2002-05-01",
         "billy42@outlook.com",
         "2024-10-13",
         "+1 0201457151",
         [
          "dbfs:/Volumes/gizmobox/landing/operational_data/customers/customers_2024_10.json",
          "customers_2024_10.json",
          4389,
          0,
          4389,
          "2025-05-19T17:42:46Z"
         ]
        ],
        [
         "2024-10-15 02:48:29",
         5011,
         "Rachel Thomas",
         "2003-02-17",
         "lauren59@yahoo.com",
         "2024-09-24",
         "+1 5437271621",
         [
          "dbfs:/Volumes/gizmobox/landing/operational_data/customers/customers_2024_10.json",
          "customers_2024_10.json",
          4389,
          0,
          4389,
          "2025-05-19T17:42:46Z"
         ]
        ],
        [
         "2024-10-28 00:57:09",
         9247,
         "Dr. Daniel Hall",
         "2004-03-21",
         "tamara30@gmail.com",
         "2024-10-03",
         "+1 7544137170",
         [
          "dbfs:/Volumes/gizmobox/landing/operational_data/customers/customers_2024_10.json",
          "customers_2024_10.json",
          4389,
          0,
          4389,
          "2025-05-19T17:42:46Z"
         ]
        ],
        [
         "2024-10-22 05:52:57",
         6627,
         "Candice Rosales",
         "2004-04-03",
         "amber79@example.org",
         "2024-10-15",
         "+1 4788451559",
         [
          "dbfs:/Volumes/gizmobox/landing/operational_data/customers/customers_2024_10.json",
          "customers_2024_10.json",
          4389,
          0,
          4389,
          "2025-05-19T17:42:46Z"
         ]
        ],
        [
         "2024-10-06 19:55:52",
         5028,
         "Jessica Harris",
         "2004-04-19",
         null,
         "2024-09-10",
         "+1 8604009935",
         [
          "dbfs:/Volumes/gizmobox/landing/operational_data/customers/customers_2024_10.json",
          "customers_2024_10.json",
          4389,
          0,
          4389,
          "2025-05-19T17:42:46Z"
         ]
        ],
        [
         "2024-10-08 03:30:53",
         5816,
         "Amy Morales",
         "1999-12-11",
         "daniel12@hotmail.com",
         "2024-09-17",
         "+46 4407385044",
         [
          "dbfs:/Volumes/gizmobox/landing/operational_data/customers/customers_2024_10.json",
          "customers_2024_10.json",
          4389,
          0,
          4389,
          "2025-05-19T17:42:46Z"
         ]
        ],
        [
         "2024-10-15 01:27:54",
         9247,
         "Dr. Daniel Hall",
         "2004-03-21",
         "sheena11@alexander.com",
         "2024-09-15",
         "+46 7281991017",
         [
          "dbfs:/Volumes/gizmobox/landing/operational_data/customers/customers_2024_10.json",
          "customers_2024_10.json",
          4389,
          0,
          4389,
          "2025-05-19T17:42:46Z"
         ]
        ],
        [
         "2024-10-09 18:54:00",
         3889,
         "Jennifer Jackson",
         "1995-10-30",
         null,
         "2024-09-16",
         "+68 2276996612",
         [
          "dbfs:/Volumes/gizmobox/landing/operational_data/customers/customers_2024_10.json",
          "customers_2024_10.json",
          4389,
          0,
          4389,
          "2025-05-19T17:42:46Z"
         ]
        ],
        [
         "2024-10-10 16:53:44",
         9084,
         "Olivia Lyons",
         "1997-06-17",
         "johnsonmichael@yahoo.com",
         "2024-09-26",
         null,
         [
          "dbfs:/Volumes/gizmobox/landing/operational_data/customers/customers_2024_10.json",
          "customers_2024_10.json",
          4389,
          0,
          4389,
          "2025-05-19T17:42:46Z"
         ]
        ],
        [
         "2024-10-19 11:53:44",
         null,
         "John Smith",
         "1998-01-19",
         "john.smith@outlook.com",
         "2024-07-16",
         "+1 8762342456",
         [
          "dbfs:/Volumes/gizmobox/landing/operational_data/customers/customers_2024_10.json",
          "customers_2024_10.json",
          4389,
          0,
          4389,
          "2025-05-19T17:42:46Z"
         ]
        ],
        [
         "2024-11-14 20:41:18",
         3892,
         "Jason Bridges",
         "2004-01-01",
         "nicole29@gmail.com",
         "2024-10-29",
         "+1 8220011928",
         [
          "dbfs:/Volumes/gizmobox/landing/operational_data/customers/customers_2024_11.json",
          "customers_2024_11.json",
          3327,
          0,
          3327,
          "2025-05-19T17:42:47Z"
         ]
        ],
        [
         "2024-11-16 01:47:25",
         1987,
         "Amanda Alvarez",
         "1995-10-11",
         "eric40@outlook.com",
         "2024-10-27",
         "+1 9673066300",
         [
          "dbfs:/Volumes/gizmobox/landing/operational_data/customers/customers_2024_11.json",
          "customers_2024_11.json",
          3327,
          0,
          3327,
          "2025-05-19T17:42:47Z"
         ]
        ],
        [
         "2024-11-19 14:03:09",
         5816,
         "Amy Morales",
         "1999-12-11",
         "katelyn82@example.org",
         "2024-11-04",
         "+1 4140982719",
         [
          "dbfs:/Volumes/gizmobox/landing/operational_data/customers/customers_2024_11.json",
          "customers_2024_11.json",
          3327,
          0,
          3327,
          "2025-05-19T17:42:47Z"
         ]
        ],
        [
         "2024-11-09 14:52:31",
         5204,
         "Jennifer Nichols DDS",
         "1997-02-17",
         "joseph8@example.org",
         "2024-11-04",
         "+1 0383356328",
         [
          "dbfs:/Volumes/gizmobox/landing/operational_data/customers/customers_2024_11.json",
          "customers_2024_11.json",
          3327,
          0,
          3327,
          "2025-05-19T17:42:47Z"
         ]
        ],
        [
         "2024-11-23 18:16:18",
         4468,
         "Mrs. Roberta Salas PhD",
         "1997-05-10",
         null,
         "2024-10-25",
         "+1 4679955118",
         [
          "dbfs:/Volumes/gizmobox/landing/operational_data/customers/customers_2024_11.json",
          "customers_2024_11.json",
          3327,
          0,
          3327,
          "2025-05-19T17:42:47Z"
         ]
        ],
        [
         "2024-11-14 16:41:14",
         4761,
         "Timothy Smith",
         "1996-11-07",
         "joshua40@yahoo.com",
         "2024-11-03",
         "+1 9450920858",
         [
          "dbfs:/Volumes/gizmobox/landing/operational_data/customers/customers_2024_11.json",
          "customers_2024_11.json",
          3327,
          0,
          3327,
          "2025-05-19T17:42:47Z"
         ]
        ],
        [
         "2024-11-07 22:20:00",
         2703,
         "Anthony Miller",
         "1997-11-02",
         null,
         "2024-11-05",
         "+1 1586310752",
         [
          "dbfs:/Volumes/gizmobox/landing/operational_data/customers/customers_2024_11.json",
          "customers_2024_11.json",
          3327,
          0,
          3327,
          "2025-05-19T17:42:47Z"
         ]
        ],
        [
         "2024-11-12 12:57:38",
         4914,
         "Samantha Johnson",
         "1997-03-26",
         "theresa14@mail.com",
         "2024-10-13",
         "+1 4095003738",
         [
          "dbfs:/Volumes/gizmobox/landing/operational_data/customers/customers_2024_11.json",
          "customers_2024_11.json",
          3327,
          0,
          3327,
          "2025-05-19T17:42:47Z"
         ]
        ],
        [
         "2024-11-08 02:26:42",
         7295,
         "Lauren Reed",
         "2001-08-11",
         "jeanette48@example.org",
         "2024-10-10",
         "+1 0104088765",
         [
          "dbfs:/Volumes/gizmobox/landing/operational_data/customers/customers_2024_11.json",
          "customers_2024_11.json",
          3327,
          0,
          3327,
          "2025-05-19T17:42:47Z"
         ]
        ],
        [
         "2024-11-09 20:24:30",
         7803,
         "Katherine Lee",
         "2000-03-09",
         "jennifer85@mail.com",
         "2024-10-27",
         "+1 3119886866",
         [
          "dbfs:/Volumes/gizmobox/landing/operational_data/customers/customers_2024_11.json",
          "customers_2024_11.json",
          3327,
          0,
          3327,
          "2025-05-19T17:42:47Z"
         ]
        ],
        [
         "2024-11-24 11:14:03",
         3712,
         "Robin Chavez",
         "1997-03-16",
         "lisa15@gmail.com",
         "2024-11-24",
         "+1 2654756919",
         [
          "dbfs:/Volumes/gizmobox/landing/operational_data/customers/customers_2024_11.json",
          "customers_2024_11.json",
          3327,
          0,
          3327,
          "2025-05-19T17:42:47Z"
         ]
        ],
        [
         "2024-11-23 11:14:03",
         null,
         "Andrew Taylor",
         "1996-01-11",
         "andrew.taylor@gmail.com",
         "2024-11-21",
         "+1 1235447333",
         [
          "dbfs:/Volumes/gizmobox/landing/operational_data/customers/customers_2024_11.json",
          "customers_2024_11.json",
          3327,
          0,
          3327,
          "2025-05-19T17:42:47Z"
         ]
        ],
        [
         "2024-11-03 17:22:56",
         2054,
         "Alan Price",
         "1998-08-25",
         "connor40@yahoo.com",
         "2024-10-14",
         "+1 3745642936",
         [
          "dbfs:/Volumes/gizmobox/landing/operational_data/customers/customers_2024_11.json",
          "customers_2024_11.json",
          3327,
          0,
          3327,
          "2025-05-19T17:42:47Z"
         ]
        ],
        [
         "2024-11-09 07:14:17",
         7123,
         "Edgar Stevens",
         "2003-02-15",
         "kevin68@example.org",
         "2024-10-27",
         "+1 0793189847",
         [
          "dbfs:/Volumes/gizmobox/landing/operational_data/customers/customers_2024_11.json",
          "customers_2024_11.json",
          3327,
          0,
          3327,
          "2025-05-19T17:42:47Z"
         ]
        ],
        [
         "2024-11-27 12:56:20",
         4996,
         "Brandon Reed",
         "1997-05-11",
         "handerson@barker.info",
         "2024-11-06",
         "+43 2750540511",
         [
          "dbfs:/Volumes/gizmobox/landing/operational_data/customers/customers_2024_11.json",
          "customers_2024_11.json",
          3327,
          0,
          3327,
          "2025-05-19T17:42:47Z"
         ]
        ],
        [
         "2024-12-25 11:06:35",
         6973,
         "Tracy Cole",
         "1998-07-24",
         "tony46@mail.com",
         "2024-12-16",
         "+1 5515836612",
         [
          "dbfs:/Volumes/gizmobox/landing/operational_data/customers/customers_2024_12.json",
          "customers_2024_12.json",
          3081,
          0,
          3081,
          "2025-05-19T17:42:47Z"
         ]
        ],
        [
         "2024-12-26 09:29:16",
         3532,
         "Holly Wilkinson",
         "2003-03-06",
         "lindsey61@yahoo.com",
         "2024-12-22",
         null,
         [
          "dbfs:/Volumes/gizmobox/landing/operational_data/customers/customers_2024_12.json",
          "customers_2024_12.json",
          3081,
          0,
          3081,
          "2025-05-19T17:42:47Z"
         ]
        ],
        [
         "2024-12-16 16:54:10",
         1211,
         "Jeremy Ball",
         "2002-03-26",
         "megan86@yahoo.com",
         "2024-12-01",
         "+1 5793543882",
         [
          "dbfs:/Volumes/gizmobox/landing/operational_data/customers/customers_2024_12.json",
          "customers_2024_12.json",
          3081,
          0,
          3081,
          "2025-05-19T17:42:47Z"
         ]
        ],
        [
         "2024-12-07 18:09:58",
         7829,
         "Daniel Black",
         "1998-04-13",
         "sandra54@example.org",
         "2024-11-16",
         "+1 0933795082",
         [
          "dbfs:/Volumes/gizmobox/landing/operational_data/customers/customers_2024_12.json",
          "customers_2024_12.json",
          3081,
          0,
          3081,
          "2025-05-19T17:42:47Z"
         ]
        ],
        [
         "2024-12-24 14:46:04",
         6384,
         "Jennifer Carrillo",
         "1994-12-18",
         "james34@yahoo.com",
         "2024-12-22",
         "+1 5592179843",
         [
          "dbfs:/Volumes/gizmobox/landing/operational_data/customers/customers_2024_12.json",
          "customers_2024_12.json",
          3081,
          0,
          3081,
          "2025-05-19T17:42:47Z"
         ]
        ],
        [
         "2024-12-21 07:08:28",
         2639,
         "Jessica Deleon",
         "1995-06-04",
         "jeremiah96@gmail.com",
         "2024-11-22",
         "+1 1304435999",
         [
          "dbfs:/Volumes/gizmobox/landing/operational_data/customers/customers_2024_12.json",
          "customers_2024_12.json",
          3081,
          0,
          3081,
          "2025-05-19T17:42:47Z"
         ]
        ],
        [
         "2024-12-20 12:32:29",
         3084,
         "Tyler Simmons",
         "2003-02-20",
         "brian94@mail.com",
         "2024-12-02",
         null,
         [
          "dbfs:/Volumes/gizmobox/landing/operational_data/customers/customers_2024_12.json",
          "customers_2024_12.json",
          3081,
          0,
          3081,
          "2025-05-19T17:42:47Z"
         ]
        ],
        [
         "2024-12-22 23:00:48",
         7997,
         "Patricia Abbott",
         "1997-07-31",
         "angela97@mail.com",
         "2024-11-28",
         "+1 4053366448",
         [
          "dbfs:/Volumes/gizmobox/landing/operational_data/customers/customers_2024_12.json",
          "customers_2024_12.json",
          3081,
          0,
          3081,
          "2025-05-19T17:42:47Z"
         ]
        ],
        [
         "2024-12-05 08:58:52",
         9687,
         "Micheal Perez MD",
         "2002-07-18",
         "christopher65@example.org",
         "2024-11-22",
         "+1 3079718622",
         [
          "dbfs:/Volumes/gizmobox/landing/operational_data/customers/customers_2024_12.json",
          "customers_2024_12.json",
          3081,
          0,
          3081,
          "2025-05-19T17:42:47Z"
         ]
        ],
        [
         "2024-12-17 15:05:15",
         2141,
         "Zachary Lopez",
         "2002-09-20",
         "glenn87@example.org",
         "2024-12-14",
         "+1 7431190983",
         [
          "dbfs:/Volumes/gizmobox/landing/operational_data/customers/customers_2024_12.json",
          "customers_2024_12.json",
          3081,
          0,
          3081,
          "2025-05-19T17:42:47Z"
         ]
        ],
        [
         "2024-12-04 13:16:03",
         5592,
         "Richard Neal",
         "1995-11-05",
         "eric52@gmail.com",
         "2024-11-15",
         "+1 4425187397",
         [
          "dbfs:/Volumes/gizmobox/landing/operational_data/customers/customers_2024_12.json",
          "customers_2024_12.json",
          3081,
          0,
          3081,
          "2025-05-19T17:42:47Z"
         ]
        ],
        [
         "2024-12-13 14:23:27",
         6406,
         "Christopher Ritter",
         "2004-07-12",
         null,
         "2024-11-24",
         "+1 1752511241",
         [
          "dbfs:/Volumes/gizmobox/landing/operational_data/customers/customers_2024_12.json",
          "customers_2024_12.json",
          3081,
          0,
          3081,
          "2025-05-19T17:42:47Z"
         ]
        ],
        [
         "2024-12-16 16:54:10",
         1211,
         "Jeremy Ball",
         "2002-03-26",
         "megan86@yahoo.com",
         "2024-12-01",
         "+1 5793543882",
         [
          "dbfs:/Volumes/gizmobox/landing/operational_data/customers/customers_2024_12.json",
          "customers_2024_12.json",
          3081,
          0,
          3081,
          "2025-05-19T17:42:47Z"
         ]
        ],
        [
         "2024-12-22 23:00:48",
         7997,
         "Patricia Abbott",
         "1997-07-31",
         "angela97@mail.com",
         "2024-11-28",
         "+1 4053366448",
         [
          "dbfs:/Volumes/gizmobox/landing/operational_data/customers/customers_2024_12.json",
          "customers_2024_12.json",
          3081,
          0,
          3081,
          "2025-05-19T17:42:47Z"
         ]
        ],
        [
         "2025-01-05 17:29:34",
         7007,
         "Joe Castaneda",
         "1999-04-27",
         "michael34@mail.com",
         "2024-12-31",
         "+1 1767970338",
         [
          "dbfs:/Volumes/gizmobox/landing/operational_data/customers/customers_2025_01.json",
          "customers_2025_01.json",
          2868,
          0,
          2868,
          "2025-05-19T17:42:47Z"
         ]
        ],
        [
         "2025-01-17 15:59:39",
         5953,
         "Kevin Harris",
         "2003-01-23",
         "timothy99@mail.com",
         "2024-12-31",
         "+1 6517763640",
         [
          "dbfs:/Volumes/gizmobox/landing/operational_data/customers/customers_2025_01.json",
          "customers_2025_01.json",
          2868,
          0,
          2868,
          "2025-05-19T17:42:47Z"
         ]
        ],
        [
         "2025-01-12 20:13:31",
         4996,
         "Brandon Reed",
         "1997-05-11",
         "stacey71@yahoo.com",
         "2024-12-13",
         null,
         [
          "dbfs:/Volumes/gizmobox/landing/operational_data/customers/customers_2025_01.json",
          "customers_2025_01.json",
          2868,
          0,
          2868,
          "2025-05-19T17:42:47Z"
         ]
        ],
        [
         "2025-01-14 13:30:57",
         9605,
         "Tiffany Rocha",
         "2003-04-25",
         "michael82@yahoo.com",
         "2024-12-22",
         "+1 6232811506",
         [
          "dbfs:/Volumes/gizmobox/landing/operational_data/customers/customers_2025_01.json",
          "customers_2025_01.json",
          2868,
          0,
          2868,
          "2025-05-19T17:42:47Z"
         ]
        ],
        [
         "2025-01-16 21:17:22",
         8845,
         "Joseph Robbins",
         "1997-04-04",
         "derek53@yahoo.com",
         "2025-01-12",
         "+1 9513893820",
         [
          "dbfs:/Volumes/gizmobox/landing/operational_data/customers/customers_2025_01.json",
          "customers_2025_01.json",
          2868,
          0,
          2868,
          "2025-05-19T17:42:47Z"
         ]
        ],
        [
         "2025-01-26 09:46:03",
         4973,
         "Daniel Thompson",
         "1999-07-17",
         "connor32@example.org",
         "2024-12-27",
         "+1 5823046206",
         [
          "dbfs:/Volumes/gizmobox/landing/operational_data/customers/customers_2025_01.json",
          "customers_2025_01.json",
          2868,
          0,
          2868,
          "2025-05-19T17:42:47Z"
         ]
        ],
        [
         "2025-01-25 13:28:31",
         3889,
         "Jennifer Jackson",
         "1995-10-30",
         "catherine77@example.org",
         "2025-01-07",
         "+1 5932456755",
         [
          "dbfs:/Volumes/gizmobox/landing/operational_data/customers/customers_2025_01.json",
          "customers_2025_01.json",
          2868,
          0,
          2868,
          "2025-05-19T17:42:47Z"
         ]
        ],
        [
         "2025-01-14 18:31:28",
         6167,
         "Leslie Smith",
         "2001-10-28",
         "angela16@mail.com",
         "2024-12-16",
         "+1 2978446880",
         [
          "dbfs:/Volumes/gizmobox/landing/operational_data/customers/customers_2025_01.json",
          "customers_2025_01.json",
          2868,
          0,
          2868,
          "2025-05-19T17:42:47Z"
         ]
        ],
        [
         "2025-01-17 07:50:48",
         3295,
         "Drew Hanson",
         "1996-11-21",
         "cathy31@gmail.com",
         "2025-01-01",
         "+1 6521792889",
         [
          "dbfs:/Volumes/gizmobox/landing/operational_data/customers/customers_2025_01.json",
          "customers_2025_01.json",
          2868,
          0,
          2868,
          "2025-05-19T17:42:47Z"
         ]
        ],
        [
         "2025-01-03 03:28:34",
         9084,
         "Olivia Lyons",
         "1997-06-17",
         "patty47@outlook.com",
         "2024-12-16",
         "+1 2909899135",
         [
          "dbfs:/Volumes/gizmobox/landing/operational_data/customers/customers_2025_01.json",
          "customers_2025_01.json",
          2868,
          0,
          2868,
          "2025-05-19T17:42:47Z"
         ]
        ],
        [
         "2025-01-23 02:07:26",
         9150,
         "Alison Davis",
         "2004-01-17",
         "jacob31@yahoo.com",
         "2024-12-26",
         "+1 7119851149",
         [
          "dbfs:/Volumes/gizmobox/landing/operational_data/customers/customers_2025_01.json",
          "customers_2025_01.json",
          2868,
          0,
          2868,
          "2025-05-19T17:42:47Z"
         ]
        ],
        [
         "2025-01-14 13:30:57",
         9605,
         "Tiffany Rocha",
         "2003-04-25",
         "michael82@yahoo.com",
         "2024-12-22",
         "+1 6232811506",
         [
          "dbfs:/Volumes/gizmobox/landing/operational_data/customers/customers_2025_01.json",
          "customers_2025_01.json",
          2868,
          0,
          2868,
          "2025-05-19T17:42:47Z"
         ]
        ],
        [
         "2025-01-12 20:13:31",
         4996,
         "Brandon Reed",
         "1997-05-11",
         "stacey71@yahoo.com",
         "2024-12-13",
         null,
         [
          "dbfs:/Volumes/gizmobox/landing/operational_data/customers/customers_2025_01.json",
          "customers_2025_01.json",
          2868,
          0,
          2868,
          "2025-05-19T17:42:47Z"
         ]
        ]
       ],
       "datasetInfos": [],
       "dbfsResultPath": null,
       "isJsonSchema": true,
       "metadata": {},
       "overflow": false,
       "plotOptions": {
        "customPlotOptions": {},
        "displayType": "table",
        "pivotAggregation": null,
        "pivotColumns": null,
        "xColumns": null,
        "yColumns": null
       },
       "removedWidgets": [],
       "schema": [
        {
         "metadata": "{}",
         "name": "created_timestamp",
         "type": "\"string\""
        },
        {
         "metadata": "{}",
         "name": "customer_id",
         "type": "\"long\""
        },
        {
         "metadata": "{}",
         "name": "customer_name",
         "type": "\"string\""
        },
        {
         "metadata": "{}",
         "name": "date_of_birth",
         "type": "\"string\""
        },
        {
         "metadata": "{}",
         "name": "email",
         "type": "\"string\""
        },
        {
         "metadata": "{}",
         "name": "member_since",
         "type": "\"string\""
        },
        {
         "metadata": "{}",
         "name": "telephone",
         "type": "\"string\""
        },
        {
         "metadata": "{\"__metadata_col\":\"_metadata\",\"__file_source_metadata_col\":true}",
         "name": "file_path",
         "type": "{\"type\":\"struct\",\"fields\":[{\"name\":\"file_path\",\"type\":\"string\",\"nullable\":false,\"metadata\":{}},{\"name\":\"file_name\",\"type\":\"string\",\"nullable\":false,\"metadata\":{}},{\"name\":\"file_size\",\"type\":\"long\",\"nullable\":false,\"metadata\":{}},{\"name\":\"file_block_start\",\"type\":\"long\",\"nullable\":false,\"metadata\":{}},{\"name\":\"file_block_length\",\"type\":\"long\",\"nullable\":false,\"metadata\":{}},{\"name\":\"file_modification_time\",\"type\":\"timestamp\",\"nullable\":false,\"metadata\":{}}]}"
        }
       ],
       "type": "table"
      }
     },
     "output_type": "display_data"
    }
   ],
   "source": [
    " SELECT *, _metadata as file_path FROM json.`/Volumes/gizmobox/landing/operational_data/customers`"
   ]
  },
  {
   "cell_type": "code",
   "execution_count": 0,
   "metadata": {
    "application/vnd.databricks.v1+cell": {
     "cellMetadata": {
      "byteLimit": 2048000,
      "rowLimit": 10000
     },
     "inputWidgets": {},
     "nuid": "4139f394-2674-4e3b-a350-f631d1ecd534",
     "showTitle": false,
     "tableResultSettingsMap": {},
     "title": ""
    }
   },
   "outputs": [
    {
     "output_type": "display_data",
     "data": {
      "text/html": [
       "<style scoped>\n",
       "  .table-result-container {\n",
       "    max-height: 300px;\n",
       "    overflow: auto;\n",
       "  }\n",
       "  table, th, td {\n",
       "    border: 1px solid black;\n",
       "    border-collapse: collapse;\n",
       "  }\n",
       "  th, td {\n",
       "    padding: 5px;\n",
       "  }\n",
       "  th {\n",
       "    text-align: left;\n",
       "  }\n",
       "</style><div class='table-result-container'><table class='table-result'><thead style='background-color: white'><tr><th>created_timestamp</th><th>customer_id</th><th>customer_name</th><th>date_of_birth</th><th>email</th><th>member_since</th><th>telephone</th><th>file_path</th></tr></thead><tbody><tr><td>2024-10-17 16:12:27</td><td>9179</td><td>Richard Cox</td><td>1996-10-25</td><td>devon84@mail.com</td><td>2024-09-26</td><td>+1 6680703335</td><td>dbfs:/Volumes/gizmobox/landing/operational_data/customers/customers_2024_10.json</td></tr><tr><td>2024-10-01 00:50:29</td><td>4858</td><td>Carla Morton</td><td>2004-06-21</td><td>joseph88@mail.com</td><td>2024-09-15</td><td>+1 8616454195</td><td>dbfs:/Volumes/gizmobox/landing/operational_data/customers/customers_2024_10.json</td></tr><tr><td>2024-10-23 22:03:08</td><td>7207</td><td>Billy Scott</td><td>1997-03-17</td><td>christopher30@mail.com</td><td>2024-09-23</td><td>+1 5544387564</td><td>dbfs:/Volumes/gizmobox/landing/operational_data/customers/customers_2024_10.json</td></tr><tr><td>2024-10-12 06:02:27</td><td>8539</td><td>Lori Mason</td><td>2002-11-01</td><td>stephanie7@mail.com</td><td>2024-09-12</td><td>+1 0498301620</td><td>dbfs:/Volumes/gizmobox/landing/operational_data/customers/customers_2024_10.json</td></tr><tr><td>2024-10-24 13:03:13</td><td>9706</td><td>Jennifer Haas</td><td>2001-04-03</td><td>benjamin55@mail.com</td><td>2024-10-05</td><td>+1 4725460000</td><td>dbfs:/Volumes/gizmobox/landing/operational_data/customers/customers_2024_10.json</td></tr><tr><td>2024-10-08 22:49:25</td><td>9263</td><td>Joseph Keller</td><td>2003-02-11</td><td>null</td><td>2024-10-04</td><td>+1 3817867756</td><td>dbfs:/Volumes/gizmobox/landing/operational_data/customers/customers_2024_10.json</td></tr><tr><td>2024-10-06 19:55:52</td><td>5028</td><td>Jessica Harris</td><td>2004-04-19</td><td>null</td><td>2024-09-10</td><td>+1 8604009935</td><td>dbfs:/Volumes/gizmobox/landing/operational_data/customers/customers_2024_10.json</td></tr><tr><td>2024-10-18 23:24:52</td><td>9018</td><td>William Carter</td><td>2003-09-05</td><td>james70@gmail.com</td><td>2024-10-08</td><td>+1 1448753611</td><td>dbfs:/Volumes/gizmobox/landing/operational_data/customers/customers_2024_10.json</td></tr><tr><td>2024-10-21 13:20:26</td><td>8580</td><td>Shannon Austin</td><td>2002-03-22</td><td>john30@gmail.com</td><td>2024-10-07</td><td>+1 4594705629</td><td>dbfs:/Volumes/gizmobox/landing/operational_data/customers/customers_2024_10.json</td></tr><tr><td>2024-10-02 14:53:40</td><td>3409</td><td>Andrew Phillips</td><td>2003-04-17</td><td>peter73@yahoo.com</td><td>2024-09-30</td><td>+1 4079273853</td><td>dbfs:/Volumes/gizmobox/landing/operational_data/customers/customers_2024_10.json</td></tr><tr><td>2024-10-26 15:14:33</td><td>2344</td><td>Martin Thomas DDS</td><td>2002-05-01</td><td>billy42@outlook.com</td><td>2024-10-13</td><td>+1 0201457151</td><td>dbfs:/Volumes/gizmobox/landing/operational_data/customers/customers_2024_10.json</td></tr><tr><td>2024-10-15 02:48:29</td><td>5011</td><td>Rachel Thomas</td><td>2003-02-17</td><td>lauren59@yahoo.com</td><td>2024-09-24</td><td>+1 5437271621</td><td>dbfs:/Volumes/gizmobox/landing/operational_data/customers/customers_2024_10.json</td></tr><tr><td>2024-10-28 00:57:09</td><td>9247</td><td>Dr. Daniel Hall</td><td>2004-03-21</td><td>tamara30@gmail.com</td><td>2024-10-03</td><td>+1 7544137170</td><td>dbfs:/Volumes/gizmobox/landing/operational_data/customers/customers_2024_10.json</td></tr><tr><td>2024-10-22 05:52:57</td><td>6627</td><td>Candice Rosales</td><td>2004-04-03</td><td>amber79@example.org</td><td>2024-10-15</td><td>+1 4788451559</td><td>dbfs:/Volumes/gizmobox/landing/operational_data/customers/customers_2024_10.json</td></tr><tr><td>2024-10-06 19:55:52</td><td>5028</td><td>Jessica Harris</td><td>2004-04-19</td><td>null</td><td>2024-09-10</td><td>+1 8604009935</td><td>dbfs:/Volumes/gizmobox/landing/operational_data/customers/customers_2024_10.json</td></tr><tr><td>2024-10-08 03:30:53</td><td>5816</td><td>Amy Morales</td><td>1999-12-11</td><td>daniel12@hotmail.com</td><td>2024-09-17</td><td>+46 4407385044</td><td>dbfs:/Volumes/gizmobox/landing/operational_data/customers/customers_2024_10.json</td></tr><tr><td>2024-10-15 01:27:54</td><td>9247</td><td>Dr. Daniel Hall</td><td>2004-03-21</td><td>sheena11@alexander.com</td><td>2024-09-15</td><td>+46 7281991017</td><td>dbfs:/Volumes/gizmobox/landing/operational_data/customers/customers_2024_10.json</td></tr><tr><td>2024-10-09 18:54:00</td><td>3889</td><td>Jennifer Jackson</td><td>1995-10-30</td><td>null</td><td>2024-09-16</td><td>+68 2276996612</td><td>dbfs:/Volumes/gizmobox/landing/operational_data/customers/customers_2024_10.json</td></tr><tr><td>2024-10-10 16:53:44</td><td>9084</td><td>Olivia Lyons</td><td>1997-06-17</td><td>johnsonmichael@yahoo.com</td><td>2024-09-26</td><td>null</td><td>dbfs:/Volumes/gizmobox/landing/operational_data/customers/customers_2024_10.json</td></tr><tr><td>2024-10-19 11:53:44</td><td>null</td><td>John Smith</td><td>1998-01-19</td><td>john.smith@outlook.com</td><td>2024-07-16</td><td>+1 8762342456</td><td>dbfs:/Volumes/gizmobox/landing/operational_data/customers/customers_2024_10.json</td></tr><tr><td>2024-11-14 20:41:18</td><td>3892</td><td>Jason Bridges</td><td>2004-01-01</td><td>nicole29@gmail.com</td><td>2024-10-29</td><td>+1 8220011928</td><td>dbfs:/Volumes/gizmobox/landing/operational_data/customers/customers_2024_11.json</td></tr><tr><td>2024-11-16 01:47:25</td><td>1987</td><td>Amanda Alvarez</td><td>1995-10-11</td><td>eric40@outlook.com</td><td>2024-10-27</td><td>+1 9673066300</td><td>dbfs:/Volumes/gizmobox/landing/operational_data/customers/customers_2024_11.json</td></tr><tr><td>2024-11-19 14:03:09</td><td>5816</td><td>Amy Morales</td><td>1999-12-11</td><td>katelyn82@example.org</td><td>2024-11-04</td><td>+1 4140982719</td><td>dbfs:/Volumes/gizmobox/landing/operational_data/customers/customers_2024_11.json</td></tr><tr><td>2024-11-09 14:52:31</td><td>5204</td><td>Jennifer Nichols DDS</td><td>1997-02-17</td><td>joseph8@example.org</td><td>2024-11-04</td><td>+1 0383356328</td><td>dbfs:/Volumes/gizmobox/landing/operational_data/customers/customers_2024_11.json</td></tr><tr><td>2024-11-23 18:16:18</td><td>4468</td><td>Mrs. Roberta Salas PhD</td><td>1997-05-10</td><td>null</td><td>2024-10-25</td><td>+1 4679955118</td><td>dbfs:/Volumes/gizmobox/landing/operational_data/customers/customers_2024_11.json</td></tr><tr><td>2024-11-14 16:41:14</td><td>4761</td><td>Timothy Smith</td><td>1996-11-07</td><td>joshua40@yahoo.com</td><td>2024-11-03</td><td>+1 9450920858</td><td>dbfs:/Volumes/gizmobox/landing/operational_data/customers/customers_2024_11.json</td></tr><tr><td>2024-11-07 22:20:00</td><td>2703</td><td>Anthony Miller</td><td>1997-11-02</td><td>null</td><td>2024-11-05</td><td>+1 1586310752</td><td>dbfs:/Volumes/gizmobox/landing/operational_data/customers/customers_2024_11.json</td></tr><tr><td>2024-11-12 12:57:38</td><td>4914</td><td>Samantha Johnson</td><td>1997-03-26</td><td>theresa14@mail.com</td><td>2024-10-13</td><td>+1 4095003738</td><td>dbfs:/Volumes/gizmobox/landing/operational_data/customers/customers_2024_11.json</td></tr><tr><td>2024-11-08 02:26:42</td><td>7295</td><td>Lauren Reed</td><td>2001-08-11</td><td>jeanette48@example.org</td><td>2024-10-10</td><td>+1 0104088765</td><td>dbfs:/Volumes/gizmobox/landing/operational_data/customers/customers_2024_11.json</td></tr><tr><td>2024-11-09 20:24:30</td><td>7803</td><td>Katherine Lee</td><td>2000-03-09</td><td>jennifer85@mail.com</td><td>2024-10-27</td><td>+1 3119886866</td><td>dbfs:/Volumes/gizmobox/landing/operational_data/customers/customers_2024_11.json</td></tr><tr><td>2024-11-24 11:14:03</td><td>3712</td><td>Robin Chavez</td><td>1997-03-16</td><td>lisa15@gmail.com</td><td>2024-11-24</td><td>+1 2654756919</td><td>dbfs:/Volumes/gizmobox/landing/operational_data/customers/customers_2024_11.json</td></tr><tr><td>2024-11-23 11:14:03</td><td>null</td><td>Andrew Taylor</td><td>1996-01-11</td><td>andrew.taylor@gmail.com</td><td>2024-11-21</td><td>+1 1235447333</td><td>dbfs:/Volumes/gizmobox/landing/operational_data/customers/customers_2024_11.json</td></tr><tr><td>2024-11-03 17:22:56</td><td>2054</td><td>Alan Price</td><td>1998-08-25</td><td>connor40@yahoo.com</td><td>2024-10-14</td><td>+1 3745642936</td><td>dbfs:/Volumes/gizmobox/landing/operational_data/customers/customers_2024_11.json</td></tr><tr><td>2024-11-09 07:14:17</td><td>7123</td><td>Edgar Stevens</td><td>2003-02-15</td><td>kevin68@example.org</td><td>2024-10-27</td><td>+1 0793189847</td><td>dbfs:/Volumes/gizmobox/landing/operational_data/customers/customers_2024_11.json</td></tr><tr><td>2024-11-27 12:56:20</td><td>4996</td><td>Brandon Reed</td><td>1997-05-11</td><td>handerson@barker.info</td><td>2024-11-06</td><td>+43 2750540511</td><td>dbfs:/Volumes/gizmobox/landing/operational_data/customers/customers_2024_11.json</td></tr><tr><td>2024-12-25 11:06:35</td><td>6973</td><td>Tracy Cole</td><td>1998-07-24</td><td>tony46@mail.com</td><td>2024-12-16</td><td>+1 5515836612</td><td>dbfs:/Volumes/gizmobox/landing/operational_data/customers/customers_2024_12.json</td></tr><tr><td>2024-12-26 09:29:16</td><td>3532</td><td>Holly Wilkinson</td><td>2003-03-06</td><td>lindsey61@yahoo.com</td><td>2024-12-22</td><td>null</td><td>dbfs:/Volumes/gizmobox/landing/operational_data/customers/customers_2024_12.json</td></tr><tr><td>2024-12-16 16:54:10</td><td>1211</td><td>Jeremy Ball</td><td>2002-03-26</td><td>megan86@yahoo.com</td><td>2024-12-01</td><td>+1 5793543882</td><td>dbfs:/Volumes/gizmobox/landing/operational_data/customers/customers_2024_12.json</td></tr><tr><td>2024-12-07 18:09:58</td><td>7829</td><td>Daniel Black</td><td>1998-04-13</td><td>sandra54@example.org</td><td>2024-11-16</td><td>+1 0933795082</td><td>dbfs:/Volumes/gizmobox/landing/operational_data/customers/customers_2024_12.json</td></tr><tr><td>2024-12-24 14:46:04</td><td>6384</td><td>Jennifer Carrillo</td><td>1994-12-18</td><td>james34@yahoo.com</td><td>2024-12-22</td><td>+1 5592179843</td><td>dbfs:/Volumes/gizmobox/landing/operational_data/customers/customers_2024_12.json</td></tr><tr><td>2024-12-21 07:08:28</td><td>2639</td><td>Jessica Deleon</td><td>1995-06-04</td><td>jeremiah96@gmail.com</td><td>2024-11-22</td><td>+1 1304435999</td><td>dbfs:/Volumes/gizmobox/landing/operational_data/customers/customers_2024_12.json</td></tr><tr><td>2024-12-20 12:32:29</td><td>3084</td><td>Tyler Simmons</td><td>2003-02-20</td><td>brian94@mail.com</td><td>2024-12-02</td><td>null</td><td>dbfs:/Volumes/gizmobox/landing/operational_data/customers/customers_2024_12.json</td></tr><tr><td>2024-12-22 23:00:48</td><td>7997</td><td>Patricia Abbott</td><td>1997-07-31</td><td>angela97@mail.com</td><td>2024-11-28</td><td>+1 4053366448</td><td>dbfs:/Volumes/gizmobox/landing/operational_data/customers/customers_2024_12.json</td></tr><tr><td>2024-12-05 08:58:52</td><td>9687</td><td>Micheal Perez MD</td><td>2002-07-18</td><td>christopher65@example.org</td><td>2024-11-22</td><td>+1 3079718622</td><td>dbfs:/Volumes/gizmobox/landing/operational_data/customers/customers_2024_12.json</td></tr><tr><td>2024-12-17 15:05:15</td><td>2141</td><td>Zachary Lopez</td><td>2002-09-20</td><td>glenn87@example.org</td><td>2024-12-14</td><td>+1 7431190983</td><td>dbfs:/Volumes/gizmobox/landing/operational_data/customers/customers_2024_12.json</td></tr><tr><td>2024-12-04 13:16:03</td><td>5592</td><td>Richard Neal</td><td>1995-11-05</td><td>eric52@gmail.com</td><td>2024-11-15</td><td>+1 4425187397</td><td>dbfs:/Volumes/gizmobox/landing/operational_data/customers/customers_2024_12.json</td></tr><tr><td>2024-12-13 14:23:27</td><td>6406</td><td>Christopher Ritter</td><td>2004-07-12</td><td>null</td><td>2024-11-24</td><td>+1 1752511241</td><td>dbfs:/Volumes/gizmobox/landing/operational_data/customers/customers_2024_12.json</td></tr><tr><td>2024-12-16 16:54:10</td><td>1211</td><td>Jeremy Ball</td><td>2002-03-26</td><td>megan86@yahoo.com</td><td>2024-12-01</td><td>+1 5793543882</td><td>dbfs:/Volumes/gizmobox/landing/operational_data/customers/customers_2024_12.json</td></tr><tr><td>2024-12-22 23:00:48</td><td>7997</td><td>Patricia Abbott</td><td>1997-07-31</td><td>angela97@mail.com</td><td>2024-11-28</td><td>+1 4053366448</td><td>dbfs:/Volumes/gizmobox/landing/operational_data/customers/customers_2024_12.json</td></tr><tr><td>2025-01-05 17:29:34</td><td>7007</td><td>Joe Castaneda</td><td>1999-04-27</td><td>michael34@mail.com</td><td>2024-12-31</td><td>+1 1767970338</td><td>dbfs:/Volumes/gizmobox/landing/operational_data/customers/customers_2025_01.json</td></tr><tr><td>2025-01-17 15:59:39</td><td>5953</td><td>Kevin Harris</td><td>2003-01-23</td><td>timothy99@mail.com</td><td>2024-12-31</td><td>+1 6517763640</td><td>dbfs:/Volumes/gizmobox/landing/operational_data/customers/customers_2025_01.json</td></tr><tr><td>2025-01-12 20:13:31</td><td>4996</td><td>Brandon Reed</td><td>1997-05-11</td><td>stacey71@yahoo.com</td><td>2024-12-13</td><td>null</td><td>dbfs:/Volumes/gizmobox/landing/operational_data/customers/customers_2025_01.json</td></tr><tr><td>2025-01-14 13:30:57</td><td>9605</td><td>Tiffany Rocha</td><td>2003-04-25</td><td>michael82@yahoo.com</td><td>2024-12-22</td><td>+1 6232811506</td><td>dbfs:/Volumes/gizmobox/landing/operational_data/customers/customers_2025_01.json</td></tr><tr><td>2025-01-16 21:17:22</td><td>8845</td><td>Joseph Robbins</td><td>1997-04-04</td><td>derek53@yahoo.com</td><td>2025-01-12</td><td>+1 9513893820</td><td>dbfs:/Volumes/gizmobox/landing/operational_data/customers/customers_2025_01.json</td></tr><tr><td>2025-01-26 09:46:03</td><td>4973</td><td>Daniel Thompson</td><td>1999-07-17</td><td>connor32@example.org</td><td>2024-12-27</td><td>+1 5823046206</td><td>dbfs:/Volumes/gizmobox/landing/operational_data/customers/customers_2025_01.json</td></tr><tr><td>2025-01-25 13:28:31</td><td>3889</td><td>Jennifer Jackson</td><td>1995-10-30</td><td>catherine77@example.org</td><td>2025-01-07</td><td>+1 5932456755</td><td>dbfs:/Volumes/gizmobox/landing/operational_data/customers/customers_2025_01.json</td></tr><tr><td>2025-01-14 18:31:28</td><td>6167</td><td>Leslie Smith</td><td>2001-10-28</td><td>angela16@mail.com</td><td>2024-12-16</td><td>+1 2978446880</td><td>dbfs:/Volumes/gizmobox/landing/operational_data/customers/customers_2025_01.json</td></tr><tr><td>2025-01-17 07:50:48</td><td>3295</td><td>Drew Hanson</td><td>1996-11-21</td><td>cathy31@gmail.com</td><td>2025-01-01</td><td>+1 6521792889</td><td>dbfs:/Volumes/gizmobox/landing/operational_data/customers/customers_2025_01.json</td></tr><tr><td>2025-01-03 03:28:34</td><td>9084</td><td>Olivia Lyons</td><td>1997-06-17</td><td>patty47@outlook.com</td><td>2024-12-16</td><td>+1 2909899135</td><td>dbfs:/Volumes/gizmobox/landing/operational_data/customers/customers_2025_01.json</td></tr><tr><td>2025-01-23 02:07:26</td><td>9150</td><td>Alison Davis</td><td>2004-01-17</td><td>jacob31@yahoo.com</td><td>2024-12-26</td><td>+1 7119851149</td><td>dbfs:/Volumes/gizmobox/landing/operational_data/customers/customers_2025_01.json</td></tr><tr><td>2025-01-14 13:30:57</td><td>9605</td><td>Tiffany Rocha</td><td>2003-04-25</td><td>michael82@yahoo.com</td><td>2024-12-22</td><td>+1 6232811506</td><td>dbfs:/Volumes/gizmobox/landing/operational_data/customers/customers_2025_01.json</td></tr><tr><td>2025-01-12 20:13:31</td><td>4996</td><td>Brandon Reed</td><td>1997-05-11</td><td>stacey71@yahoo.com</td><td>2024-12-13</td><td>null</td><td>dbfs:/Volumes/gizmobox/landing/operational_data/customers/customers_2025_01.json</td></tr></tbody></table></div>"
      ]
     },
     "metadata": {
      "application/vnd.databricks.v1+output": {
       "addedWidgets": {},
       "aggData": [],
       "aggError": "",
       "aggOverflow": false,
       "aggSchema": [],
       "aggSeriesLimitReached": false,
       "aggType": "",
       "arguments": {},
       "columnCustomDisplayInfos": {},
       "data": [
        [
         "2024-10-17 16:12:27",
         9179,
         "Richard Cox",
         "1996-10-25",
         "devon84@mail.com",
         "2024-09-26",
         "+1 6680703335",
         "dbfs:/Volumes/gizmobox/landing/operational_data/customers/customers_2024_10.json"
        ],
        [
         "2024-10-01 00:50:29",
         4858,
         "Carla Morton",
         "2004-06-21",
         "joseph88@mail.com",
         "2024-09-15",
         "+1 8616454195",
         "dbfs:/Volumes/gizmobox/landing/operational_data/customers/customers_2024_10.json"
        ],
        [
         "2024-10-23 22:03:08",
         7207,
         "Billy Scott",
         "1997-03-17",
         "christopher30@mail.com",
         "2024-09-23",
         "+1 5544387564",
         "dbfs:/Volumes/gizmobox/landing/operational_data/customers/customers_2024_10.json"
        ],
        [
         "2024-10-12 06:02:27",
         8539,
         "Lori Mason",
         "2002-11-01",
         "stephanie7@mail.com",
         "2024-09-12",
         "+1 0498301620",
         "dbfs:/Volumes/gizmobox/landing/operational_data/customers/customers_2024_10.json"
        ],
        [
         "2024-10-24 13:03:13",
         9706,
         "Jennifer Haas",
         "2001-04-03",
         "benjamin55@mail.com",
         "2024-10-05",
         "+1 4725460000",
         "dbfs:/Volumes/gizmobox/landing/operational_data/customers/customers_2024_10.json"
        ],
        [
         "2024-10-08 22:49:25",
         9263,
         "Joseph Keller",
         "2003-02-11",
         null,
         "2024-10-04",
         "+1 3817867756",
         "dbfs:/Volumes/gizmobox/landing/operational_data/customers/customers_2024_10.json"
        ],
        [
         "2024-10-06 19:55:52",
         5028,
         "Jessica Harris",
         "2004-04-19",
         null,
         "2024-09-10",
         "+1 8604009935",
         "dbfs:/Volumes/gizmobox/landing/operational_data/customers/customers_2024_10.json"
        ],
        [
         "2024-10-18 23:24:52",
         9018,
         "William Carter",
         "2003-09-05",
         "james70@gmail.com",
         "2024-10-08",
         "+1 1448753611",
         "dbfs:/Volumes/gizmobox/landing/operational_data/customers/customers_2024_10.json"
        ],
        [
         "2024-10-21 13:20:26",
         8580,
         "Shannon Austin",
         "2002-03-22",
         "john30@gmail.com",
         "2024-10-07",
         "+1 4594705629",
         "dbfs:/Volumes/gizmobox/landing/operational_data/customers/customers_2024_10.json"
        ],
        [
         "2024-10-02 14:53:40",
         3409,
         "Andrew Phillips",
         "2003-04-17",
         "peter73@yahoo.com",
         "2024-09-30",
         "+1 4079273853",
         "dbfs:/Volumes/gizmobox/landing/operational_data/customers/customers_2024_10.json"
        ],
        [
         "2024-10-26 15:14:33",
         2344,
         "Martin Thomas DDS",
         "2002-05-01",
         "billy42@outlook.com",
         "2024-10-13",
         "+1 0201457151",
         "dbfs:/Volumes/gizmobox/landing/operational_data/customers/customers_2024_10.json"
        ],
        [
         "2024-10-15 02:48:29",
         5011,
         "Rachel Thomas",
         "2003-02-17",
         "lauren59@yahoo.com",
         "2024-09-24",
         "+1 5437271621",
         "dbfs:/Volumes/gizmobox/landing/operational_data/customers/customers_2024_10.json"
        ],
        [
         "2024-10-28 00:57:09",
         9247,
         "Dr. Daniel Hall",
         "2004-03-21",
         "tamara30@gmail.com",
         "2024-10-03",
         "+1 7544137170",
         "dbfs:/Volumes/gizmobox/landing/operational_data/customers/customers_2024_10.json"
        ],
        [
         "2024-10-22 05:52:57",
         6627,
         "Candice Rosales",
         "2004-04-03",
         "amber79@example.org",
         "2024-10-15",
         "+1 4788451559",
         "dbfs:/Volumes/gizmobox/landing/operational_data/customers/customers_2024_10.json"
        ],
        [
         "2024-10-06 19:55:52",
         5028,
         "Jessica Harris",
         "2004-04-19",
         null,
         "2024-09-10",
         "+1 8604009935",
         "dbfs:/Volumes/gizmobox/landing/operational_data/customers/customers_2024_10.json"
        ],
        [
         "2024-10-08 03:30:53",
         5816,
         "Amy Morales",
         "1999-12-11",
         "daniel12@hotmail.com",
         "2024-09-17",
         "+46 4407385044",
         "dbfs:/Volumes/gizmobox/landing/operational_data/customers/customers_2024_10.json"
        ],
        [
         "2024-10-15 01:27:54",
         9247,
         "Dr. Daniel Hall",
         "2004-03-21",
         "sheena11@alexander.com",
         "2024-09-15",
         "+46 7281991017",
         "dbfs:/Volumes/gizmobox/landing/operational_data/customers/customers_2024_10.json"
        ],
        [
         "2024-10-09 18:54:00",
         3889,
         "Jennifer Jackson",
         "1995-10-30",
         null,
         "2024-09-16",
         "+68 2276996612",
         "dbfs:/Volumes/gizmobox/landing/operational_data/customers/customers_2024_10.json"
        ],
        [
         "2024-10-10 16:53:44",
         9084,
         "Olivia Lyons",
         "1997-06-17",
         "johnsonmichael@yahoo.com",
         "2024-09-26",
         null,
         "dbfs:/Volumes/gizmobox/landing/operational_data/customers/customers_2024_10.json"
        ],
        [
         "2024-10-19 11:53:44",
         null,
         "John Smith",
         "1998-01-19",
         "john.smith@outlook.com",
         "2024-07-16",
         "+1 8762342456",
         "dbfs:/Volumes/gizmobox/landing/operational_data/customers/customers_2024_10.json"
        ],
        [
         "2024-11-14 20:41:18",
         3892,
         "Jason Bridges",
         "2004-01-01",
         "nicole29@gmail.com",
         "2024-10-29",
         "+1 8220011928",
         "dbfs:/Volumes/gizmobox/landing/operational_data/customers/customers_2024_11.json"
        ],
        [
         "2024-11-16 01:47:25",
         1987,
         "Amanda Alvarez",
         "1995-10-11",
         "eric40@outlook.com",
         "2024-10-27",
         "+1 9673066300",
         "dbfs:/Volumes/gizmobox/landing/operational_data/customers/customers_2024_11.json"
        ],
        [
         "2024-11-19 14:03:09",
         5816,
         "Amy Morales",
         "1999-12-11",
         "katelyn82@example.org",
         "2024-11-04",
         "+1 4140982719",
         "dbfs:/Volumes/gizmobox/landing/operational_data/customers/customers_2024_11.json"
        ],
        [
         "2024-11-09 14:52:31",
         5204,
         "Jennifer Nichols DDS",
         "1997-02-17",
         "joseph8@example.org",
         "2024-11-04",
         "+1 0383356328",
         "dbfs:/Volumes/gizmobox/landing/operational_data/customers/customers_2024_11.json"
        ],
        [
         "2024-11-23 18:16:18",
         4468,
         "Mrs. Roberta Salas PhD",
         "1997-05-10",
         null,
         "2024-10-25",
         "+1 4679955118",
         "dbfs:/Volumes/gizmobox/landing/operational_data/customers/customers_2024_11.json"
        ],
        [
         "2024-11-14 16:41:14",
         4761,
         "Timothy Smith",
         "1996-11-07",
         "joshua40@yahoo.com",
         "2024-11-03",
         "+1 9450920858",
         "dbfs:/Volumes/gizmobox/landing/operational_data/customers/customers_2024_11.json"
        ],
        [
         "2024-11-07 22:20:00",
         2703,
         "Anthony Miller",
         "1997-11-02",
         null,
         "2024-11-05",
         "+1 1586310752",
         "dbfs:/Volumes/gizmobox/landing/operational_data/customers/customers_2024_11.json"
        ],
        [
         "2024-11-12 12:57:38",
         4914,
         "Samantha Johnson",
         "1997-03-26",
         "theresa14@mail.com",
         "2024-10-13",
         "+1 4095003738",
         "dbfs:/Volumes/gizmobox/landing/operational_data/customers/customers_2024_11.json"
        ],
        [
         "2024-11-08 02:26:42",
         7295,
         "Lauren Reed",
         "2001-08-11",
         "jeanette48@example.org",
         "2024-10-10",
         "+1 0104088765",
         "dbfs:/Volumes/gizmobox/landing/operational_data/customers/customers_2024_11.json"
        ],
        [
         "2024-11-09 20:24:30",
         7803,
         "Katherine Lee",
         "2000-03-09",
         "jennifer85@mail.com",
         "2024-10-27",
         "+1 3119886866",
         "dbfs:/Volumes/gizmobox/landing/operational_data/customers/customers_2024_11.json"
        ],
        [
         "2024-11-24 11:14:03",
         3712,
         "Robin Chavez",
         "1997-03-16",
         "lisa15@gmail.com",
         "2024-11-24",
         "+1 2654756919",
         "dbfs:/Volumes/gizmobox/landing/operational_data/customers/customers_2024_11.json"
        ],
        [
         "2024-11-23 11:14:03",
         null,
         "Andrew Taylor",
         "1996-01-11",
         "andrew.taylor@gmail.com",
         "2024-11-21",
         "+1 1235447333",
         "dbfs:/Volumes/gizmobox/landing/operational_data/customers/customers_2024_11.json"
        ],
        [
         "2024-11-03 17:22:56",
         2054,
         "Alan Price",
         "1998-08-25",
         "connor40@yahoo.com",
         "2024-10-14",
         "+1 3745642936",
         "dbfs:/Volumes/gizmobox/landing/operational_data/customers/customers_2024_11.json"
        ],
        [
         "2024-11-09 07:14:17",
         7123,
         "Edgar Stevens",
         "2003-02-15",
         "kevin68@example.org",
         "2024-10-27",
         "+1 0793189847",
         "dbfs:/Volumes/gizmobox/landing/operational_data/customers/customers_2024_11.json"
        ],
        [
         "2024-11-27 12:56:20",
         4996,
         "Brandon Reed",
         "1997-05-11",
         "handerson@barker.info",
         "2024-11-06",
         "+43 2750540511",
         "dbfs:/Volumes/gizmobox/landing/operational_data/customers/customers_2024_11.json"
        ],
        [
         "2024-12-25 11:06:35",
         6973,
         "Tracy Cole",
         "1998-07-24",
         "tony46@mail.com",
         "2024-12-16",
         "+1 5515836612",
         "dbfs:/Volumes/gizmobox/landing/operational_data/customers/customers_2024_12.json"
        ],
        [
         "2024-12-26 09:29:16",
         3532,
         "Holly Wilkinson",
         "2003-03-06",
         "lindsey61@yahoo.com",
         "2024-12-22",
         null,
         "dbfs:/Volumes/gizmobox/landing/operational_data/customers/customers_2024_12.json"
        ],
        [
         "2024-12-16 16:54:10",
         1211,
         "Jeremy Ball",
         "2002-03-26",
         "megan86@yahoo.com",
         "2024-12-01",
         "+1 5793543882",
         "dbfs:/Volumes/gizmobox/landing/operational_data/customers/customers_2024_12.json"
        ],
        [
         "2024-12-07 18:09:58",
         7829,
         "Daniel Black",
         "1998-04-13",
         "sandra54@example.org",
         "2024-11-16",
         "+1 0933795082",
         "dbfs:/Volumes/gizmobox/landing/operational_data/customers/customers_2024_12.json"
        ],
        [
         "2024-12-24 14:46:04",
         6384,
         "Jennifer Carrillo",
         "1994-12-18",
         "james34@yahoo.com",
         "2024-12-22",
         "+1 5592179843",
         "dbfs:/Volumes/gizmobox/landing/operational_data/customers/customers_2024_12.json"
        ],
        [
         "2024-12-21 07:08:28",
         2639,
         "Jessica Deleon",
         "1995-06-04",
         "jeremiah96@gmail.com",
         "2024-11-22",
         "+1 1304435999",
         "dbfs:/Volumes/gizmobox/landing/operational_data/customers/customers_2024_12.json"
        ],
        [
         "2024-12-20 12:32:29",
         3084,
         "Tyler Simmons",
         "2003-02-20",
         "brian94@mail.com",
         "2024-12-02",
         null,
         "dbfs:/Volumes/gizmobox/landing/operational_data/customers/customers_2024_12.json"
        ],
        [
         "2024-12-22 23:00:48",
         7997,
         "Patricia Abbott",
         "1997-07-31",
         "angela97@mail.com",
         "2024-11-28",
         "+1 4053366448",
         "dbfs:/Volumes/gizmobox/landing/operational_data/customers/customers_2024_12.json"
        ],
        [
         "2024-12-05 08:58:52",
         9687,
         "Micheal Perez MD",
         "2002-07-18",
         "christopher65@example.org",
         "2024-11-22",
         "+1 3079718622",
         "dbfs:/Volumes/gizmobox/landing/operational_data/customers/customers_2024_12.json"
        ],
        [
         "2024-12-17 15:05:15",
         2141,
         "Zachary Lopez",
         "2002-09-20",
         "glenn87@example.org",
         "2024-12-14",
         "+1 7431190983",
         "dbfs:/Volumes/gizmobox/landing/operational_data/customers/customers_2024_12.json"
        ],
        [
         "2024-12-04 13:16:03",
         5592,
         "Richard Neal",
         "1995-11-05",
         "eric52@gmail.com",
         "2024-11-15",
         "+1 4425187397",
         "dbfs:/Volumes/gizmobox/landing/operational_data/customers/customers_2024_12.json"
        ],
        [
         "2024-12-13 14:23:27",
         6406,
         "Christopher Ritter",
         "2004-07-12",
         null,
         "2024-11-24",
         "+1 1752511241",
         "dbfs:/Volumes/gizmobox/landing/operational_data/customers/customers_2024_12.json"
        ],
        [
         "2024-12-16 16:54:10",
         1211,
         "Jeremy Ball",
         "2002-03-26",
         "megan86@yahoo.com",
         "2024-12-01",
         "+1 5793543882",
         "dbfs:/Volumes/gizmobox/landing/operational_data/customers/customers_2024_12.json"
        ],
        [
         "2024-12-22 23:00:48",
         7997,
         "Patricia Abbott",
         "1997-07-31",
         "angela97@mail.com",
         "2024-11-28",
         "+1 4053366448",
         "dbfs:/Volumes/gizmobox/landing/operational_data/customers/customers_2024_12.json"
        ],
        [
         "2025-01-05 17:29:34",
         7007,
         "Joe Castaneda",
         "1999-04-27",
         "michael34@mail.com",
         "2024-12-31",
         "+1 1767970338",
         "dbfs:/Volumes/gizmobox/landing/operational_data/customers/customers_2025_01.json"
        ],
        [
         "2025-01-17 15:59:39",
         5953,
         "Kevin Harris",
         "2003-01-23",
         "timothy99@mail.com",
         "2024-12-31",
         "+1 6517763640",
         "dbfs:/Volumes/gizmobox/landing/operational_data/customers/customers_2025_01.json"
        ],
        [
         "2025-01-12 20:13:31",
         4996,
         "Brandon Reed",
         "1997-05-11",
         "stacey71@yahoo.com",
         "2024-12-13",
         null,
         "dbfs:/Volumes/gizmobox/landing/operational_data/customers/customers_2025_01.json"
        ],
        [
         "2025-01-14 13:30:57",
         9605,
         "Tiffany Rocha",
         "2003-04-25",
         "michael82@yahoo.com",
         "2024-12-22",
         "+1 6232811506",
         "dbfs:/Volumes/gizmobox/landing/operational_data/customers/customers_2025_01.json"
        ],
        [
         "2025-01-16 21:17:22",
         8845,
         "Joseph Robbins",
         "1997-04-04",
         "derek53@yahoo.com",
         "2025-01-12",
         "+1 9513893820",
         "dbfs:/Volumes/gizmobox/landing/operational_data/customers/customers_2025_01.json"
        ],
        [
         "2025-01-26 09:46:03",
         4973,
         "Daniel Thompson",
         "1999-07-17",
         "connor32@example.org",
         "2024-12-27",
         "+1 5823046206",
         "dbfs:/Volumes/gizmobox/landing/operational_data/customers/customers_2025_01.json"
        ],
        [
         "2025-01-25 13:28:31",
         3889,
         "Jennifer Jackson",
         "1995-10-30",
         "catherine77@example.org",
         "2025-01-07",
         "+1 5932456755",
         "dbfs:/Volumes/gizmobox/landing/operational_data/customers/customers_2025_01.json"
        ],
        [
         "2025-01-14 18:31:28",
         6167,
         "Leslie Smith",
         "2001-10-28",
         "angela16@mail.com",
         "2024-12-16",
         "+1 2978446880",
         "dbfs:/Volumes/gizmobox/landing/operational_data/customers/customers_2025_01.json"
        ],
        [
         "2025-01-17 07:50:48",
         3295,
         "Drew Hanson",
         "1996-11-21",
         "cathy31@gmail.com",
         "2025-01-01",
         "+1 6521792889",
         "dbfs:/Volumes/gizmobox/landing/operational_data/customers/customers_2025_01.json"
        ],
        [
         "2025-01-03 03:28:34",
         9084,
         "Olivia Lyons",
         "1997-06-17",
         "patty47@outlook.com",
         "2024-12-16",
         "+1 2909899135",
         "dbfs:/Volumes/gizmobox/landing/operational_data/customers/customers_2025_01.json"
        ],
        [
         "2025-01-23 02:07:26",
         9150,
         "Alison Davis",
         "2004-01-17",
         "jacob31@yahoo.com",
         "2024-12-26",
         "+1 7119851149",
         "dbfs:/Volumes/gizmobox/landing/operational_data/customers/customers_2025_01.json"
        ],
        [
         "2025-01-14 13:30:57",
         9605,
         "Tiffany Rocha",
         "2003-04-25",
         "michael82@yahoo.com",
         "2024-12-22",
         "+1 6232811506",
         "dbfs:/Volumes/gizmobox/landing/operational_data/customers/customers_2025_01.json"
        ],
        [
         "2025-01-12 20:13:31",
         4996,
         "Brandon Reed",
         "1997-05-11",
         "stacey71@yahoo.com",
         "2024-12-13",
         null,
         "dbfs:/Volumes/gizmobox/landing/operational_data/customers/customers_2025_01.json"
        ]
       ],
       "datasetInfos": [],
       "dbfsResultPath": null,
       "isJsonSchema": true,
       "metadata": {},
       "overflow": false,
       "plotOptions": {
        "customPlotOptions": {},
        "displayType": "table",
        "pivotAggregation": null,
        "pivotColumns": null,
        "xColumns": null,
        "yColumns": null
       },
       "removedWidgets": [],
       "schema": [
        {
         "metadata": "{}",
         "name": "created_timestamp",
         "type": "\"string\""
        },
        {
         "metadata": "{}",
         "name": "customer_id",
         "type": "\"long\""
        },
        {
         "metadata": "{}",
         "name": "customer_name",
         "type": "\"string\""
        },
        {
         "metadata": "{}",
         "name": "date_of_birth",
         "type": "\"string\""
        },
        {
         "metadata": "{}",
         "name": "email",
         "type": "\"string\""
        },
        {
         "metadata": "{}",
         "name": "member_since",
         "type": "\"string\""
        },
        {
         "metadata": "{}",
         "name": "telephone",
         "type": "\"string\""
        },
        {
         "metadata": "{}",
         "name": "file_path",
         "type": "\"string\""
        }
       ],
       "type": "table"
      }
     },
     "output_type": "display_data"
    }
   ],
   "source": [
    "-- _metadata is giving the file_path as a column along with many other metadata information in a json format. If we need just the file_path info:\n",
    "select *, _metadata.file_path as file_path from json.`/Volumes/gizmobox/landing/operational_data/customers`"
   ]
  },
  {
   "cell_type": "markdown",
   "metadata": {
    "application/vnd.databricks.v1+cell": {
     "cellMetadata": {},
     "inputWidgets": {},
     "nuid": "ee3c1740-73a1-495e-99a2-b9fbeaf17e59",
     "showTitle": false,
     "tableResultSettingsMap": {},
     "title": ""
    }
   },
   "source": []
  }
 ],
 "metadata": {
  "application/vnd.databricks.v1+notebook": {
   "computePreferences": null,
   "dashboards": [],
   "environmentMetadata": {
    "base_environment": "",
    "environment_version": "2"
   },
   "inputWidgetPreferences": null,
   "language": "sql",
   "notebookMetadata": {
    "mostRecentlyExecutedCommandWithImplicitDF": {
     "commandId": -1,
     "dataframes": [
      "_sqldf"
     ]
    },
    "pythonIndentUnit": 4
   },
   "notebookName": "01.set-up-Project_env",
   "widgets": {}
  },
  "language_info": {
   "name": "sql"
  }
 },
 "nbformat": 4,
 "nbformat_minor": 0
}