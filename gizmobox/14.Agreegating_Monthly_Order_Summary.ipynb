{
 "cells": [
  {
   "cell_type": "markdown",
   "metadata": {
    "application/vnd.databricks.v1+cell": {
     "cellMetadata": {},
     "inputWidgets": {},
     "nuid": "f735f9d3-48ed-4e6e-a132-c5cabf94591d",
     "showTitle": false,
     "tableResultSettingsMap": {},
     "title": ""
    }
   },
   "source": [
    "###Monthly Order Summary\n",
    "##### For each of the customer, produce the following summary per month\n",
    "1. Total Orders\n",
    "2. Total items bought\n",
    "3. Total amount spent"
   ]
  },
  {
   "cell_type": "code",
   "execution_count": 0,
   "metadata": {
    "application/vnd.databricks.v1+cell": {
     "cellMetadata": {},
     "inputWidgets": {},
     "nuid": "5096bb9a-a64b-42d8-8495-3494f184f5e6",
     "showTitle": false,
     "tableResultSettingsMap": {},
     "title": ""
    }
   },
   "outputs": [],
   "source": [
    "select * from gizmobox.silver.orders"
   ]
  },
  {
   "cell_type": "code",
   "execution_count": 0,
   "metadata": {
    "application/vnd.databricks.v1+cell": {
     "cellMetadata": {},
     "inputWidgets": {},
     "nuid": "9d9b1804-2d65-4a9e-92eb-c3f519306486",
     "showTitle": false,
     "tableResultSettingsMap": {},
     "title": ""
    }
   },
   "outputs": [],
   "source": [
    "select date_format(transaction_timestamp, 'yyyy-MM') as order_month,\n",
    "       customer_id,\n",
    "       count(distinct order_id) as total_orders,\n",
    "       sum(quantity) as total_items_bought,\n",
    "       sum(price*quantity) as total_amount\n",
    "from gizmobox.silver.orders\n",
    "group by order_month, customer_id"
   ]
  },
  {
   "cell_type": "code",
   "execution_count": 0,
   "metadata": {
    "application/vnd.databricks.v1+cell": {
     "cellMetadata": {},
     "inputWidgets": {},
     "nuid": "9d8be7f6-dc01-4180-affd-78929d857abd",
     "showTitle": false,
     "tableResultSettingsMap": {},
     "title": ""
    }
   },
   "outputs": [],
   "source": [
    "-- creating a table in GOLD schema using CTAS\n",
    "\n",
    "create table if not exists gizmobox.gold.order_monthly_summary\n",
    "as\n",
    "select date_format(transaction_timestamp, 'yyyy-MM') as order_month,\n",
    "       customer_id,\n",
    "       count(distinct order_id) as total_orders,\n",
    "       sum(quantity) as total_items_bought,\n",
    "       sum(price*quantity) as total_amount\n",
    "from gizmobox.silver.orders\n",
    "group by order_month, customer_id"
   ]
  },
  {
   "cell_type": "code",
   "execution_count": 0,
   "metadata": {
    "application/vnd.databricks.v1+cell": {
     "cellMetadata": {},
     "inputWidgets": {},
     "nuid": "ccbf1498-d079-482d-b7ab-f856d82f0c0a",
     "showTitle": false,
     "tableResultSettingsMap": {},
     "title": ""
    }
   },
   "outputs": [],
   "source": [
    "select * from gizmobox.gold.order_monthly_summary"
   ]
  }
 ],
 "metadata": {
  "application/vnd.databricks.v1+notebook": {
   "computePreferences": null,
   "dashboards": [],
   "environmentMetadata": {
    "base_environment": "",
    "environment_version": "2"
   },
   "inputWidgetPreferences": null,
   "language": "sql",
   "notebookMetadata": {},
   "notebookName": "14.Agreegating_Monthly_Order_Summary",
   "widgets": {}
  },
  "language_info": {
   "name": "sql"
  }
 },
 "nbformat": 4,
 "nbformat_minor": 0
}