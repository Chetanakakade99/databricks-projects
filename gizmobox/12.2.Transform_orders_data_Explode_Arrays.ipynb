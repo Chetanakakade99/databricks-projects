{
 "cells": [
  {
   "cell_type": "markdown",
   "metadata": {
    "application/vnd.databricks.v1+cell": {
     "cellMetadata": {},
     "inputWidgets": {},
     "nuid": "ccf48870-cf75-4d7e-9ca2-408ff7fd58af",
     "showTitle": false,
     "tableResultSettingsMap": {},
     "title": ""
    }
   },
   "source": [
    "### Transform Orders Data - Explode Arrays\n",
    "1. Access elements from JSON object\n",
    "2. Deduplicate Array Elements\n",
    "3. Explode Arrays\n",
    "4. Write the transformed Data to Silver Schema"
   ]
  },
  {
   "cell_type": "code",
   "execution_count": 0,
   "metadata": {
    "application/vnd.databricks.v1+cell": {
     "cellMetadata": {
      "byteLimit": 2048000,
      "rowLimit": 10000
     },
     "inputWidgets": {},
     "nuid": "d4361f93-f9cc-42ca-a40d-2a946479859b",
     "showTitle": false,
     "tableResultSettingsMap": {},
     "title": ""
    }
   },
   "outputs": [
    {
     "output_type": "display_data",
     "data": {
      "text/html": [
       "<style scoped>\n",
       "  .table-result-container {\n",
       "    max-height: 300px;\n",
       "    overflow: auto;\n",
       "  }\n",
       "  table, th, td {\n",
       "    border: 1px solid black;\n",
       "    border-collapse: collapse;\n",
       "  }\n",
       "  th, td {\n",
       "    padding: 5px;\n",
       "  }\n",
       "  th {\n",
       "    text-align: left;\n",
       "  }\n",
       "</style><div class='table-result-container'><table class='table-result'><thead style='background-color: white'><tr><th>json_value</th></tr></thead><tbody><tr><td>List(6973, List(List(Electronics, List(Sony, Blue), 8, Gaming Console, 499, 1)), 2025-01-05, 1, Completed, Bank Transfer, 499, 2025-01-05 10:13:59)</td></tr><tr><td>List(3532, List(List(Electronics, List(Canon, Gray), 4, Smartwatch, 299, 2), List(Electronics, List(Dell, Blue), 7, External Hard Drive, 129, 3)), 2025-01-19, 2, Cancelled, PayPal, 985, 2025-01-19 00:05:13)</td></tr><tr><td>List(3532, List(List(Electronics, List(Apple, White), 3, Wireless Headphones, 199, 3)), 2025-01-08, 3, Completed, Bank Transfer, 597, 2025-01-08 23:11:00)</td></tr><tr><td>List(3532, List(List(Electronics, List(Microsoft, Black), 2, Laptop, 999, 1)), 2025-01-05, 4, Cancelled, Bank Transfer, 999, 2025-01-05 05:49:26)</td></tr><tr><td>List(9179, List(List(Electronics, List(LG, White), 5, Tablet, 399, 1)), 2025-01-02, 8, Completed, PayPal, 399, 2025-01-02 13:11:15)</td></tr><tr><td>List(7207, List(List(Electronics, List(Bose, Blue), 3, Wireless Headphones, 199, 3)), 2025-01-01, 14, Cancelled, PayPal, 597, 2025-01-01 18:22:26)</td></tr><tr><td>List(4468, List(List(Electronics, List(Dell, Black), 10, Drone, 799, 1)), 2025-01-22, 18, Pending, Credit Card, 799, 2025-01-22 21:12:08)</td></tr><tr><td>List(4761, List(List(Electronics, List(HP, Silver), 3, Wireless Headphones, 199, 1)), 2025-01-01, 22, Pending, PayPal, 199, 2025-01-01 15:49:19)</td></tr><tr><td>List(7007, List(List(Electronics, List(Samsung, Silver), 1, Smartphone, 699, 1)), 2025-01-05, 26, Shipped, Bank Transfer, 699, 2025-01-05 19:01:25)</td></tr><tr><td>List(5953, List(List(Electronics, List(Bose, Gray), 7, External Hard Drive, 129, 1), List(Electronics, List(Bose, Gray), 7, External Hard Drive, 129, 1)), 2025-01-18, 29, Pending, Bank Transfer, 129, 2025-01-18 03:05:04)</td></tr><tr><td>List(4996, List(List(Electronics, List(Dell, White), 4, Smartwatch, 299, 1)), 2025-01-18, 31, Shipped, Bank Transfer, 299, 2025-01-18 03:13:29)</td></tr><tr><td>List(9605, List(List(Electronics, List(Canon, White), 4, Smartwatch, 299, 3)), 2025-01-13, 33, Completed, PayPal, 897, 2025-01-13 04:47:43)</td></tr><tr><td>List(9605, List(List(Electronics, List(Bose, Silver), 6, Bluetooth Speaker, 149, 2), List(Electronics, List(LG, Black), 8, Gaming Console, 499, 1), List(Electronics, List(Samsung, Black), 7, External Hard Drive, 129, 1)), 2025-01-21, 34, Cancelled, PayPal, 926, 2025-01-21 00:25:01)</td></tr><tr><td>List(6384, List(List(Electronics, List(Bose, Silver), 6, Bluetooth Speaker, 149, 2)), 2025-01-20, 40, Completed, PayPal, 298, 2025-01-20 16:18:35)</td></tr><tr><td>List(6384, List(List(Electronics, List(Sony, Silver), 2, Laptop, 999, 1)), 2025-01-05, 41, Shipped, Credit Card, 999, 2025-01-05 06:10:22)</td></tr><tr><td>List(5028, List(List(Electronics, List(LG, Black), 8, Gaming Console, 499, 1)), 2025-01-24, 43, Pending, PayPal, 499, 2025-01-24 18:10:37)</td></tr><tr><td>List(3712, List(List(Electronics, List(Apple, Gray), 6, Bluetooth Speaker, 149, 3), List(Electronics, List(Sony, White), 4, Smartwatch, 299, 1)), 2025-01-11, 50, Shipped, Credit Card, 746, 2025-01-11 01:19:09)</td></tr><tr><td>List(8845, List(List(Electronics, List(Samsung, Gray), 6, Bluetooth Speaker, 149, 1)), 2025-01-21, 51, Completed, PayPal, 149, 2025-01-21 13:19:59)</td></tr><tr><td>List(8845, List(List(Electronics, List(Apple, Black), 3, Wireless Headphones, 199, 1)), 2025-01-21, 53, Pending, Bank Transfer, 199, 2025-01-21 08:31:02)</td></tr><tr><td>List(8580, List(List(Electronics, List(HP, Silver), 3, Wireless Headphones, 199, 1), List(Electronics, List(LG, Gray), 8, Gaming Console, 499, 1)), 2025-01-01, 56, Cancelled, PayPal, 698, 2025-01-01 12:02:41)</td></tr><tr><td>List(7123, List(List(Electronics, List(Dell, White), 7, External Hard Drive, 129, 3), List(Electronics, List(GoPro, Blue), 4, Smartwatch, 299, 2)), 2025-01-24, 62, Completed, Bank Transfer, 985, 2025-01-24 12:00:54)</td></tr><tr><td>List(3084, List(List(Electronics, List(Bose, Silver), 4, Smartwatch, 299, 1), List(Electronics, List(GoPro, White), 4, Smartwatch, 299, 1)), 2025-01-17, 66, Cancelled, Credit Card, 598, 2025-01-17 21:16:11)</td></tr><tr><td>List(4973, List(List(Electronics, List(Bose, Gray), 6, Bluetooth Speaker, 149, 1)), 2025-01-10, 68, Completed, Bank Transfer, 149, 2025-01-10 20:35:43)</td></tr><tr><td>List(6167, List(List(Electronics, List(GoPro, Gray), 7, External Hard Drive, 129, 3), List(Electronics, List(GoPro, Gray), 7, External Hard Drive, 129, 3)), 2025-01-07, 73, Shipped, Credit Card, 387, 2025-01-07 01:02:26)</td></tr><tr><td>List(6167, List(List(Electronics, List(GoPro, White), 1, Smartphone, 699, 1)), 2025-01-19, 75, Shipped, Credit Card, 699, 2025-01-19 16:23:16)</td></tr><tr><td>List(3295, List(List(Electronics, List(Microsoft, Silver), 5, Tablet, 399, 1)), 2025-01-06, 76, Completed, Bank Transfer, 399, 2025-01-06 02:54:39)</td></tr><tr><td>List(9084, List(List(Electronics, List(Dell, White), 5, Tablet, 399, 2)), 2025-01-21, 78, Cancelled, PayPal, 798, 2025-01-21 11:42:51)</td></tr><tr><td>List(9084, List(List(Electronics, List(Dell, Gray), 8, Gaming Console, 499, 2)), 2025-01-25, 79, Cancelled, Credit Card, 998, 2025-01-25 03:52:05)</td></tr><tr><td>List(2344, List(List(Electronics, List(Canon, Gray), 7, External Hard Drive, 129, 3), List(Electronics, List(Sony, Black), 3, Wireless Headphones, 199, 2)), 2025-01-07, 83, Shipped, PayPal, 785, 2025-01-07 12:48:05)</td></tr><tr><td>List(2141, List(List(Electronics, List(Apple, Blue), 7, External Hard Drive, 129, 1)), 2025-01-02, 87, Pending, PayPal, 129, 2025-01-02 04:28:38)</td></tr><tr><td>List(9247, List(List(Electronics, List(Canon, White), 7, External Hard Drive, 129, 1), List(Electronics, List(Samsung, Black), 7, External Hard Drive, 129, 1)), 2025-01-17, 90, Pending, Credit Card, 258, 2025-01-17 14:30:54)</td></tr><tr><td>List(6627, List(List(Electronics, List(Sony, Black), 6, Bluetooth Speaker, 149, 2), List(Electronics, List(Apple, Blue), 3, Wireless Headphones, 199, 3)), 2025-01-10, 94, Pending, Credit Card, 895, 2025-01-10 09:51:48)</td></tr><tr><td>List(9150, List(List(Electronics, List(HP, Blue), 7, External Hard Drive, 129, 3), List(Electronics, List(Samsung, Gray), 4, Smartwatch, 299, 2)), 2025-01-08, 98, Completed, Credit Card, 985, 2025-01-08 05:57:55)</td></tr><tr><td>List(9150, List(List(Electronics, List(Bose, Gray), 1, Smartphone, 699, 1)), 2025-01-10, 99, Shipped, Credit Card, 699, 2025-01-10 21:43:46)</td></tr><tr><td>List(9150, List(List(Electronics, List(LG, Silver), 6, Bluetooth Speaker, 149, 3)), 2025-01-04, 100, Shipped, PayPal, 447, 2025-01-04 06:40:13)</td></tr><tr><td>List(5816, List(List(Electronics, List(Sony, White), 2, Laptop, 999, 1)), 2024-12-06, 12, Cancelled, PayPal, 999, 2024-12-06 20:26:49)</td></tr><tr><td>List(4858, List(List(Electronics, List(GoPro, Black), 2, Laptop, 999, 1)), 2024-12-17, 13, Pending, PayPal, 999, 2024-12-17 03:41:37)</td></tr><tr><td>List(5204, List(List(Electronics, List(Sony, Silver), 3, Wireless Headphones, 199, 3)), 2024-12-08, 16, Pending, Bank Transfer, 597, 2024-12-08 22:59:48)</td></tr><tr><td>List(5204, List(List(Electronics, List(Dell, Black), 8, Gaming Console, 499, 2)), 2024-12-02, 17, Pending, Bank Transfer, 998, 2024-12-02 12:00:50)</td></tr><tr><td>List(1211, List(List(Electronics, List(GoPro, Gray), 9, Smart TV, 1199, 1)), 2024-12-21, 24, Completed, PayPal, 1199, 2024-12-21 03:24:26)</td></tr><tr><td>List(2703, List(List(Electronics, List(Dell, White), 7, External Hard Drive, 129, 2), List(Electronics, List(Canon, Black), 6, Bluetooth Speaker, 149, 3), List(Electronics, List(Microsoft, Silver), 3, Wireless Headphones, 199, 1)), 2024-12-02, 27, Completed, Credit Card, 904, 2024-12-02 11:24:21)</td></tr><tr><td>List(2703, List(List(Electronics, List(GoPro, Blue), 7, External Hard Drive, 129, 1)), 2024-12-26, 28, Cancelled, Credit Card, 129, 2024-12-26 03:17:50)</td></tr><tr><td>List(4996, List(List(Electronics, List(Apple, Silver), 5, Tablet, 399, 1)), 2024-12-28, 32, Pending, PayPal, 399, 2024-12-28 08:55:57)</td></tr><tr><td>List(7829, List(List(Electronics, List(HP, Silver), 7, External Hard Drive, 129, 2)), 2024-12-22, 37, Shipped, Credit Card, 258, 2024-12-22 10:11:49)</td></tr><tr><td>List(7829, List(List(Electronics, List(Apple, Gray), 6, Bluetooth Speaker, 149, 3)), 2024-12-25, 38, Shipped, Credit Card, 447, 2024-12-25 22:05:19)</td></tr><tr><td>List(7295, List(List(Electronics, List(Bose, Blue), 7, External Hard Drive, 129, 1)), 2024-12-20, 44, Completed, Credit Card, 129, 2024-12-20 08:05:43)</td></tr><tr><td>List(7803, List(List(Electronics, List(HP, White), 4, Smartwatch, 299, 1), List(Electronics, List(Canon, Blue), 4, Smartwatch, 299, 1), List(Electronics, List(Samsung, White), 6, Bluetooth Speaker, 149, 1)), 2024-12-07, 49, Cancelled, PayPal, 747, 2024-12-07 23:24:11)</td></tr><tr><td>List(2054, List(List(Electronics, List(Bose, Gray), 3, Wireless Headphones, 199, 2)), 2024-12-20, 54, Pending, Credit Card, 398, 2024-12-20 12:04:27)</td></tr><tr><td>List(8580, List(List(Electronics, List(Microsoft, Gray), 1, Smartphone, 699, 1)), 2024-12-09, 58, Completed, PayPal, 699, 2024-12-09 22:40:58)</td></tr><tr><td>List(3409, List(List(Electronics, List(Samsung, Blue), 3, Wireless Headphones, 199, 1)), 2024-12-13, 60, Shipped, Bank Transfer, 199, 2024-12-13 13:10:12)</td></tr><tr><td>List(7123, List(List(Electronics, List(Canon, Black), 1, Smartphone, 699, 1)), 2024-12-07, 61, Completed, Bank Transfer, 699, 2024-12-07 07:47:19)</td></tr><tr><td>List(3084, List(List(Electronics, List(Microsoft, Gray), 5, Tablet, 399, 1)), 2024-12-09, 65, Cancelled, Bank Transfer, 399, 2024-12-09 13:04:13)</td></tr><tr><td>List(3084, List(List(Electronics, List(LG, Blue), 4, Smartwatch, 299, 3)), 2024-12-19, 67, Shipped, PayPal, 897, 2024-12-19 07:11:09)</td></tr><tr><td>List(4973, List(List(Electronics, List(Dell, Gray), 1, Smartphone, 699, 1)), 2024-12-30, 69, Completed, Bank Transfer, 699, 2024-12-30 02:42:01)</td></tr><tr><td>List(7997, List(List(Electronics, List(Sony, Black), 4, Smartwatch, 299, 3)), 2024-12-04, 70, Shipped, PayPal, 897, 2024-12-04 17:17:24)</td></tr><tr><td>List(7997, List(List(Electronics, List(Microsoft, Black), 3, Wireless Headphones, 199, 1)), 2024-12-27, 71, Completed, Bank Transfer, 199, 2024-12-27 11:16:39)</td></tr><tr><td>List(6167, List(List(Electronics, List(Samsung, Blue), 1, Smartphone, 699, 1)), 2024-12-22, 74, Pending, PayPal, 699, 2024-12-22 15:54:11)</td></tr><tr><td>List(9687, List(List(Electronics, List(Samsung, White), 8, Gaming Console, 499, 2)), 2024-12-11, 80, Cancelled, Bank Transfer, 998, 2024-12-11 07:43:54)</td></tr><tr><td>List(9687, List(List(Electronics, List(GoPro, Blue), 1, Smartphone, 699, 1)), 2024-12-27, 81, Completed, PayPal, 699, 2024-12-27 02:27:45)</td></tr><tr><td>List(2344, List(List(Electronics, List(Sony, Blue), 7, External Hard Drive, 129, 3)), 2024-12-28, 82, Completed, PayPal, 387, 2024-12-28 00:54:08)</td></tr><tr><td>List(5592, List(List(Electronics, List(Canon, Silver), 1, Smartphone, 699, 1)), 2024-12-17, 91, Cancelled, Bank Transfer, 699, 2024-12-17 00:09:53)</td></tr><tr><td>List(6627, List(List(Electronics, List(LG, Silver), 4, Smartwatch, 299, 2)), 2024-12-22, 93, Pending, PayPal, 598, 2024-12-22 05:07:46)</td></tr><tr><td>List(6627, List(List(Electronics, List(GoPro, White), 4, Smartwatch, 299, 2), List(Electronics, List(Bose, Gray), 3, Wireless Headphones, 199, 1), List(Electronics, List(Dell, Silver), 6, Bluetooth Speaker, 149, 1)), 2024-12-28, 95, Completed, Bank Transfer, 946, 2024-12-28 04:28:30)</td></tr><tr><td>List(6406, List(List(Electronics, List(Microsoft, Black), 6, Bluetooth Speaker, 149, 1)), 2024-12-02, 96, Shipped, PayPal, 149, 2024-12-02 12:27:45)</td></tr><tr><td>List(6406, List(List(Electronics, List(Sony, Silver), 8, Gaming Console, 499, 1)), 2024-12-07, 97, Completed, Bank Transfer, 499, 2024-12-07 16:14:34)</td></tr><tr><td>List(3892, List(List(Electronics, List(Dell, Blue), 8, Gaming Console, 499, 2)), 2024-11-16, 5, Cancelled, Bank Transfer, 998, 2024-11-16 23:07:31)</td></tr><tr><td>List(1987, List(List(Electronics, List(LG, Blue), 7, External Hard Drive, 129, 2), List(Electronics, List(HP, Gray), 7, External Hard Drive, 129, 3)), 2024-11-19, 7, Pending, Credit Card, 645, 2024-11-19 19:18:48)</td></tr><tr><td>List(9179, List(List(Electronics, List(Apple, Black), 2, Laptop, 999, 1)), 2024-11-27, 9, Shipped, Bank Transfer, 999, 2024-11-27 13:15:29)</td></tr><tr><td>List(8539, List(List(Electronics, List(Sony, Silver), 5, Tablet, 399, 2)), 2024-11-18, 20, Pending, PayPal, 798, 2024-11-18 02:38:21)</td></tr><tr><td>List(8539, List(List(Electronics, List(GoPro, Blue), 6, Bluetooth Speaker, 149, 2)), 2024-11-21, 21, Cancelled, Bank Transfer, 298, 2024-11-21 11:25:35)</td></tr><tr><td>List(4761, List(List(Electronics, List(Apple, Gray), 5, Tablet, 399, 1), List(Electronics, List(Dell, Gray), 4, Smartwatch, 299, 2)), 2024-11-22, 23, Shipped, PayPal, 997, 2024-11-22 16:04:05)</td></tr><tr><td>List(9706, List(List(Electronics, List(LG, Gray), 2, Laptop, 999, 1)), 2024-11-05, 25, Completed, PayPal, 999, 2024-11-05 11:45:31)</td></tr><tr><td>List(4996, List(List(Electronics, List(GoPro, White), 3, Wireless Headphones, 199, 1)), 2024-11-12, 30, Shipped, Bank Transfer, 199, 2024-11-12 03:20:29)</td></tr><tr><td>List(4914, List(List(Electronics, List(Dell, Gray), 3, Wireless Headphones, 199, 1)), 2024-11-20, 35, Shipped, Bank Transfer, 199, 2024-11-20 19:09:04)</td></tr><tr><td>List(4914, List(List(Electronics, List(Canon, Silver), 3, Wireless Headphones, 199, 1)), 2024-11-02, 36, Completed, PayPal, 199, 2024-11-02 10:39:46)</td></tr><tr><td>List(5028, List(List(Electronics, List(Bose, Gray), 6, Bluetooth Speaker, 149, 1)), 2024-11-08, 42, Completed, Credit Card, 149, 2024-11-08 18:32:25)</td></tr><tr><td>List(7295, List(List(Electronics, List(Dell, White), 10, Drone, 799, 1)), 2024-11-07, 45, Shipped, Credit Card, 799, 2024-11-07 15:41:43)</td></tr><tr><td>List(7295, List(List(Electronics, List(Samsung, Black), 3, Wireless Headphones, 199, 1)), 2024-11-26, 46, Pending, PayPal, 199, 2024-11-26 17:16:53)</td></tr><tr><td>List(7803, List(List(Electronics, List(LG, Blue), 6, Bluetooth Speaker, 149, 2)), 2024-11-22, 47, Shipped, Credit Card, 298, 2024-11-22 02:01:19)</td></tr><tr><td>List(7803, List(List(Electronics, List(Apple, Black), 7, External Hard Drive, 129, 3)), 2024-11-13, 48, Completed, PayPal, 387, 2024-11-13 06:35:56)</td></tr><tr><td>List(8845, List(List(Electronics, List(GoPro, White), 8, Gaming Console, 499, 2)), 2024-11-19, 52, Completed, PayPal, 998, 2024-11-19 21:23:45)</td></tr><tr><td>List(8580, List(List(Electronics, List(HP, Silver), 3, Wireless Headphones, 199, 1), List(Electronics, List(Sony, Silver), 7, External Hard Drive, 129, 3)), 2024-11-19, 57, Cancelled, Bank Transfer, 586, 2024-11-19 11:32:44)</td></tr><tr><td>List(7123, List(List(Electronics, List(GoPro, Blue), 3, Wireless Headphones, 199, 1), List(Electronics, List(Bose, Silver), 6, Bluetooth Speaker, 149, 3)), 2024-11-24, 63, Cancelled, Bank Transfer, 646, 2024-11-24 08:41:28)</td></tr><tr><td>List(2639, List(List(Electronics, List(Microsoft, White), 7, External Hard Drive, 129, 3), List(Electronics, List(Canon, Blue), 3, Wireless Headphones, 199, 3)), 2024-11-28, 64, Completed, Bank Transfer, 984, 2024-11-28 12:23:21)</td></tr><tr><td>List(9247, List(List(Electronics, List(Bose, White), 7, External Hard Drive, 129, 3)), 2024-11-15, 88, Cancelled, Bank Transfer, 387, 2024-11-15 11:39:44)</td></tr><tr><td>List(9247, List(List(Electronics, List(GoPro, Silver), 6, Bluetooth Speaker, 149, 1)), 2024-11-22, 89, Cancelled, Bank Transfer, 149, 2024-11-22 12:09:15)</td></tr><tr><td>List(5592, List(List(Electronics, List(Sony, Black), 7, External Hard Drive, 129, 2)), 2024-11-24, 92, Shipped, PayPal, 258, 2024-11-24 23:33:21)</td></tr><tr><td>List(1987, List(List(Electronics, List(GoPro, Black), 10, Drone, 799, 1)), 2024-10-28, 6, Pending, Credit Card, 799, 2024-10-28 04:47:27)</td></tr><tr><td>List(5816, List(List(Electronics, List(GoPro, White), 5, Tablet, 399, 1)), 2024-10-07, 10, Pending, Credit Card, 399, 2024-10-07 22:09:27)</td></tr><tr><td>List(5816, List(List(Electronics, List(Canon, White), 4, Smartwatch, 299, 3)), 2024-10-13, 11, Pending, Bank Transfer, 897, 2024-10-13 17:34:19)</td></tr><tr><td>List(7207, List(List(Electronics, List(GoPro, White), 9, Smart TV, 1199, 1)), 2024-10-20, 15, Completed, Bank Transfer, 1199, 2024-10-20 01:47:25)</td></tr><tr><td>List(8539, List(List(Electronics, List(Dell, Silver), 8, Gaming Console, 499, 1)), 2024-10-13, 19, Shipped, PayPal, 499, 2024-10-13 12:40:26)</td></tr><tr><td>List(9263, List(List(Electronics, List(Sony, Black), 7, External Hard Drive, 129, 3)), 2024-10-29, 39, Shipped, PayPal, 387, 2024-10-29 21:39:19)</td></tr><tr><td>List(9018, List(List(Electronics, List(HP, Black), 1, Smartphone, 699, 1)), 2024-10-25, 55, Shipped, Bank Transfer, 699, 2024-10-25 05:49:16)</td></tr><tr><td>List(3409, List(List(Electronics, List(Dell, Black), 8, Gaming Console, 499, 1)), 2024-10-23, 59, Pending, PayPal, 499, 2024-10-23 02:51:05)</td></tr><tr><td>List(3889, List(List(Electronics, List(Microsoft, Gray), 3, Wireless Headphones, 199, 1), List(Electronics, List(Samsung, Silver), 7, External Hard Drive, 129, 1)), 2024-10-06, 72, Cancelled, PayPal, 328, 2024-10-06 10:23:28)</td></tr><tr><td>List(9084, List(List(Electronics, List(HP, Silver), 3, Wireless Headphones, 199, 2)), 2024-10-15, 77, Pending, Credit Card, 398, 2024-10-15 13:09:33)</td></tr><tr><td>List(2344, List(List(Electronics, List(Sony, Black), 10, Drone, 799, 1), List(Electronics, List(LG, Black), 3, Wireless Headphones, 199, 1)), 2024-10-25, 84, Completed, PayPal, 998, 2024-10-25 03:37:42)</td></tr><tr><td>List(5011, List(List(Electronics, List(GoPro, Black), 8, Gaming Console, 499, 2)), 2024-10-23, 85, Shipped, Bank Transfer, 998, 2024-10-23 20:06:42)</td></tr><tr><td>List(5011, List(List(Electronics, List(Dell, White), 9, Smart TV, 1199, 1)), 2024-10-19, 86, Completed, PayPal, 1199, 2024-10-19 13:30:47)</td></tr></tbody></table></div>"
      ]
     },
     "metadata": {
      "application/vnd.databricks.v1+output": {
       "addedWidgets": {},
       "aggData": [],
       "aggError": "",
       "aggOverflow": false,
       "aggSchema": [],
       "aggSeriesLimitReached": false,
       "aggType": "",
       "arguments": {},
       "columnCustomDisplayInfos": {},
       "data": [
        [
         [
          6973,
          [
           [
            "Electronics",
            [
             "Sony",
             "Blue"
            ],
            8,
            "Gaming Console",
            499,
            1
           ]
          ],
          "2025-01-05",
          1,
          "Completed",
          "Bank Transfer",
          499,
          "2025-01-05 10:13:59"
         ]
        ],
        [
         [
          3532,
          [
           [
            "Electronics",
            [
             "Canon",
             "Gray"
            ],
            4,
            "Smartwatch",
            299,
            2
           ],
           [
            "Electronics",
            [
             "Dell",
             "Blue"
            ],
            7,
            "External Hard Drive",
            129,
            3
           ]
          ],
          "2025-01-19",
          2,
          "Cancelled",
          "PayPal",
          985,
          "2025-01-19 00:05:13"
         ]
        ],
        [
         [
          3532,
          [
           [
            "Electronics",
            [
             "Apple",
             "White"
            ],
            3,
            "Wireless Headphones",
            199,
            3
           ]
          ],
          "2025-01-08",
          3,
          "Completed",
          "Bank Transfer",
          597,
          "2025-01-08 23:11:00"
         ]
        ],
        [
         [
          3532,
          [
           [
            "Electronics",
            [
             "Microsoft",
             "Black"
            ],
            2,
            "Laptop",
            999,
            1
           ]
          ],
          "2025-01-05",
          4,
          "Cancelled",
          "Bank Transfer",
          999,
          "2025-01-05 05:49:26"
         ]
        ],
        [
         [
          9179,
          [
           [
            "Electronics",
            [
             "LG",
             "White"
            ],
            5,
            "Tablet",
            399,
            1
           ]
          ],
          "2025-01-02",
          8,
          "Completed",
          "PayPal",
          399,
          "2025-01-02 13:11:15"
         ]
        ],
        [
         [
          7207,
          [
           [
            "Electronics",
            [
             "Bose",
             "Blue"
            ],
            3,
            "Wireless Headphones",
            199,
            3
           ]
          ],
          "2025-01-01",
          14,
          "Cancelled",
          "PayPal",
          597,
          "2025-01-01 18:22:26"
         ]
        ],
        [
         [
          4468,
          [
           [
            "Electronics",
            [
             "Dell",
             "Black"
            ],
            10,
            "Drone",
            799,
            1
           ]
          ],
          "2025-01-22",
          18,
          "Pending",
          "Credit Card",
          799,
          "2025-01-22 21:12:08"
         ]
        ],
        [
         [
          4761,
          [
           [
            "Electronics",
            [
             "HP",
             "Silver"
            ],
            3,
            "Wireless Headphones",
            199,
            1
           ]
          ],
          "2025-01-01",
          22,
          "Pending",
          "PayPal",
          199,
          "2025-01-01 15:49:19"
         ]
        ],
        [
         [
          7007,
          [
           [
            "Electronics",
            [
             "Samsung",
             "Silver"
            ],
            1,
            "Smartphone",
            699,
            1
           ]
          ],
          "2025-01-05",
          26,
          "Shipped",
          "Bank Transfer",
          699,
          "2025-01-05 19:01:25"
         ]
        ],
        [
         [
          5953,
          [
           [
            "Electronics",
            [
             "Bose",
             "Gray"
            ],
            7,
            "External Hard Drive",
            129,
            1
           ],
           [
            "Electronics",
            [
             "Bose",
             "Gray"
            ],
            7,
            "External Hard Drive",
            129,
            1
           ]
          ],
          "2025-01-18",
          29,
          "Pending",
          "Bank Transfer",
          129,
          "2025-01-18 03:05:04"
         ]
        ],
        [
         [
          4996,
          [
           [
            "Electronics",
            [
             "Dell",
             "White"
            ],
            4,
            "Smartwatch",
            299,
            1
           ]
          ],
          "2025-01-18",
          31,
          "Shipped",
          "Bank Transfer",
          299,
          "2025-01-18 03:13:29"
         ]
        ],
        [
         [
          9605,
          [
           [
            "Electronics",
            [
             "Canon",
             "White"
            ],
            4,
            "Smartwatch",
            299,
            3
           ]
          ],
          "2025-01-13",
          33,
          "Completed",
          "PayPal",
          897,
          "2025-01-13 04:47:43"
         ]
        ],
        [
         [
          9605,
          [
           [
            "Electronics",
            [
             "Bose",
             "Silver"
            ],
            6,
            "Bluetooth Speaker",
            149,
            2
           ],
           [
            "Electronics",
            [
             "LG",
             "Black"
            ],
            8,
            "Gaming Console",
            499,
            1
           ],
           [
            "Electronics",
            [
             "Samsung",
             "Black"
            ],
            7,
            "External Hard Drive",
            129,
            1
           ]
          ],
          "2025-01-21",
          34,
          "Cancelled",
          "PayPal",
          926,
          "2025-01-21 00:25:01"
         ]
        ],
        [
         [
          6384,
          [
           [
            "Electronics",
            [
             "Bose",
             "Silver"
            ],
            6,
            "Bluetooth Speaker",
            149,
            2
           ]
          ],
          "2025-01-20",
          40,
          "Completed",
          "PayPal",
          298,
          "2025-01-20 16:18:35"
         ]
        ],
        [
         [
          6384,
          [
           [
            "Electronics",
            [
             "Sony",
             "Silver"
            ],
            2,
            "Laptop",
            999,
            1
           ]
          ],
          "2025-01-05",
          41,
          "Shipped",
          "Credit Card",
          999,
          "2025-01-05 06:10:22"
         ]
        ],
        [
         [
          5028,
          [
           [
            "Electronics",
            [
             "LG",
             "Black"
            ],
            8,
            "Gaming Console",
            499,
            1
           ]
          ],
          "2025-01-24",
          43,
          "Pending",
          "PayPal",
          499,
          "2025-01-24 18:10:37"
         ]
        ],
        [
         [
          3712,
          [
           [
            "Electronics",
            [
             "Apple",
             "Gray"
            ],
            6,
            "Bluetooth Speaker",
            149,
            3
           ],
           [
            "Electronics",
            [
             "Sony",
             "White"
            ],
            4,
            "Smartwatch",
            299,
            1
           ]
          ],
          "2025-01-11",
          50,
          "Shipped",
          "Credit Card",
          746,
          "2025-01-11 01:19:09"
         ]
        ],
        [
         [
          8845,
          [
           [
            "Electronics",
            [
             "Samsung",
             "Gray"
            ],
            6,
            "Bluetooth Speaker",
            149,
            1
           ]
          ],
          "2025-01-21",
          51,
          "Completed",
          "PayPal",
          149,
          "2025-01-21 13:19:59"
         ]
        ],
        [
         [
          8845,
          [
           [
            "Electronics",
            [
             "Apple",
             "Black"
            ],
            3,
            "Wireless Headphones",
            199,
            1
           ]
          ],
          "2025-01-21",
          53,
          "Pending",
          "Bank Transfer",
          199,
          "2025-01-21 08:31:02"
         ]
        ],
        [
         [
          8580,
          [
           [
            "Electronics",
            [
             "HP",
             "Silver"
            ],
            3,
            "Wireless Headphones",
            199,
            1
           ],
           [
            "Electronics",
            [
             "LG",
             "Gray"
            ],
            8,
            "Gaming Console",
            499,
            1
           ]
          ],
          "2025-01-01",
          56,
          "Cancelled",
          "PayPal",
          698,
          "2025-01-01 12:02:41"
         ]
        ],
        [
         [
          7123,
          [
           [
            "Electronics",
            [
             "Dell",
             "White"
            ],
            7,
            "External Hard Drive",
            129,
            3
           ],
           [
            "Electronics",
            [
             "GoPro",
             "Blue"
            ],
            4,
            "Smartwatch",
            299,
            2
           ]
          ],
          "2025-01-24",
          62,
          "Completed",
          "Bank Transfer",
          985,
          "2025-01-24 12:00:54"
         ]
        ],
        [
         [
          3084,
          [
           [
            "Electronics",
            [
             "Bose",
             "Silver"
            ],
            4,
            "Smartwatch",
            299,
            1
           ],
           [
            "Electronics",
            [
             "GoPro",
             "White"
            ],
            4,
            "Smartwatch",
            299,
            1
           ]
          ],
          "2025-01-17",
          66,
          "Cancelled",
          "Credit Card",
          598,
          "2025-01-17 21:16:11"
         ]
        ],
        [
         [
          4973,
          [
           [
            "Electronics",
            [
             "Bose",
             "Gray"
            ],
            6,
            "Bluetooth Speaker",
            149,
            1
           ]
          ],
          "2025-01-10",
          68,
          "Completed",
          "Bank Transfer",
          149,
          "2025-01-10 20:35:43"
         ]
        ],
        [
         [
          6167,
          [
           [
            "Electronics",
            [
             "GoPro",
             "Gray"
            ],
            7,
            "External Hard Drive",
            129,
            3
           ],
           [
            "Electronics",
            [
             "GoPro",
             "Gray"
            ],
            7,
            "External Hard Drive",
            129,
            3
           ]
          ],
          "2025-01-07",
          73,
          "Shipped",
          "Credit Card",
          387,
          "2025-01-07 01:02:26"
         ]
        ],
        [
         [
          6167,
          [
           [
            "Electronics",
            [
             "GoPro",
             "White"
            ],
            1,
            "Smartphone",
            699,
            1
           ]
          ],
          "2025-01-19",
          75,
          "Shipped",
          "Credit Card",
          699,
          "2025-01-19 16:23:16"
         ]
        ],
        [
         [
          3295,
          [
           [
            "Electronics",
            [
             "Microsoft",
             "Silver"
            ],
            5,
            "Tablet",
            399,
            1
           ]
          ],
          "2025-01-06",
          76,
          "Completed",
          "Bank Transfer",
          399,
          "2025-01-06 02:54:39"
         ]
        ],
        [
         [
          9084,
          [
           [
            "Electronics",
            [
             "Dell",
             "White"
            ],
            5,
            "Tablet",
            399,
            2
           ]
          ],
          "2025-01-21",
          78,
          "Cancelled",
          "PayPal",
          798,
          "2025-01-21 11:42:51"
         ]
        ],
        [
         [
          9084,
          [
           [
            "Electronics",
            [
             "Dell",
             "Gray"
            ],
            8,
            "Gaming Console",
            499,
            2
           ]
          ],
          "2025-01-25",
          79,
          "Cancelled",
          "Credit Card",
          998,
          "2025-01-25 03:52:05"
         ]
        ],
        [
         [
          2344,
          [
           [
            "Electronics",
            [
             "Canon",
             "Gray"
            ],
            7,
            "External Hard Drive",
            129,
            3
           ],
           [
            "Electronics",
            [
             "Sony",
             "Black"
            ],
            3,
            "Wireless Headphones",
            199,
            2
           ]
          ],
          "2025-01-07",
          83,
          "Shipped",
          "PayPal",
          785,
          "2025-01-07 12:48:05"
         ]
        ],
        [
         [
          2141,
          [
           [
            "Electronics",
            [
             "Apple",
             "Blue"
            ],
            7,
            "External Hard Drive",
            129,
            1
           ]
          ],
          "2025-01-02",
          87,
          "Pending",
          "PayPal",
          129,
          "2025-01-02 04:28:38"
         ]
        ],
        [
         [
          9247,
          [
           [
            "Electronics",
            [
             "Canon",
             "White"
            ],
            7,
            "External Hard Drive",
            129,
            1
           ],
           [
            "Electronics",
            [
             "Samsung",
             "Black"
            ],
            7,
            "External Hard Drive",
            129,
            1
           ]
          ],
          "2025-01-17",
          90,
          "Pending",
          "Credit Card",
          258,
          "2025-01-17 14:30:54"
         ]
        ],
        [
         [
          6627,
          [
           [
            "Electronics",
            [
             "Sony",
             "Black"
            ],
            6,
            "Bluetooth Speaker",
            149,
            2
           ],
           [
            "Electronics",
            [
             "Apple",
             "Blue"
            ],
            3,
            "Wireless Headphones",
            199,
            3
           ]
          ],
          "2025-01-10",
          94,
          "Pending",
          "Credit Card",
          895,
          "2025-01-10 09:51:48"
         ]
        ],
        [
         [
          9150,
          [
           [
            "Electronics",
            [
             "HP",
             "Blue"
            ],
            7,
            "External Hard Drive",
            129,
            3
           ],
           [
            "Electronics",
            [
             "Samsung",
             "Gray"
            ],
            4,
            "Smartwatch",
            299,
            2
           ]
          ],
          "2025-01-08",
          98,
          "Completed",
          "Credit Card",
          985,
          "2025-01-08 05:57:55"
         ]
        ],
        [
         [
          9150,
          [
           [
            "Electronics",
            [
             "Bose",
             "Gray"
            ],
            1,
            "Smartphone",
            699,
            1
           ]
          ],
          "2025-01-10",
          99,
          "Shipped",
          "Credit Card",
          699,
          "2025-01-10 21:43:46"
         ]
        ],
        [
         [
          9150,
          [
           [
            "Electronics",
            [
             "LG",
             "Silver"
            ],
            6,
            "Bluetooth Speaker",
            149,
            3
           ]
          ],
          "2025-01-04",
          100,
          "Shipped",
          "PayPal",
          447,
          "2025-01-04 06:40:13"
         ]
        ],
        [
         [
          5816,
          [
           [
            "Electronics",
            [
             "Sony",
             "White"
            ],
            2,
            "Laptop",
            999,
            1
           ]
          ],
          "2024-12-06",
          12,
          "Cancelled",
          "PayPal",
          999,
          "2024-12-06 20:26:49"
         ]
        ],
        [
         [
          4858,
          [
           [
            "Electronics",
            [
             "GoPro",
             "Black"
            ],
            2,
            "Laptop",
            999,
            1
           ]
          ],
          "2024-12-17",
          13,
          "Pending",
          "PayPal",
          999,
          "2024-12-17 03:41:37"
         ]
        ],
        [
         [
          5204,
          [
           [
            "Electronics",
            [
             "Sony",
             "Silver"
            ],
            3,
            "Wireless Headphones",
            199,
            3
           ]
          ],
          "2024-12-08",
          16,
          "Pending",
          "Bank Transfer",
          597,
          "2024-12-08 22:59:48"
         ]
        ],
        [
         [
          5204,
          [
           [
            "Electronics",
            [
             "Dell",
             "Black"
            ],
            8,
            "Gaming Console",
            499,
            2
           ]
          ],
          "2024-12-02",
          17,
          "Pending",
          "Bank Transfer",
          998,
          "2024-12-02 12:00:50"
         ]
        ],
        [
         [
          1211,
          [
           [
            "Electronics",
            [
             "GoPro",
             "Gray"
            ],
            9,
            "Smart TV",
            1199,
            1
           ]
          ],
          "2024-12-21",
          24,
          "Completed",
          "PayPal",
          1199,
          "2024-12-21 03:24:26"
         ]
        ],
        [
         [
          2703,
          [
           [
            "Electronics",
            [
             "Dell",
             "White"
            ],
            7,
            "External Hard Drive",
            129,
            2
           ],
           [
            "Electronics",
            [
             "Canon",
             "Black"
            ],
            6,
            "Bluetooth Speaker",
            149,
            3
           ],
           [
            "Electronics",
            [
             "Microsoft",
             "Silver"
            ],
            3,
            "Wireless Headphones",
            199,
            1
           ]
          ],
          "2024-12-02",
          27,
          "Completed",
          "Credit Card",
          904,
          "2024-12-02 11:24:21"
         ]
        ],
        [
         [
          2703,
          [
           [
            "Electronics",
            [
             "GoPro",
             "Blue"
            ],
            7,
            "External Hard Drive",
            129,
            1
           ]
          ],
          "2024-12-26",
          28,
          "Cancelled",
          "Credit Card",
          129,
          "2024-12-26 03:17:50"
         ]
        ],
        [
         [
          4996,
          [
           [
            "Electronics",
            [
             "Apple",
             "Silver"
            ],
            5,
            "Tablet",
            399,
            1
           ]
          ],
          "2024-12-28",
          32,
          "Pending",
          "PayPal",
          399,
          "2024-12-28 08:55:57"
         ]
        ],
        [
         [
          7829,
          [
           [
            "Electronics",
            [
             "HP",
             "Silver"
            ],
            7,
            "External Hard Drive",
            129,
            2
           ]
          ],
          "2024-12-22",
          37,
          "Shipped",
          "Credit Card",
          258,
          "2024-12-22 10:11:49"
         ]
        ],
        [
         [
          7829,
          [
           [
            "Electronics",
            [
             "Apple",
             "Gray"
            ],
            6,
            "Bluetooth Speaker",
            149,
            3
           ]
          ],
          "2024-12-25",
          38,
          "Shipped",
          "Credit Card",
          447,
          "2024-12-25 22:05:19"
         ]
        ],
        [
         [
          7295,
          [
           [
            "Electronics",
            [
             "Bose",
             "Blue"
            ],
            7,
            "External Hard Drive",
            129,
            1
           ]
          ],
          "2024-12-20",
          44,
          "Completed",
          "Credit Card",
          129,
          "2024-12-20 08:05:43"
         ]
        ],
        [
         [
          7803,
          [
           [
            "Electronics",
            [
             "HP",
             "White"
            ],
            4,
            "Smartwatch",
            299,
            1
           ],
           [
            "Electronics",
            [
             "Canon",
             "Blue"
            ],
            4,
            "Smartwatch",
            299,
            1
           ],
           [
            "Electronics",
            [
             "Samsung",
             "White"
            ],
            6,
            "Bluetooth Speaker",
            149,
            1
           ]
          ],
          "2024-12-07",
          49,
          "Cancelled",
          "PayPal",
          747,
          "2024-12-07 23:24:11"
         ]
        ],
        [
         [
          2054,
          [
           [
            "Electronics",
            [
             "Bose",
             "Gray"
            ],
            3,
            "Wireless Headphones",
            199,
            2
           ]
          ],
          "2024-12-20",
          54,
          "Pending",
          "Credit Card",
          398,
          "2024-12-20 12:04:27"
         ]
        ],
        [
         [
          8580,
          [
           [
            "Electronics",
            [
             "Microsoft",
             "Gray"
            ],
            1,
            "Smartphone",
            699,
            1
           ]
          ],
          "2024-12-09",
          58,
          "Completed",
          "PayPal",
          699,
          "2024-12-09 22:40:58"
         ]
        ],
        [
         [
          3409,
          [
           [
            "Electronics",
            [
             "Samsung",
             "Blue"
            ],
            3,
            "Wireless Headphones",
            199,
            1
           ]
          ],
          "2024-12-13",
          60,
          "Shipped",
          "Bank Transfer",
          199,
          "2024-12-13 13:10:12"
         ]
        ],
        [
         [
          7123,
          [
           [
            "Electronics",
            [
             "Canon",
             "Black"
            ],
            1,
            "Smartphone",
            699,
            1
           ]
          ],
          "2024-12-07",
          61,
          "Completed",
          "Bank Transfer",
          699,
          "2024-12-07 07:47:19"
         ]
        ],
        [
         [
          3084,
          [
           [
            "Electronics",
            [
             "Microsoft",
             "Gray"
            ],
            5,
            "Tablet",
            399,
            1
           ]
          ],
          "2024-12-09",
          65,
          "Cancelled",
          "Bank Transfer",
          399,
          "2024-12-09 13:04:13"
         ]
        ],
        [
         [
          3084,
          [
           [
            "Electronics",
            [
             "LG",
             "Blue"
            ],
            4,
            "Smartwatch",
            299,
            3
           ]
          ],
          "2024-12-19",
          67,
          "Shipped",
          "PayPal",
          897,
          "2024-12-19 07:11:09"
         ]
        ],
        [
         [
          4973,
          [
           [
            "Electronics",
            [
             "Dell",
             "Gray"
            ],
            1,
            "Smartphone",
            699,
            1
           ]
          ],
          "2024-12-30",
          69,
          "Completed",
          "Bank Transfer",
          699,
          "2024-12-30 02:42:01"
         ]
        ],
        [
         [
          7997,
          [
           [
            "Electronics",
            [
             "Sony",
             "Black"
            ],
            4,
            "Smartwatch",
            299,
            3
           ]
          ],
          "2024-12-04",
          70,
          "Shipped",
          "PayPal",
          897,
          "2024-12-04 17:17:24"
         ]
        ],
        [
         [
          7997,
          [
           [
            "Electronics",
            [
             "Microsoft",
             "Black"
            ],
            3,
            "Wireless Headphones",
            199,
            1
           ]
          ],
          "2024-12-27",
          71,
          "Completed",
          "Bank Transfer",
          199,
          "2024-12-27 11:16:39"
         ]
        ],
        [
         [
          6167,
          [
           [
            "Electronics",
            [
             "Samsung",
             "Blue"
            ],
            1,
            "Smartphone",
            699,
            1
           ]
          ],
          "2024-12-22",
          74,
          "Pending",
          "PayPal",
          699,
          "2024-12-22 15:54:11"
         ]
        ],
        [
         [
          9687,
          [
           [
            "Electronics",
            [
             "Samsung",
             "White"
            ],
            8,
            "Gaming Console",
            499,
            2
           ]
          ],
          "2024-12-11",
          80,
          "Cancelled",
          "Bank Transfer",
          998,
          "2024-12-11 07:43:54"
         ]
        ],
        [
         [
          9687,
          [
           [
            "Electronics",
            [
             "GoPro",
             "Blue"
            ],
            1,
            "Smartphone",
            699,
            1
           ]
          ],
          "2024-12-27",
          81,
          "Completed",
          "PayPal",
          699,
          "2024-12-27 02:27:45"
         ]
        ],
        [
         [
          2344,
          [
           [
            "Electronics",
            [
             "Sony",
             "Blue"
            ],
            7,
            "External Hard Drive",
            129,
            3
           ]
          ],
          "2024-12-28",
          82,
          "Completed",
          "PayPal",
          387,
          "2024-12-28 00:54:08"
         ]
        ],
        [
         [
          5592,
          [
           [
            "Electronics",
            [
             "Canon",
             "Silver"
            ],
            1,
            "Smartphone",
            699,
            1
           ]
          ],
          "2024-12-17",
          91,
          "Cancelled",
          "Bank Transfer",
          699,
          "2024-12-17 00:09:53"
         ]
        ],
        [
         [
          6627,
          [
           [
            "Electronics",
            [
             "LG",
             "Silver"
            ],
            4,
            "Smartwatch",
            299,
            2
           ]
          ],
          "2024-12-22",
          93,
          "Pending",
          "PayPal",
          598,
          "2024-12-22 05:07:46"
         ]
        ],
        [
         [
          6627,
          [
           [
            "Electronics",
            [
             "GoPro",
             "White"
            ],
            4,
            "Smartwatch",
            299,
            2
           ],
           [
            "Electronics",
            [
             "Bose",
             "Gray"
            ],
            3,
            "Wireless Headphones",
            199,
            1
           ],
           [
            "Electronics",
            [
             "Dell",
             "Silver"
            ],
            6,
            "Bluetooth Speaker",
            149,
            1
           ]
          ],
          "2024-12-28",
          95,
          "Completed",
          "Bank Transfer",
          946,
          "2024-12-28 04:28:30"
         ]
        ],
        [
         [
          6406,
          [
           [
            "Electronics",
            [
             "Microsoft",
             "Black"
            ],
            6,
            "Bluetooth Speaker",
            149,
            1
           ]
          ],
          "2024-12-02",
          96,
          "Shipped",
          "PayPal",
          149,
          "2024-12-02 12:27:45"
         ]
        ],
        [
         [
          6406,
          [
           [
            "Electronics",
            [
             "Sony",
             "Silver"
            ],
            8,
            "Gaming Console",
            499,
            1
           ]
          ],
          "2024-12-07",
          97,
          "Completed",
          "Bank Transfer",
          499,
          "2024-12-07 16:14:34"
         ]
        ],
        [
         [
          3892,
          [
           [
            "Electronics",
            [
             "Dell",
             "Blue"
            ],
            8,
            "Gaming Console",
            499,
            2
           ]
          ],
          "2024-11-16",
          5,
          "Cancelled",
          "Bank Transfer",
          998,
          "2024-11-16 23:07:31"
         ]
        ],
        [
         [
          1987,
          [
           [
            "Electronics",
            [
             "LG",
             "Blue"
            ],
            7,
            "External Hard Drive",
            129,
            2
           ],
           [
            "Electronics",
            [
             "HP",
             "Gray"
            ],
            7,
            "External Hard Drive",
            129,
            3
           ]
          ],
          "2024-11-19",
          7,
          "Pending",
          "Credit Card",
          645,
          "2024-11-19 19:18:48"
         ]
        ],
        [
         [
          9179,
          [
           [
            "Electronics",
            [
             "Apple",
             "Black"
            ],
            2,
            "Laptop",
            999,
            1
           ]
          ],
          "2024-11-27",
          9,
          "Shipped",
          "Bank Transfer",
          999,
          "2024-11-27 13:15:29"
         ]
        ],
        [
         [
          8539,
          [
           [
            "Electronics",
            [
             "Sony",
             "Silver"
            ],
            5,
            "Tablet",
            399,
            2
           ]
          ],
          "2024-11-18",
          20,
          "Pending",
          "PayPal",
          798,
          "2024-11-18 02:38:21"
         ]
        ],
        [
         [
          8539,
          [
           [
            "Electronics",
            [
             "GoPro",
             "Blue"
            ],
            6,
            "Bluetooth Speaker",
            149,
            2
           ]
          ],
          "2024-11-21",
          21,
          "Cancelled",
          "Bank Transfer",
          298,
          "2024-11-21 11:25:35"
         ]
        ],
        [
         [
          4761,
          [
           [
            "Electronics",
            [
             "Apple",
             "Gray"
            ],
            5,
            "Tablet",
            399,
            1
           ],
           [
            "Electronics",
            [
             "Dell",
             "Gray"
            ],
            4,
            "Smartwatch",
            299,
            2
           ]
          ],
          "2024-11-22",
          23,
          "Shipped",
          "PayPal",
          997,
          "2024-11-22 16:04:05"
         ]
        ],
        [
         [
          9706,
          [
           [
            "Electronics",
            [
             "LG",
             "Gray"
            ],
            2,
            "Laptop",
            999,
            1
           ]
          ],
          "2024-11-05",
          25,
          "Completed",
          "PayPal",
          999,
          "2024-11-05 11:45:31"
         ]
        ],
        [
         [
          4996,
          [
           [
            "Electronics",
            [
             "GoPro",
             "White"
            ],
            3,
            "Wireless Headphones",
            199,
            1
           ]
          ],
          "2024-11-12",
          30,
          "Shipped",
          "Bank Transfer",
          199,
          "2024-11-12 03:20:29"
         ]
        ],
        [
         [
          4914,
          [
           [
            "Electronics",
            [
             "Dell",
             "Gray"
            ],
            3,
            "Wireless Headphones",
            199,
            1
           ]
          ],
          "2024-11-20",
          35,
          "Shipped",
          "Bank Transfer",
          199,
          "2024-11-20 19:09:04"
         ]
        ],
        [
         [
          4914,
          [
           [
            "Electronics",
            [
             "Canon",
             "Silver"
            ],
            3,
            "Wireless Headphones",
            199,
            1
           ]
          ],
          "2024-11-02",
          36,
          "Completed",
          "PayPal",
          199,
          "2024-11-02 10:39:46"
         ]
        ],
        [
         [
          5028,
          [
           [
            "Electronics",
            [
             "Bose",
             "Gray"
            ],
            6,
            "Bluetooth Speaker",
            149,
            1
           ]
          ],
          "2024-11-08",
          42,
          "Completed",
          "Credit Card",
          149,
          "2024-11-08 18:32:25"
         ]
        ],
        [
         [
          7295,
          [
           [
            "Electronics",
            [
             "Dell",
             "White"
            ],
            10,
            "Drone",
            799,
            1
           ]
          ],
          "2024-11-07",
          45,
          "Shipped",
          "Credit Card",
          799,
          "2024-11-07 15:41:43"
         ]
        ],
        [
         [
          7295,
          [
           [
            "Electronics",
            [
             "Samsung",
             "Black"
            ],
            3,
            "Wireless Headphones",
            199,
            1
           ]
          ],
          "2024-11-26",
          46,
          "Pending",
          "PayPal",
          199,
          "2024-11-26 17:16:53"
         ]
        ],
        [
         [
          7803,
          [
           [
            "Electronics",
            [
             "LG",
             "Blue"
            ],
            6,
            "Bluetooth Speaker",
            149,
            2
           ]
          ],
          "2024-11-22",
          47,
          "Shipped",
          "Credit Card",
          298,
          "2024-11-22 02:01:19"
         ]
        ],
        [
         [
          7803,
          [
           [
            "Electronics",
            [
             "Apple",
             "Black"
            ],
            7,
            "External Hard Drive",
            129,
            3
           ]
          ],
          "2024-11-13",
          48,
          "Completed",
          "PayPal",
          387,
          "2024-11-13 06:35:56"
         ]
        ],
        [
         [
          8845,
          [
           [
            "Electronics",
            [
             "GoPro",
             "White"
            ],
            8,
            "Gaming Console",
            499,
            2
           ]
          ],
          "2024-11-19",
          52,
          "Completed",
          "PayPal",
          998,
          "2024-11-19 21:23:45"
         ]
        ],
        [
         [
          8580,
          [
           [
            "Electronics",
            [
             "HP",
             "Silver"
            ],
            3,
            "Wireless Headphones",
            199,
            1
           ],
           [
            "Electronics",
            [
             "Sony",
             "Silver"
            ],
            7,
            "External Hard Drive",
            129,
            3
           ]
          ],
          "2024-11-19",
          57,
          "Cancelled",
          "Bank Transfer",
          586,
          "2024-11-19 11:32:44"
         ]
        ],
        [
         [
          7123,
          [
           [
            "Electronics",
            [
             "GoPro",
             "Blue"
            ],
            3,
            "Wireless Headphones",
            199,
            1
           ],
           [
            "Electronics",
            [
             "Bose",
             "Silver"
            ],
            6,
            "Bluetooth Speaker",
            149,
            3
           ]
          ],
          "2024-11-24",
          63,
          "Cancelled",
          "Bank Transfer",
          646,
          "2024-11-24 08:41:28"
         ]
        ],
        [
         [
          2639,
          [
           [
            "Electronics",
            [
             "Microsoft",
             "White"
            ],
            7,
            "External Hard Drive",
            129,
            3
           ],
           [
            "Electronics",
            [
             "Canon",
             "Blue"
            ],
            3,
            "Wireless Headphones",
            199,
            3
           ]
          ],
          "2024-11-28",
          64,
          "Completed",
          "Bank Transfer",
          984,
          "2024-11-28 12:23:21"
         ]
        ],
        [
         [
          9247,
          [
           [
            "Electronics",
            [
             "Bose",
             "White"
            ],
            7,
            "External Hard Drive",
            129,
            3
           ]
          ],
          "2024-11-15",
          88,
          "Cancelled",
          "Bank Transfer",
          387,
          "2024-11-15 11:39:44"
         ]
        ],
        [
         [
          9247,
          [
           [
            "Electronics",
            [
             "GoPro",
             "Silver"
            ],
            6,
            "Bluetooth Speaker",
            149,
            1
           ]
          ],
          "2024-11-22",
          89,
          "Cancelled",
          "Bank Transfer",
          149,
          "2024-11-22 12:09:15"
         ]
        ],
        [
         [
          5592,
          [
           [
            "Electronics",
            [
             "Sony",
             "Black"
            ],
            7,
            "External Hard Drive",
            129,
            2
           ]
          ],
          "2024-11-24",
          92,
          "Shipped",
          "PayPal",
          258,
          "2024-11-24 23:33:21"
         ]
        ],
        [
         [
          1987,
          [
           [
            "Electronics",
            [
             "GoPro",
             "Black"
            ],
            10,
            "Drone",
            799,
            1
           ]
          ],
          "2024-10-28",
          6,
          "Pending",
          "Credit Card",
          799,
          "2024-10-28 04:47:27"
         ]
        ],
        [
         [
          5816,
          [
           [
            "Electronics",
            [
             "GoPro",
             "White"
            ],
            5,
            "Tablet",
            399,
            1
           ]
          ],
          "2024-10-07",
          10,
          "Pending",
          "Credit Card",
          399,
          "2024-10-07 22:09:27"
         ]
        ],
        [
         [
          5816,
          [
           [
            "Electronics",
            [
             "Canon",
             "White"
            ],
            4,
            "Smartwatch",
            299,
            3
           ]
          ],
          "2024-10-13",
          11,
          "Pending",
          "Bank Transfer",
          897,
          "2024-10-13 17:34:19"
         ]
        ],
        [
         [
          7207,
          [
           [
            "Electronics",
            [
             "GoPro",
             "White"
            ],
            9,
            "Smart TV",
            1199,
            1
           ]
          ],
          "2024-10-20",
          15,
          "Completed",
          "Bank Transfer",
          1199,
          "2024-10-20 01:47:25"
         ]
        ],
        [
         [
          8539,
          [
           [
            "Electronics",
            [
             "Dell",
             "Silver"
            ],
            8,
            "Gaming Console",
            499,
            1
           ]
          ],
          "2024-10-13",
          19,
          "Shipped",
          "PayPal",
          499,
          "2024-10-13 12:40:26"
         ]
        ],
        [
         [
          9263,
          [
           [
            "Electronics",
            [
             "Sony",
             "Black"
            ],
            7,
            "External Hard Drive",
            129,
            3
           ]
          ],
          "2024-10-29",
          39,
          "Shipped",
          "PayPal",
          387,
          "2024-10-29 21:39:19"
         ]
        ],
        [
         [
          9018,
          [
           [
            "Electronics",
            [
             "HP",
             "Black"
            ],
            1,
            "Smartphone",
            699,
            1
           ]
          ],
          "2024-10-25",
          55,
          "Shipped",
          "Bank Transfer",
          699,
          "2024-10-25 05:49:16"
         ]
        ],
        [
         [
          3409,
          [
           [
            "Electronics",
            [
             "Dell",
             "Black"
            ],
            8,
            "Gaming Console",
            499,
            1
           ]
          ],
          "2024-10-23",
          59,
          "Pending",
          "PayPal",
          499,
          "2024-10-23 02:51:05"
         ]
        ],
        [
         [
          3889,
          [
           [
            "Electronics",
            [
             "Microsoft",
             "Gray"
            ],
            3,
            "Wireless Headphones",
            199,
            1
           ],
           [
            "Electronics",
            [
             "Samsung",
             "Silver"
            ],
            7,
            "External Hard Drive",
            129,
            1
           ]
          ],
          "2024-10-06",
          72,
          "Cancelled",
          "PayPal",
          328,
          "2024-10-06 10:23:28"
         ]
        ],
        [
         [
          9084,
          [
           [
            "Electronics",
            [
             "HP",
             "Silver"
            ],
            3,
            "Wireless Headphones",
            199,
            2
           ]
          ],
          "2024-10-15",
          77,
          "Pending",
          "Credit Card",
          398,
          "2024-10-15 13:09:33"
         ]
        ],
        [
         [
          2344,
          [
           [
            "Electronics",
            [
             "Sony",
             "Black"
            ],
            10,
            "Drone",
            799,
            1
           ],
           [
            "Electronics",
            [
             "LG",
             "Black"
            ],
            3,
            "Wireless Headphones",
            199,
            1
           ]
          ],
          "2024-10-25",
          84,
          "Completed",
          "PayPal",
          998,
          "2024-10-25 03:37:42"
         ]
        ],
        [
         [
          5011,
          [
           [
            "Electronics",
            [
             "GoPro",
             "Black"
            ],
            8,
            "Gaming Console",
            499,
            2
           ]
          ],
          "2024-10-23",
          85,
          "Shipped",
          "Bank Transfer",
          998,
          "2024-10-23 20:06:42"
         ]
        ],
        [
         [
          5011,
          [
           [
            "Electronics",
            [
             "Dell",
             "White"
            ],
            9,
            "Smart TV",
            1199,
            1
           ]
          ],
          "2024-10-19",
          86,
          "Completed",
          "PayPal",
          1199,
          "2024-10-19 13:30:47"
         ]
        ]
       ],
       "datasetInfos": [],
       "dbfsResultPath": null,
       "isJsonSchema": true,
       "metadata": {},
       "overflow": false,
       "plotOptions": {
        "customPlotOptions": {},
        "displayType": "table",
        "pivotAggregation": null,
        "pivotColumns": null,
        "xColumns": null,
        "yColumns": null
       },
       "removedWidgets": [],
       "schema": [
        {
         "metadata": "{}",
         "name": "json_value",
         "type": "{\"type\":\"struct\",\"fields\":[{\"name\":\"customer_id\",\"type\":\"long\",\"nullable\":true,\"metadata\":{}},{\"name\":\"items\",\"type\":{\"type\":\"array\",\"elementType\":{\"type\":\"struct\",\"fields\":[{\"name\":\"category\",\"type\":\"string\",\"nullable\":true,\"metadata\":{}},{\"name\":\"details\",\"type\":{\"type\":\"struct\",\"fields\":[{\"name\":\"brand\",\"type\":\"string\",\"nullable\":true,\"metadata\":{}},{\"name\":\"color\",\"type\":\"string\",\"nullable\":true,\"metadata\":{}}]},\"nullable\":true,\"metadata\":{}},{\"name\":\"item_id\",\"type\":\"long\",\"nullable\":true,\"metadata\":{}},{\"name\":\"name\",\"type\":\"string\",\"nullable\":true,\"metadata\":{}},{\"name\":\"price\",\"type\":\"long\",\"nullable\":true,\"metadata\":{}},{\"name\":\"quantity\",\"type\":\"long\",\"nullable\":true,\"metadata\":{}}]},\"containsNull\":true},\"nullable\":true,\"metadata\":{}},{\"name\":\"order_date\",\"type\":\"string\",\"nullable\":true,\"metadata\":{}},{\"name\":\"order_id\",\"type\":\"long\",\"nullable\":true,\"metadata\":{}},{\"name\":\"order_status\",\"type\":\"string\",\"nullable\":true,\"metadata\":{}},{\"name\":\"payment_method\",\"type\":\"string\",\"nullable\":true,\"metadata\":{}},{\"name\":\"total_amount\",\"type\":\"long\",\"nullable\":true,\"metadata\":{}},{\"name\":\"transaction_timestamp\",\"type\":\"string\",\"nullable\":true,\"metadata\":{}}]}"
        }
       ],
       "type": "table"
      }
     },
     "output_type": "display_data"
    }
   ],
   "source": [
    "select * from gizmobox.silver.orders_json"
   ]
  },
  {
   "cell_type": "markdown",
   "metadata": {
    "application/vnd.databricks.v1+cell": {
     "cellMetadata": {},
     "inputWidgets": {},
     "nuid": "bccd6a2f-ac88-433f-b169-31ee9ba6be3e",
     "showTitle": false,
     "tableResultSettingsMap": {},
     "title": ""
    }
   },
   "source": [
    "#####1. Access elements from JSON object"
   ]
  },
  {
   "cell_type": "code",
   "execution_count": 0,
   "metadata": {
    "application/vnd.databricks.v1+cell": {
     "cellMetadata": {
      "byteLimit": 2048000,
      "rowLimit": 10000
     },
     "inputWidgets": {},
     "nuid": "977f3533-3451-461d-969f-5a787a381db5",
     "showTitle": false,
     "tableResultSettingsMap": {},
     "title": ""
    }
   },
   "outputs": [
    {
     "output_type": "display_data",
     "data": {
      "text/html": [
       "<style scoped>\n",
       "  .table-result-container {\n",
       "    max-height: 300px;\n",
       "    overflow: auto;\n",
       "  }\n",
       "  table, th, td {\n",
       "    border: 1px solid black;\n",
       "    border-collapse: collapse;\n",
       "  }\n",
       "  th, td {\n",
       "    padding: 5px;\n",
       "  }\n",
       "  th {\n",
       "    text-align: left;\n",
       "  }\n",
       "</style><div class='table-result-container'><table class='table-result'><thead style='background-color: white'><tr><th>order_id</th><th>order_status</th><th>payment_method</th><th>total_amount</th><th>transaction_timestamp</th><th>order_date</th><th>customer_id</th><th>items</th></tr></thead><tbody><tr><td>1</td><td>Completed</td><td>Bank Transfer</td><td>499</td><td>2025-01-05 10:13:59</td><td>2025-01-05</td><td>6973</td><td>List(List(Electronics, List(Sony, Blue), 8, Gaming Console, 499, 1))</td></tr><tr><td>2</td><td>Cancelled</td><td>PayPal</td><td>985</td><td>2025-01-19 00:05:13</td><td>2025-01-19</td><td>3532</td><td>List(List(Electronics, List(Canon, Gray), 4, Smartwatch, 299, 2), List(Electronics, List(Dell, Blue), 7, External Hard Drive, 129, 3))</td></tr><tr><td>3</td><td>Completed</td><td>Bank Transfer</td><td>597</td><td>2025-01-08 23:11:00</td><td>2025-01-08</td><td>3532</td><td>List(List(Electronics, List(Apple, White), 3, Wireless Headphones, 199, 3))</td></tr><tr><td>4</td><td>Cancelled</td><td>Bank Transfer</td><td>999</td><td>2025-01-05 05:49:26</td><td>2025-01-05</td><td>3532</td><td>List(List(Electronics, List(Microsoft, Black), 2, Laptop, 999, 1))</td></tr><tr><td>8</td><td>Completed</td><td>PayPal</td><td>399</td><td>2025-01-02 13:11:15</td><td>2025-01-02</td><td>9179</td><td>List(List(Electronics, List(LG, White), 5, Tablet, 399, 1))</td></tr><tr><td>14</td><td>Cancelled</td><td>PayPal</td><td>597</td><td>2025-01-01 18:22:26</td><td>2025-01-01</td><td>7207</td><td>List(List(Electronics, List(Bose, Blue), 3, Wireless Headphones, 199, 3))</td></tr><tr><td>18</td><td>Pending</td><td>Credit Card</td><td>799</td><td>2025-01-22 21:12:08</td><td>2025-01-22</td><td>4468</td><td>List(List(Electronics, List(Dell, Black), 10, Drone, 799, 1))</td></tr><tr><td>22</td><td>Pending</td><td>PayPal</td><td>199</td><td>2025-01-01 15:49:19</td><td>2025-01-01</td><td>4761</td><td>List(List(Electronics, List(HP, Silver), 3, Wireless Headphones, 199, 1))</td></tr><tr><td>26</td><td>Shipped</td><td>Bank Transfer</td><td>699</td><td>2025-01-05 19:01:25</td><td>2025-01-05</td><td>7007</td><td>List(List(Electronics, List(Samsung, Silver), 1, Smartphone, 699, 1))</td></tr><tr><td>29</td><td>Pending</td><td>Bank Transfer</td><td>129</td><td>2025-01-18 03:05:04</td><td>2025-01-18</td><td>5953</td><td>List(List(Electronics, List(Bose, Gray), 7, External Hard Drive, 129, 1), List(Electronics, List(Bose, Gray), 7, External Hard Drive, 129, 1))</td></tr><tr><td>31</td><td>Shipped</td><td>Bank Transfer</td><td>299</td><td>2025-01-18 03:13:29</td><td>2025-01-18</td><td>4996</td><td>List(List(Electronics, List(Dell, White), 4, Smartwatch, 299, 1))</td></tr><tr><td>33</td><td>Completed</td><td>PayPal</td><td>897</td><td>2025-01-13 04:47:43</td><td>2025-01-13</td><td>9605</td><td>List(List(Electronics, List(Canon, White), 4, Smartwatch, 299, 3))</td></tr><tr><td>34</td><td>Cancelled</td><td>PayPal</td><td>926</td><td>2025-01-21 00:25:01</td><td>2025-01-21</td><td>9605</td><td>List(List(Electronics, List(Bose, Silver), 6, Bluetooth Speaker, 149, 2), List(Electronics, List(LG, Black), 8, Gaming Console, 499, 1), List(Electronics, List(Samsung, Black), 7, External Hard Drive, 129, 1))</td></tr><tr><td>40</td><td>Completed</td><td>PayPal</td><td>298</td><td>2025-01-20 16:18:35</td><td>2025-01-20</td><td>6384</td><td>List(List(Electronics, List(Bose, Silver), 6, Bluetooth Speaker, 149, 2))</td></tr><tr><td>41</td><td>Shipped</td><td>Credit Card</td><td>999</td><td>2025-01-05 06:10:22</td><td>2025-01-05</td><td>6384</td><td>List(List(Electronics, List(Sony, Silver), 2, Laptop, 999, 1))</td></tr><tr><td>43</td><td>Pending</td><td>PayPal</td><td>499</td><td>2025-01-24 18:10:37</td><td>2025-01-24</td><td>5028</td><td>List(List(Electronics, List(LG, Black), 8, Gaming Console, 499, 1))</td></tr><tr><td>50</td><td>Shipped</td><td>Credit Card</td><td>746</td><td>2025-01-11 01:19:09</td><td>2025-01-11</td><td>3712</td><td>List(List(Electronics, List(Apple, Gray), 6, Bluetooth Speaker, 149, 3), List(Electronics, List(Sony, White), 4, Smartwatch, 299, 1))</td></tr><tr><td>51</td><td>Completed</td><td>PayPal</td><td>149</td><td>2025-01-21 13:19:59</td><td>2025-01-21</td><td>8845</td><td>List(List(Electronics, List(Samsung, Gray), 6, Bluetooth Speaker, 149, 1))</td></tr><tr><td>53</td><td>Pending</td><td>Bank Transfer</td><td>199</td><td>2025-01-21 08:31:02</td><td>2025-01-21</td><td>8845</td><td>List(List(Electronics, List(Apple, Black), 3, Wireless Headphones, 199, 1))</td></tr><tr><td>56</td><td>Cancelled</td><td>PayPal</td><td>698</td><td>2025-01-01 12:02:41</td><td>2025-01-01</td><td>8580</td><td>List(List(Electronics, List(HP, Silver), 3, Wireless Headphones, 199, 1), List(Electronics, List(LG, Gray), 8, Gaming Console, 499, 1))</td></tr><tr><td>62</td><td>Completed</td><td>Bank Transfer</td><td>985</td><td>2025-01-24 12:00:54</td><td>2025-01-24</td><td>7123</td><td>List(List(Electronics, List(Dell, White), 7, External Hard Drive, 129, 3), List(Electronics, List(GoPro, Blue), 4, Smartwatch, 299, 2))</td></tr><tr><td>66</td><td>Cancelled</td><td>Credit Card</td><td>598</td><td>2025-01-17 21:16:11</td><td>2025-01-17</td><td>3084</td><td>List(List(Electronics, List(Bose, Silver), 4, Smartwatch, 299, 1), List(Electronics, List(GoPro, White), 4, Smartwatch, 299, 1))</td></tr><tr><td>68</td><td>Completed</td><td>Bank Transfer</td><td>149</td><td>2025-01-10 20:35:43</td><td>2025-01-10</td><td>4973</td><td>List(List(Electronics, List(Bose, Gray), 6, Bluetooth Speaker, 149, 1))</td></tr><tr><td>73</td><td>Shipped</td><td>Credit Card</td><td>387</td><td>2025-01-07 01:02:26</td><td>2025-01-07</td><td>6167</td><td>List(List(Electronics, List(GoPro, Gray), 7, External Hard Drive, 129, 3), List(Electronics, List(GoPro, Gray), 7, External Hard Drive, 129, 3))</td></tr><tr><td>75</td><td>Shipped</td><td>Credit Card</td><td>699</td><td>2025-01-19 16:23:16</td><td>2025-01-19</td><td>6167</td><td>List(List(Electronics, List(GoPro, White), 1, Smartphone, 699, 1))</td></tr><tr><td>76</td><td>Completed</td><td>Bank Transfer</td><td>399</td><td>2025-01-06 02:54:39</td><td>2025-01-06</td><td>3295</td><td>List(List(Electronics, List(Microsoft, Silver), 5, Tablet, 399, 1))</td></tr><tr><td>78</td><td>Cancelled</td><td>PayPal</td><td>798</td><td>2025-01-21 11:42:51</td><td>2025-01-21</td><td>9084</td><td>List(List(Electronics, List(Dell, White), 5, Tablet, 399, 2))</td></tr><tr><td>79</td><td>Cancelled</td><td>Credit Card</td><td>998</td><td>2025-01-25 03:52:05</td><td>2025-01-25</td><td>9084</td><td>List(List(Electronics, List(Dell, Gray), 8, Gaming Console, 499, 2))</td></tr><tr><td>83</td><td>Shipped</td><td>PayPal</td><td>785</td><td>2025-01-07 12:48:05</td><td>2025-01-07</td><td>2344</td><td>List(List(Electronics, List(Canon, Gray), 7, External Hard Drive, 129, 3), List(Electronics, List(Sony, Black), 3, Wireless Headphones, 199, 2))</td></tr><tr><td>87</td><td>Pending</td><td>PayPal</td><td>129</td><td>2025-01-02 04:28:38</td><td>2025-01-02</td><td>2141</td><td>List(List(Electronics, List(Apple, Blue), 7, External Hard Drive, 129, 1))</td></tr><tr><td>90</td><td>Pending</td><td>Credit Card</td><td>258</td><td>2025-01-17 14:30:54</td><td>2025-01-17</td><td>9247</td><td>List(List(Electronics, List(Canon, White), 7, External Hard Drive, 129, 1), List(Electronics, List(Samsung, Black), 7, External Hard Drive, 129, 1))</td></tr><tr><td>94</td><td>Pending</td><td>Credit Card</td><td>895</td><td>2025-01-10 09:51:48</td><td>2025-01-10</td><td>6627</td><td>List(List(Electronics, List(Sony, Black), 6, Bluetooth Speaker, 149, 2), List(Electronics, List(Apple, Blue), 3, Wireless Headphones, 199, 3))</td></tr><tr><td>98</td><td>Completed</td><td>Credit Card</td><td>985</td><td>2025-01-08 05:57:55</td><td>2025-01-08</td><td>9150</td><td>List(List(Electronics, List(HP, Blue), 7, External Hard Drive, 129, 3), List(Electronics, List(Samsung, Gray), 4, Smartwatch, 299, 2))</td></tr><tr><td>99</td><td>Shipped</td><td>Credit Card</td><td>699</td><td>2025-01-10 21:43:46</td><td>2025-01-10</td><td>9150</td><td>List(List(Electronics, List(Bose, Gray), 1, Smartphone, 699, 1))</td></tr><tr><td>100</td><td>Shipped</td><td>PayPal</td><td>447</td><td>2025-01-04 06:40:13</td><td>2025-01-04</td><td>9150</td><td>List(List(Electronics, List(LG, Silver), 6, Bluetooth Speaker, 149, 3))</td></tr><tr><td>12</td><td>Cancelled</td><td>PayPal</td><td>999</td><td>2024-12-06 20:26:49</td><td>2024-12-06</td><td>5816</td><td>List(List(Electronics, List(Sony, White), 2, Laptop, 999, 1))</td></tr><tr><td>13</td><td>Pending</td><td>PayPal</td><td>999</td><td>2024-12-17 03:41:37</td><td>2024-12-17</td><td>4858</td><td>List(List(Electronics, List(GoPro, Black), 2, Laptop, 999, 1))</td></tr><tr><td>16</td><td>Pending</td><td>Bank Transfer</td><td>597</td><td>2024-12-08 22:59:48</td><td>2024-12-08</td><td>5204</td><td>List(List(Electronics, List(Sony, Silver), 3, Wireless Headphones, 199, 3))</td></tr><tr><td>17</td><td>Pending</td><td>Bank Transfer</td><td>998</td><td>2024-12-02 12:00:50</td><td>2024-12-02</td><td>5204</td><td>List(List(Electronics, List(Dell, Black), 8, Gaming Console, 499, 2))</td></tr><tr><td>24</td><td>Completed</td><td>PayPal</td><td>1199</td><td>2024-12-21 03:24:26</td><td>2024-12-21</td><td>1211</td><td>List(List(Electronics, List(GoPro, Gray), 9, Smart TV, 1199, 1))</td></tr><tr><td>27</td><td>Completed</td><td>Credit Card</td><td>904</td><td>2024-12-02 11:24:21</td><td>2024-12-02</td><td>2703</td><td>List(List(Electronics, List(Dell, White), 7, External Hard Drive, 129, 2), List(Electronics, List(Canon, Black), 6, Bluetooth Speaker, 149, 3), List(Electronics, List(Microsoft, Silver), 3, Wireless Headphones, 199, 1))</td></tr><tr><td>28</td><td>Cancelled</td><td>Credit Card</td><td>129</td><td>2024-12-26 03:17:50</td><td>2024-12-26</td><td>2703</td><td>List(List(Electronics, List(GoPro, Blue), 7, External Hard Drive, 129, 1))</td></tr><tr><td>32</td><td>Pending</td><td>PayPal</td><td>399</td><td>2024-12-28 08:55:57</td><td>2024-12-28</td><td>4996</td><td>List(List(Electronics, List(Apple, Silver), 5, Tablet, 399, 1))</td></tr><tr><td>37</td><td>Shipped</td><td>Credit Card</td><td>258</td><td>2024-12-22 10:11:49</td><td>2024-12-22</td><td>7829</td><td>List(List(Electronics, List(HP, Silver), 7, External Hard Drive, 129, 2))</td></tr><tr><td>38</td><td>Shipped</td><td>Credit Card</td><td>447</td><td>2024-12-25 22:05:19</td><td>2024-12-25</td><td>7829</td><td>List(List(Electronics, List(Apple, Gray), 6, Bluetooth Speaker, 149, 3))</td></tr><tr><td>44</td><td>Completed</td><td>Credit Card</td><td>129</td><td>2024-12-20 08:05:43</td><td>2024-12-20</td><td>7295</td><td>List(List(Electronics, List(Bose, Blue), 7, External Hard Drive, 129, 1))</td></tr><tr><td>49</td><td>Cancelled</td><td>PayPal</td><td>747</td><td>2024-12-07 23:24:11</td><td>2024-12-07</td><td>7803</td><td>List(List(Electronics, List(HP, White), 4, Smartwatch, 299, 1), List(Electronics, List(Canon, Blue), 4, Smartwatch, 299, 1), List(Electronics, List(Samsung, White), 6, Bluetooth Speaker, 149, 1))</td></tr><tr><td>54</td><td>Pending</td><td>Credit Card</td><td>398</td><td>2024-12-20 12:04:27</td><td>2024-12-20</td><td>2054</td><td>List(List(Electronics, List(Bose, Gray), 3, Wireless Headphones, 199, 2))</td></tr><tr><td>58</td><td>Completed</td><td>PayPal</td><td>699</td><td>2024-12-09 22:40:58</td><td>2024-12-09</td><td>8580</td><td>List(List(Electronics, List(Microsoft, Gray), 1, Smartphone, 699, 1))</td></tr><tr><td>60</td><td>Shipped</td><td>Bank Transfer</td><td>199</td><td>2024-12-13 13:10:12</td><td>2024-12-13</td><td>3409</td><td>List(List(Electronics, List(Samsung, Blue), 3, Wireless Headphones, 199, 1))</td></tr><tr><td>61</td><td>Completed</td><td>Bank Transfer</td><td>699</td><td>2024-12-07 07:47:19</td><td>2024-12-07</td><td>7123</td><td>List(List(Electronics, List(Canon, Black), 1, Smartphone, 699, 1))</td></tr><tr><td>65</td><td>Cancelled</td><td>Bank Transfer</td><td>399</td><td>2024-12-09 13:04:13</td><td>2024-12-09</td><td>3084</td><td>List(List(Electronics, List(Microsoft, Gray), 5, Tablet, 399, 1))</td></tr><tr><td>67</td><td>Shipped</td><td>PayPal</td><td>897</td><td>2024-12-19 07:11:09</td><td>2024-12-19</td><td>3084</td><td>List(List(Electronics, List(LG, Blue), 4, Smartwatch, 299, 3))</td></tr><tr><td>69</td><td>Completed</td><td>Bank Transfer</td><td>699</td><td>2024-12-30 02:42:01</td><td>2024-12-30</td><td>4973</td><td>List(List(Electronics, List(Dell, Gray), 1, Smartphone, 699, 1))</td></tr><tr><td>70</td><td>Shipped</td><td>PayPal</td><td>897</td><td>2024-12-04 17:17:24</td><td>2024-12-04</td><td>7997</td><td>List(List(Electronics, List(Sony, Black), 4, Smartwatch, 299, 3))</td></tr><tr><td>71</td><td>Completed</td><td>Bank Transfer</td><td>199</td><td>2024-12-27 11:16:39</td><td>2024-12-27</td><td>7997</td><td>List(List(Electronics, List(Microsoft, Black), 3, Wireless Headphones, 199, 1))</td></tr><tr><td>74</td><td>Pending</td><td>PayPal</td><td>699</td><td>2024-12-22 15:54:11</td><td>2024-12-22</td><td>6167</td><td>List(List(Electronics, List(Samsung, Blue), 1, Smartphone, 699, 1))</td></tr><tr><td>80</td><td>Cancelled</td><td>Bank Transfer</td><td>998</td><td>2024-12-11 07:43:54</td><td>2024-12-11</td><td>9687</td><td>List(List(Electronics, List(Samsung, White), 8, Gaming Console, 499, 2))</td></tr><tr><td>81</td><td>Completed</td><td>PayPal</td><td>699</td><td>2024-12-27 02:27:45</td><td>2024-12-27</td><td>9687</td><td>List(List(Electronics, List(GoPro, Blue), 1, Smartphone, 699, 1))</td></tr><tr><td>82</td><td>Completed</td><td>PayPal</td><td>387</td><td>2024-12-28 00:54:08</td><td>2024-12-28</td><td>2344</td><td>List(List(Electronics, List(Sony, Blue), 7, External Hard Drive, 129, 3))</td></tr><tr><td>91</td><td>Cancelled</td><td>Bank Transfer</td><td>699</td><td>2024-12-17 00:09:53</td><td>2024-12-17</td><td>5592</td><td>List(List(Electronics, List(Canon, Silver), 1, Smartphone, 699, 1))</td></tr><tr><td>93</td><td>Pending</td><td>PayPal</td><td>598</td><td>2024-12-22 05:07:46</td><td>2024-12-22</td><td>6627</td><td>List(List(Electronics, List(LG, Silver), 4, Smartwatch, 299, 2))</td></tr><tr><td>95</td><td>Completed</td><td>Bank Transfer</td><td>946</td><td>2024-12-28 04:28:30</td><td>2024-12-28</td><td>6627</td><td>List(List(Electronics, List(GoPro, White), 4, Smartwatch, 299, 2), List(Electronics, List(Bose, Gray), 3, Wireless Headphones, 199, 1), List(Electronics, List(Dell, Silver), 6, Bluetooth Speaker, 149, 1))</td></tr><tr><td>96</td><td>Shipped</td><td>PayPal</td><td>149</td><td>2024-12-02 12:27:45</td><td>2024-12-02</td><td>6406</td><td>List(List(Electronics, List(Microsoft, Black), 6, Bluetooth Speaker, 149, 1))</td></tr><tr><td>97</td><td>Completed</td><td>Bank Transfer</td><td>499</td><td>2024-12-07 16:14:34</td><td>2024-12-07</td><td>6406</td><td>List(List(Electronics, List(Sony, Silver), 8, Gaming Console, 499, 1))</td></tr><tr><td>5</td><td>Cancelled</td><td>Bank Transfer</td><td>998</td><td>2024-11-16 23:07:31</td><td>2024-11-16</td><td>3892</td><td>List(List(Electronics, List(Dell, Blue), 8, Gaming Console, 499, 2))</td></tr><tr><td>7</td><td>Pending</td><td>Credit Card</td><td>645</td><td>2024-11-19 19:18:48</td><td>2024-11-19</td><td>1987</td><td>List(List(Electronics, List(LG, Blue), 7, External Hard Drive, 129, 2), List(Electronics, List(HP, Gray), 7, External Hard Drive, 129, 3))</td></tr><tr><td>9</td><td>Shipped</td><td>Bank Transfer</td><td>999</td><td>2024-11-27 13:15:29</td><td>2024-11-27</td><td>9179</td><td>List(List(Electronics, List(Apple, Black), 2, Laptop, 999, 1))</td></tr><tr><td>20</td><td>Pending</td><td>PayPal</td><td>798</td><td>2024-11-18 02:38:21</td><td>2024-11-18</td><td>8539</td><td>List(List(Electronics, List(Sony, Silver), 5, Tablet, 399, 2))</td></tr><tr><td>21</td><td>Cancelled</td><td>Bank Transfer</td><td>298</td><td>2024-11-21 11:25:35</td><td>2024-11-21</td><td>8539</td><td>List(List(Electronics, List(GoPro, Blue), 6, Bluetooth Speaker, 149, 2))</td></tr><tr><td>23</td><td>Shipped</td><td>PayPal</td><td>997</td><td>2024-11-22 16:04:05</td><td>2024-11-22</td><td>4761</td><td>List(List(Electronics, List(Apple, Gray), 5, Tablet, 399, 1), List(Electronics, List(Dell, Gray), 4, Smartwatch, 299, 2))</td></tr><tr><td>25</td><td>Completed</td><td>PayPal</td><td>999</td><td>2024-11-05 11:45:31</td><td>2024-11-05</td><td>9706</td><td>List(List(Electronics, List(LG, Gray), 2, Laptop, 999, 1))</td></tr><tr><td>30</td><td>Shipped</td><td>Bank Transfer</td><td>199</td><td>2024-11-12 03:20:29</td><td>2024-11-12</td><td>4996</td><td>List(List(Electronics, List(GoPro, White), 3, Wireless Headphones, 199, 1))</td></tr><tr><td>35</td><td>Shipped</td><td>Bank Transfer</td><td>199</td><td>2024-11-20 19:09:04</td><td>2024-11-20</td><td>4914</td><td>List(List(Electronics, List(Dell, Gray), 3, Wireless Headphones, 199, 1))</td></tr><tr><td>36</td><td>Completed</td><td>PayPal</td><td>199</td><td>2024-11-02 10:39:46</td><td>2024-11-02</td><td>4914</td><td>List(List(Electronics, List(Canon, Silver), 3, Wireless Headphones, 199, 1))</td></tr><tr><td>42</td><td>Completed</td><td>Credit Card</td><td>149</td><td>2024-11-08 18:32:25</td><td>2024-11-08</td><td>5028</td><td>List(List(Electronics, List(Bose, Gray), 6, Bluetooth Speaker, 149, 1))</td></tr><tr><td>45</td><td>Shipped</td><td>Credit Card</td><td>799</td><td>2024-11-07 15:41:43</td><td>2024-11-07</td><td>7295</td><td>List(List(Electronics, List(Dell, White), 10, Drone, 799, 1))</td></tr><tr><td>46</td><td>Pending</td><td>PayPal</td><td>199</td><td>2024-11-26 17:16:53</td><td>2024-11-26</td><td>7295</td><td>List(List(Electronics, List(Samsung, Black), 3, Wireless Headphones, 199, 1))</td></tr><tr><td>47</td><td>Shipped</td><td>Credit Card</td><td>298</td><td>2024-11-22 02:01:19</td><td>2024-11-22</td><td>7803</td><td>List(List(Electronics, List(LG, Blue), 6, Bluetooth Speaker, 149, 2))</td></tr><tr><td>48</td><td>Completed</td><td>PayPal</td><td>387</td><td>2024-11-13 06:35:56</td><td>2024-11-13</td><td>7803</td><td>List(List(Electronics, List(Apple, Black), 7, External Hard Drive, 129, 3))</td></tr><tr><td>52</td><td>Completed</td><td>PayPal</td><td>998</td><td>2024-11-19 21:23:45</td><td>2024-11-19</td><td>8845</td><td>List(List(Electronics, List(GoPro, White), 8, Gaming Console, 499, 2))</td></tr><tr><td>57</td><td>Cancelled</td><td>Bank Transfer</td><td>586</td><td>2024-11-19 11:32:44</td><td>2024-11-19</td><td>8580</td><td>List(List(Electronics, List(HP, Silver), 3, Wireless Headphones, 199, 1), List(Electronics, List(Sony, Silver), 7, External Hard Drive, 129, 3))</td></tr><tr><td>63</td><td>Cancelled</td><td>Bank Transfer</td><td>646</td><td>2024-11-24 08:41:28</td><td>2024-11-24</td><td>7123</td><td>List(List(Electronics, List(GoPro, Blue), 3, Wireless Headphones, 199, 1), List(Electronics, List(Bose, Silver), 6, Bluetooth Speaker, 149, 3))</td></tr><tr><td>64</td><td>Completed</td><td>Bank Transfer</td><td>984</td><td>2024-11-28 12:23:21</td><td>2024-11-28</td><td>2639</td><td>List(List(Electronics, List(Microsoft, White), 7, External Hard Drive, 129, 3), List(Electronics, List(Canon, Blue), 3, Wireless Headphones, 199, 3))</td></tr><tr><td>88</td><td>Cancelled</td><td>Bank Transfer</td><td>387</td><td>2024-11-15 11:39:44</td><td>2024-11-15</td><td>9247</td><td>List(List(Electronics, List(Bose, White), 7, External Hard Drive, 129, 3))</td></tr><tr><td>89</td><td>Cancelled</td><td>Bank Transfer</td><td>149</td><td>2024-11-22 12:09:15</td><td>2024-11-22</td><td>9247</td><td>List(List(Electronics, List(GoPro, Silver), 6, Bluetooth Speaker, 149, 1))</td></tr><tr><td>92</td><td>Shipped</td><td>PayPal</td><td>258</td><td>2024-11-24 23:33:21</td><td>2024-11-24</td><td>5592</td><td>List(List(Electronics, List(Sony, Black), 7, External Hard Drive, 129, 2))</td></tr><tr><td>6</td><td>Pending</td><td>Credit Card</td><td>799</td><td>2024-10-28 04:47:27</td><td>2024-10-28</td><td>1987</td><td>List(List(Electronics, List(GoPro, Black), 10, Drone, 799, 1))</td></tr><tr><td>10</td><td>Pending</td><td>Credit Card</td><td>399</td><td>2024-10-07 22:09:27</td><td>2024-10-07</td><td>5816</td><td>List(List(Electronics, List(GoPro, White), 5, Tablet, 399, 1))</td></tr><tr><td>11</td><td>Pending</td><td>Bank Transfer</td><td>897</td><td>2024-10-13 17:34:19</td><td>2024-10-13</td><td>5816</td><td>List(List(Electronics, List(Canon, White), 4, Smartwatch, 299, 3))</td></tr><tr><td>15</td><td>Completed</td><td>Bank Transfer</td><td>1199</td><td>2024-10-20 01:47:25</td><td>2024-10-20</td><td>7207</td><td>List(List(Electronics, List(GoPro, White), 9, Smart TV, 1199, 1))</td></tr><tr><td>19</td><td>Shipped</td><td>PayPal</td><td>499</td><td>2024-10-13 12:40:26</td><td>2024-10-13</td><td>8539</td><td>List(List(Electronics, List(Dell, Silver), 8, Gaming Console, 499, 1))</td></tr><tr><td>39</td><td>Shipped</td><td>PayPal</td><td>387</td><td>2024-10-29 21:39:19</td><td>2024-10-29</td><td>9263</td><td>List(List(Electronics, List(Sony, Black), 7, External Hard Drive, 129, 3))</td></tr><tr><td>55</td><td>Shipped</td><td>Bank Transfer</td><td>699</td><td>2024-10-25 05:49:16</td><td>2024-10-25</td><td>9018</td><td>List(List(Electronics, List(HP, Black), 1, Smartphone, 699, 1))</td></tr><tr><td>59</td><td>Pending</td><td>PayPal</td><td>499</td><td>2024-10-23 02:51:05</td><td>2024-10-23</td><td>3409</td><td>List(List(Electronics, List(Dell, Black), 8, Gaming Console, 499, 1))</td></tr><tr><td>72</td><td>Cancelled</td><td>PayPal</td><td>328</td><td>2024-10-06 10:23:28</td><td>2024-10-06</td><td>3889</td><td>List(List(Electronics, List(Microsoft, Gray), 3, Wireless Headphones, 199, 1), List(Electronics, List(Samsung, Silver), 7, External Hard Drive, 129, 1))</td></tr><tr><td>77</td><td>Pending</td><td>Credit Card</td><td>398</td><td>2024-10-15 13:09:33</td><td>2024-10-15</td><td>9084</td><td>List(List(Electronics, List(HP, Silver), 3, Wireless Headphones, 199, 2))</td></tr><tr><td>84</td><td>Completed</td><td>PayPal</td><td>998</td><td>2024-10-25 03:37:42</td><td>2024-10-25</td><td>2344</td><td>List(List(Electronics, List(Sony, Black), 10, Drone, 799, 1), List(Electronics, List(LG, Black), 3, Wireless Headphones, 199, 1))</td></tr><tr><td>85</td><td>Shipped</td><td>Bank Transfer</td><td>998</td><td>2024-10-23 20:06:42</td><td>2024-10-23</td><td>5011</td><td>List(List(Electronics, List(GoPro, Black), 8, Gaming Console, 499, 2))</td></tr><tr><td>86</td><td>Completed</td><td>PayPal</td><td>1199</td><td>2024-10-19 13:30:47</td><td>2024-10-19</td><td>5011</td><td>List(List(Electronics, List(Dell, White), 9, Smart TV, 1199, 1))</td></tr></tbody></table></div>"
      ]
     },
     "metadata": {
      "application/vnd.databricks.v1+output": {
       "addedWidgets": {},
       "aggData": [],
       "aggError": "",
       "aggOverflow": false,
       "aggSchema": [],
       "aggSeriesLimitReached": false,
       "aggType": "",
       "arguments": {},
       "columnCustomDisplayInfos": {},
       "data": [
        [
         1,
         "Completed",
         "Bank Transfer",
         499,
         "2025-01-05 10:13:59",
         "2025-01-05",
         6973,
         [
          [
           "Electronics",
           [
            "Sony",
            "Blue"
           ],
           8,
           "Gaming Console",
           499,
           1
          ]
         ]
        ],
        [
         2,
         "Cancelled",
         "PayPal",
         985,
         "2025-01-19 00:05:13",
         "2025-01-19",
         3532,
         [
          [
           "Electronics",
           [
            "Canon",
            "Gray"
           ],
           4,
           "Smartwatch",
           299,
           2
          ],
          [
           "Electronics",
           [
            "Dell",
            "Blue"
           ],
           7,
           "External Hard Drive",
           129,
           3
          ]
         ]
        ],
        [
         3,
         "Completed",
         "Bank Transfer",
         597,
         "2025-01-08 23:11:00",
         "2025-01-08",
         3532,
         [
          [
           "Electronics",
           [
            "Apple",
            "White"
           ],
           3,
           "Wireless Headphones",
           199,
           3
          ]
         ]
        ],
        [
         4,
         "Cancelled",
         "Bank Transfer",
         999,
         "2025-01-05 05:49:26",
         "2025-01-05",
         3532,
         [
          [
           "Electronics",
           [
            "Microsoft",
            "Black"
           ],
           2,
           "Laptop",
           999,
           1
          ]
         ]
        ],
        [
         8,
         "Completed",
         "PayPal",
         399,
         "2025-01-02 13:11:15",
         "2025-01-02",
         9179,
         [
          [
           "Electronics",
           [
            "LG",
            "White"
           ],
           5,
           "Tablet",
           399,
           1
          ]
         ]
        ],
        [
         14,
         "Cancelled",
         "PayPal",
         597,
         "2025-01-01 18:22:26",
         "2025-01-01",
         7207,
         [
          [
           "Electronics",
           [
            "Bose",
            "Blue"
           ],
           3,
           "Wireless Headphones",
           199,
           3
          ]
         ]
        ],
        [
         18,
         "Pending",
         "Credit Card",
         799,
         "2025-01-22 21:12:08",
         "2025-01-22",
         4468,
         [
          [
           "Electronics",
           [
            "Dell",
            "Black"
           ],
           10,
           "Drone",
           799,
           1
          ]
         ]
        ],
        [
         22,
         "Pending",
         "PayPal",
         199,
         "2025-01-01 15:49:19",
         "2025-01-01",
         4761,
         [
          [
           "Electronics",
           [
            "HP",
            "Silver"
           ],
           3,
           "Wireless Headphones",
           199,
           1
          ]
         ]
        ],
        [
         26,
         "Shipped",
         "Bank Transfer",
         699,
         "2025-01-05 19:01:25",
         "2025-01-05",
         7007,
         [
          [
           "Electronics",
           [
            "Samsung",
            "Silver"
           ],
           1,
           "Smartphone",
           699,
           1
          ]
         ]
        ],
        [
         29,
         "Pending",
         "Bank Transfer",
         129,
         "2025-01-18 03:05:04",
         "2025-01-18",
         5953,
         [
          [
           "Electronics",
           [
            "Bose",
            "Gray"
           ],
           7,
           "External Hard Drive",
           129,
           1
          ],
          [
           "Electronics",
           [
            "Bose",
            "Gray"
           ],
           7,
           "External Hard Drive",
           129,
           1
          ]
         ]
        ],
        [
         31,
         "Shipped",
         "Bank Transfer",
         299,
         "2025-01-18 03:13:29",
         "2025-01-18",
         4996,
         [
          [
           "Electronics",
           [
            "Dell",
            "White"
           ],
           4,
           "Smartwatch",
           299,
           1
          ]
         ]
        ],
        [
         33,
         "Completed",
         "PayPal",
         897,
         "2025-01-13 04:47:43",
         "2025-01-13",
         9605,
         [
          [
           "Electronics",
           [
            "Canon",
            "White"
           ],
           4,
           "Smartwatch",
           299,
           3
          ]
         ]
        ],
        [
         34,
         "Cancelled",
         "PayPal",
         926,
         "2025-01-21 00:25:01",
         "2025-01-21",
         9605,
         [
          [
           "Electronics",
           [
            "Bose",
            "Silver"
           ],
           6,
           "Bluetooth Speaker",
           149,
           2
          ],
          [
           "Electronics",
           [
            "LG",
            "Black"
           ],
           8,
           "Gaming Console",
           499,
           1
          ],
          [
           "Electronics",
           [
            "Samsung",
            "Black"
           ],
           7,
           "External Hard Drive",
           129,
           1
          ]
         ]
        ],
        [
         40,
         "Completed",
         "PayPal",
         298,
         "2025-01-20 16:18:35",
         "2025-01-20",
         6384,
         [
          [
           "Electronics",
           [
            "Bose",
            "Silver"
           ],
           6,
           "Bluetooth Speaker",
           149,
           2
          ]
         ]
        ],
        [
         41,
         "Shipped",
         "Credit Card",
         999,
         "2025-01-05 06:10:22",
         "2025-01-05",
         6384,
         [
          [
           "Electronics",
           [
            "Sony",
            "Silver"
           ],
           2,
           "Laptop",
           999,
           1
          ]
         ]
        ],
        [
         43,
         "Pending",
         "PayPal",
         499,
         "2025-01-24 18:10:37",
         "2025-01-24",
         5028,
         [
          [
           "Electronics",
           [
            "LG",
            "Black"
           ],
           8,
           "Gaming Console",
           499,
           1
          ]
         ]
        ],
        [
         50,
         "Shipped",
         "Credit Card",
         746,
         "2025-01-11 01:19:09",
         "2025-01-11",
         3712,
         [
          [
           "Electronics",
           [
            "Apple",
            "Gray"
           ],
           6,
           "Bluetooth Speaker",
           149,
           3
          ],
          [
           "Electronics",
           [
            "Sony",
            "White"
           ],
           4,
           "Smartwatch",
           299,
           1
          ]
         ]
        ],
        [
         51,
         "Completed",
         "PayPal",
         149,
         "2025-01-21 13:19:59",
         "2025-01-21",
         8845,
         [
          [
           "Electronics",
           [
            "Samsung",
            "Gray"
           ],
           6,
           "Bluetooth Speaker",
           149,
           1
          ]
         ]
        ],
        [
         53,
         "Pending",
         "Bank Transfer",
         199,
         "2025-01-21 08:31:02",
         "2025-01-21",
         8845,
         [
          [
           "Electronics",
           [
            "Apple",
            "Black"
           ],
           3,
           "Wireless Headphones",
           199,
           1
          ]
         ]
        ],
        [
         56,
         "Cancelled",
         "PayPal",
         698,
         "2025-01-01 12:02:41",
         "2025-01-01",
         8580,
         [
          [
           "Electronics",
           [
            "HP",
            "Silver"
           ],
           3,
           "Wireless Headphones",
           199,
           1
          ],
          [
           "Electronics",
           [
            "LG",
            "Gray"
           ],
           8,
           "Gaming Console",
           499,
           1
          ]
         ]
        ],
        [
         62,
         "Completed",
         "Bank Transfer",
         985,
         "2025-01-24 12:00:54",
         "2025-01-24",
         7123,
         [
          [
           "Electronics",
           [
            "Dell",
            "White"
           ],
           7,
           "External Hard Drive",
           129,
           3
          ],
          [
           "Electronics",
           [
            "GoPro",
            "Blue"
           ],
           4,
           "Smartwatch",
           299,
           2
          ]
         ]
        ],
        [
         66,
         "Cancelled",
         "Credit Card",
         598,
         "2025-01-17 21:16:11",
         "2025-01-17",
         3084,
         [
          [
           "Electronics",
           [
            "Bose",
            "Silver"
           ],
           4,
           "Smartwatch",
           299,
           1
          ],
          [
           "Electronics",
           [
            "GoPro",
            "White"
           ],
           4,
           "Smartwatch",
           299,
           1
          ]
         ]
        ],
        [
         68,
         "Completed",
         "Bank Transfer",
         149,
         "2025-01-10 20:35:43",
         "2025-01-10",
         4973,
         [
          [
           "Electronics",
           [
            "Bose",
            "Gray"
           ],
           6,
           "Bluetooth Speaker",
           149,
           1
          ]
         ]
        ],
        [
         73,
         "Shipped",
         "Credit Card",
         387,
         "2025-01-07 01:02:26",
         "2025-01-07",
         6167,
         [
          [
           "Electronics",
           [
            "GoPro",
            "Gray"
           ],
           7,
           "External Hard Drive",
           129,
           3
          ],
          [
           "Electronics",
           [
            "GoPro",
            "Gray"
           ],
           7,
           "External Hard Drive",
           129,
           3
          ]
         ]
        ],
        [
         75,
         "Shipped",
         "Credit Card",
         699,
         "2025-01-19 16:23:16",
         "2025-01-19",
         6167,
         [
          [
           "Electronics",
           [
            "GoPro",
            "White"
           ],
           1,
           "Smartphone",
           699,
           1
          ]
         ]
        ],
        [
         76,
         "Completed",
         "Bank Transfer",
         399,
         "2025-01-06 02:54:39",
         "2025-01-06",
         3295,
         [
          [
           "Electronics",
           [
            "Microsoft",
            "Silver"
           ],
           5,
           "Tablet",
           399,
           1
          ]
         ]
        ],
        [
         78,
         "Cancelled",
         "PayPal",
         798,
         "2025-01-21 11:42:51",
         "2025-01-21",
         9084,
         [
          [
           "Electronics",
           [
            "Dell",
            "White"
           ],
           5,
           "Tablet",
           399,
           2
          ]
         ]
        ],
        [
         79,
         "Cancelled",
         "Credit Card",
         998,
         "2025-01-25 03:52:05",
         "2025-01-25",
         9084,
         [
          [
           "Electronics",
           [
            "Dell",
            "Gray"
           ],
           8,
           "Gaming Console",
           499,
           2
          ]
         ]
        ],
        [
         83,
         "Shipped",
         "PayPal",
         785,
         "2025-01-07 12:48:05",
         "2025-01-07",
         2344,
         [
          [
           "Electronics",
           [
            "Canon",
            "Gray"
           ],
           7,
           "External Hard Drive",
           129,
           3
          ],
          [
           "Electronics",
           [
            "Sony",
            "Black"
           ],
           3,
           "Wireless Headphones",
           199,
           2
          ]
         ]
        ],
        [
         87,
         "Pending",
         "PayPal",
         129,
         "2025-01-02 04:28:38",
         "2025-01-02",
         2141,
         [
          [
           "Electronics",
           [
            "Apple",
            "Blue"
           ],
           7,
           "External Hard Drive",
           129,
           1
          ]
         ]
        ],
        [
         90,
         "Pending",
         "Credit Card",
         258,
         "2025-01-17 14:30:54",
         "2025-01-17",
         9247,
         [
          [
           "Electronics",
           [
            "Canon",
            "White"
           ],
           7,
           "External Hard Drive",
           129,
           1
          ],
          [
           "Electronics",
           [
            "Samsung",
            "Black"
           ],
           7,
           "External Hard Drive",
           129,
           1
          ]
         ]
        ],
        [
         94,
         "Pending",
         "Credit Card",
         895,
         "2025-01-10 09:51:48",
         "2025-01-10",
         6627,
         [
          [
           "Electronics",
           [
            "Sony",
            "Black"
           ],
           6,
           "Bluetooth Speaker",
           149,
           2
          ],
          [
           "Electronics",
           [
            "Apple",
            "Blue"
           ],
           3,
           "Wireless Headphones",
           199,
           3
          ]
         ]
        ],
        [
         98,
         "Completed",
         "Credit Card",
         985,
         "2025-01-08 05:57:55",
         "2025-01-08",
         9150,
         [
          [
           "Electronics",
           [
            "HP",
            "Blue"
           ],
           7,
           "External Hard Drive",
           129,
           3
          ],
          [
           "Electronics",
           [
            "Samsung",
            "Gray"
           ],
           4,
           "Smartwatch",
           299,
           2
          ]
         ]
        ],
        [
         99,
         "Shipped",
         "Credit Card",
         699,
         "2025-01-10 21:43:46",
         "2025-01-10",
         9150,
         [
          [
           "Electronics",
           [
            "Bose",
            "Gray"
           ],
           1,
           "Smartphone",
           699,
           1
          ]
         ]
        ],
        [
         100,
         "Shipped",
         "PayPal",
         447,
         "2025-01-04 06:40:13",
         "2025-01-04",
         9150,
         [
          [
           "Electronics",
           [
            "LG",
            "Silver"
           ],
           6,
           "Bluetooth Speaker",
           149,
           3
          ]
         ]
        ],
        [
         12,
         "Cancelled",
         "PayPal",
         999,
         "2024-12-06 20:26:49",
         "2024-12-06",
         5816,
         [
          [
           "Electronics",
           [
            "Sony",
            "White"
           ],
           2,
           "Laptop",
           999,
           1
          ]
         ]
        ],
        [
         13,
         "Pending",
         "PayPal",
         999,
         "2024-12-17 03:41:37",
         "2024-12-17",
         4858,
         [
          [
           "Electronics",
           [
            "GoPro",
            "Black"
           ],
           2,
           "Laptop",
           999,
           1
          ]
         ]
        ],
        [
         16,
         "Pending",
         "Bank Transfer",
         597,
         "2024-12-08 22:59:48",
         "2024-12-08",
         5204,
         [
          [
           "Electronics",
           [
            "Sony",
            "Silver"
           ],
           3,
           "Wireless Headphones",
           199,
           3
          ]
         ]
        ],
        [
         17,
         "Pending",
         "Bank Transfer",
         998,
         "2024-12-02 12:00:50",
         "2024-12-02",
         5204,
         [
          [
           "Electronics",
           [
            "Dell",
            "Black"
           ],
           8,
           "Gaming Console",
           499,
           2
          ]
         ]
        ],
        [
         24,
         "Completed",
         "PayPal",
         1199,
         "2024-12-21 03:24:26",
         "2024-12-21",
         1211,
         [
          [
           "Electronics",
           [
            "GoPro",
            "Gray"
           ],
           9,
           "Smart TV",
           1199,
           1
          ]
         ]
        ],
        [
         27,
         "Completed",
         "Credit Card",
         904,
         "2024-12-02 11:24:21",
         "2024-12-02",
         2703,
         [
          [
           "Electronics",
           [
            "Dell",
            "White"
           ],
           7,
           "External Hard Drive",
           129,
           2
          ],
          [
           "Electronics",
           [
            "Canon",
            "Black"
           ],
           6,
           "Bluetooth Speaker",
           149,
           3
          ],
          [
           "Electronics",
           [
            "Microsoft",
            "Silver"
           ],
           3,
           "Wireless Headphones",
           199,
           1
          ]
         ]
        ],
        [
         28,
         "Cancelled",
         "Credit Card",
         129,
         "2024-12-26 03:17:50",
         "2024-12-26",
         2703,
         [
          [
           "Electronics",
           [
            "GoPro",
            "Blue"
           ],
           7,
           "External Hard Drive",
           129,
           1
          ]
         ]
        ],
        [
         32,
         "Pending",
         "PayPal",
         399,
         "2024-12-28 08:55:57",
         "2024-12-28",
         4996,
         [
          [
           "Electronics",
           [
            "Apple",
            "Silver"
           ],
           5,
           "Tablet",
           399,
           1
          ]
         ]
        ],
        [
         37,
         "Shipped",
         "Credit Card",
         258,
         "2024-12-22 10:11:49",
         "2024-12-22",
         7829,
         [
          [
           "Electronics",
           [
            "HP",
            "Silver"
           ],
           7,
           "External Hard Drive",
           129,
           2
          ]
         ]
        ],
        [
         38,
         "Shipped",
         "Credit Card",
         447,
         "2024-12-25 22:05:19",
         "2024-12-25",
         7829,
         [
          [
           "Electronics",
           [
            "Apple",
            "Gray"
           ],
           6,
           "Bluetooth Speaker",
           149,
           3
          ]
         ]
        ],
        [
         44,
         "Completed",
         "Credit Card",
         129,
         "2024-12-20 08:05:43",
         "2024-12-20",
         7295,
         [
          [
           "Electronics",
           [
            "Bose",
            "Blue"
           ],
           7,
           "External Hard Drive",
           129,
           1
          ]
         ]
        ],
        [
         49,
         "Cancelled",
         "PayPal",
         747,
         "2024-12-07 23:24:11",
         "2024-12-07",
         7803,
         [
          [
           "Electronics",
           [
            "HP",
            "White"
           ],
           4,
           "Smartwatch",
           299,
           1
          ],
          [
           "Electronics",
           [
            "Canon",
            "Blue"
           ],
           4,
           "Smartwatch",
           299,
           1
          ],
          [
           "Electronics",
           [
            "Samsung",
            "White"
           ],
           6,
           "Bluetooth Speaker",
           149,
           1
          ]
         ]
        ],
        [
         54,
         "Pending",
         "Credit Card",
         398,
         "2024-12-20 12:04:27",
         "2024-12-20",
         2054,
         [
          [
           "Electronics",
           [
            "Bose",
            "Gray"
           ],
           3,
           "Wireless Headphones",
           199,
           2
          ]
         ]
        ],
        [
         58,
         "Completed",
         "PayPal",
         699,
         "2024-12-09 22:40:58",
         "2024-12-09",
         8580,
         [
          [
           "Electronics",
           [
            "Microsoft",
            "Gray"
           ],
           1,
           "Smartphone",
           699,
           1
          ]
         ]
        ],
        [
         60,
         "Shipped",
         "Bank Transfer",
         199,
         "2024-12-13 13:10:12",
         "2024-12-13",
         3409,
         [
          [
           "Electronics",
           [
            "Samsung",
            "Blue"
           ],
           3,
           "Wireless Headphones",
           199,
           1
          ]
         ]
        ],
        [
         61,
         "Completed",
         "Bank Transfer",
         699,
         "2024-12-07 07:47:19",
         "2024-12-07",
         7123,
         [
          [
           "Electronics",
           [
            "Canon",
            "Black"
           ],
           1,
           "Smartphone",
           699,
           1
          ]
         ]
        ],
        [
         65,
         "Cancelled",
         "Bank Transfer",
         399,
         "2024-12-09 13:04:13",
         "2024-12-09",
         3084,
         [
          [
           "Electronics",
           [
            "Microsoft",
            "Gray"
           ],
           5,
           "Tablet",
           399,
           1
          ]
         ]
        ],
        [
         67,
         "Shipped",
         "PayPal",
         897,
         "2024-12-19 07:11:09",
         "2024-12-19",
         3084,
         [
          [
           "Electronics",
           [
            "LG",
            "Blue"
           ],
           4,
           "Smartwatch",
           299,
           3
          ]
         ]
        ],
        [
         69,
         "Completed",
         "Bank Transfer",
         699,
         "2024-12-30 02:42:01",
         "2024-12-30",
         4973,
         [
          [
           "Electronics",
           [
            "Dell",
            "Gray"
           ],
           1,
           "Smartphone",
           699,
           1
          ]
         ]
        ],
        [
         70,
         "Shipped",
         "PayPal",
         897,
         "2024-12-04 17:17:24",
         "2024-12-04",
         7997,
         [
          [
           "Electronics",
           [
            "Sony",
            "Black"
           ],
           4,
           "Smartwatch",
           299,
           3
          ]
         ]
        ],
        [
         71,
         "Completed",
         "Bank Transfer",
         199,
         "2024-12-27 11:16:39",
         "2024-12-27",
         7997,
         [
          [
           "Electronics",
           [
            "Microsoft",
            "Black"
           ],
           3,
           "Wireless Headphones",
           199,
           1
          ]
         ]
        ],
        [
         74,
         "Pending",
         "PayPal",
         699,
         "2024-12-22 15:54:11",
         "2024-12-22",
         6167,
         [
          [
           "Electronics",
           [
            "Samsung",
            "Blue"
           ],
           1,
           "Smartphone",
           699,
           1
          ]
         ]
        ],
        [
         80,
         "Cancelled",
         "Bank Transfer",
         998,
         "2024-12-11 07:43:54",
         "2024-12-11",
         9687,
         [
          [
           "Electronics",
           [
            "Samsung",
            "White"
           ],
           8,
           "Gaming Console",
           499,
           2
          ]
         ]
        ],
        [
         81,
         "Completed",
         "PayPal",
         699,
         "2024-12-27 02:27:45",
         "2024-12-27",
         9687,
         [
          [
           "Electronics",
           [
            "GoPro",
            "Blue"
           ],
           1,
           "Smartphone",
           699,
           1
          ]
         ]
        ],
        [
         82,
         "Completed",
         "PayPal",
         387,
         "2024-12-28 00:54:08",
         "2024-12-28",
         2344,
         [
          [
           "Electronics",
           [
            "Sony",
            "Blue"
           ],
           7,
           "External Hard Drive",
           129,
           3
          ]
         ]
        ],
        [
         91,
         "Cancelled",
         "Bank Transfer",
         699,
         "2024-12-17 00:09:53",
         "2024-12-17",
         5592,
         [
          [
           "Electronics",
           [
            "Canon",
            "Silver"
           ],
           1,
           "Smartphone",
           699,
           1
          ]
         ]
        ],
        [
         93,
         "Pending",
         "PayPal",
         598,
         "2024-12-22 05:07:46",
         "2024-12-22",
         6627,
         [
          [
           "Electronics",
           [
            "LG",
            "Silver"
           ],
           4,
           "Smartwatch",
           299,
           2
          ]
         ]
        ],
        [
         95,
         "Completed",
         "Bank Transfer",
         946,
         "2024-12-28 04:28:30",
         "2024-12-28",
         6627,
         [
          [
           "Electronics",
           [
            "GoPro",
            "White"
           ],
           4,
           "Smartwatch",
           299,
           2
          ],
          [
           "Electronics",
           [
            "Bose",
            "Gray"
           ],
           3,
           "Wireless Headphones",
           199,
           1
          ],
          [
           "Electronics",
           [
            "Dell",
            "Silver"
           ],
           6,
           "Bluetooth Speaker",
           149,
           1
          ]
         ]
        ],
        [
         96,
         "Shipped",
         "PayPal",
         149,
         "2024-12-02 12:27:45",
         "2024-12-02",
         6406,
         [
          [
           "Electronics",
           [
            "Microsoft",
            "Black"
           ],
           6,
           "Bluetooth Speaker",
           149,
           1
          ]
         ]
        ],
        [
         97,
         "Completed",
         "Bank Transfer",
         499,
         "2024-12-07 16:14:34",
         "2024-12-07",
         6406,
         [
          [
           "Electronics",
           [
            "Sony",
            "Silver"
           ],
           8,
           "Gaming Console",
           499,
           1
          ]
         ]
        ],
        [
         5,
         "Cancelled",
         "Bank Transfer",
         998,
         "2024-11-16 23:07:31",
         "2024-11-16",
         3892,
         [
          [
           "Electronics",
           [
            "Dell",
            "Blue"
           ],
           8,
           "Gaming Console",
           499,
           2
          ]
         ]
        ],
        [
         7,
         "Pending",
         "Credit Card",
         645,
         "2024-11-19 19:18:48",
         "2024-11-19",
         1987,
         [
          [
           "Electronics",
           [
            "LG",
            "Blue"
           ],
           7,
           "External Hard Drive",
           129,
           2
          ],
          [
           "Electronics",
           [
            "HP",
            "Gray"
           ],
           7,
           "External Hard Drive",
           129,
           3
          ]
         ]
        ],
        [
         9,
         "Shipped",
         "Bank Transfer",
         999,
         "2024-11-27 13:15:29",
         "2024-11-27",
         9179,
         [
          [
           "Electronics",
           [
            "Apple",
            "Black"
           ],
           2,
           "Laptop",
           999,
           1
          ]
         ]
        ],
        [
         20,
         "Pending",
         "PayPal",
         798,
         "2024-11-18 02:38:21",
         "2024-11-18",
         8539,
         [
          [
           "Electronics",
           [
            "Sony",
            "Silver"
           ],
           5,
           "Tablet",
           399,
           2
          ]
         ]
        ],
        [
         21,
         "Cancelled",
         "Bank Transfer",
         298,
         "2024-11-21 11:25:35",
         "2024-11-21",
         8539,
         [
          [
           "Electronics",
           [
            "GoPro",
            "Blue"
           ],
           6,
           "Bluetooth Speaker",
           149,
           2
          ]
         ]
        ],
        [
         23,
         "Shipped",
         "PayPal",
         997,
         "2024-11-22 16:04:05",
         "2024-11-22",
         4761,
         [
          [
           "Electronics",
           [
            "Apple",
            "Gray"
           ],
           5,
           "Tablet",
           399,
           1
          ],
          [
           "Electronics",
           [
            "Dell",
            "Gray"
           ],
           4,
           "Smartwatch",
           299,
           2
          ]
         ]
        ],
        [
         25,
         "Completed",
         "PayPal",
         999,
         "2024-11-05 11:45:31",
         "2024-11-05",
         9706,
         [
          [
           "Electronics",
           [
            "LG",
            "Gray"
           ],
           2,
           "Laptop",
           999,
           1
          ]
         ]
        ],
        [
         30,
         "Shipped",
         "Bank Transfer",
         199,
         "2024-11-12 03:20:29",
         "2024-11-12",
         4996,
         [
          [
           "Electronics",
           [
            "GoPro",
            "White"
           ],
           3,
           "Wireless Headphones",
           199,
           1
          ]
         ]
        ],
        [
         35,
         "Shipped",
         "Bank Transfer",
         199,
         "2024-11-20 19:09:04",
         "2024-11-20",
         4914,
         [
          [
           "Electronics",
           [
            "Dell",
            "Gray"
           ],
           3,
           "Wireless Headphones",
           199,
           1
          ]
         ]
        ],
        [
         36,
         "Completed",
         "PayPal",
         199,
         "2024-11-02 10:39:46",
         "2024-11-02",
         4914,
         [
          [
           "Electronics",
           [
            "Canon",
            "Silver"
           ],
           3,
           "Wireless Headphones",
           199,
           1
          ]
         ]
        ],
        [
         42,
         "Completed",
         "Credit Card",
         149,
         "2024-11-08 18:32:25",
         "2024-11-08",
         5028,
         [
          [
           "Electronics",
           [
            "Bose",
            "Gray"
           ],
           6,
           "Bluetooth Speaker",
           149,
           1
          ]
         ]
        ],
        [
         45,
         "Shipped",
         "Credit Card",
         799,
         "2024-11-07 15:41:43",
         "2024-11-07",
         7295,
         [
          [
           "Electronics",
           [
            "Dell",
            "White"
           ],
           10,
           "Drone",
           799,
           1
          ]
         ]
        ],
        [
         46,
         "Pending",
         "PayPal",
         199,
         "2024-11-26 17:16:53",
         "2024-11-26",
         7295,
         [
          [
           "Electronics",
           [
            "Samsung",
            "Black"
           ],
           3,
           "Wireless Headphones",
           199,
           1
          ]
         ]
        ],
        [
         47,
         "Shipped",
         "Credit Card",
         298,
         "2024-11-22 02:01:19",
         "2024-11-22",
         7803,
         [
          [
           "Electronics",
           [
            "LG",
            "Blue"
           ],
           6,
           "Bluetooth Speaker",
           149,
           2
          ]
         ]
        ],
        [
         48,
         "Completed",
         "PayPal",
         387,
         "2024-11-13 06:35:56",
         "2024-11-13",
         7803,
         [
          [
           "Electronics",
           [
            "Apple",
            "Black"
           ],
           7,
           "External Hard Drive",
           129,
           3
          ]
         ]
        ],
        [
         52,
         "Completed",
         "PayPal",
         998,
         "2024-11-19 21:23:45",
         "2024-11-19",
         8845,
         [
          [
           "Electronics",
           [
            "GoPro",
            "White"
           ],
           8,
           "Gaming Console",
           499,
           2
          ]
         ]
        ],
        [
         57,
         "Cancelled",
         "Bank Transfer",
         586,
         "2024-11-19 11:32:44",
         "2024-11-19",
         8580,
         [
          [
           "Electronics",
           [
            "HP",
            "Silver"
           ],
           3,
           "Wireless Headphones",
           199,
           1
          ],
          [
           "Electronics",
           [
            "Sony",
            "Silver"
           ],
           7,
           "External Hard Drive",
           129,
           3
          ]
         ]
        ],
        [
         63,
         "Cancelled",
         "Bank Transfer",
         646,
         "2024-11-24 08:41:28",
         "2024-11-24",
         7123,
         [
          [
           "Electronics",
           [
            "GoPro",
            "Blue"
           ],
           3,
           "Wireless Headphones",
           199,
           1
          ],
          [
           "Electronics",
           [
            "Bose",
            "Silver"
           ],
           6,
           "Bluetooth Speaker",
           149,
           3
          ]
         ]
        ],
        [
         64,
         "Completed",
         "Bank Transfer",
         984,
         "2024-11-28 12:23:21",
         "2024-11-28",
         2639,
         [
          [
           "Electronics",
           [
            "Microsoft",
            "White"
           ],
           7,
           "External Hard Drive",
           129,
           3
          ],
          [
           "Electronics",
           [
            "Canon",
            "Blue"
           ],
           3,
           "Wireless Headphones",
           199,
           3
          ]
         ]
        ],
        [
         88,
         "Cancelled",
         "Bank Transfer",
         387,
         "2024-11-15 11:39:44",
         "2024-11-15",
         9247,
         [
          [
           "Electronics",
           [
            "Bose",
            "White"
           ],
           7,
           "External Hard Drive",
           129,
           3
          ]
         ]
        ],
        [
         89,
         "Cancelled",
         "Bank Transfer",
         149,
         "2024-11-22 12:09:15",
         "2024-11-22",
         9247,
         [
          [
           "Electronics",
           [
            "GoPro",
            "Silver"
           ],
           6,
           "Bluetooth Speaker",
           149,
           1
          ]
         ]
        ],
        [
         92,
         "Shipped",
         "PayPal",
         258,
         "2024-11-24 23:33:21",
         "2024-11-24",
         5592,
         [
          [
           "Electronics",
           [
            "Sony",
            "Black"
           ],
           7,
           "External Hard Drive",
           129,
           2
          ]
         ]
        ],
        [
         6,
         "Pending",
         "Credit Card",
         799,
         "2024-10-28 04:47:27",
         "2024-10-28",
         1987,
         [
          [
           "Electronics",
           [
            "GoPro",
            "Black"
           ],
           10,
           "Drone",
           799,
           1
          ]
         ]
        ],
        [
         10,
         "Pending",
         "Credit Card",
         399,
         "2024-10-07 22:09:27",
         "2024-10-07",
         5816,
         [
          [
           "Electronics",
           [
            "GoPro",
            "White"
           ],
           5,
           "Tablet",
           399,
           1
          ]
         ]
        ],
        [
         11,
         "Pending",
         "Bank Transfer",
         897,
         "2024-10-13 17:34:19",
         "2024-10-13",
         5816,
         [
          [
           "Electronics",
           [
            "Canon",
            "White"
           ],
           4,
           "Smartwatch",
           299,
           3
          ]
         ]
        ],
        [
         15,
         "Completed",
         "Bank Transfer",
         1199,
         "2024-10-20 01:47:25",
         "2024-10-20",
         7207,
         [
          [
           "Electronics",
           [
            "GoPro",
            "White"
           ],
           9,
           "Smart TV",
           1199,
           1
          ]
         ]
        ],
        [
         19,
         "Shipped",
         "PayPal",
         499,
         "2024-10-13 12:40:26",
         "2024-10-13",
         8539,
         [
          [
           "Electronics",
           [
            "Dell",
            "Silver"
           ],
           8,
           "Gaming Console",
           499,
           1
          ]
         ]
        ],
        [
         39,
         "Shipped",
         "PayPal",
         387,
         "2024-10-29 21:39:19",
         "2024-10-29",
         9263,
         [
          [
           "Electronics",
           [
            "Sony",
            "Black"
           ],
           7,
           "External Hard Drive",
           129,
           3
          ]
         ]
        ],
        [
         55,
         "Shipped",
         "Bank Transfer",
         699,
         "2024-10-25 05:49:16",
         "2024-10-25",
         9018,
         [
          [
           "Electronics",
           [
            "HP",
            "Black"
           ],
           1,
           "Smartphone",
           699,
           1
          ]
         ]
        ],
        [
         59,
         "Pending",
         "PayPal",
         499,
         "2024-10-23 02:51:05",
         "2024-10-23",
         3409,
         [
          [
           "Electronics",
           [
            "Dell",
            "Black"
           ],
           8,
           "Gaming Console",
           499,
           1
          ]
         ]
        ],
        [
         72,
         "Cancelled",
         "PayPal",
         328,
         "2024-10-06 10:23:28",
         "2024-10-06",
         3889,
         [
          [
           "Electronics",
           [
            "Microsoft",
            "Gray"
           ],
           3,
           "Wireless Headphones",
           199,
           1
          ],
          [
           "Electronics",
           [
            "Samsung",
            "Silver"
           ],
           7,
           "External Hard Drive",
           129,
           1
          ]
         ]
        ],
        [
         77,
         "Pending",
         "Credit Card",
         398,
         "2024-10-15 13:09:33",
         "2024-10-15",
         9084,
         [
          [
           "Electronics",
           [
            "HP",
            "Silver"
           ],
           3,
           "Wireless Headphones",
           199,
           2
          ]
         ]
        ],
        [
         84,
         "Completed",
         "PayPal",
         998,
         "2024-10-25 03:37:42",
         "2024-10-25",
         2344,
         [
          [
           "Electronics",
           [
            "Sony",
            "Black"
           ],
           10,
           "Drone",
           799,
           1
          ],
          [
           "Electronics",
           [
            "LG",
            "Black"
           ],
           3,
           "Wireless Headphones",
           199,
           1
          ]
         ]
        ],
        [
         85,
         "Shipped",
         "Bank Transfer",
         998,
         "2024-10-23 20:06:42",
         "2024-10-23",
         5011,
         [
          [
           "Electronics",
           [
            "GoPro",
            "Black"
           ],
           8,
           "Gaming Console",
           499,
           2
          ]
         ]
        ],
        [
         86,
         "Completed",
         "PayPal",
         1199,
         "2024-10-19 13:30:47",
         "2024-10-19",
         5011,
         [
          [
           "Electronics",
           [
            "Dell",
            "White"
           ],
           9,
           "Smart TV",
           1199,
           1
          ]
         ]
        ]
       ],
       "datasetInfos": [],
       "dbfsResultPath": null,
       "isJsonSchema": true,
       "metadata": {},
       "overflow": false,
       "plotOptions": {
        "customPlotOptions": {},
        "displayType": "table",
        "pivotAggregation": null,
        "pivotColumns": null,
        "xColumns": null,
        "yColumns": null
       },
       "removedWidgets": [],
       "schema": [
        {
         "metadata": "{}",
         "name": "order_id",
         "type": "\"long\""
        },
        {
         "metadata": "{}",
         "name": "order_status",
         "type": "\"string\""
        },
        {
         "metadata": "{}",
         "name": "payment_method",
         "type": "\"string\""
        },
        {
         "metadata": "{}",
         "name": "total_amount",
         "type": "\"long\""
        },
        {
         "metadata": "{}",
         "name": "transaction_timestamp",
         "type": "\"string\""
        },
        {
         "metadata": "{}",
         "name": "order_date",
         "type": "\"string\""
        },
        {
         "metadata": "{}",
         "name": "customer_id",
         "type": "\"long\""
        },
        {
         "metadata": "{}",
         "name": "items",
         "type": "{\"type\":\"array\",\"elementType\":{\"type\":\"struct\",\"fields\":[{\"name\":\"category\",\"type\":\"string\",\"nullable\":true,\"metadata\":{}},{\"name\":\"details\",\"type\":{\"type\":\"struct\",\"fields\":[{\"name\":\"brand\",\"type\":\"string\",\"nullable\":true,\"metadata\":{}},{\"name\":\"color\",\"type\":\"string\",\"nullable\":true,\"metadata\":{}}]},\"nullable\":true,\"metadata\":{}},{\"name\":\"item_id\",\"type\":\"long\",\"nullable\":true,\"metadata\":{}},{\"name\":\"name\",\"type\":\"string\",\"nullable\":true,\"metadata\":{}},{\"name\":\"price\",\"type\":\"long\",\"nullable\":true,\"metadata\":{}},{\"name\":\"quantity\",\"type\":\"long\",\"nullable\":true,\"metadata\":{}}]},\"containsNull\":true}"
        }
       ],
       "type": "table"
      }
     },
     "output_type": "display_data"
    }
   ],
   "source": [
    "select json_value.order_id as order_id,\n",
    "      json_value.order_status as order_status,\n",
    "      json_value.payment_method as payment_method,\n",
    "      json_value.total_amount as total_amount,\n",
    "      json_value.transaction_timestamp as transaction_timestamp,\n",
    "      json_value.order_date as order_date,\n",
    "      json_value.customer_id as customer_id,\n",
    "      json_value.items as items      \n",
    "from gizmobox.silver.orders_json "
   ]
  },
  {
   "cell_type": "markdown",
   "metadata": {
    "application/vnd.databricks.v1+cell": {
     "cellMetadata": {},
     "inputWidgets": {},
     "nuid": "391e837e-d075-44a9-a1d8-f0c971cd4e6b",
     "showTitle": false,
     "tableResultSettingsMap": {},
     "title": ""
    }
   },
   "source": [
    "#####2. Deduplicate Array Elements\n",
    "#####Done by using array_distinct()"
   ]
  },
  {
   "cell_type": "code",
   "execution_count": 0,
   "metadata": {
    "application/vnd.databricks.v1+cell": {
     "cellMetadata": {
      "byteLimit": 2048000,
      "rowLimit": 10000
     },
     "inputWidgets": {},
     "nuid": "1e4ce974-ef67-472e-a768-fd391ac015ad",
     "showTitle": false,
     "tableResultSettingsMap": {},
     "title": ""
    }
   },
   "outputs": [
    {
     "output_type": "display_data",
     "data": {
      "text/html": [
       "<style scoped>\n",
       "  .table-result-container {\n",
       "    max-height: 300px;\n",
       "    overflow: auto;\n",
       "  }\n",
       "  table, th, td {\n",
       "    border: 1px solid black;\n",
       "    border-collapse: collapse;\n",
       "  }\n",
       "  th, td {\n",
       "    padding: 5px;\n",
       "  }\n",
       "  th {\n",
       "    text-align: left;\n",
       "  }\n",
       "</style><div class='table-result-container'><table class='table-result'><thead style='background-color: white'><tr><th>order_id</th><th>order_status</th><th>payment_method</th><th>total_amount</th><th>transaction_timestamp</th><th>order_date</th><th>customer_id</th><th>items</th></tr></thead><tbody><tr><td>1</td><td>Completed</td><td>Bank Transfer</td><td>499</td><td>2025-01-05 10:13:59</td><td>2025-01-05</td><td>6973</td><td>List(List(Electronics, List(Sony, Blue), 8, Gaming Console, 499, 1))</td></tr><tr><td>2</td><td>Cancelled</td><td>PayPal</td><td>985</td><td>2025-01-19 00:05:13</td><td>2025-01-19</td><td>3532</td><td>List(List(Electronics, List(Canon, Gray), 4, Smartwatch, 299, 2), List(Electronics, List(Dell, Blue), 7, External Hard Drive, 129, 3))</td></tr><tr><td>3</td><td>Completed</td><td>Bank Transfer</td><td>597</td><td>2025-01-08 23:11:00</td><td>2025-01-08</td><td>3532</td><td>List(List(Electronics, List(Apple, White), 3, Wireless Headphones, 199, 3))</td></tr><tr><td>4</td><td>Cancelled</td><td>Bank Transfer</td><td>999</td><td>2025-01-05 05:49:26</td><td>2025-01-05</td><td>3532</td><td>List(List(Electronics, List(Microsoft, Black), 2, Laptop, 999, 1))</td></tr><tr><td>8</td><td>Completed</td><td>PayPal</td><td>399</td><td>2025-01-02 13:11:15</td><td>2025-01-02</td><td>9179</td><td>List(List(Electronics, List(LG, White), 5, Tablet, 399, 1))</td></tr><tr><td>14</td><td>Cancelled</td><td>PayPal</td><td>597</td><td>2025-01-01 18:22:26</td><td>2025-01-01</td><td>7207</td><td>List(List(Electronics, List(Bose, Blue), 3, Wireless Headphones, 199, 3))</td></tr><tr><td>18</td><td>Pending</td><td>Credit Card</td><td>799</td><td>2025-01-22 21:12:08</td><td>2025-01-22</td><td>4468</td><td>List(List(Electronics, List(Dell, Black), 10, Drone, 799, 1))</td></tr><tr><td>22</td><td>Pending</td><td>PayPal</td><td>199</td><td>2025-01-01 15:49:19</td><td>2025-01-01</td><td>4761</td><td>List(List(Electronics, List(HP, Silver), 3, Wireless Headphones, 199, 1))</td></tr><tr><td>26</td><td>Shipped</td><td>Bank Transfer</td><td>699</td><td>2025-01-05 19:01:25</td><td>2025-01-05</td><td>7007</td><td>List(List(Electronics, List(Samsung, Silver), 1, Smartphone, 699, 1))</td></tr><tr><td>29</td><td>Pending</td><td>Bank Transfer</td><td>129</td><td>2025-01-18 03:05:04</td><td>2025-01-18</td><td>5953</td><td>List(List(Electronics, List(Bose, Gray), 7, External Hard Drive, 129, 1))</td></tr><tr><td>31</td><td>Shipped</td><td>Bank Transfer</td><td>299</td><td>2025-01-18 03:13:29</td><td>2025-01-18</td><td>4996</td><td>List(List(Electronics, List(Dell, White), 4, Smartwatch, 299, 1))</td></tr><tr><td>33</td><td>Completed</td><td>PayPal</td><td>897</td><td>2025-01-13 04:47:43</td><td>2025-01-13</td><td>9605</td><td>List(List(Electronics, List(Canon, White), 4, Smartwatch, 299, 3))</td></tr><tr><td>34</td><td>Cancelled</td><td>PayPal</td><td>926</td><td>2025-01-21 00:25:01</td><td>2025-01-21</td><td>9605</td><td>List(List(Electronics, List(Bose, Silver), 6, Bluetooth Speaker, 149, 2), List(Electronics, List(LG, Black), 8, Gaming Console, 499, 1), List(Electronics, List(Samsung, Black), 7, External Hard Drive, 129, 1))</td></tr><tr><td>40</td><td>Completed</td><td>PayPal</td><td>298</td><td>2025-01-20 16:18:35</td><td>2025-01-20</td><td>6384</td><td>List(List(Electronics, List(Bose, Silver), 6, Bluetooth Speaker, 149, 2))</td></tr><tr><td>41</td><td>Shipped</td><td>Credit Card</td><td>999</td><td>2025-01-05 06:10:22</td><td>2025-01-05</td><td>6384</td><td>List(List(Electronics, List(Sony, Silver), 2, Laptop, 999, 1))</td></tr><tr><td>43</td><td>Pending</td><td>PayPal</td><td>499</td><td>2025-01-24 18:10:37</td><td>2025-01-24</td><td>5028</td><td>List(List(Electronics, List(LG, Black), 8, Gaming Console, 499, 1))</td></tr><tr><td>50</td><td>Shipped</td><td>Credit Card</td><td>746</td><td>2025-01-11 01:19:09</td><td>2025-01-11</td><td>3712</td><td>List(List(Electronics, List(Apple, Gray), 6, Bluetooth Speaker, 149, 3), List(Electronics, List(Sony, White), 4, Smartwatch, 299, 1))</td></tr><tr><td>51</td><td>Completed</td><td>PayPal</td><td>149</td><td>2025-01-21 13:19:59</td><td>2025-01-21</td><td>8845</td><td>List(List(Electronics, List(Samsung, Gray), 6, Bluetooth Speaker, 149, 1))</td></tr><tr><td>53</td><td>Pending</td><td>Bank Transfer</td><td>199</td><td>2025-01-21 08:31:02</td><td>2025-01-21</td><td>8845</td><td>List(List(Electronics, List(Apple, Black), 3, Wireless Headphones, 199, 1))</td></tr><tr><td>56</td><td>Cancelled</td><td>PayPal</td><td>698</td><td>2025-01-01 12:02:41</td><td>2025-01-01</td><td>8580</td><td>List(List(Electronics, List(HP, Silver), 3, Wireless Headphones, 199, 1), List(Electronics, List(LG, Gray), 8, Gaming Console, 499, 1))</td></tr><tr><td>62</td><td>Completed</td><td>Bank Transfer</td><td>985</td><td>2025-01-24 12:00:54</td><td>2025-01-24</td><td>7123</td><td>List(List(Electronics, List(Dell, White), 7, External Hard Drive, 129, 3), List(Electronics, List(GoPro, Blue), 4, Smartwatch, 299, 2))</td></tr><tr><td>66</td><td>Cancelled</td><td>Credit Card</td><td>598</td><td>2025-01-17 21:16:11</td><td>2025-01-17</td><td>3084</td><td>List(List(Electronics, List(Bose, Silver), 4, Smartwatch, 299, 1), List(Electronics, List(GoPro, White), 4, Smartwatch, 299, 1))</td></tr><tr><td>68</td><td>Completed</td><td>Bank Transfer</td><td>149</td><td>2025-01-10 20:35:43</td><td>2025-01-10</td><td>4973</td><td>List(List(Electronics, List(Bose, Gray), 6, Bluetooth Speaker, 149, 1))</td></tr><tr><td>73</td><td>Shipped</td><td>Credit Card</td><td>387</td><td>2025-01-07 01:02:26</td><td>2025-01-07</td><td>6167</td><td>List(List(Electronics, List(GoPro, Gray), 7, External Hard Drive, 129, 3))</td></tr><tr><td>75</td><td>Shipped</td><td>Credit Card</td><td>699</td><td>2025-01-19 16:23:16</td><td>2025-01-19</td><td>6167</td><td>List(List(Electronics, List(GoPro, White), 1, Smartphone, 699, 1))</td></tr><tr><td>76</td><td>Completed</td><td>Bank Transfer</td><td>399</td><td>2025-01-06 02:54:39</td><td>2025-01-06</td><td>3295</td><td>List(List(Electronics, List(Microsoft, Silver), 5, Tablet, 399, 1))</td></tr><tr><td>78</td><td>Cancelled</td><td>PayPal</td><td>798</td><td>2025-01-21 11:42:51</td><td>2025-01-21</td><td>9084</td><td>List(List(Electronics, List(Dell, White), 5, Tablet, 399, 2))</td></tr><tr><td>79</td><td>Cancelled</td><td>Credit Card</td><td>998</td><td>2025-01-25 03:52:05</td><td>2025-01-25</td><td>9084</td><td>List(List(Electronics, List(Dell, Gray), 8, Gaming Console, 499, 2))</td></tr><tr><td>83</td><td>Shipped</td><td>PayPal</td><td>785</td><td>2025-01-07 12:48:05</td><td>2025-01-07</td><td>2344</td><td>List(List(Electronics, List(Canon, Gray), 7, External Hard Drive, 129, 3), List(Electronics, List(Sony, Black), 3, Wireless Headphones, 199, 2))</td></tr><tr><td>87</td><td>Pending</td><td>PayPal</td><td>129</td><td>2025-01-02 04:28:38</td><td>2025-01-02</td><td>2141</td><td>List(List(Electronics, List(Apple, Blue), 7, External Hard Drive, 129, 1))</td></tr><tr><td>90</td><td>Pending</td><td>Credit Card</td><td>258</td><td>2025-01-17 14:30:54</td><td>2025-01-17</td><td>9247</td><td>List(List(Electronics, List(Canon, White), 7, External Hard Drive, 129, 1), List(Electronics, List(Samsung, Black), 7, External Hard Drive, 129, 1))</td></tr><tr><td>94</td><td>Pending</td><td>Credit Card</td><td>895</td><td>2025-01-10 09:51:48</td><td>2025-01-10</td><td>6627</td><td>List(List(Electronics, List(Sony, Black), 6, Bluetooth Speaker, 149, 2), List(Electronics, List(Apple, Blue), 3, Wireless Headphones, 199, 3))</td></tr><tr><td>98</td><td>Completed</td><td>Credit Card</td><td>985</td><td>2025-01-08 05:57:55</td><td>2025-01-08</td><td>9150</td><td>List(List(Electronics, List(HP, Blue), 7, External Hard Drive, 129, 3), List(Electronics, List(Samsung, Gray), 4, Smartwatch, 299, 2))</td></tr><tr><td>99</td><td>Shipped</td><td>Credit Card</td><td>699</td><td>2025-01-10 21:43:46</td><td>2025-01-10</td><td>9150</td><td>List(List(Electronics, List(Bose, Gray), 1, Smartphone, 699, 1))</td></tr><tr><td>100</td><td>Shipped</td><td>PayPal</td><td>447</td><td>2025-01-04 06:40:13</td><td>2025-01-04</td><td>9150</td><td>List(List(Electronics, List(LG, Silver), 6, Bluetooth Speaker, 149, 3))</td></tr><tr><td>12</td><td>Cancelled</td><td>PayPal</td><td>999</td><td>2024-12-06 20:26:49</td><td>2024-12-06</td><td>5816</td><td>List(List(Electronics, List(Sony, White), 2, Laptop, 999, 1))</td></tr><tr><td>13</td><td>Pending</td><td>PayPal</td><td>999</td><td>2024-12-17 03:41:37</td><td>2024-12-17</td><td>4858</td><td>List(List(Electronics, List(GoPro, Black), 2, Laptop, 999, 1))</td></tr><tr><td>16</td><td>Pending</td><td>Bank Transfer</td><td>597</td><td>2024-12-08 22:59:48</td><td>2024-12-08</td><td>5204</td><td>List(List(Electronics, List(Sony, Silver), 3, Wireless Headphones, 199, 3))</td></tr><tr><td>17</td><td>Pending</td><td>Bank Transfer</td><td>998</td><td>2024-12-02 12:00:50</td><td>2024-12-02</td><td>5204</td><td>List(List(Electronics, List(Dell, Black), 8, Gaming Console, 499, 2))</td></tr><tr><td>24</td><td>Completed</td><td>PayPal</td><td>1199</td><td>2024-12-21 03:24:26</td><td>2024-12-21</td><td>1211</td><td>List(List(Electronics, List(GoPro, Gray), 9, Smart TV, 1199, 1))</td></tr><tr><td>27</td><td>Completed</td><td>Credit Card</td><td>904</td><td>2024-12-02 11:24:21</td><td>2024-12-02</td><td>2703</td><td>List(List(Electronics, List(Dell, White), 7, External Hard Drive, 129, 2), List(Electronics, List(Canon, Black), 6, Bluetooth Speaker, 149, 3), List(Electronics, List(Microsoft, Silver), 3, Wireless Headphones, 199, 1))</td></tr><tr><td>28</td><td>Cancelled</td><td>Credit Card</td><td>129</td><td>2024-12-26 03:17:50</td><td>2024-12-26</td><td>2703</td><td>List(List(Electronics, List(GoPro, Blue), 7, External Hard Drive, 129, 1))</td></tr><tr><td>32</td><td>Pending</td><td>PayPal</td><td>399</td><td>2024-12-28 08:55:57</td><td>2024-12-28</td><td>4996</td><td>List(List(Electronics, List(Apple, Silver), 5, Tablet, 399, 1))</td></tr><tr><td>37</td><td>Shipped</td><td>Credit Card</td><td>258</td><td>2024-12-22 10:11:49</td><td>2024-12-22</td><td>7829</td><td>List(List(Electronics, List(HP, Silver), 7, External Hard Drive, 129, 2))</td></tr><tr><td>38</td><td>Shipped</td><td>Credit Card</td><td>447</td><td>2024-12-25 22:05:19</td><td>2024-12-25</td><td>7829</td><td>List(List(Electronics, List(Apple, Gray), 6, Bluetooth Speaker, 149, 3))</td></tr><tr><td>44</td><td>Completed</td><td>Credit Card</td><td>129</td><td>2024-12-20 08:05:43</td><td>2024-12-20</td><td>7295</td><td>List(List(Electronics, List(Bose, Blue), 7, External Hard Drive, 129, 1))</td></tr><tr><td>49</td><td>Cancelled</td><td>PayPal</td><td>747</td><td>2024-12-07 23:24:11</td><td>2024-12-07</td><td>7803</td><td>List(List(Electronics, List(HP, White), 4, Smartwatch, 299, 1), List(Electronics, List(Canon, Blue), 4, Smartwatch, 299, 1), List(Electronics, List(Samsung, White), 6, Bluetooth Speaker, 149, 1))</td></tr><tr><td>54</td><td>Pending</td><td>Credit Card</td><td>398</td><td>2024-12-20 12:04:27</td><td>2024-12-20</td><td>2054</td><td>List(List(Electronics, List(Bose, Gray), 3, Wireless Headphones, 199, 2))</td></tr><tr><td>58</td><td>Completed</td><td>PayPal</td><td>699</td><td>2024-12-09 22:40:58</td><td>2024-12-09</td><td>8580</td><td>List(List(Electronics, List(Microsoft, Gray), 1, Smartphone, 699, 1))</td></tr><tr><td>60</td><td>Shipped</td><td>Bank Transfer</td><td>199</td><td>2024-12-13 13:10:12</td><td>2024-12-13</td><td>3409</td><td>List(List(Electronics, List(Samsung, Blue), 3, Wireless Headphones, 199, 1))</td></tr><tr><td>61</td><td>Completed</td><td>Bank Transfer</td><td>699</td><td>2024-12-07 07:47:19</td><td>2024-12-07</td><td>7123</td><td>List(List(Electronics, List(Canon, Black), 1, Smartphone, 699, 1))</td></tr><tr><td>65</td><td>Cancelled</td><td>Bank Transfer</td><td>399</td><td>2024-12-09 13:04:13</td><td>2024-12-09</td><td>3084</td><td>List(List(Electronics, List(Microsoft, Gray), 5, Tablet, 399, 1))</td></tr><tr><td>67</td><td>Shipped</td><td>PayPal</td><td>897</td><td>2024-12-19 07:11:09</td><td>2024-12-19</td><td>3084</td><td>List(List(Electronics, List(LG, Blue), 4, Smartwatch, 299, 3))</td></tr><tr><td>69</td><td>Completed</td><td>Bank Transfer</td><td>699</td><td>2024-12-30 02:42:01</td><td>2024-12-30</td><td>4973</td><td>List(List(Electronics, List(Dell, Gray), 1, Smartphone, 699, 1))</td></tr><tr><td>70</td><td>Shipped</td><td>PayPal</td><td>897</td><td>2024-12-04 17:17:24</td><td>2024-12-04</td><td>7997</td><td>List(List(Electronics, List(Sony, Black), 4, Smartwatch, 299, 3))</td></tr><tr><td>71</td><td>Completed</td><td>Bank Transfer</td><td>199</td><td>2024-12-27 11:16:39</td><td>2024-12-27</td><td>7997</td><td>List(List(Electronics, List(Microsoft, Black), 3, Wireless Headphones, 199, 1))</td></tr><tr><td>74</td><td>Pending</td><td>PayPal</td><td>699</td><td>2024-12-22 15:54:11</td><td>2024-12-22</td><td>6167</td><td>List(List(Electronics, List(Samsung, Blue), 1, Smartphone, 699, 1))</td></tr><tr><td>80</td><td>Cancelled</td><td>Bank Transfer</td><td>998</td><td>2024-12-11 07:43:54</td><td>2024-12-11</td><td>9687</td><td>List(List(Electronics, List(Samsung, White), 8, Gaming Console, 499, 2))</td></tr><tr><td>81</td><td>Completed</td><td>PayPal</td><td>699</td><td>2024-12-27 02:27:45</td><td>2024-12-27</td><td>9687</td><td>List(List(Electronics, List(GoPro, Blue), 1, Smartphone, 699, 1))</td></tr><tr><td>82</td><td>Completed</td><td>PayPal</td><td>387</td><td>2024-12-28 00:54:08</td><td>2024-12-28</td><td>2344</td><td>List(List(Electronics, List(Sony, Blue), 7, External Hard Drive, 129, 3))</td></tr><tr><td>91</td><td>Cancelled</td><td>Bank Transfer</td><td>699</td><td>2024-12-17 00:09:53</td><td>2024-12-17</td><td>5592</td><td>List(List(Electronics, List(Canon, Silver), 1, Smartphone, 699, 1))</td></tr><tr><td>93</td><td>Pending</td><td>PayPal</td><td>598</td><td>2024-12-22 05:07:46</td><td>2024-12-22</td><td>6627</td><td>List(List(Electronics, List(LG, Silver), 4, Smartwatch, 299, 2))</td></tr><tr><td>95</td><td>Completed</td><td>Bank Transfer</td><td>946</td><td>2024-12-28 04:28:30</td><td>2024-12-28</td><td>6627</td><td>List(List(Electronics, List(GoPro, White), 4, Smartwatch, 299, 2), List(Electronics, List(Bose, Gray), 3, Wireless Headphones, 199, 1), List(Electronics, List(Dell, Silver), 6, Bluetooth Speaker, 149, 1))</td></tr><tr><td>96</td><td>Shipped</td><td>PayPal</td><td>149</td><td>2024-12-02 12:27:45</td><td>2024-12-02</td><td>6406</td><td>List(List(Electronics, List(Microsoft, Black), 6, Bluetooth Speaker, 149, 1))</td></tr><tr><td>97</td><td>Completed</td><td>Bank Transfer</td><td>499</td><td>2024-12-07 16:14:34</td><td>2024-12-07</td><td>6406</td><td>List(List(Electronics, List(Sony, Silver), 8, Gaming Console, 499, 1))</td></tr><tr><td>5</td><td>Cancelled</td><td>Bank Transfer</td><td>998</td><td>2024-11-16 23:07:31</td><td>2024-11-16</td><td>3892</td><td>List(List(Electronics, List(Dell, Blue), 8, Gaming Console, 499, 2))</td></tr><tr><td>7</td><td>Pending</td><td>Credit Card</td><td>645</td><td>2024-11-19 19:18:48</td><td>2024-11-19</td><td>1987</td><td>List(List(Electronics, List(LG, Blue), 7, External Hard Drive, 129, 2), List(Electronics, List(HP, Gray), 7, External Hard Drive, 129, 3))</td></tr><tr><td>9</td><td>Shipped</td><td>Bank Transfer</td><td>999</td><td>2024-11-27 13:15:29</td><td>2024-11-27</td><td>9179</td><td>List(List(Electronics, List(Apple, Black), 2, Laptop, 999, 1))</td></tr><tr><td>20</td><td>Pending</td><td>PayPal</td><td>798</td><td>2024-11-18 02:38:21</td><td>2024-11-18</td><td>8539</td><td>List(List(Electronics, List(Sony, Silver), 5, Tablet, 399, 2))</td></tr><tr><td>21</td><td>Cancelled</td><td>Bank Transfer</td><td>298</td><td>2024-11-21 11:25:35</td><td>2024-11-21</td><td>8539</td><td>List(List(Electronics, List(GoPro, Blue), 6, Bluetooth Speaker, 149, 2))</td></tr><tr><td>23</td><td>Shipped</td><td>PayPal</td><td>997</td><td>2024-11-22 16:04:05</td><td>2024-11-22</td><td>4761</td><td>List(List(Electronics, List(Apple, Gray), 5, Tablet, 399, 1), List(Electronics, List(Dell, Gray), 4, Smartwatch, 299, 2))</td></tr><tr><td>25</td><td>Completed</td><td>PayPal</td><td>999</td><td>2024-11-05 11:45:31</td><td>2024-11-05</td><td>9706</td><td>List(List(Electronics, List(LG, Gray), 2, Laptop, 999, 1))</td></tr><tr><td>30</td><td>Shipped</td><td>Bank Transfer</td><td>199</td><td>2024-11-12 03:20:29</td><td>2024-11-12</td><td>4996</td><td>List(List(Electronics, List(GoPro, White), 3, Wireless Headphones, 199, 1))</td></tr><tr><td>35</td><td>Shipped</td><td>Bank Transfer</td><td>199</td><td>2024-11-20 19:09:04</td><td>2024-11-20</td><td>4914</td><td>List(List(Electronics, List(Dell, Gray), 3, Wireless Headphones, 199, 1))</td></tr><tr><td>36</td><td>Completed</td><td>PayPal</td><td>199</td><td>2024-11-02 10:39:46</td><td>2024-11-02</td><td>4914</td><td>List(List(Electronics, List(Canon, Silver), 3, Wireless Headphones, 199, 1))</td></tr><tr><td>42</td><td>Completed</td><td>Credit Card</td><td>149</td><td>2024-11-08 18:32:25</td><td>2024-11-08</td><td>5028</td><td>List(List(Electronics, List(Bose, Gray), 6, Bluetooth Speaker, 149, 1))</td></tr><tr><td>45</td><td>Shipped</td><td>Credit Card</td><td>799</td><td>2024-11-07 15:41:43</td><td>2024-11-07</td><td>7295</td><td>List(List(Electronics, List(Dell, White), 10, Drone, 799, 1))</td></tr><tr><td>46</td><td>Pending</td><td>PayPal</td><td>199</td><td>2024-11-26 17:16:53</td><td>2024-11-26</td><td>7295</td><td>List(List(Electronics, List(Samsung, Black), 3, Wireless Headphones, 199, 1))</td></tr><tr><td>47</td><td>Shipped</td><td>Credit Card</td><td>298</td><td>2024-11-22 02:01:19</td><td>2024-11-22</td><td>7803</td><td>List(List(Electronics, List(LG, Blue), 6, Bluetooth Speaker, 149, 2))</td></tr><tr><td>48</td><td>Completed</td><td>PayPal</td><td>387</td><td>2024-11-13 06:35:56</td><td>2024-11-13</td><td>7803</td><td>List(List(Electronics, List(Apple, Black), 7, External Hard Drive, 129, 3))</td></tr><tr><td>52</td><td>Completed</td><td>PayPal</td><td>998</td><td>2024-11-19 21:23:45</td><td>2024-11-19</td><td>8845</td><td>List(List(Electronics, List(GoPro, White), 8, Gaming Console, 499, 2))</td></tr><tr><td>57</td><td>Cancelled</td><td>Bank Transfer</td><td>586</td><td>2024-11-19 11:32:44</td><td>2024-11-19</td><td>8580</td><td>List(List(Electronics, List(HP, Silver), 3, Wireless Headphones, 199, 1), List(Electronics, List(Sony, Silver), 7, External Hard Drive, 129, 3))</td></tr><tr><td>63</td><td>Cancelled</td><td>Bank Transfer</td><td>646</td><td>2024-11-24 08:41:28</td><td>2024-11-24</td><td>7123</td><td>List(List(Electronics, List(GoPro, Blue), 3, Wireless Headphones, 199, 1), List(Electronics, List(Bose, Silver), 6, Bluetooth Speaker, 149, 3))</td></tr><tr><td>64</td><td>Completed</td><td>Bank Transfer</td><td>984</td><td>2024-11-28 12:23:21</td><td>2024-11-28</td><td>2639</td><td>List(List(Electronics, List(Microsoft, White), 7, External Hard Drive, 129, 3), List(Electronics, List(Canon, Blue), 3, Wireless Headphones, 199, 3))</td></tr><tr><td>88</td><td>Cancelled</td><td>Bank Transfer</td><td>387</td><td>2024-11-15 11:39:44</td><td>2024-11-15</td><td>9247</td><td>List(List(Electronics, List(Bose, White), 7, External Hard Drive, 129, 3))</td></tr><tr><td>89</td><td>Cancelled</td><td>Bank Transfer</td><td>149</td><td>2024-11-22 12:09:15</td><td>2024-11-22</td><td>9247</td><td>List(List(Electronics, List(GoPro, Silver), 6, Bluetooth Speaker, 149, 1))</td></tr><tr><td>92</td><td>Shipped</td><td>PayPal</td><td>258</td><td>2024-11-24 23:33:21</td><td>2024-11-24</td><td>5592</td><td>List(List(Electronics, List(Sony, Black), 7, External Hard Drive, 129, 2))</td></tr><tr><td>6</td><td>Pending</td><td>Credit Card</td><td>799</td><td>2024-10-28 04:47:27</td><td>2024-10-28</td><td>1987</td><td>List(List(Electronics, List(GoPro, Black), 10, Drone, 799, 1))</td></tr><tr><td>10</td><td>Pending</td><td>Credit Card</td><td>399</td><td>2024-10-07 22:09:27</td><td>2024-10-07</td><td>5816</td><td>List(List(Electronics, List(GoPro, White), 5, Tablet, 399, 1))</td></tr><tr><td>11</td><td>Pending</td><td>Bank Transfer</td><td>897</td><td>2024-10-13 17:34:19</td><td>2024-10-13</td><td>5816</td><td>List(List(Electronics, List(Canon, White), 4, Smartwatch, 299, 3))</td></tr><tr><td>15</td><td>Completed</td><td>Bank Transfer</td><td>1199</td><td>2024-10-20 01:47:25</td><td>2024-10-20</td><td>7207</td><td>List(List(Electronics, List(GoPro, White), 9, Smart TV, 1199, 1))</td></tr><tr><td>19</td><td>Shipped</td><td>PayPal</td><td>499</td><td>2024-10-13 12:40:26</td><td>2024-10-13</td><td>8539</td><td>List(List(Electronics, List(Dell, Silver), 8, Gaming Console, 499, 1))</td></tr><tr><td>39</td><td>Shipped</td><td>PayPal</td><td>387</td><td>2024-10-29 21:39:19</td><td>2024-10-29</td><td>9263</td><td>List(List(Electronics, List(Sony, Black), 7, External Hard Drive, 129, 3))</td></tr><tr><td>55</td><td>Shipped</td><td>Bank Transfer</td><td>699</td><td>2024-10-25 05:49:16</td><td>2024-10-25</td><td>9018</td><td>List(List(Electronics, List(HP, Black), 1, Smartphone, 699, 1))</td></tr><tr><td>59</td><td>Pending</td><td>PayPal</td><td>499</td><td>2024-10-23 02:51:05</td><td>2024-10-23</td><td>3409</td><td>List(List(Electronics, List(Dell, Black), 8, Gaming Console, 499, 1))</td></tr><tr><td>72</td><td>Cancelled</td><td>PayPal</td><td>328</td><td>2024-10-06 10:23:28</td><td>2024-10-06</td><td>3889</td><td>List(List(Electronics, List(Microsoft, Gray), 3, Wireless Headphones, 199, 1), List(Electronics, List(Samsung, Silver), 7, External Hard Drive, 129, 1))</td></tr><tr><td>77</td><td>Pending</td><td>Credit Card</td><td>398</td><td>2024-10-15 13:09:33</td><td>2024-10-15</td><td>9084</td><td>List(List(Electronics, List(HP, Silver), 3, Wireless Headphones, 199, 2))</td></tr><tr><td>84</td><td>Completed</td><td>PayPal</td><td>998</td><td>2024-10-25 03:37:42</td><td>2024-10-25</td><td>2344</td><td>List(List(Electronics, List(Sony, Black), 10, Drone, 799, 1), List(Electronics, List(LG, Black), 3, Wireless Headphones, 199, 1))</td></tr><tr><td>85</td><td>Shipped</td><td>Bank Transfer</td><td>998</td><td>2024-10-23 20:06:42</td><td>2024-10-23</td><td>5011</td><td>List(List(Electronics, List(GoPro, Black), 8, Gaming Console, 499, 2))</td></tr><tr><td>86</td><td>Completed</td><td>PayPal</td><td>1199</td><td>2024-10-19 13:30:47</td><td>2024-10-19</td><td>5011</td><td>List(List(Electronics, List(Dell, White), 9, Smart TV, 1199, 1))</td></tr></tbody></table></div>"
      ]
     },
     "metadata": {
      "application/vnd.databricks.v1+output": {
       "addedWidgets": {},
       "aggData": [],
       "aggError": "",
       "aggOverflow": false,
       "aggSchema": [],
       "aggSeriesLimitReached": false,
       "aggType": "",
       "arguments": {},
       "columnCustomDisplayInfos": {},
       "data": [
        [
         1,
         "Completed",
         "Bank Transfer",
         499,
         "2025-01-05 10:13:59",
         "2025-01-05",
         6973,
         [
          [
           "Electronics",
           [
            "Sony",
            "Blue"
           ],
           8,
           "Gaming Console",
           499,
           1
          ]
         ]
        ],
        [
         2,
         "Cancelled",
         "PayPal",
         985,
         "2025-01-19 00:05:13",
         "2025-01-19",
         3532,
         [
          [
           "Electronics",
           [
            "Canon",
            "Gray"
           ],
           4,
           "Smartwatch",
           299,
           2
          ],
          [
           "Electronics",
           [
            "Dell",
            "Blue"
           ],
           7,
           "External Hard Drive",
           129,
           3
          ]
         ]
        ],
        [
         3,
         "Completed",
         "Bank Transfer",
         597,
         "2025-01-08 23:11:00",
         "2025-01-08",
         3532,
         [
          [
           "Electronics",
           [
            "Apple",
            "White"
           ],
           3,
           "Wireless Headphones",
           199,
           3
          ]
         ]
        ],
        [
         4,
         "Cancelled",
         "Bank Transfer",
         999,
         "2025-01-05 05:49:26",
         "2025-01-05",
         3532,
         [
          [
           "Electronics",
           [
            "Microsoft",
            "Black"
           ],
           2,
           "Laptop",
           999,
           1
          ]
         ]
        ],
        [
         8,
         "Completed",
         "PayPal",
         399,
         "2025-01-02 13:11:15",
         "2025-01-02",
         9179,
         [
          [
           "Electronics",
           [
            "LG",
            "White"
           ],
           5,
           "Tablet",
           399,
           1
          ]
         ]
        ],
        [
         14,
         "Cancelled",
         "PayPal",
         597,
         "2025-01-01 18:22:26",
         "2025-01-01",
         7207,
         [
          [
           "Electronics",
           [
            "Bose",
            "Blue"
           ],
           3,
           "Wireless Headphones",
           199,
           3
          ]
         ]
        ],
        [
         18,
         "Pending",
         "Credit Card",
         799,
         "2025-01-22 21:12:08",
         "2025-01-22",
         4468,
         [
          [
           "Electronics",
           [
            "Dell",
            "Black"
           ],
           10,
           "Drone",
           799,
           1
          ]
         ]
        ],
        [
         22,
         "Pending",
         "PayPal",
         199,
         "2025-01-01 15:49:19",
         "2025-01-01",
         4761,
         [
          [
           "Electronics",
           [
            "HP",
            "Silver"
           ],
           3,
           "Wireless Headphones",
           199,
           1
          ]
         ]
        ],
        [
         26,
         "Shipped",
         "Bank Transfer",
         699,
         "2025-01-05 19:01:25",
         "2025-01-05",
         7007,
         [
          [
           "Electronics",
           [
            "Samsung",
            "Silver"
           ],
           1,
           "Smartphone",
           699,
           1
          ]
         ]
        ],
        [
         29,
         "Pending",
         "Bank Transfer",
         129,
         "2025-01-18 03:05:04",
         "2025-01-18",
         5953,
         [
          [
           "Electronics",
           [
            "Bose",
            "Gray"
           ],
           7,
           "External Hard Drive",
           129,
           1
          ]
         ]
        ],
        [
         31,
         "Shipped",
         "Bank Transfer",
         299,
         "2025-01-18 03:13:29",
         "2025-01-18",
         4996,
         [
          [
           "Electronics",
           [
            "Dell",
            "White"
           ],
           4,
           "Smartwatch",
           299,
           1
          ]
         ]
        ],
        [
         33,
         "Completed",
         "PayPal",
         897,
         "2025-01-13 04:47:43",
         "2025-01-13",
         9605,
         [
          [
           "Electronics",
           [
            "Canon",
            "White"
           ],
           4,
           "Smartwatch",
           299,
           3
          ]
         ]
        ],
        [
         34,
         "Cancelled",
         "PayPal",
         926,
         "2025-01-21 00:25:01",
         "2025-01-21",
         9605,
         [
          [
           "Electronics",
           [
            "Bose",
            "Silver"
           ],
           6,
           "Bluetooth Speaker",
           149,
           2
          ],
          [
           "Electronics",
           [
            "LG",
            "Black"
           ],
           8,
           "Gaming Console",
           499,
           1
          ],
          [
           "Electronics",
           [
            "Samsung",
            "Black"
           ],
           7,
           "External Hard Drive",
           129,
           1
          ]
         ]
        ],
        [
         40,
         "Completed",
         "PayPal",
         298,
         "2025-01-20 16:18:35",
         "2025-01-20",
         6384,
         [
          [
           "Electronics",
           [
            "Bose",
            "Silver"
           ],
           6,
           "Bluetooth Speaker",
           149,
           2
          ]
         ]
        ],
        [
         41,
         "Shipped",
         "Credit Card",
         999,
         "2025-01-05 06:10:22",
         "2025-01-05",
         6384,
         [
          [
           "Electronics",
           [
            "Sony",
            "Silver"
           ],
           2,
           "Laptop",
           999,
           1
          ]
         ]
        ],
        [
         43,
         "Pending",
         "PayPal",
         499,
         "2025-01-24 18:10:37",
         "2025-01-24",
         5028,
         [
          [
           "Electronics",
           [
            "LG",
            "Black"
           ],
           8,
           "Gaming Console",
           499,
           1
          ]
         ]
        ],
        [
         50,
         "Shipped",
         "Credit Card",
         746,
         "2025-01-11 01:19:09",
         "2025-01-11",
         3712,
         [
          [
           "Electronics",
           [
            "Apple",
            "Gray"
           ],
           6,
           "Bluetooth Speaker",
           149,
           3
          ],
          [
           "Electronics",
           [
            "Sony",
            "White"
           ],
           4,
           "Smartwatch",
           299,
           1
          ]
         ]
        ],
        [
         51,
         "Completed",
         "PayPal",
         149,
         "2025-01-21 13:19:59",
         "2025-01-21",
         8845,
         [
          [
           "Electronics",
           [
            "Samsung",
            "Gray"
           ],
           6,
           "Bluetooth Speaker",
           149,
           1
          ]
         ]
        ],
        [
         53,
         "Pending",
         "Bank Transfer",
         199,
         "2025-01-21 08:31:02",
         "2025-01-21",
         8845,
         [
          [
           "Electronics",
           [
            "Apple",
            "Black"
           ],
           3,
           "Wireless Headphones",
           199,
           1
          ]
         ]
        ],
        [
         56,
         "Cancelled",
         "PayPal",
         698,
         "2025-01-01 12:02:41",
         "2025-01-01",
         8580,
         [
          [
           "Electronics",
           [
            "HP",
            "Silver"
           ],
           3,
           "Wireless Headphones",
           199,
           1
          ],
          [
           "Electronics",
           [
            "LG",
            "Gray"
           ],
           8,
           "Gaming Console",
           499,
           1
          ]
         ]
        ],
        [
         62,
         "Completed",
         "Bank Transfer",
         985,
         "2025-01-24 12:00:54",
         "2025-01-24",
         7123,
         [
          [
           "Electronics",
           [
            "Dell",
            "White"
           ],
           7,
           "External Hard Drive",
           129,
           3
          ],
          [
           "Electronics",
           [
            "GoPro",
            "Blue"
           ],
           4,
           "Smartwatch",
           299,
           2
          ]
         ]
        ],
        [
         66,
         "Cancelled",
         "Credit Card",
         598,
         "2025-01-17 21:16:11",
         "2025-01-17",
         3084,
         [
          [
           "Electronics",
           [
            "Bose",
            "Silver"
           ],
           4,
           "Smartwatch",
           299,
           1
          ],
          [
           "Electronics",
           [
            "GoPro",
            "White"
           ],
           4,
           "Smartwatch",
           299,
           1
          ]
         ]
        ],
        [
         68,
         "Completed",
         "Bank Transfer",
         149,
         "2025-01-10 20:35:43",
         "2025-01-10",
         4973,
         [
          [
           "Electronics",
           [
            "Bose",
            "Gray"
           ],
           6,
           "Bluetooth Speaker",
           149,
           1
          ]
         ]
        ],
        [
         73,
         "Shipped",
         "Credit Card",
         387,
         "2025-01-07 01:02:26",
         "2025-01-07",
         6167,
         [
          [
           "Electronics",
           [
            "GoPro",
            "Gray"
           ],
           7,
           "External Hard Drive",
           129,
           3
          ]
         ]
        ],
        [
         75,
         "Shipped",
         "Credit Card",
         699,
         "2025-01-19 16:23:16",
         "2025-01-19",
         6167,
         [
          [
           "Electronics",
           [
            "GoPro",
            "White"
           ],
           1,
           "Smartphone",
           699,
           1
          ]
         ]
        ],
        [
         76,
         "Completed",
         "Bank Transfer",
         399,
         "2025-01-06 02:54:39",
         "2025-01-06",
         3295,
         [
          [
           "Electronics",
           [
            "Microsoft",
            "Silver"
           ],
           5,
           "Tablet",
           399,
           1
          ]
         ]
        ],
        [
         78,
         "Cancelled",
         "PayPal",
         798,
         "2025-01-21 11:42:51",
         "2025-01-21",
         9084,
         [
          [
           "Electronics",
           [
            "Dell",
            "White"
           ],
           5,
           "Tablet",
           399,
           2
          ]
         ]
        ],
        [
         79,
         "Cancelled",
         "Credit Card",
         998,
         "2025-01-25 03:52:05",
         "2025-01-25",
         9084,
         [
          [
           "Electronics",
           [
            "Dell",
            "Gray"
           ],
           8,
           "Gaming Console",
           499,
           2
          ]
         ]
        ],
        [
         83,
         "Shipped",
         "PayPal",
         785,
         "2025-01-07 12:48:05",
         "2025-01-07",
         2344,
         [
          [
           "Electronics",
           [
            "Canon",
            "Gray"
           ],
           7,
           "External Hard Drive",
           129,
           3
          ],
          [
           "Electronics",
           [
            "Sony",
            "Black"
           ],
           3,
           "Wireless Headphones",
           199,
           2
          ]
         ]
        ],
        [
         87,
         "Pending",
         "PayPal",
         129,
         "2025-01-02 04:28:38",
         "2025-01-02",
         2141,
         [
          [
           "Electronics",
           [
            "Apple",
            "Blue"
           ],
           7,
           "External Hard Drive",
           129,
           1
          ]
         ]
        ],
        [
         90,
         "Pending",
         "Credit Card",
         258,
         "2025-01-17 14:30:54",
         "2025-01-17",
         9247,
         [
          [
           "Electronics",
           [
            "Canon",
            "White"
           ],
           7,
           "External Hard Drive",
           129,
           1
          ],
          [
           "Electronics",
           [
            "Samsung",
            "Black"
           ],
           7,
           "External Hard Drive",
           129,
           1
          ]
         ]
        ],
        [
         94,
         "Pending",
         "Credit Card",
         895,
         "2025-01-10 09:51:48",
         "2025-01-10",
         6627,
         [
          [
           "Electronics",
           [
            "Sony",
            "Black"
           ],
           6,
           "Bluetooth Speaker",
           149,
           2
          ],
          [
           "Electronics",
           [
            "Apple",
            "Blue"
           ],
           3,
           "Wireless Headphones",
           199,
           3
          ]
         ]
        ],
        [
         98,
         "Completed",
         "Credit Card",
         985,
         "2025-01-08 05:57:55",
         "2025-01-08",
         9150,
         [
          [
           "Electronics",
           [
            "HP",
            "Blue"
           ],
           7,
           "External Hard Drive",
           129,
           3
          ],
          [
           "Electronics",
           [
            "Samsung",
            "Gray"
           ],
           4,
           "Smartwatch",
           299,
           2
          ]
         ]
        ],
        [
         99,
         "Shipped",
         "Credit Card",
         699,
         "2025-01-10 21:43:46",
         "2025-01-10",
         9150,
         [
          [
           "Electronics",
           [
            "Bose",
            "Gray"
           ],
           1,
           "Smartphone",
           699,
           1
          ]
         ]
        ],
        [
         100,
         "Shipped",
         "PayPal",
         447,
         "2025-01-04 06:40:13",
         "2025-01-04",
         9150,
         [
          [
           "Electronics",
           [
            "LG",
            "Silver"
           ],
           6,
           "Bluetooth Speaker",
           149,
           3
          ]
         ]
        ],
        [
         12,
         "Cancelled",
         "PayPal",
         999,
         "2024-12-06 20:26:49",
         "2024-12-06",
         5816,
         [
          [
           "Electronics",
           [
            "Sony",
            "White"
           ],
           2,
           "Laptop",
           999,
           1
          ]
         ]
        ],
        [
         13,
         "Pending",
         "PayPal",
         999,
         "2024-12-17 03:41:37",
         "2024-12-17",
         4858,
         [
          [
           "Electronics",
           [
            "GoPro",
            "Black"
           ],
           2,
           "Laptop",
           999,
           1
          ]
         ]
        ],
        [
         16,
         "Pending",
         "Bank Transfer",
         597,
         "2024-12-08 22:59:48",
         "2024-12-08",
         5204,
         [
          [
           "Electronics",
           [
            "Sony",
            "Silver"
           ],
           3,
           "Wireless Headphones",
           199,
           3
          ]
         ]
        ],
        [
         17,
         "Pending",
         "Bank Transfer",
         998,
         "2024-12-02 12:00:50",
         "2024-12-02",
         5204,
         [
          [
           "Electronics",
           [
            "Dell",
            "Black"
           ],
           8,
           "Gaming Console",
           499,
           2
          ]
         ]
        ],
        [
         24,
         "Completed",
         "PayPal",
         1199,
         "2024-12-21 03:24:26",
         "2024-12-21",
         1211,
         [
          [
           "Electronics",
           [
            "GoPro",
            "Gray"
           ],
           9,
           "Smart TV",
           1199,
           1
          ]
         ]
        ],
        [
         27,
         "Completed",
         "Credit Card",
         904,
         "2024-12-02 11:24:21",
         "2024-12-02",
         2703,
         [
          [
           "Electronics",
           [
            "Dell",
            "White"
           ],
           7,
           "External Hard Drive",
           129,
           2
          ],
          [
           "Electronics",
           [
            "Canon",
            "Black"
           ],
           6,
           "Bluetooth Speaker",
           149,
           3
          ],
          [
           "Electronics",
           [
            "Microsoft",
            "Silver"
           ],
           3,
           "Wireless Headphones",
           199,
           1
          ]
         ]
        ],
        [
         28,
         "Cancelled",
         "Credit Card",
         129,
         "2024-12-26 03:17:50",
         "2024-12-26",
         2703,
         [
          [
           "Electronics",
           [
            "GoPro",
            "Blue"
           ],
           7,
           "External Hard Drive",
           129,
           1
          ]
         ]
        ],
        [
         32,
         "Pending",
         "PayPal",
         399,
         "2024-12-28 08:55:57",
         "2024-12-28",
         4996,
         [
          [
           "Electronics",
           [
            "Apple",
            "Silver"
           ],
           5,
           "Tablet",
           399,
           1
          ]
         ]
        ],
        [
         37,
         "Shipped",
         "Credit Card",
         258,
         "2024-12-22 10:11:49",
         "2024-12-22",
         7829,
         [
          [
           "Electronics",
           [
            "HP",
            "Silver"
           ],
           7,
           "External Hard Drive",
           129,
           2
          ]
         ]
        ],
        [
         38,
         "Shipped",
         "Credit Card",
         447,
         "2024-12-25 22:05:19",
         "2024-12-25",
         7829,
         [
          [
           "Electronics",
           [
            "Apple",
            "Gray"
           ],
           6,
           "Bluetooth Speaker",
           149,
           3
          ]
         ]
        ],
        [
         44,
         "Completed",
         "Credit Card",
         129,
         "2024-12-20 08:05:43",
         "2024-12-20",
         7295,
         [
          [
           "Electronics",
           [
            "Bose",
            "Blue"
           ],
           7,
           "External Hard Drive",
           129,
           1
          ]
         ]
        ],
        [
         49,
         "Cancelled",
         "PayPal",
         747,
         "2024-12-07 23:24:11",
         "2024-12-07",
         7803,
         [
          [
           "Electronics",
           [
            "HP",
            "White"
           ],
           4,
           "Smartwatch",
           299,
           1
          ],
          [
           "Electronics",
           [
            "Canon",
            "Blue"
           ],
           4,
           "Smartwatch",
           299,
           1
          ],
          [
           "Electronics",
           [
            "Samsung",
            "White"
           ],
           6,
           "Bluetooth Speaker",
           149,
           1
          ]
         ]
        ],
        [
         54,
         "Pending",
         "Credit Card",
         398,
         "2024-12-20 12:04:27",
         "2024-12-20",
         2054,
         [
          [
           "Electronics",
           [
            "Bose",
            "Gray"
           ],
           3,
           "Wireless Headphones",
           199,
           2
          ]
         ]
        ],
        [
         58,
         "Completed",
         "PayPal",
         699,
         "2024-12-09 22:40:58",
         "2024-12-09",
         8580,
         [
          [
           "Electronics",
           [
            "Microsoft",
            "Gray"
           ],
           1,
           "Smartphone",
           699,
           1
          ]
         ]
        ],
        [
         60,
         "Shipped",
         "Bank Transfer",
         199,
         "2024-12-13 13:10:12",
         "2024-12-13",
         3409,
         [
          [
           "Electronics",
           [
            "Samsung",
            "Blue"
           ],
           3,
           "Wireless Headphones",
           199,
           1
          ]
         ]
        ],
        [
         61,
         "Completed",
         "Bank Transfer",
         699,
         "2024-12-07 07:47:19",
         "2024-12-07",
         7123,
         [
          [
           "Electronics",
           [
            "Canon",
            "Black"
           ],
           1,
           "Smartphone",
           699,
           1
          ]
         ]
        ],
        [
         65,
         "Cancelled",
         "Bank Transfer",
         399,
         "2024-12-09 13:04:13",
         "2024-12-09",
         3084,
         [
          [
           "Electronics",
           [
            "Microsoft",
            "Gray"
           ],
           5,
           "Tablet",
           399,
           1
          ]
         ]
        ],
        [
         67,
         "Shipped",
         "PayPal",
         897,
         "2024-12-19 07:11:09",
         "2024-12-19",
         3084,
         [
          [
           "Electronics",
           [
            "LG",
            "Blue"
           ],
           4,
           "Smartwatch",
           299,
           3
          ]
         ]
        ],
        [
         69,
         "Completed",
         "Bank Transfer",
         699,
         "2024-12-30 02:42:01",
         "2024-12-30",
         4973,
         [
          [
           "Electronics",
           [
            "Dell",
            "Gray"
           ],
           1,
           "Smartphone",
           699,
           1
          ]
         ]
        ],
        [
         70,
         "Shipped",
         "PayPal",
         897,
         "2024-12-04 17:17:24",
         "2024-12-04",
         7997,
         [
          [
           "Electronics",
           [
            "Sony",
            "Black"
           ],
           4,
           "Smartwatch",
           299,
           3
          ]
         ]
        ],
        [
         71,
         "Completed",
         "Bank Transfer",
         199,
         "2024-12-27 11:16:39",
         "2024-12-27",
         7997,
         [
          [
           "Electronics",
           [
            "Microsoft",
            "Black"
           ],
           3,
           "Wireless Headphones",
           199,
           1
          ]
         ]
        ],
        [
         74,
         "Pending",
         "PayPal",
         699,
         "2024-12-22 15:54:11",
         "2024-12-22",
         6167,
         [
          [
           "Electronics",
           [
            "Samsung",
            "Blue"
           ],
           1,
           "Smartphone",
           699,
           1
          ]
         ]
        ],
        [
         80,
         "Cancelled",
         "Bank Transfer",
         998,
         "2024-12-11 07:43:54",
         "2024-12-11",
         9687,
         [
          [
           "Electronics",
           [
            "Samsung",
            "White"
           ],
           8,
           "Gaming Console",
           499,
           2
          ]
         ]
        ],
        [
         81,
         "Completed",
         "PayPal",
         699,
         "2024-12-27 02:27:45",
         "2024-12-27",
         9687,
         [
          [
           "Electronics",
           [
            "GoPro",
            "Blue"
           ],
           1,
           "Smartphone",
           699,
           1
          ]
         ]
        ],
        [
         82,
         "Completed",
         "PayPal",
         387,
         "2024-12-28 00:54:08",
         "2024-12-28",
         2344,
         [
          [
           "Electronics",
           [
            "Sony",
            "Blue"
           ],
           7,
           "External Hard Drive",
           129,
           3
          ]
         ]
        ],
        [
         91,
         "Cancelled",
         "Bank Transfer",
         699,
         "2024-12-17 00:09:53",
         "2024-12-17",
         5592,
         [
          [
           "Electronics",
           [
            "Canon",
            "Silver"
           ],
           1,
           "Smartphone",
           699,
           1
          ]
         ]
        ],
        [
         93,
         "Pending",
         "PayPal",
         598,
         "2024-12-22 05:07:46",
         "2024-12-22",
         6627,
         [
          [
           "Electronics",
           [
            "LG",
            "Silver"
           ],
           4,
           "Smartwatch",
           299,
           2
          ]
         ]
        ],
        [
         95,
         "Completed",
         "Bank Transfer",
         946,
         "2024-12-28 04:28:30",
         "2024-12-28",
         6627,
         [
          [
           "Electronics",
           [
            "GoPro",
            "White"
           ],
           4,
           "Smartwatch",
           299,
           2
          ],
          [
           "Electronics",
           [
            "Bose",
            "Gray"
           ],
           3,
           "Wireless Headphones",
           199,
           1
          ],
          [
           "Electronics",
           [
            "Dell",
            "Silver"
           ],
           6,
           "Bluetooth Speaker",
           149,
           1
          ]
         ]
        ],
        [
         96,
         "Shipped",
         "PayPal",
         149,
         "2024-12-02 12:27:45",
         "2024-12-02",
         6406,
         [
          [
           "Electronics",
           [
            "Microsoft",
            "Black"
           ],
           6,
           "Bluetooth Speaker",
           149,
           1
          ]
         ]
        ],
        [
         97,
         "Completed",
         "Bank Transfer",
         499,
         "2024-12-07 16:14:34",
         "2024-12-07",
         6406,
         [
          [
           "Electronics",
           [
            "Sony",
            "Silver"
           ],
           8,
           "Gaming Console",
           499,
           1
          ]
         ]
        ],
        [
         5,
         "Cancelled",
         "Bank Transfer",
         998,
         "2024-11-16 23:07:31",
         "2024-11-16",
         3892,
         [
          [
           "Electronics",
           [
            "Dell",
            "Blue"
           ],
           8,
           "Gaming Console",
           499,
           2
          ]
         ]
        ],
        [
         7,
         "Pending",
         "Credit Card",
         645,
         "2024-11-19 19:18:48",
         "2024-11-19",
         1987,
         [
          [
           "Electronics",
           [
            "LG",
            "Blue"
           ],
           7,
           "External Hard Drive",
           129,
           2
          ],
          [
           "Electronics",
           [
            "HP",
            "Gray"
           ],
           7,
           "External Hard Drive",
           129,
           3
          ]
         ]
        ],
        [
         9,
         "Shipped",
         "Bank Transfer",
         999,
         "2024-11-27 13:15:29",
         "2024-11-27",
         9179,
         [
          [
           "Electronics",
           [
            "Apple",
            "Black"
           ],
           2,
           "Laptop",
           999,
           1
          ]
         ]
        ],
        [
         20,
         "Pending",
         "PayPal",
         798,
         "2024-11-18 02:38:21",
         "2024-11-18",
         8539,
         [
          [
           "Electronics",
           [
            "Sony",
            "Silver"
           ],
           5,
           "Tablet",
           399,
           2
          ]
         ]
        ],
        [
         21,
         "Cancelled",
         "Bank Transfer",
         298,
         "2024-11-21 11:25:35",
         "2024-11-21",
         8539,
         [
          [
           "Electronics",
           [
            "GoPro",
            "Blue"
           ],
           6,
           "Bluetooth Speaker",
           149,
           2
          ]
         ]
        ],
        [
         23,
         "Shipped",
         "PayPal",
         997,
         "2024-11-22 16:04:05",
         "2024-11-22",
         4761,
         [
          [
           "Electronics",
           [
            "Apple",
            "Gray"
           ],
           5,
           "Tablet",
           399,
           1
          ],
          [
           "Electronics",
           [
            "Dell",
            "Gray"
           ],
           4,
           "Smartwatch",
           299,
           2
          ]
         ]
        ],
        [
         25,
         "Completed",
         "PayPal",
         999,
         "2024-11-05 11:45:31",
         "2024-11-05",
         9706,
         [
          [
           "Electronics",
           [
            "LG",
            "Gray"
           ],
           2,
           "Laptop",
           999,
           1
          ]
         ]
        ],
        [
         30,
         "Shipped",
         "Bank Transfer",
         199,
         "2024-11-12 03:20:29",
         "2024-11-12",
         4996,
         [
          [
           "Electronics",
           [
            "GoPro",
            "White"
           ],
           3,
           "Wireless Headphones",
           199,
           1
          ]
         ]
        ],
        [
         35,
         "Shipped",
         "Bank Transfer",
         199,
         "2024-11-20 19:09:04",
         "2024-11-20",
         4914,
         [
          [
           "Electronics",
           [
            "Dell",
            "Gray"
           ],
           3,
           "Wireless Headphones",
           199,
           1
          ]
         ]
        ],
        [
         36,
         "Completed",
         "PayPal",
         199,
         "2024-11-02 10:39:46",
         "2024-11-02",
         4914,
         [
          [
           "Electronics",
           [
            "Canon",
            "Silver"
           ],
           3,
           "Wireless Headphones",
           199,
           1
          ]
         ]
        ],
        [
         42,
         "Completed",
         "Credit Card",
         149,
         "2024-11-08 18:32:25",
         "2024-11-08",
         5028,
         [
          [
           "Electronics",
           [
            "Bose",
            "Gray"
           ],
           6,
           "Bluetooth Speaker",
           149,
           1
          ]
         ]
        ],
        [
         45,
         "Shipped",
         "Credit Card",
         799,
         "2024-11-07 15:41:43",
         "2024-11-07",
         7295,
         [
          [
           "Electronics",
           [
            "Dell",
            "White"
           ],
           10,
           "Drone",
           799,
           1
          ]
         ]
        ],
        [
         46,
         "Pending",
         "PayPal",
         199,
         "2024-11-26 17:16:53",
         "2024-11-26",
         7295,
         [
          [
           "Electronics",
           [
            "Samsung",
            "Black"
           ],
           3,
           "Wireless Headphones",
           199,
           1
          ]
         ]
        ],
        [
         47,
         "Shipped",
         "Credit Card",
         298,
         "2024-11-22 02:01:19",
         "2024-11-22",
         7803,
         [
          [
           "Electronics",
           [
            "LG",
            "Blue"
           ],
           6,
           "Bluetooth Speaker",
           149,
           2
          ]
         ]
        ],
        [
         48,
         "Completed",
         "PayPal",
         387,
         "2024-11-13 06:35:56",
         "2024-11-13",
         7803,
         [
          [
           "Electronics",
           [
            "Apple",
            "Black"
           ],
           7,
           "External Hard Drive",
           129,
           3
          ]
         ]
        ],
        [
         52,
         "Completed",
         "PayPal",
         998,
         "2024-11-19 21:23:45",
         "2024-11-19",
         8845,
         [
          [
           "Electronics",
           [
            "GoPro",
            "White"
           ],
           8,
           "Gaming Console",
           499,
           2
          ]
         ]
        ],
        [
         57,
         "Cancelled",
         "Bank Transfer",
         586,
         "2024-11-19 11:32:44",
         "2024-11-19",
         8580,
         [
          [
           "Electronics",
           [
            "HP",
            "Silver"
           ],
           3,
           "Wireless Headphones",
           199,
           1
          ],
          [
           "Electronics",
           [
            "Sony",
            "Silver"
           ],
           7,
           "External Hard Drive",
           129,
           3
          ]
         ]
        ],
        [
         63,
         "Cancelled",
         "Bank Transfer",
         646,
         "2024-11-24 08:41:28",
         "2024-11-24",
         7123,
         [
          [
           "Electronics",
           [
            "GoPro",
            "Blue"
           ],
           3,
           "Wireless Headphones",
           199,
           1
          ],
          [
           "Electronics",
           [
            "Bose",
            "Silver"
           ],
           6,
           "Bluetooth Speaker",
           149,
           3
          ]
         ]
        ],
        [
         64,
         "Completed",
         "Bank Transfer",
         984,
         "2024-11-28 12:23:21",
         "2024-11-28",
         2639,
         [
          [
           "Electronics",
           [
            "Microsoft",
            "White"
           ],
           7,
           "External Hard Drive",
           129,
           3
          ],
          [
           "Electronics",
           [
            "Canon",
            "Blue"
           ],
           3,
           "Wireless Headphones",
           199,
           3
          ]
         ]
        ],
        [
         88,
         "Cancelled",
         "Bank Transfer",
         387,
         "2024-11-15 11:39:44",
         "2024-11-15",
         9247,
         [
          [
           "Electronics",
           [
            "Bose",
            "White"
           ],
           7,
           "External Hard Drive",
           129,
           3
          ]
         ]
        ],
        [
         89,
         "Cancelled",
         "Bank Transfer",
         149,
         "2024-11-22 12:09:15",
         "2024-11-22",
         9247,
         [
          [
           "Electronics",
           [
            "GoPro",
            "Silver"
           ],
           6,
           "Bluetooth Speaker",
           149,
           1
          ]
         ]
        ],
        [
         92,
         "Shipped",
         "PayPal",
         258,
         "2024-11-24 23:33:21",
         "2024-11-24",
         5592,
         [
          [
           "Electronics",
           [
            "Sony",
            "Black"
           ],
           7,
           "External Hard Drive",
           129,
           2
          ]
         ]
        ],
        [
         6,
         "Pending",
         "Credit Card",
         799,
         "2024-10-28 04:47:27",
         "2024-10-28",
         1987,
         [
          [
           "Electronics",
           [
            "GoPro",
            "Black"
           ],
           10,
           "Drone",
           799,
           1
          ]
         ]
        ],
        [
         10,
         "Pending",
         "Credit Card",
         399,
         "2024-10-07 22:09:27",
         "2024-10-07",
         5816,
         [
          [
           "Electronics",
           [
            "GoPro",
            "White"
           ],
           5,
           "Tablet",
           399,
           1
          ]
         ]
        ],
        [
         11,
         "Pending",
         "Bank Transfer",
         897,
         "2024-10-13 17:34:19",
         "2024-10-13",
         5816,
         [
          [
           "Electronics",
           [
            "Canon",
            "White"
           ],
           4,
           "Smartwatch",
           299,
           3
          ]
         ]
        ],
        [
         15,
         "Completed",
         "Bank Transfer",
         1199,
         "2024-10-20 01:47:25",
         "2024-10-20",
         7207,
         [
          [
           "Electronics",
           [
            "GoPro",
            "White"
           ],
           9,
           "Smart TV",
           1199,
           1
          ]
         ]
        ],
        [
         19,
         "Shipped",
         "PayPal",
         499,
         "2024-10-13 12:40:26",
         "2024-10-13",
         8539,
         [
          [
           "Electronics",
           [
            "Dell",
            "Silver"
           ],
           8,
           "Gaming Console",
           499,
           1
          ]
         ]
        ],
        [
         39,
         "Shipped",
         "PayPal",
         387,
         "2024-10-29 21:39:19",
         "2024-10-29",
         9263,
         [
          [
           "Electronics",
           [
            "Sony",
            "Black"
           ],
           7,
           "External Hard Drive",
           129,
           3
          ]
         ]
        ],
        [
         55,
         "Shipped",
         "Bank Transfer",
         699,
         "2024-10-25 05:49:16",
         "2024-10-25",
         9018,
         [
          [
           "Electronics",
           [
            "HP",
            "Black"
           ],
           1,
           "Smartphone",
           699,
           1
          ]
         ]
        ],
        [
         59,
         "Pending",
         "PayPal",
         499,
         "2024-10-23 02:51:05",
         "2024-10-23",
         3409,
         [
          [
           "Electronics",
           [
            "Dell",
            "Black"
           ],
           8,
           "Gaming Console",
           499,
           1
          ]
         ]
        ],
        [
         72,
         "Cancelled",
         "PayPal",
         328,
         "2024-10-06 10:23:28",
         "2024-10-06",
         3889,
         [
          [
           "Electronics",
           [
            "Microsoft",
            "Gray"
           ],
           3,
           "Wireless Headphones",
           199,
           1
          ],
          [
           "Electronics",
           [
            "Samsung",
            "Silver"
           ],
           7,
           "External Hard Drive",
           129,
           1
          ]
         ]
        ],
        [
         77,
         "Pending",
         "Credit Card",
         398,
         "2024-10-15 13:09:33",
         "2024-10-15",
         9084,
         [
          [
           "Electronics",
           [
            "HP",
            "Silver"
           ],
           3,
           "Wireless Headphones",
           199,
           2
          ]
         ]
        ],
        [
         84,
         "Completed",
         "PayPal",
         998,
         "2024-10-25 03:37:42",
         "2024-10-25",
         2344,
         [
          [
           "Electronics",
           [
            "Sony",
            "Black"
           ],
           10,
           "Drone",
           799,
           1
          ],
          [
           "Electronics",
           [
            "LG",
            "Black"
           ],
           3,
           "Wireless Headphones",
           199,
           1
          ]
         ]
        ],
        [
         85,
         "Shipped",
         "Bank Transfer",
         998,
         "2024-10-23 20:06:42",
         "2024-10-23",
         5011,
         [
          [
           "Electronics",
           [
            "GoPro",
            "Black"
           ],
           8,
           "Gaming Console",
           499,
           2
          ]
         ]
        ],
        [
         86,
         "Completed",
         "PayPal",
         1199,
         "2024-10-19 13:30:47",
         "2024-10-19",
         5011,
         [
          [
           "Electronics",
           [
            "Dell",
            "White"
           ],
           9,
           "Smart TV",
           1199,
           1
          ]
         ]
        ]
       ],
       "datasetInfos": [],
       "dbfsResultPath": null,
       "isJsonSchema": true,
       "metadata": {},
       "overflow": false,
       "plotOptions": {
        "customPlotOptions": {},
        "displayType": "table",
        "pivotAggregation": null,
        "pivotColumns": null,
        "xColumns": null,
        "yColumns": null
       },
       "removedWidgets": [],
       "schema": [
        {
         "metadata": "{}",
         "name": "order_id",
         "type": "\"long\""
        },
        {
         "metadata": "{}",
         "name": "order_status",
         "type": "\"string\""
        },
        {
         "metadata": "{}",
         "name": "payment_method",
         "type": "\"string\""
        },
        {
         "metadata": "{}",
         "name": "total_amount",
         "type": "\"long\""
        },
        {
         "metadata": "{}",
         "name": "transaction_timestamp",
         "type": "\"string\""
        },
        {
         "metadata": "{}",
         "name": "order_date",
         "type": "\"string\""
        },
        {
         "metadata": "{}",
         "name": "customer_id",
         "type": "\"long\""
        },
        {
         "metadata": "{}",
         "name": "items",
         "type": "{\"type\":\"array\",\"elementType\":{\"type\":\"struct\",\"fields\":[{\"name\":\"category\",\"type\":\"string\",\"nullable\":true,\"metadata\":{}},{\"name\":\"details\",\"type\":{\"type\":\"struct\",\"fields\":[{\"name\":\"brand\",\"type\":\"string\",\"nullable\":true,\"metadata\":{}},{\"name\":\"color\",\"type\":\"string\",\"nullable\":true,\"metadata\":{}}]},\"nullable\":true,\"metadata\":{}},{\"name\":\"item_id\",\"type\":\"long\",\"nullable\":true,\"metadata\":{}},{\"name\":\"name\",\"type\":\"string\",\"nullable\":true,\"metadata\":{}},{\"name\":\"price\",\"type\":\"long\",\"nullable\":true,\"metadata\":{}},{\"name\":\"quantity\",\"type\":\"long\",\"nullable\":true,\"metadata\":{}}]},\"containsNull\":true}"
        }
       ],
       "type": "table"
      }
     },
     "output_type": "display_data"
    }
   ],
   "source": [
    "-- item has many duplicate arrays with. Its deduplicated by using array_distinct()\n",
    "\n",
    "select json_value.order_id as order_id,\n",
    "      json_value.order_status as order_status,\n",
    "      json_value.payment_method as payment_method,\n",
    "      json_value.total_amount as total_amount,\n",
    "      json_value.transaction_timestamp as transaction_timestamp,\n",
    "      json_value.order_date as order_date,\n",
    "      json_value.customer_id as customer_id,\n",
    "      array_distinct(json_value.items) as items      \n",
    "from gizmobox.silver.orders_json "
   ]
  },
  {
   "cell_type": "markdown",
   "metadata": {
    "application/vnd.databricks.v1+cell": {
     "cellMetadata": {},
     "inputWidgets": {},
     "nuid": "4e3b484a-a6be-45e4-b7e6-4b583ce60352",
     "showTitle": false,
     "tableResultSettingsMap": {},
     "title": ""
    }
   },
   "source": [
    "#####3. Explode Arrays\n",
    "- This explode() basically takes in an array and explodes the information\n",
    "- In our data set, item has many arrays within. Hence using on it"
   ]
  },
  {
   "cell_type": "code",
   "execution_count": 0,
   "metadata": {
    "application/vnd.databricks.v1+cell": {
     "cellMetadata": {
      "byteLimit": 2048000,
      "rowLimit": 10000
     },
     "inputWidgets": {},
     "nuid": "d786d43b-4167-414b-814b-212fc657a9e0",
     "showTitle": false,
     "tableResultSettingsMap": {},
     "title": ""
    }
   },
   "outputs": [
    {
     "output_type": "display_data",
     "data": {
      "text/html": [
       "<style scoped>\n",
       "  .table-result-container {\n",
       "    max-height: 300px;\n",
       "    overflow: auto;\n",
       "  }\n",
       "  table, th, td {\n",
       "    border: 1px solid black;\n",
       "    border-collapse: collapse;\n",
       "  }\n",
       "  th, td {\n",
       "    padding: 5px;\n",
       "  }\n",
       "  th {\n",
       "    text-align: left;\n",
       "  }\n",
       "</style><div class='table-result-container'><table class='table-result'><thead style='background-color: white'><tr><th>order_id</th><th>order_status</th><th>payment_method</th><th>total_amount</th><th>transaction_timestamp</th><th>order_date</th><th>customer_id</th><th>item</th></tr></thead><tbody><tr><td>1</td><td>Completed</td><td>Bank Transfer</td><td>499</td><td>2025-01-05 10:13:59</td><td>2025-01-05</td><td>6973</td><td>List(Electronics, List(Sony, Blue), 8, Gaming Console, 499, 1)</td></tr><tr><td>2</td><td>Cancelled</td><td>PayPal</td><td>985</td><td>2025-01-19 00:05:13</td><td>2025-01-19</td><td>3532</td><td>List(Electronics, List(Canon, Gray), 4, Smartwatch, 299, 2)</td></tr><tr><td>2</td><td>Cancelled</td><td>PayPal</td><td>985</td><td>2025-01-19 00:05:13</td><td>2025-01-19</td><td>3532</td><td>List(Electronics, List(Dell, Blue), 7, External Hard Drive, 129, 3)</td></tr><tr><td>3</td><td>Completed</td><td>Bank Transfer</td><td>597</td><td>2025-01-08 23:11:00</td><td>2025-01-08</td><td>3532</td><td>List(Electronics, List(Apple, White), 3, Wireless Headphones, 199, 3)</td></tr><tr><td>4</td><td>Cancelled</td><td>Bank Transfer</td><td>999</td><td>2025-01-05 05:49:26</td><td>2025-01-05</td><td>3532</td><td>List(Electronics, List(Microsoft, Black), 2, Laptop, 999, 1)</td></tr><tr><td>8</td><td>Completed</td><td>PayPal</td><td>399</td><td>2025-01-02 13:11:15</td><td>2025-01-02</td><td>9179</td><td>List(Electronics, List(LG, White), 5, Tablet, 399, 1)</td></tr><tr><td>14</td><td>Cancelled</td><td>PayPal</td><td>597</td><td>2025-01-01 18:22:26</td><td>2025-01-01</td><td>7207</td><td>List(Electronics, List(Bose, Blue), 3, Wireless Headphones, 199, 3)</td></tr><tr><td>18</td><td>Pending</td><td>Credit Card</td><td>799</td><td>2025-01-22 21:12:08</td><td>2025-01-22</td><td>4468</td><td>List(Electronics, List(Dell, Black), 10, Drone, 799, 1)</td></tr><tr><td>22</td><td>Pending</td><td>PayPal</td><td>199</td><td>2025-01-01 15:49:19</td><td>2025-01-01</td><td>4761</td><td>List(Electronics, List(HP, Silver), 3, Wireless Headphones, 199, 1)</td></tr><tr><td>26</td><td>Shipped</td><td>Bank Transfer</td><td>699</td><td>2025-01-05 19:01:25</td><td>2025-01-05</td><td>7007</td><td>List(Electronics, List(Samsung, Silver), 1, Smartphone, 699, 1)</td></tr><tr><td>29</td><td>Pending</td><td>Bank Transfer</td><td>129</td><td>2025-01-18 03:05:04</td><td>2025-01-18</td><td>5953</td><td>List(Electronics, List(Bose, Gray), 7, External Hard Drive, 129, 1)</td></tr><tr><td>31</td><td>Shipped</td><td>Bank Transfer</td><td>299</td><td>2025-01-18 03:13:29</td><td>2025-01-18</td><td>4996</td><td>List(Electronics, List(Dell, White), 4, Smartwatch, 299, 1)</td></tr><tr><td>33</td><td>Completed</td><td>PayPal</td><td>897</td><td>2025-01-13 04:47:43</td><td>2025-01-13</td><td>9605</td><td>List(Electronics, List(Canon, White), 4, Smartwatch, 299, 3)</td></tr><tr><td>34</td><td>Cancelled</td><td>PayPal</td><td>926</td><td>2025-01-21 00:25:01</td><td>2025-01-21</td><td>9605</td><td>List(Electronics, List(Bose, Silver), 6, Bluetooth Speaker, 149, 2)</td></tr><tr><td>34</td><td>Cancelled</td><td>PayPal</td><td>926</td><td>2025-01-21 00:25:01</td><td>2025-01-21</td><td>9605</td><td>List(Electronics, List(LG, Black), 8, Gaming Console, 499, 1)</td></tr><tr><td>34</td><td>Cancelled</td><td>PayPal</td><td>926</td><td>2025-01-21 00:25:01</td><td>2025-01-21</td><td>9605</td><td>List(Electronics, List(Samsung, Black), 7, External Hard Drive, 129, 1)</td></tr><tr><td>40</td><td>Completed</td><td>PayPal</td><td>298</td><td>2025-01-20 16:18:35</td><td>2025-01-20</td><td>6384</td><td>List(Electronics, List(Bose, Silver), 6, Bluetooth Speaker, 149, 2)</td></tr><tr><td>41</td><td>Shipped</td><td>Credit Card</td><td>999</td><td>2025-01-05 06:10:22</td><td>2025-01-05</td><td>6384</td><td>List(Electronics, List(Sony, Silver), 2, Laptop, 999, 1)</td></tr><tr><td>43</td><td>Pending</td><td>PayPal</td><td>499</td><td>2025-01-24 18:10:37</td><td>2025-01-24</td><td>5028</td><td>List(Electronics, List(LG, Black), 8, Gaming Console, 499, 1)</td></tr><tr><td>50</td><td>Shipped</td><td>Credit Card</td><td>746</td><td>2025-01-11 01:19:09</td><td>2025-01-11</td><td>3712</td><td>List(Electronics, List(Apple, Gray), 6, Bluetooth Speaker, 149, 3)</td></tr><tr><td>50</td><td>Shipped</td><td>Credit Card</td><td>746</td><td>2025-01-11 01:19:09</td><td>2025-01-11</td><td>3712</td><td>List(Electronics, List(Sony, White), 4, Smartwatch, 299, 1)</td></tr><tr><td>51</td><td>Completed</td><td>PayPal</td><td>149</td><td>2025-01-21 13:19:59</td><td>2025-01-21</td><td>8845</td><td>List(Electronics, List(Samsung, Gray), 6, Bluetooth Speaker, 149, 1)</td></tr><tr><td>53</td><td>Pending</td><td>Bank Transfer</td><td>199</td><td>2025-01-21 08:31:02</td><td>2025-01-21</td><td>8845</td><td>List(Electronics, List(Apple, Black), 3, Wireless Headphones, 199, 1)</td></tr><tr><td>56</td><td>Cancelled</td><td>PayPal</td><td>698</td><td>2025-01-01 12:02:41</td><td>2025-01-01</td><td>8580</td><td>List(Electronics, List(HP, Silver), 3, Wireless Headphones, 199, 1)</td></tr><tr><td>56</td><td>Cancelled</td><td>PayPal</td><td>698</td><td>2025-01-01 12:02:41</td><td>2025-01-01</td><td>8580</td><td>List(Electronics, List(LG, Gray), 8, Gaming Console, 499, 1)</td></tr><tr><td>62</td><td>Completed</td><td>Bank Transfer</td><td>985</td><td>2025-01-24 12:00:54</td><td>2025-01-24</td><td>7123</td><td>List(Electronics, List(Dell, White), 7, External Hard Drive, 129, 3)</td></tr><tr><td>62</td><td>Completed</td><td>Bank Transfer</td><td>985</td><td>2025-01-24 12:00:54</td><td>2025-01-24</td><td>7123</td><td>List(Electronics, List(GoPro, Blue), 4, Smartwatch, 299, 2)</td></tr><tr><td>66</td><td>Cancelled</td><td>Credit Card</td><td>598</td><td>2025-01-17 21:16:11</td><td>2025-01-17</td><td>3084</td><td>List(Electronics, List(Bose, Silver), 4, Smartwatch, 299, 1)</td></tr><tr><td>66</td><td>Cancelled</td><td>Credit Card</td><td>598</td><td>2025-01-17 21:16:11</td><td>2025-01-17</td><td>3084</td><td>List(Electronics, List(GoPro, White), 4, Smartwatch, 299, 1)</td></tr><tr><td>68</td><td>Completed</td><td>Bank Transfer</td><td>149</td><td>2025-01-10 20:35:43</td><td>2025-01-10</td><td>4973</td><td>List(Electronics, List(Bose, Gray), 6, Bluetooth Speaker, 149, 1)</td></tr><tr><td>73</td><td>Shipped</td><td>Credit Card</td><td>387</td><td>2025-01-07 01:02:26</td><td>2025-01-07</td><td>6167</td><td>List(Electronics, List(GoPro, Gray), 7, External Hard Drive, 129, 3)</td></tr><tr><td>75</td><td>Shipped</td><td>Credit Card</td><td>699</td><td>2025-01-19 16:23:16</td><td>2025-01-19</td><td>6167</td><td>List(Electronics, List(GoPro, White), 1, Smartphone, 699, 1)</td></tr><tr><td>76</td><td>Completed</td><td>Bank Transfer</td><td>399</td><td>2025-01-06 02:54:39</td><td>2025-01-06</td><td>3295</td><td>List(Electronics, List(Microsoft, Silver), 5, Tablet, 399, 1)</td></tr><tr><td>78</td><td>Cancelled</td><td>PayPal</td><td>798</td><td>2025-01-21 11:42:51</td><td>2025-01-21</td><td>9084</td><td>List(Electronics, List(Dell, White), 5, Tablet, 399, 2)</td></tr><tr><td>79</td><td>Cancelled</td><td>Credit Card</td><td>998</td><td>2025-01-25 03:52:05</td><td>2025-01-25</td><td>9084</td><td>List(Electronics, List(Dell, Gray), 8, Gaming Console, 499, 2)</td></tr><tr><td>83</td><td>Shipped</td><td>PayPal</td><td>785</td><td>2025-01-07 12:48:05</td><td>2025-01-07</td><td>2344</td><td>List(Electronics, List(Canon, Gray), 7, External Hard Drive, 129, 3)</td></tr><tr><td>83</td><td>Shipped</td><td>PayPal</td><td>785</td><td>2025-01-07 12:48:05</td><td>2025-01-07</td><td>2344</td><td>List(Electronics, List(Sony, Black), 3, Wireless Headphones, 199, 2)</td></tr><tr><td>87</td><td>Pending</td><td>PayPal</td><td>129</td><td>2025-01-02 04:28:38</td><td>2025-01-02</td><td>2141</td><td>List(Electronics, List(Apple, Blue), 7, External Hard Drive, 129, 1)</td></tr><tr><td>90</td><td>Pending</td><td>Credit Card</td><td>258</td><td>2025-01-17 14:30:54</td><td>2025-01-17</td><td>9247</td><td>List(Electronics, List(Canon, White), 7, External Hard Drive, 129, 1)</td></tr><tr><td>90</td><td>Pending</td><td>Credit Card</td><td>258</td><td>2025-01-17 14:30:54</td><td>2025-01-17</td><td>9247</td><td>List(Electronics, List(Samsung, Black), 7, External Hard Drive, 129, 1)</td></tr><tr><td>94</td><td>Pending</td><td>Credit Card</td><td>895</td><td>2025-01-10 09:51:48</td><td>2025-01-10</td><td>6627</td><td>List(Electronics, List(Sony, Black), 6, Bluetooth Speaker, 149, 2)</td></tr><tr><td>94</td><td>Pending</td><td>Credit Card</td><td>895</td><td>2025-01-10 09:51:48</td><td>2025-01-10</td><td>6627</td><td>List(Electronics, List(Apple, Blue), 3, Wireless Headphones, 199, 3)</td></tr><tr><td>98</td><td>Completed</td><td>Credit Card</td><td>985</td><td>2025-01-08 05:57:55</td><td>2025-01-08</td><td>9150</td><td>List(Electronics, List(HP, Blue), 7, External Hard Drive, 129, 3)</td></tr><tr><td>98</td><td>Completed</td><td>Credit Card</td><td>985</td><td>2025-01-08 05:57:55</td><td>2025-01-08</td><td>9150</td><td>List(Electronics, List(Samsung, Gray), 4, Smartwatch, 299, 2)</td></tr><tr><td>99</td><td>Shipped</td><td>Credit Card</td><td>699</td><td>2025-01-10 21:43:46</td><td>2025-01-10</td><td>9150</td><td>List(Electronics, List(Bose, Gray), 1, Smartphone, 699, 1)</td></tr><tr><td>100</td><td>Shipped</td><td>PayPal</td><td>447</td><td>2025-01-04 06:40:13</td><td>2025-01-04</td><td>9150</td><td>List(Electronics, List(LG, Silver), 6, Bluetooth Speaker, 149, 3)</td></tr><tr><td>12</td><td>Cancelled</td><td>PayPal</td><td>999</td><td>2024-12-06 20:26:49</td><td>2024-12-06</td><td>5816</td><td>List(Electronics, List(Sony, White), 2, Laptop, 999, 1)</td></tr><tr><td>13</td><td>Pending</td><td>PayPal</td><td>999</td><td>2024-12-17 03:41:37</td><td>2024-12-17</td><td>4858</td><td>List(Electronics, List(GoPro, Black), 2, Laptop, 999, 1)</td></tr><tr><td>16</td><td>Pending</td><td>Bank Transfer</td><td>597</td><td>2024-12-08 22:59:48</td><td>2024-12-08</td><td>5204</td><td>List(Electronics, List(Sony, Silver), 3, Wireless Headphones, 199, 3)</td></tr><tr><td>17</td><td>Pending</td><td>Bank Transfer</td><td>998</td><td>2024-12-02 12:00:50</td><td>2024-12-02</td><td>5204</td><td>List(Electronics, List(Dell, Black), 8, Gaming Console, 499, 2)</td></tr><tr><td>24</td><td>Completed</td><td>PayPal</td><td>1199</td><td>2024-12-21 03:24:26</td><td>2024-12-21</td><td>1211</td><td>List(Electronics, List(GoPro, Gray), 9, Smart TV, 1199, 1)</td></tr><tr><td>27</td><td>Completed</td><td>Credit Card</td><td>904</td><td>2024-12-02 11:24:21</td><td>2024-12-02</td><td>2703</td><td>List(Electronics, List(Dell, White), 7, External Hard Drive, 129, 2)</td></tr><tr><td>27</td><td>Completed</td><td>Credit Card</td><td>904</td><td>2024-12-02 11:24:21</td><td>2024-12-02</td><td>2703</td><td>List(Electronics, List(Canon, Black), 6, Bluetooth Speaker, 149, 3)</td></tr><tr><td>27</td><td>Completed</td><td>Credit Card</td><td>904</td><td>2024-12-02 11:24:21</td><td>2024-12-02</td><td>2703</td><td>List(Electronics, List(Microsoft, Silver), 3, Wireless Headphones, 199, 1)</td></tr><tr><td>28</td><td>Cancelled</td><td>Credit Card</td><td>129</td><td>2024-12-26 03:17:50</td><td>2024-12-26</td><td>2703</td><td>List(Electronics, List(GoPro, Blue), 7, External Hard Drive, 129, 1)</td></tr><tr><td>32</td><td>Pending</td><td>PayPal</td><td>399</td><td>2024-12-28 08:55:57</td><td>2024-12-28</td><td>4996</td><td>List(Electronics, List(Apple, Silver), 5, Tablet, 399, 1)</td></tr><tr><td>37</td><td>Shipped</td><td>Credit Card</td><td>258</td><td>2024-12-22 10:11:49</td><td>2024-12-22</td><td>7829</td><td>List(Electronics, List(HP, Silver), 7, External Hard Drive, 129, 2)</td></tr><tr><td>38</td><td>Shipped</td><td>Credit Card</td><td>447</td><td>2024-12-25 22:05:19</td><td>2024-12-25</td><td>7829</td><td>List(Electronics, List(Apple, Gray), 6, Bluetooth Speaker, 149, 3)</td></tr><tr><td>44</td><td>Completed</td><td>Credit Card</td><td>129</td><td>2024-12-20 08:05:43</td><td>2024-12-20</td><td>7295</td><td>List(Electronics, List(Bose, Blue), 7, External Hard Drive, 129, 1)</td></tr><tr><td>49</td><td>Cancelled</td><td>PayPal</td><td>747</td><td>2024-12-07 23:24:11</td><td>2024-12-07</td><td>7803</td><td>List(Electronics, List(HP, White), 4, Smartwatch, 299, 1)</td></tr><tr><td>49</td><td>Cancelled</td><td>PayPal</td><td>747</td><td>2024-12-07 23:24:11</td><td>2024-12-07</td><td>7803</td><td>List(Electronics, List(Canon, Blue), 4, Smartwatch, 299, 1)</td></tr><tr><td>49</td><td>Cancelled</td><td>PayPal</td><td>747</td><td>2024-12-07 23:24:11</td><td>2024-12-07</td><td>7803</td><td>List(Electronics, List(Samsung, White), 6, Bluetooth Speaker, 149, 1)</td></tr><tr><td>54</td><td>Pending</td><td>Credit Card</td><td>398</td><td>2024-12-20 12:04:27</td><td>2024-12-20</td><td>2054</td><td>List(Electronics, List(Bose, Gray), 3, Wireless Headphones, 199, 2)</td></tr><tr><td>58</td><td>Completed</td><td>PayPal</td><td>699</td><td>2024-12-09 22:40:58</td><td>2024-12-09</td><td>8580</td><td>List(Electronics, List(Microsoft, Gray), 1, Smartphone, 699, 1)</td></tr><tr><td>60</td><td>Shipped</td><td>Bank Transfer</td><td>199</td><td>2024-12-13 13:10:12</td><td>2024-12-13</td><td>3409</td><td>List(Electronics, List(Samsung, Blue), 3, Wireless Headphones, 199, 1)</td></tr><tr><td>61</td><td>Completed</td><td>Bank Transfer</td><td>699</td><td>2024-12-07 07:47:19</td><td>2024-12-07</td><td>7123</td><td>List(Electronics, List(Canon, Black), 1, Smartphone, 699, 1)</td></tr><tr><td>65</td><td>Cancelled</td><td>Bank Transfer</td><td>399</td><td>2024-12-09 13:04:13</td><td>2024-12-09</td><td>3084</td><td>List(Electronics, List(Microsoft, Gray), 5, Tablet, 399, 1)</td></tr><tr><td>67</td><td>Shipped</td><td>PayPal</td><td>897</td><td>2024-12-19 07:11:09</td><td>2024-12-19</td><td>3084</td><td>List(Electronics, List(LG, Blue), 4, Smartwatch, 299, 3)</td></tr><tr><td>69</td><td>Completed</td><td>Bank Transfer</td><td>699</td><td>2024-12-30 02:42:01</td><td>2024-12-30</td><td>4973</td><td>List(Electronics, List(Dell, Gray), 1, Smartphone, 699, 1)</td></tr><tr><td>70</td><td>Shipped</td><td>PayPal</td><td>897</td><td>2024-12-04 17:17:24</td><td>2024-12-04</td><td>7997</td><td>List(Electronics, List(Sony, Black), 4, Smartwatch, 299, 3)</td></tr><tr><td>71</td><td>Completed</td><td>Bank Transfer</td><td>199</td><td>2024-12-27 11:16:39</td><td>2024-12-27</td><td>7997</td><td>List(Electronics, List(Microsoft, Black), 3, Wireless Headphones, 199, 1)</td></tr><tr><td>74</td><td>Pending</td><td>PayPal</td><td>699</td><td>2024-12-22 15:54:11</td><td>2024-12-22</td><td>6167</td><td>List(Electronics, List(Samsung, Blue), 1, Smartphone, 699, 1)</td></tr><tr><td>80</td><td>Cancelled</td><td>Bank Transfer</td><td>998</td><td>2024-12-11 07:43:54</td><td>2024-12-11</td><td>9687</td><td>List(Electronics, List(Samsung, White), 8, Gaming Console, 499, 2)</td></tr><tr><td>81</td><td>Completed</td><td>PayPal</td><td>699</td><td>2024-12-27 02:27:45</td><td>2024-12-27</td><td>9687</td><td>List(Electronics, List(GoPro, Blue), 1, Smartphone, 699, 1)</td></tr><tr><td>82</td><td>Completed</td><td>PayPal</td><td>387</td><td>2024-12-28 00:54:08</td><td>2024-12-28</td><td>2344</td><td>List(Electronics, List(Sony, Blue), 7, External Hard Drive, 129, 3)</td></tr><tr><td>91</td><td>Cancelled</td><td>Bank Transfer</td><td>699</td><td>2024-12-17 00:09:53</td><td>2024-12-17</td><td>5592</td><td>List(Electronics, List(Canon, Silver), 1, Smartphone, 699, 1)</td></tr><tr><td>93</td><td>Pending</td><td>PayPal</td><td>598</td><td>2024-12-22 05:07:46</td><td>2024-12-22</td><td>6627</td><td>List(Electronics, List(LG, Silver), 4, Smartwatch, 299, 2)</td></tr><tr><td>95</td><td>Completed</td><td>Bank Transfer</td><td>946</td><td>2024-12-28 04:28:30</td><td>2024-12-28</td><td>6627</td><td>List(Electronics, List(GoPro, White), 4, Smartwatch, 299, 2)</td></tr><tr><td>95</td><td>Completed</td><td>Bank Transfer</td><td>946</td><td>2024-12-28 04:28:30</td><td>2024-12-28</td><td>6627</td><td>List(Electronics, List(Bose, Gray), 3, Wireless Headphones, 199, 1)</td></tr><tr><td>95</td><td>Completed</td><td>Bank Transfer</td><td>946</td><td>2024-12-28 04:28:30</td><td>2024-12-28</td><td>6627</td><td>List(Electronics, List(Dell, Silver), 6, Bluetooth Speaker, 149, 1)</td></tr><tr><td>96</td><td>Shipped</td><td>PayPal</td><td>149</td><td>2024-12-02 12:27:45</td><td>2024-12-02</td><td>6406</td><td>List(Electronics, List(Microsoft, Black), 6, Bluetooth Speaker, 149, 1)</td></tr><tr><td>97</td><td>Completed</td><td>Bank Transfer</td><td>499</td><td>2024-12-07 16:14:34</td><td>2024-12-07</td><td>6406</td><td>List(Electronics, List(Sony, Silver), 8, Gaming Console, 499, 1)</td></tr><tr><td>5</td><td>Cancelled</td><td>Bank Transfer</td><td>998</td><td>2024-11-16 23:07:31</td><td>2024-11-16</td><td>3892</td><td>List(Electronics, List(Dell, Blue), 8, Gaming Console, 499, 2)</td></tr><tr><td>7</td><td>Pending</td><td>Credit Card</td><td>645</td><td>2024-11-19 19:18:48</td><td>2024-11-19</td><td>1987</td><td>List(Electronics, List(LG, Blue), 7, External Hard Drive, 129, 2)</td></tr><tr><td>7</td><td>Pending</td><td>Credit Card</td><td>645</td><td>2024-11-19 19:18:48</td><td>2024-11-19</td><td>1987</td><td>List(Electronics, List(HP, Gray), 7, External Hard Drive, 129, 3)</td></tr><tr><td>9</td><td>Shipped</td><td>Bank Transfer</td><td>999</td><td>2024-11-27 13:15:29</td><td>2024-11-27</td><td>9179</td><td>List(Electronics, List(Apple, Black), 2, Laptop, 999, 1)</td></tr><tr><td>20</td><td>Pending</td><td>PayPal</td><td>798</td><td>2024-11-18 02:38:21</td><td>2024-11-18</td><td>8539</td><td>List(Electronics, List(Sony, Silver), 5, Tablet, 399, 2)</td></tr><tr><td>21</td><td>Cancelled</td><td>Bank Transfer</td><td>298</td><td>2024-11-21 11:25:35</td><td>2024-11-21</td><td>8539</td><td>List(Electronics, List(GoPro, Blue), 6, Bluetooth Speaker, 149, 2)</td></tr><tr><td>23</td><td>Shipped</td><td>PayPal</td><td>997</td><td>2024-11-22 16:04:05</td><td>2024-11-22</td><td>4761</td><td>List(Electronics, List(Apple, Gray), 5, Tablet, 399, 1)</td></tr><tr><td>23</td><td>Shipped</td><td>PayPal</td><td>997</td><td>2024-11-22 16:04:05</td><td>2024-11-22</td><td>4761</td><td>List(Electronics, List(Dell, Gray), 4, Smartwatch, 299, 2)</td></tr><tr><td>25</td><td>Completed</td><td>PayPal</td><td>999</td><td>2024-11-05 11:45:31</td><td>2024-11-05</td><td>9706</td><td>List(Electronics, List(LG, Gray), 2, Laptop, 999, 1)</td></tr><tr><td>30</td><td>Shipped</td><td>Bank Transfer</td><td>199</td><td>2024-11-12 03:20:29</td><td>2024-11-12</td><td>4996</td><td>List(Electronics, List(GoPro, White), 3, Wireless Headphones, 199, 1)</td></tr><tr><td>35</td><td>Shipped</td><td>Bank Transfer</td><td>199</td><td>2024-11-20 19:09:04</td><td>2024-11-20</td><td>4914</td><td>List(Electronics, List(Dell, Gray), 3, Wireless Headphones, 199, 1)</td></tr><tr><td>36</td><td>Completed</td><td>PayPal</td><td>199</td><td>2024-11-02 10:39:46</td><td>2024-11-02</td><td>4914</td><td>List(Electronics, List(Canon, Silver), 3, Wireless Headphones, 199, 1)</td></tr><tr><td>42</td><td>Completed</td><td>Credit Card</td><td>149</td><td>2024-11-08 18:32:25</td><td>2024-11-08</td><td>5028</td><td>List(Electronics, List(Bose, Gray), 6, Bluetooth Speaker, 149, 1)</td></tr><tr><td>45</td><td>Shipped</td><td>Credit Card</td><td>799</td><td>2024-11-07 15:41:43</td><td>2024-11-07</td><td>7295</td><td>List(Electronics, List(Dell, White), 10, Drone, 799, 1)</td></tr><tr><td>46</td><td>Pending</td><td>PayPal</td><td>199</td><td>2024-11-26 17:16:53</td><td>2024-11-26</td><td>7295</td><td>List(Electronics, List(Samsung, Black), 3, Wireless Headphones, 199, 1)</td></tr><tr><td>47</td><td>Shipped</td><td>Credit Card</td><td>298</td><td>2024-11-22 02:01:19</td><td>2024-11-22</td><td>7803</td><td>List(Electronics, List(LG, Blue), 6, Bluetooth Speaker, 149, 2)</td></tr><tr><td>48</td><td>Completed</td><td>PayPal</td><td>387</td><td>2024-11-13 06:35:56</td><td>2024-11-13</td><td>7803</td><td>List(Electronics, List(Apple, Black), 7, External Hard Drive, 129, 3)</td></tr><tr><td>52</td><td>Completed</td><td>PayPal</td><td>998</td><td>2024-11-19 21:23:45</td><td>2024-11-19</td><td>8845</td><td>List(Electronics, List(GoPro, White), 8, Gaming Console, 499, 2)</td></tr><tr><td>57</td><td>Cancelled</td><td>Bank Transfer</td><td>586</td><td>2024-11-19 11:32:44</td><td>2024-11-19</td><td>8580</td><td>List(Electronics, List(HP, Silver), 3, Wireless Headphones, 199, 1)</td></tr><tr><td>57</td><td>Cancelled</td><td>Bank Transfer</td><td>586</td><td>2024-11-19 11:32:44</td><td>2024-11-19</td><td>8580</td><td>List(Electronics, List(Sony, Silver), 7, External Hard Drive, 129, 3)</td></tr><tr><td>63</td><td>Cancelled</td><td>Bank Transfer</td><td>646</td><td>2024-11-24 08:41:28</td><td>2024-11-24</td><td>7123</td><td>List(Electronics, List(GoPro, Blue), 3, Wireless Headphones, 199, 1)</td></tr><tr><td>63</td><td>Cancelled</td><td>Bank Transfer</td><td>646</td><td>2024-11-24 08:41:28</td><td>2024-11-24</td><td>7123</td><td>List(Electronics, List(Bose, Silver), 6, Bluetooth Speaker, 149, 3)</td></tr><tr><td>64</td><td>Completed</td><td>Bank Transfer</td><td>984</td><td>2024-11-28 12:23:21</td><td>2024-11-28</td><td>2639</td><td>List(Electronics, List(Microsoft, White), 7, External Hard Drive, 129, 3)</td></tr><tr><td>64</td><td>Completed</td><td>Bank Transfer</td><td>984</td><td>2024-11-28 12:23:21</td><td>2024-11-28</td><td>2639</td><td>List(Electronics, List(Canon, Blue), 3, Wireless Headphones, 199, 3)</td></tr><tr><td>88</td><td>Cancelled</td><td>Bank Transfer</td><td>387</td><td>2024-11-15 11:39:44</td><td>2024-11-15</td><td>9247</td><td>List(Electronics, List(Bose, White), 7, External Hard Drive, 129, 3)</td></tr><tr><td>89</td><td>Cancelled</td><td>Bank Transfer</td><td>149</td><td>2024-11-22 12:09:15</td><td>2024-11-22</td><td>9247</td><td>List(Electronics, List(GoPro, Silver), 6, Bluetooth Speaker, 149, 1)</td></tr><tr><td>92</td><td>Shipped</td><td>PayPal</td><td>258</td><td>2024-11-24 23:33:21</td><td>2024-11-24</td><td>5592</td><td>List(Electronics, List(Sony, Black), 7, External Hard Drive, 129, 2)</td></tr><tr><td>6</td><td>Pending</td><td>Credit Card</td><td>799</td><td>2024-10-28 04:47:27</td><td>2024-10-28</td><td>1987</td><td>List(Electronics, List(GoPro, Black), 10, Drone, 799, 1)</td></tr><tr><td>10</td><td>Pending</td><td>Credit Card</td><td>399</td><td>2024-10-07 22:09:27</td><td>2024-10-07</td><td>5816</td><td>List(Electronics, List(GoPro, White), 5, Tablet, 399, 1)</td></tr><tr><td>11</td><td>Pending</td><td>Bank Transfer</td><td>897</td><td>2024-10-13 17:34:19</td><td>2024-10-13</td><td>5816</td><td>List(Electronics, List(Canon, White), 4, Smartwatch, 299, 3)</td></tr><tr><td>15</td><td>Completed</td><td>Bank Transfer</td><td>1199</td><td>2024-10-20 01:47:25</td><td>2024-10-20</td><td>7207</td><td>List(Electronics, List(GoPro, White), 9, Smart TV, 1199, 1)</td></tr><tr><td>19</td><td>Shipped</td><td>PayPal</td><td>499</td><td>2024-10-13 12:40:26</td><td>2024-10-13</td><td>8539</td><td>List(Electronics, List(Dell, Silver), 8, Gaming Console, 499, 1)</td></tr><tr><td>39</td><td>Shipped</td><td>PayPal</td><td>387</td><td>2024-10-29 21:39:19</td><td>2024-10-29</td><td>9263</td><td>List(Electronics, List(Sony, Black), 7, External Hard Drive, 129, 3)</td></tr><tr><td>55</td><td>Shipped</td><td>Bank Transfer</td><td>699</td><td>2024-10-25 05:49:16</td><td>2024-10-25</td><td>9018</td><td>List(Electronics, List(HP, Black), 1, Smartphone, 699, 1)</td></tr><tr><td>59</td><td>Pending</td><td>PayPal</td><td>499</td><td>2024-10-23 02:51:05</td><td>2024-10-23</td><td>3409</td><td>List(Electronics, List(Dell, Black), 8, Gaming Console, 499, 1)</td></tr><tr><td>72</td><td>Cancelled</td><td>PayPal</td><td>328</td><td>2024-10-06 10:23:28</td><td>2024-10-06</td><td>3889</td><td>List(Electronics, List(Microsoft, Gray), 3, Wireless Headphones, 199, 1)</td></tr><tr><td>72</td><td>Cancelled</td><td>PayPal</td><td>328</td><td>2024-10-06 10:23:28</td><td>2024-10-06</td><td>3889</td><td>List(Electronics, List(Samsung, Silver), 7, External Hard Drive, 129, 1)</td></tr><tr><td>77</td><td>Pending</td><td>Credit Card</td><td>398</td><td>2024-10-15 13:09:33</td><td>2024-10-15</td><td>9084</td><td>List(Electronics, List(HP, Silver), 3, Wireless Headphones, 199, 2)</td></tr><tr><td>84</td><td>Completed</td><td>PayPal</td><td>998</td><td>2024-10-25 03:37:42</td><td>2024-10-25</td><td>2344</td><td>List(Electronics, List(Sony, Black), 10, Drone, 799, 1)</td></tr><tr><td>84</td><td>Completed</td><td>PayPal</td><td>998</td><td>2024-10-25 03:37:42</td><td>2024-10-25</td><td>2344</td><td>List(Electronics, List(LG, Black), 3, Wireless Headphones, 199, 1)</td></tr><tr><td>85</td><td>Shipped</td><td>Bank Transfer</td><td>998</td><td>2024-10-23 20:06:42</td><td>2024-10-23</td><td>5011</td><td>List(Electronics, List(GoPro, Black), 8, Gaming Console, 499, 2)</td></tr><tr><td>86</td><td>Completed</td><td>PayPal</td><td>1199</td><td>2024-10-19 13:30:47</td><td>2024-10-19</td><td>5011</td><td>List(Electronics, List(Dell, White), 9, Smart TV, 1199, 1)</td></tr></tbody></table></div>"
      ]
     },
     "metadata": {
      "application/vnd.databricks.v1+output": {
       "addedWidgets": {},
       "aggData": [],
       "aggError": "",
       "aggOverflow": false,
       "aggSchema": [],
       "aggSeriesLimitReached": false,
       "aggType": "",
       "arguments": {},
       "columnCustomDisplayInfos": {},
       "data": [
        [
         1,
         "Completed",
         "Bank Transfer",
         499,
         "2025-01-05 10:13:59",
         "2025-01-05",
         6973,
         [
          "Electronics",
          [
           "Sony",
           "Blue"
          ],
          8,
          "Gaming Console",
          499,
          1
         ]
        ],
        [
         2,
         "Cancelled",
         "PayPal",
         985,
         "2025-01-19 00:05:13",
         "2025-01-19",
         3532,
         [
          "Electronics",
          [
           "Canon",
           "Gray"
          ],
          4,
          "Smartwatch",
          299,
          2
         ]
        ],
        [
         2,
         "Cancelled",
         "PayPal",
         985,
         "2025-01-19 00:05:13",
         "2025-01-19",
         3532,
         [
          "Electronics",
          [
           "Dell",
           "Blue"
          ],
          7,
          "External Hard Drive",
          129,
          3
         ]
        ],
        [
         3,
         "Completed",
         "Bank Transfer",
         597,
         "2025-01-08 23:11:00",
         "2025-01-08",
         3532,
         [
          "Electronics",
          [
           "Apple",
           "White"
          ],
          3,
          "Wireless Headphones",
          199,
          3
         ]
        ],
        [
         4,
         "Cancelled",
         "Bank Transfer",
         999,
         "2025-01-05 05:49:26",
         "2025-01-05",
         3532,
         [
          "Electronics",
          [
           "Microsoft",
           "Black"
          ],
          2,
          "Laptop",
          999,
          1
         ]
        ],
        [
         8,
         "Completed",
         "PayPal",
         399,
         "2025-01-02 13:11:15",
         "2025-01-02",
         9179,
         [
          "Electronics",
          [
           "LG",
           "White"
          ],
          5,
          "Tablet",
          399,
          1
         ]
        ],
        [
         14,
         "Cancelled",
         "PayPal",
         597,
         "2025-01-01 18:22:26",
         "2025-01-01",
         7207,
         [
          "Electronics",
          [
           "Bose",
           "Blue"
          ],
          3,
          "Wireless Headphones",
          199,
          3
         ]
        ],
        [
         18,
         "Pending",
         "Credit Card",
         799,
         "2025-01-22 21:12:08",
         "2025-01-22",
         4468,
         [
          "Electronics",
          [
           "Dell",
           "Black"
          ],
          10,
          "Drone",
          799,
          1
         ]
        ],
        [
         22,
         "Pending",
         "PayPal",
         199,
         "2025-01-01 15:49:19",
         "2025-01-01",
         4761,
         [
          "Electronics",
          [
           "HP",
           "Silver"
          ],
          3,
          "Wireless Headphones",
          199,
          1
         ]
        ],
        [
         26,
         "Shipped",
         "Bank Transfer",
         699,
         "2025-01-05 19:01:25",
         "2025-01-05",
         7007,
         [
          "Electronics",
          [
           "Samsung",
           "Silver"
          ],
          1,
          "Smartphone",
          699,
          1
         ]
        ],
        [
         29,
         "Pending",
         "Bank Transfer",
         129,
         "2025-01-18 03:05:04",
         "2025-01-18",
         5953,
         [
          "Electronics",
          [
           "Bose",
           "Gray"
          ],
          7,
          "External Hard Drive",
          129,
          1
         ]
        ],
        [
         31,
         "Shipped",
         "Bank Transfer",
         299,
         "2025-01-18 03:13:29",
         "2025-01-18",
         4996,
         [
          "Electronics",
          [
           "Dell",
           "White"
          ],
          4,
          "Smartwatch",
          299,
          1
         ]
        ],
        [
         33,
         "Completed",
         "PayPal",
         897,
         "2025-01-13 04:47:43",
         "2025-01-13",
         9605,
         [
          "Electronics",
          [
           "Canon",
           "White"
          ],
          4,
          "Smartwatch",
          299,
          3
         ]
        ],
        [
         34,
         "Cancelled",
         "PayPal",
         926,
         "2025-01-21 00:25:01",
         "2025-01-21",
         9605,
         [
          "Electronics",
          [
           "Bose",
           "Silver"
          ],
          6,
          "Bluetooth Speaker",
          149,
          2
         ]
        ],
        [
         34,
         "Cancelled",
         "PayPal",
         926,
         "2025-01-21 00:25:01",
         "2025-01-21",
         9605,
         [
          "Electronics",
          [
           "LG",
           "Black"
          ],
          8,
          "Gaming Console",
          499,
          1
         ]
        ],
        [
         34,
         "Cancelled",
         "PayPal",
         926,
         "2025-01-21 00:25:01",
         "2025-01-21",
         9605,
         [
          "Electronics",
          [
           "Samsung",
           "Black"
          ],
          7,
          "External Hard Drive",
          129,
          1
         ]
        ],
        [
         40,
         "Completed",
         "PayPal",
         298,
         "2025-01-20 16:18:35",
         "2025-01-20",
         6384,
         [
          "Electronics",
          [
           "Bose",
           "Silver"
          ],
          6,
          "Bluetooth Speaker",
          149,
          2
         ]
        ],
        [
         41,
         "Shipped",
         "Credit Card",
         999,
         "2025-01-05 06:10:22",
         "2025-01-05",
         6384,
         [
          "Electronics",
          [
           "Sony",
           "Silver"
          ],
          2,
          "Laptop",
          999,
          1
         ]
        ],
        [
         43,
         "Pending",
         "PayPal",
         499,
         "2025-01-24 18:10:37",
         "2025-01-24",
         5028,
         [
          "Electronics",
          [
           "LG",
           "Black"
          ],
          8,
          "Gaming Console",
          499,
          1
         ]
        ],
        [
         50,
         "Shipped",
         "Credit Card",
         746,
         "2025-01-11 01:19:09",
         "2025-01-11",
         3712,
         [
          "Electronics",
          [
           "Apple",
           "Gray"
          ],
          6,
          "Bluetooth Speaker",
          149,
          3
         ]
        ],
        [
         50,
         "Shipped",
         "Credit Card",
         746,
         "2025-01-11 01:19:09",
         "2025-01-11",
         3712,
         [
          "Electronics",
          [
           "Sony",
           "White"
          ],
          4,
          "Smartwatch",
          299,
          1
         ]
        ],
        [
         51,
         "Completed",
         "PayPal",
         149,
         "2025-01-21 13:19:59",
         "2025-01-21",
         8845,
         [
          "Electronics",
          [
           "Samsung",
           "Gray"
          ],
          6,
          "Bluetooth Speaker",
          149,
          1
         ]
        ],
        [
         53,
         "Pending",
         "Bank Transfer",
         199,
         "2025-01-21 08:31:02",
         "2025-01-21",
         8845,
         [
          "Electronics",
          [
           "Apple",
           "Black"
          ],
          3,
          "Wireless Headphones",
          199,
          1
         ]
        ],
        [
         56,
         "Cancelled",
         "PayPal",
         698,
         "2025-01-01 12:02:41",
         "2025-01-01",
         8580,
         [
          "Electronics",
          [
           "HP",
           "Silver"
          ],
          3,
          "Wireless Headphones",
          199,
          1
         ]
        ],
        [
         56,
         "Cancelled",
         "PayPal",
         698,
         "2025-01-01 12:02:41",
         "2025-01-01",
         8580,
         [
          "Electronics",
          [
           "LG",
           "Gray"
          ],
          8,
          "Gaming Console",
          499,
          1
         ]
        ],
        [
         62,
         "Completed",
         "Bank Transfer",
         985,
         "2025-01-24 12:00:54",
         "2025-01-24",
         7123,
         [
          "Electronics",
          [
           "Dell",
           "White"
          ],
          7,
          "External Hard Drive",
          129,
          3
         ]
        ],
        [
         62,
         "Completed",
         "Bank Transfer",
         985,
         "2025-01-24 12:00:54",
         "2025-01-24",
         7123,
         [
          "Electronics",
          [
           "GoPro",
           "Blue"
          ],
          4,
          "Smartwatch",
          299,
          2
         ]
        ],
        [
         66,
         "Cancelled",
         "Credit Card",
         598,
         "2025-01-17 21:16:11",
         "2025-01-17",
         3084,
         [
          "Electronics",
          [
           "Bose",
           "Silver"
          ],
          4,
          "Smartwatch",
          299,
          1
         ]
        ],
        [
         66,
         "Cancelled",
         "Credit Card",
         598,
         "2025-01-17 21:16:11",
         "2025-01-17",
         3084,
         [
          "Electronics",
          [
           "GoPro",
           "White"
          ],
          4,
          "Smartwatch",
          299,
          1
         ]
        ],
        [
         68,
         "Completed",
         "Bank Transfer",
         149,
         "2025-01-10 20:35:43",
         "2025-01-10",
         4973,
         [
          "Electronics",
          [
           "Bose",
           "Gray"
          ],
          6,
          "Bluetooth Speaker",
          149,
          1
         ]
        ],
        [
         73,
         "Shipped",
         "Credit Card",
         387,
         "2025-01-07 01:02:26",
         "2025-01-07",
         6167,
         [
          "Electronics",
          [
           "GoPro",
           "Gray"
          ],
          7,
          "External Hard Drive",
          129,
          3
         ]
        ],
        [
         75,
         "Shipped",
         "Credit Card",
         699,
         "2025-01-19 16:23:16",
         "2025-01-19",
         6167,
         [
          "Electronics",
          [
           "GoPro",
           "White"
          ],
          1,
          "Smartphone",
          699,
          1
         ]
        ],
        [
         76,
         "Completed",
         "Bank Transfer",
         399,
         "2025-01-06 02:54:39",
         "2025-01-06",
         3295,
         [
          "Electronics",
          [
           "Microsoft",
           "Silver"
          ],
          5,
          "Tablet",
          399,
          1
         ]
        ],
        [
         78,
         "Cancelled",
         "PayPal",
         798,
         "2025-01-21 11:42:51",
         "2025-01-21",
         9084,
         [
          "Electronics",
          [
           "Dell",
           "White"
          ],
          5,
          "Tablet",
          399,
          2
         ]
        ],
        [
         79,
         "Cancelled",
         "Credit Card",
         998,
         "2025-01-25 03:52:05",
         "2025-01-25",
         9084,
         [
          "Electronics",
          [
           "Dell",
           "Gray"
          ],
          8,
          "Gaming Console",
          499,
          2
         ]
        ],
        [
         83,
         "Shipped",
         "PayPal",
         785,
         "2025-01-07 12:48:05",
         "2025-01-07",
         2344,
         [
          "Electronics",
          [
           "Canon",
           "Gray"
          ],
          7,
          "External Hard Drive",
          129,
          3
         ]
        ],
        [
         83,
         "Shipped",
         "PayPal",
         785,
         "2025-01-07 12:48:05",
         "2025-01-07",
         2344,
         [
          "Electronics",
          [
           "Sony",
           "Black"
          ],
          3,
          "Wireless Headphones",
          199,
          2
         ]
        ],
        [
         87,
         "Pending",
         "PayPal",
         129,
         "2025-01-02 04:28:38",
         "2025-01-02",
         2141,
         [
          "Electronics",
          [
           "Apple",
           "Blue"
          ],
          7,
          "External Hard Drive",
          129,
          1
         ]
        ],
        [
         90,
         "Pending",
         "Credit Card",
         258,
         "2025-01-17 14:30:54",
         "2025-01-17",
         9247,
         [
          "Electronics",
          [
           "Canon",
           "White"
          ],
          7,
          "External Hard Drive",
          129,
          1
         ]
        ],
        [
         90,
         "Pending",
         "Credit Card",
         258,
         "2025-01-17 14:30:54",
         "2025-01-17",
         9247,
         [
          "Electronics",
          [
           "Samsung",
           "Black"
          ],
          7,
          "External Hard Drive",
          129,
          1
         ]
        ],
        [
         94,
         "Pending",
         "Credit Card",
         895,
         "2025-01-10 09:51:48",
         "2025-01-10",
         6627,
         [
          "Electronics",
          [
           "Sony",
           "Black"
          ],
          6,
          "Bluetooth Speaker",
          149,
          2
         ]
        ],
        [
         94,
         "Pending",
         "Credit Card",
         895,
         "2025-01-10 09:51:48",
         "2025-01-10",
         6627,
         [
          "Electronics",
          [
           "Apple",
           "Blue"
          ],
          3,
          "Wireless Headphones",
          199,
          3
         ]
        ],
        [
         98,
         "Completed",
         "Credit Card",
         985,
         "2025-01-08 05:57:55",
         "2025-01-08",
         9150,
         [
          "Electronics",
          [
           "HP",
           "Blue"
          ],
          7,
          "External Hard Drive",
          129,
          3
         ]
        ],
        [
         98,
         "Completed",
         "Credit Card",
         985,
         "2025-01-08 05:57:55",
         "2025-01-08",
         9150,
         [
          "Electronics",
          [
           "Samsung",
           "Gray"
          ],
          4,
          "Smartwatch",
          299,
          2
         ]
        ],
        [
         99,
         "Shipped",
         "Credit Card",
         699,
         "2025-01-10 21:43:46",
         "2025-01-10",
         9150,
         [
          "Electronics",
          [
           "Bose",
           "Gray"
          ],
          1,
          "Smartphone",
          699,
          1
         ]
        ],
        [
         100,
         "Shipped",
         "PayPal",
         447,
         "2025-01-04 06:40:13",
         "2025-01-04",
         9150,
         [
          "Electronics",
          [
           "LG",
           "Silver"
          ],
          6,
          "Bluetooth Speaker",
          149,
          3
         ]
        ],
        [
         12,
         "Cancelled",
         "PayPal",
         999,
         "2024-12-06 20:26:49",
         "2024-12-06",
         5816,
         [
          "Electronics",
          [
           "Sony",
           "White"
          ],
          2,
          "Laptop",
          999,
          1
         ]
        ],
        [
         13,
         "Pending",
         "PayPal",
         999,
         "2024-12-17 03:41:37",
         "2024-12-17",
         4858,
         [
          "Electronics",
          [
           "GoPro",
           "Black"
          ],
          2,
          "Laptop",
          999,
          1
         ]
        ],
        [
         16,
         "Pending",
         "Bank Transfer",
         597,
         "2024-12-08 22:59:48",
         "2024-12-08",
         5204,
         [
          "Electronics",
          [
           "Sony",
           "Silver"
          ],
          3,
          "Wireless Headphones",
          199,
          3
         ]
        ],
        [
         17,
         "Pending",
         "Bank Transfer",
         998,
         "2024-12-02 12:00:50",
         "2024-12-02",
         5204,
         [
          "Electronics",
          [
           "Dell",
           "Black"
          ],
          8,
          "Gaming Console",
          499,
          2
         ]
        ],
        [
         24,
         "Completed",
         "PayPal",
         1199,
         "2024-12-21 03:24:26",
         "2024-12-21",
         1211,
         [
          "Electronics",
          [
           "GoPro",
           "Gray"
          ],
          9,
          "Smart TV",
          1199,
          1
         ]
        ],
        [
         27,
         "Completed",
         "Credit Card",
         904,
         "2024-12-02 11:24:21",
         "2024-12-02",
         2703,
         [
          "Electronics",
          [
           "Dell",
           "White"
          ],
          7,
          "External Hard Drive",
          129,
          2
         ]
        ],
        [
         27,
         "Completed",
         "Credit Card",
         904,
         "2024-12-02 11:24:21",
         "2024-12-02",
         2703,
         [
          "Electronics",
          [
           "Canon",
           "Black"
          ],
          6,
          "Bluetooth Speaker",
          149,
          3
         ]
        ],
        [
         27,
         "Completed",
         "Credit Card",
         904,
         "2024-12-02 11:24:21",
         "2024-12-02",
         2703,
         [
          "Electronics",
          [
           "Microsoft",
           "Silver"
          ],
          3,
          "Wireless Headphones",
          199,
          1
         ]
        ],
        [
         28,
         "Cancelled",
         "Credit Card",
         129,
         "2024-12-26 03:17:50",
         "2024-12-26",
         2703,
         [
          "Electronics",
          [
           "GoPro",
           "Blue"
          ],
          7,
          "External Hard Drive",
          129,
          1
         ]
        ],
        [
         32,
         "Pending",
         "PayPal",
         399,
         "2024-12-28 08:55:57",
         "2024-12-28",
         4996,
         [
          "Electronics",
          [
           "Apple",
           "Silver"
          ],
          5,
          "Tablet",
          399,
          1
         ]
        ],
        [
         37,
         "Shipped",
         "Credit Card",
         258,
         "2024-12-22 10:11:49",
         "2024-12-22",
         7829,
         [
          "Electronics",
          [
           "HP",
           "Silver"
          ],
          7,
          "External Hard Drive",
          129,
          2
         ]
        ],
        [
         38,
         "Shipped",
         "Credit Card",
         447,
         "2024-12-25 22:05:19",
         "2024-12-25",
         7829,
         [
          "Electronics",
          [
           "Apple",
           "Gray"
          ],
          6,
          "Bluetooth Speaker",
          149,
          3
         ]
        ],
        [
         44,
         "Completed",
         "Credit Card",
         129,
         "2024-12-20 08:05:43",
         "2024-12-20",
         7295,
         [
          "Electronics",
          [
           "Bose",
           "Blue"
          ],
          7,
          "External Hard Drive",
          129,
          1
         ]
        ],
        [
         49,
         "Cancelled",
         "PayPal",
         747,
         "2024-12-07 23:24:11",
         "2024-12-07",
         7803,
         [
          "Electronics",
          [
           "HP",
           "White"
          ],
          4,
          "Smartwatch",
          299,
          1
         ]
        ],
        [
         49,
         "Cancelled",
         "PayPal",
         747,
         "2024-12-07 23:24:11",
         "2024-12-07",
         7803,
         [
          "Electronics",
          [
           "Canon",
           "Blue"
          ],
          4,
          "Smartwatch",
          299,
          1
         ]
        ],
        [
         49,
         "Cancelled",
         "PayPal",
         747,
         "2024-12-07 23:24:11",
         "2024-12-07",
         7803,
         [
          "Electronics",
          [
           "Samsung",
           "White"
          ],
          6,
          "Bluetooth Speaker",
          149,
          1
         ]
        ],
        [
         54,
         "Pending",
         "Credit Card",
         398,
         "2024-12-20 12:04:27",
         "2024-12-20",
         2054,
         [
          "Electronics",
          [
           "Bose",
           "Gray"
          ],
          3,
          "Wireless Headphones",
          199,
          2
         ]
        ],
        [
         58,
         "Completed",
         "PayPal",
         699,
         "2024-12-09 22:40:58",
         "2024-12-09",
         8580,
         [
          "Electronics",
          [
           "Microsoft",
           "Gray"
          ],
          1,
          "Smartphone",
          699,
          1
         ]
        ],
        [
         60,
         "Shipped",
         "Bank Transfer",
         199,
         "2024-12-13 13:10:12",
         "2024-12-13",
         3409,
         [
          "Electronics",
          [
           "Samsung",
           "Blue"
          ],
          3,
          "Wireless Headphones",
          199,
          1
         ]
        ],
        [
         61,
         "Completed",
         "Bank Transfer",
         699,
         "2024-12-07 07:47:19",
         "2024-12-07",
         7123,
         [
          "Electronics",
          [
           "Canon",
           "Black"
          ],
          1,
          "Smartphone",
          699,
          1
         ]
        ],
        [
         65,
         "Cancelled",
         "Bank Transfer",
         399,
         "2024-12-09 13:04:13",
         "2024-12-09",
         3084,
         [
          "Electronics",
          [
           "Microsoft",
           "Gray"
          ],
          5,
          "Tablet",
          399,
          1
         ]
        ],
        [
         67,
         "Shipped",
         "PayPal",
         897,
         "2024-12-19 07:11:09",
         "2024-12-19",
         3084,
         [
          "Electronics",
          [
           "LG",
           "Blue"
          ],
          4,
          "Smartwatch",
          299,
          3
         ]
        ],
        [
         69,
         "Completed",
         "Bank Transfer",
         699,
         "2024-12-30 02:42:01",
         "2024-12-30",
         4973,
         [
          "Electronics",
          [
           "Dell",
           "Gray"
          ],
          1,
          "Smartphone",
          699,
          1
         ]
        ],
        [
         70,
         "Shipped",
         "PayPal",
         897,
         "2024-12-04 17:17:24",
         "2024-12-04",
         7997,
         [
          "Electronics",
          [
           "Sony",
           "Black"
          ],
          4,
          "Smartwatch",
          299,
          3
         ]
        ],
        [
         71,
         "Completed",
         "Bank Transfer",
         199,
         "2024-12-27 11:16:39",
         "2024-12-27",
         7997,
         [
          "Electronics",
          [
           "Microsoft",
           "Black"
          ],
          3,
          "Wireless Headphones",
          199,
          1
         ]
        ],
        [
         74,
         "Pending",
         "PayPal",
         699,
         "2024-12-22 15:54:11",
         "2024-12-22",
         6167,
         [
          "Electronics",
          [
           "Samsung",
           "Blue"
          ],
          1,
          "Smartphone",
          699,
          1
         ]
        ],
        [
         80,
         "Cancelled",
         "Bank Transfer",
         998,
         "2024-12-11 07:43:54",
         "2024-12-11",
         9687,
         [
          "Electronics",
          [
           "Samsung",
           "White"
          ],
          8,
          "Gaming Console",
          499,
          2
         ]
        ],
        [
         81,
         "Completed",
         "PayPal",
         699,
         "2024-12-27 02:27:45",
         "2024-12-27",
         9687,
         [
          "Electronics",
          [
           "GoPro",
           "Blue"
          ],
          1,
          "Smartphone",
          699,
          1
         ]
        ],
        [
         82,
         "Completed",
         "PayPal",
         387,
         "2024-12-28 00:54:08",
         "2024-12-28",
         2344,
         [
          "Electronics",
          [
           "Sony",
           "Blue"
          ],
          7,
          "External Hard Drive",
          129,
          3
         ]
        ],
        [
         91,
         "Cancelled",
         "Bank Transfer",
         699,
         "2024-12-17 00:09:53",
         "2024-12-17",
         5592,
         [
          "Electronics",
          [
           "Canon",
           "Silver"
          ],
          1,
          "Smartphone",
          699,
          1
         ]
        ],
        [
         93,
         "Pending",
         "PayPal",
         598,
         "2024-12-22 05:07:46",
         "2024-12-22",
         6627,
         [
          "Electronics",
          [
           "LG",
           "Silver"
          ],
          4,
          "Smartwatch",
          299,
          2
         ]
        ],
        [
         95,
         "Completed",
         "Bank Transfer",
         946,
         "2024-12-28 04:28:30",
         "2024-12-28",
         6627,
         [
          "Electronics",
          [
           "GoPro",
           "White"
          ],
          4,
          "Smartwatch",
          299,
          2
         ]
        ],
        [
         95,
         "Completed",
         "Bank Transfer",
         946,
         "2024-12-28 04:28:30",
         "2024-12-28",
         6627,
         [
          "Electronics",
          [
           "Bose",
           "Gray"
          ],
          3,
          "Wireless Headphones",
          199,
          1
         ]
        ],
        [
         95,
         "Completed",
         "Bank Transfer",
         946,
         "2024-12-28 04:28:30",
         "2024-12-28",
         6627,
         [
          "Electronics",
          [
           "Dell",
           "Silver"
          ],
          6,
          "Bluetooth Speaker",
          149,
          1
         ]
        ],
        [
         96,
         "Shipped",
         "PayPal",
         149,
         "2024-12-02 12:27:45",
         "2024-12-02",
         6406,
         [
          "Electronics",
          [
           "Microsoft",
           "Black"
          ],
          6,
          "Bluetooth Speaker",
          149,
          1
         ]
        ],
        [
         97,
         "Completed",
         "Bank Transfer",
         499,
         "2024-12-07 16:14:34",
         "2024-12-07",
         6406,
         [
          "Electronics",
          [
           "Sony",
           "Silver"
          ],
          8,
          "Gaming Console",
          499,
          1
         ]
        ],
        [
         5,
         "Cancelled",
         "Bank Transfer",
         998,
         "2024-11-16 23:07:31",
         "2024-11-16",
         3892,
         [
          "Electronics",
          [
           "Dell",
           "Blue"
          ],
          8,
          "Gaming Console",
          499,
          2
         ]
        ],
        [
         7,
         "Pending",
         "Credit Card",
         645,
         "2024-11-19 19:18:48",
         "2024-11-19",
         1987,
         [
          "Electronics",
          [
           "LG",
           "Blue"
          ],
          7,
          "External Hard Drive",
          129,
          2
         ]
        ],
        [
         7,
         "Pending",
         "Credit Card",
         645,
         "2024-11-19 19:18:48",
         "2024-11-19",
         1987,
         [
          "Electronics",
          [
           "HP",
           "Gray"
          ],
          7,
          "External Hard Drive",
          129,
          3
         ]
        ],
        [
         9,
         "Shipped",
         "Bank Transfer",
         999,
         "2024-11-27 13:15:29",
         "2024-11-27",
         9179,
         [
          "Electronics",
          [
           "Apple",
           "Black"
          ],
          2,
          "Laptop",
          999,
          1
         ]
        ],
        [
         20,
         "Pending",
         "PayPal",
         798,
         "2024-11-18 02:38:21",
         "2024-11-18",
         8539,
         [
          "Electronics",
          [
           "Sony",
           "Silver"
          ],
          5,
          "Tablet",
          399,
          2
         ]
        ],
        [
         21,
         "Cancelled",
         "Bank Transfer",
         298,
         "2024-11-21 11:25:35",
         "2024-11-21",
         8539,
         [
          "Electronics",
          [
           "GoPro",
           "Blue"
          ],
          6,
          "Bluetooth Speaker",
          149,
          2
         ]
        ],
        [
         23,
         "Shipped",
         "PayPal",
         997,
         "2024-11-22 16:04:05",
         "2024-11-22",
         4761,
         [
          "Electronics",
          [
           "Apple",
           "Gray"
          ],
          5,
          "Tablet",
          399,
          1
         ]
        ],
        [
         23,
         "Shipped",
         "PayPal",
         997,
         "2024-11-22 16:04:05",
         "2024-11-22",
         4761,
         [
          "Electronics",
          [
           "Dell",
           "Gray"
          ],
          4,
          "Smartwatch",
          299,
          2
         ]
        ],
        [
         25,
         "Completed",
         "PayPal",
         999,
         "2024-11-05 11:45:31",
         "2024-11-05",
         9706,
         [
          "Electronics",
          [
           "LG",
           "Gray"
          ],
          2,
          "Laptop",
          999,
          1
         ]
        ],
        [
         30,
         "Shipped",
         "Bank Transfer",
         199,
         "2024-11-12 03:20:29",
         "2024-11-12",
         4996,
         [
          "Electronics",
          [
           "GoPro",
           "White"
          ],
          3,
          "Wireless Headphones",
          199,
          1
         ]
        ],
        [
         35,
         "Shipped",
         "Bank Transfer",
         199,
         "2024-11-20 19:09:04",
         "2024-11-20",
         4914,
         [
          "Electronics",
          [
           "Dell",
           "Gray"
          ],
          3,
          "Wireless Headphones",
          199,
          1
         ]
        ],
        [
         36,
         "Completed",
         "PayPal",
         199,
         "2024-11-02 10:39:46",
         "2024-11-02",
         4914,
         [
          "Electronics",
          [
           "Canon",
           "Silver"
          ],
          3,
          "Wireless Headphones",
          199,
          1
         ]
        ],
        [
         42,
         "Completed",
         "Credit Card",
         149,
         "2024-11-08 18:32:25",
         "2024-11-08",
         5028,
         [
          "Electronics",
          [
           "Bose",
           "Gray"
          ],
          6,
          "Bluetooth Speaker",
          149,
          1
         ]
        ],
        [
         45,
         "Shipped",
         "Credit Card",
         799,
         "2024-11-07 15:41:43",
         "2024-11-07",
         7295,
         [
          "Electronics",
          [
           "Dell",
           "White"
          ],
          10,
          "Drone",
          799,
          1
         ]
        ],
        [
         46,
         "Pending",
         "PayPal",
         199,
         "2024-11-26 17:16:53",
         "2024-11-26",
         7295,
         [
          "Electronics",
          [
           "Samsung",
           "Black"
          ],
          3,
          "Wireless Headphones",
          199,
          1
         ]
        ],
        [
         47,
         "Shipped",
         "Credit Card",
         298,
         "2024-11-22 02:01:19",
         "2024-11-22",
         7803,
         [
          "Electronics",
          [
           "LG",
           "Blue"
          ],
          6,
          "Bluetooth Speaker",
          149,
          2
         ]
        ],
        [
         48,
         "Completed",
         "PayPal",
         387,
         "2024-11-13 06:35:56",
         "2024-11-13",
         7803,
         [
          "Electronics",
          [
           "Apple",
           "Black"
          ],
          7,
          "External Hard Drive",
          129,
          3
         ]
        ],
        [
         52,
         "Completed",
         "PayPal",
         998,
         "2024-11-19 21:23:45",
         "2024-11-19",
         8845,
         [
          "Electronics",
          [
           "GoPro",
           "White"
          ],
          8,
          "Gaming Console",
          499,
          2
         ]
        ],
        [
         57,
         "Cancelled",
         "Bank Transfer",
         586,
         "2024-11-19 11:32:44",
         "2024-11-19",
         8580,
         [
          "Electronics",
          [
           "HP",
           "Silver"
          ],
          3,
          "Wireless Headphones",
          199,
          1
         ]
        ],
        [
         57,
         "Cancelled",
         "Bank Transfer",
         586,
         "2024-11-19 11:32:44",
         "2024-11-19",
         8580,
         [
          "Electronics",
          [
           "Sony",
           "Silver"
          ],
          7,
          "External Hard Drive",
          129,
          3
         ]
        ],
        [
         63,
         "Cancelled",
         "Bank Transfer",
         646,
         "2024-11-24 08:41:28",
         "2024-11-24",
         7123,
         [
          "Electronics",
          [
           "GoPro",
           "Blue"
          ],
          3,
          "Wireless Headphones",
          199,
          1
         ]
        ],
        [
         63,
         "Cancelled",
         "Bank Transfer",
         646,
         "2024-11-24 08:41:28",
         "2024-11-24",
         7123,
         [
          "Electronics",
          [
           "Bose",
           "Silver"
          ],
          6,
          "Bluetooth Speaker",
          149,
          3
         ]
        ],
        [
         64,
         "Completed",
         "Bank Transfer",
         984,
         "2024-11-28 12:23:21",
         "2024-11-28",
         2639,
         [
          "Electronics",
          [
           "Microsoft",
           "White"
          ],
          7,
          "External Hard Drive",
          129,
          3
         ]
        ],
        [
         64,
         "Completed",
         "Bank Transfer",
         984,
         "2024-11-28 12:23:21",
         "2024-11-28",
         2639,
         [
          "Electronics",
          [
           "Canon",
           "Blue"
          ],
          3,
          "Wireless Headphones",
          199,
          3
         ]
        ],
        [
         88,
         "Cancelled",
         "Bank Transfer",
         387,
         "2024-11-15 11:39:44",
         "2024-11-15",
         9247,
         [
          "Electronics",
          [
           "Bose",
           "White"
          ],
          7,
          "External Hard Drive",
          129,
          3
         ]
        ],
        [
         89,
         "Cancelled",
         "Bank Transfer",
         149,
         "2024-11-22 12:09:15",
         "2024-11-22",
         9247,
         [
          "Electronics",
          [
           "GoPro",
           "Silver"
          ],
          6,
          "Bluetooth Speaker",
          149,
          1
         ]
        ],
        [
         92,
         "Shipped",
         "PayPal",
         258,
         "2024-11-24 23:33:21",
         "2024-11-24",
         5592,
         [
          "Electronics",
          [
           "Sony",
           "Black"
          ],
          7,
          "External Hard Drive",
          129,
          2
         ]
        ],
        [
         6,
         "Pending",
         "Credit Card",
         799,
         "2024-10-28 04:47:27",
         "2024-10-28",
         1987,
         [
          "Electronics",
          [
           "GoPro",
           "Black"
          ],
          10,
          "Drone",
          799,
          1
         ]
        ],
        [
         10,
         "Pending",
         "Credit Card",
         399,
         "2024-10-07 22:09:27",
         "2024-10-07",
         5816,
         [
          "Electronics",
          [
           "GoPro",
           "White"
          ],
          5,
          "Tablet",
          399,
          1
         ]
        ],
        [
         11,
         "Pending",
         "Bank Transfer",
         897,
         "2024-10-13 17:34:19",
         "2024-10-13",
         5816,
         [
          "Electronics",
          [
           "Canon",
           "White"
          ],
          4,
          "Smartwatch",
          299,
          3
         ]
        ],
        [
         15,
         "Completed",
         "Bank Transfer",
         1199,
         "2024-10-20 01:47:25",
         "2024-10-20",
         7207,
         [
          "Electronics",
          [
           "GoPro",
           "White"
          ],
          9,
          "Smart TV",
          1199,
          1
         ]
        ],
        [
         19,
         "Shipped",
         "PayPal",
         499,
         "2024-10-13 12:40:26",
         "2024-10-13",
         8539,
         [
          "Electronics",
          [
           "Dell",
           "Silver"
          ],
          8,
          "Gaming Console",
          499,
          1
         ]
        ],
        [
         39,
         "Shipped",
         "PayPal",
         387,
         "2024-10-29 21:39:19",
         "2024-10-29",
         9263,
         [
          "Electronics",
          [
           "Sony",
           "Black"
          ],
          7,
          "External Hard Drive",
          129,
          3
         ]
        ],
        [
         55,
         "Shipped",
         "Bank Transfer",
         699,
         "2024-10-25 05:49:16",
         "2024-10-25",
         9018,
         [
          "Electronics",
          [
           "HP",
           "Black"
          ],
          1,
          "Smartphone",
          699,
          1
         ]
        ],
        [
         59,
         "Pending",
         "PayPal",
         499,
         "2024-10-23 02:51:05",
         "2024-10-23",
         3409,
         [
          "Electronics",
          [
           "Dell",
           "Black"
          ],
          8,
          "Gaming Console",
          499,
          1
         ]
        ],
        [
         72,
         "Cancelled",
         "PayPal",
         328,
         "2024-10-06 10:23:28",
         "2024-10-06",
         3889,
         [
          "Electronics",
          [
           "Microsoft",
           "Gray"
          ],
          3,
          "Wireless Headphones",
          199,
          1
         ]
        ],
        [
         72,
         "Cancelled",
         "PayPal",
         328,
         "2024-10-06 10:23:28",
         "2024-10-06",
         3889,
         [
          "Electronics",
          [
           "Samsung",
           "Silver"
          ],
          7,
          "External Hard Drive",
          129,
          1
         ]
        ],
        [
         77,
         "Pending",
         "Credit Card",
         398,
         "2024-10-15 13:09:33",
         "2024-10-15",
         9084,
         [
          "Electronics",
          [
           "HP",
           "Silver"
          ],
          3,
          "Wireless Headphones",
          199,
          2
         ]
        ],
        [
         84,
         "Completed",
         "PayPal",
         998,
         "2024-10-25 03:37:42",
         "2024-10-25",
         2344,
         [
          "Electronics",
          [
           "Sony",
           "Black"
          ],
          10,
          "Drone",
          799,
          1
         ]
        ],
        [
         84,
         "Completed",
         "PayPal",
         998,
         "2024-10-25 03:37:42",
         "2024-10-25",
         2344,
         [
          "Electronics",
          [
           "LG",
           "Black"
          ],
          3,
          "Wireless Headphones",
          199,
          1
         ]
        ],
        [
         85,
         "Shipped",
         "Bank Transfer",
         998,
         "2024-10-23 20:06:42",
         "2024-10-23",
         5011,
         [
          "Electronics",
          [
           "GoPro",
           "Black"
          ],
          8,
          "Gaming Console",
          499,
          2
         ]
        ],
        [
         86,
         "Completed",
         "PayPal",
         1199,
         "2024-10-19 13:30:47",
         "2024-10-19",
         5011,
         [
          "Electronics",
          [
           "Dell",
           "White"
          ],
          9,
          "Smart TV",
          1199,
          1
         ]
        ]
       ],
       "datasetInfos": [],
       "dbfsResultPath": null,
       "isJsonSchema": true,
       "metadata": {},
       "overflow": false,
       "plotOptions": {
        "customPlotOptions": {},
        "displayType": "table",
        "pivotAggregation": null,
        "pivotColumns": null,
        "xColumns": null,
        "yColumns": null
       },
       "removedWidgets": [],
       "schema": [
        {
         "metadata": "{}",
         "name": "order_id",
         "type": "\"long\""
        },
        {
         "metadata": "{}",
         "name": "order_status",
         "type": "\"string\""
        },
        {
         "metadata": "{}",
         "name": "payment_method",
         "type": "\"string\""
        },
        {
         "metadata": "{}",
         "name": "total_amount",
         "type": "\"long\""
        },
        {
         "metadata": "{}",
         "name": "transaction_timestamp",
         "type": "\"string\""
        },
        {
         "metadata": "{}",
         "name": "order_date",
         "type": "\"string\""
        },
        {
         "metadata": "{}",
         "name": "customer_id",
         "type": "\"long\""
        },
        {
         "metadata": "{}",
         "name": "item",
         "type": "{\"type\":\"struct\",\"fields\":[{\"name\":\"category\",\"type\":\"string\",\"nullable\":true,\"metadata\":{}},{\"name\":\"details\",\"type\":{\"type\":\"struct\",\"fields\":[{\"name\":\"brand\",\"type\":\"string\",\"nullable\":true,\"metadata\":{}},{\"name\":\"color\",\"type\":\"string\",\"nullable\":true,\"metadata\":{}}]},\"nullable\":true,\"metadata\":{}},{\"name\":\"item_id\",\"type\":\"long\",\"nullable\":true,\"metadata\":{}},{\"name\":\"name\",\"type\":\"string\",\"nullable\":true,\"metadata\":{}},{\"name\":\"price\",\"type\":\"long\",\"nullable\":true,\"metadata\":{}},{\"name\":\"quantity\",\"type\":\"long\",\"nullable\":true,\"metadata\":{}}]}"
        }
       ],
       "type": "table"
      }
     },
     "output_type": "display_data"
    }
   ],
   "source": [
    "select json_value.order_id as order_id,\n",
    "      json_value.order_status as order_status,\n",
    "      json_value.payment_method as payment_method,\n",
    "      json_value.total_amount as total_amount,\n",
    "      json_value.transaction_timestamp as transaction_timestamp,\n",
    "      json_value.order_date as order_date,\n",
    "      json_value.customer_id as customer_id,\n",
    "      explode(array_distinct(json_value.items)) as item      \n",
    "from gizmobox.silver.orders_json "
   ]
  },
  {
   "cell_type": "code",
   "execution_count": 0,
   "metadata": {
    "application/vnd.databricks.v1+cell": {
     "cellMetadata": {
      "byteLimit": 2048000,
      "rowLimit": 10000
     },
     "inputWidgets": {},
     "nuid": "0a2e1e25-7f2e-480a-af44-bbf8a5f4b930",
     "showTitle": false,
     "tableResultSettingsMap": {},
     "title": ""
    }
   },
   "outputs": [
    {
     "output_type": "display_data",
     "data": {
      "text/html": [
       "<style scoped>\n",
       "  .table-result-container {\n",
       "    max-height: 300px;\n",
       "    overflow: auto;\n",
       "  }\n",
       "  table, th, td {\n",
       "    border: 1px solid black;\n",
       "    border-collapse: collapse;\n",
       "  }\n",
       "  th, td {\n",
       "    padding: 5px;\n",
       "  }\n",
       "  th {\n",
       "    text-align: left;\n",
       "  }\n",
       "</style><div class='table-result-container'><table class='table-result'><thead style='background-color: white'><tr></tr></thead><tbody></tbody></table></div>"
      ]
     },
     "metadata": {
      "application/vnd.databricks.v1+output": {
       "addedWidgets": {},
       "aggData": [],
       "aggError": "",
       "aggOverflow": false,
       "aggSchema": [],
       "aggSeriesLimitReached": false,
       "aggType": "",
       "arguments": {},
       "columnCustomDisplayInfos": {},
       "data": [],
       "datasetInfos": [],
       "dbfsResultPath": null,
       "isJsonSchema": true,
       "metadata": {
        "isDbfsCommandResult": false
       },
       "overflow": false,
       "plotOptions": {
        "customPlotOptions": {},
        "displayType": "table",
        "pivotAggregation": null,
        "pivotColumns": null,
        "xColumns": null,
        "yColumns": null
       },
       "removedWidgets": [],
       "schema": [],
       "type": "table"
      }
     },
     "output_type": "display_data"
    }
   ],
   "source": [
    "create or replace temp view tv_orders_exploded\n",
    "as\n",
    "select json_value.order_id as order_id,\n",
    "      json_value.order_status as order_status,\n",
    "      json_value.payment_method as payment_method,\n",
    "      json_value.total_amount as total_amount,\n",
    "      json_value.transaction_timestamp as transaction_timestamp,\n",
    "      json_value.order_date as order_date,\n",
    "      json_value.customer_id as customer_id,\n",
    "      explode(array_distinct(json_value.items)) as item      \n",
    "from gizmobox.silver.orders_json"
   ]
  },
  {
   "cell_type": "code",
   "execution_count": 0,
   "metadata": {
    "application/vnd.databricks.v1+cell": {
     "cellMetadata": {
      "byteLimit": 2048000,
      "rowLimit": 10000
     },
     "inputWidgets": {},
     "nuid": "29cbd4ac-9be9-4b4b-ba2b-5c52a51d39d1",
     "showTitle": false,
     "tableResultSettingsMap": {},
     "title": ""
    }
   },
   "outputs": [
    {
     "output_type": "display_data",
     "data": {
      "text/html": [
       "<style scoped>\n",
       "  .table-result-container {\n",
       "    max-height: 300px;\n",
       "    overflow: auto;\n",
       "  }\n",
       "  table, th, td {\n",
       "    border: 1px solid black;\n",
       "    border-collapse: collapse;\n",
       "  }\n",
       "  th, td {\n",
       "    padding: 5px;\n",
       "  }\n",
       "  th {\n",
       "    text-align: left;\n",
       "  }\n",
       "</style><div class='table-result-container'><table class='table-result'><thead style='background-color: white'><tr><th>order_id</th><th>order_status</th><th>payment_method</th><th>total_amount</th><th>transaction_timestamp</th><th>order_date</th><th>customer_id</th><th>item</th></tr></thead><tbody><tr><td>1</td><td>Completed</td><td>Bank Transfer</td><td>499</td><td>2025-01-05 10:13:59</td><td>2025-01-05</td><td>6973</td><td>List(Electronics, List(Sony, Blue), 8, Gaming Console, 499, 1)</td></tr><tr><td>2</td><td>Cancelled</td><td>PayPal</td><td>985</td><td>2025-01-19 00:05:13</td><td>2025-01-19</td><td>3532</td><td>List(Electronics, List(Canon, Gray), 4, Smartwatch, 299, 2)</td></tr><tr><td>2</td><td>Cancelled</td><td>PayPal</td><td>985</td><td>2025-01-19 00:05:13</td><td>2025-01-19</td><td>3532</td><td>List(Electronics, List(Dell, Blue), 7, External Hard Drive, 129, 3)</td></tr><tr><td>3</td><td>Completed</td><td>Bank Transfer</td><td>597</td><td>2025-01-08 23:11:00</td><td>2025-01-08</td><td>3532</td><td>List(Electronics, List(Apple, White), 3, Wireless Headphones, 199, 3)</td></tr><tr><td>4</td><td>Cancelled</td><td>Bank Transfer</td><td>999</td><td>2025-01-05 05:49:26</td><td>2025-01-05</td><td>3532</td><td>List(Electronics, List(Microsoft, Black), 2, Laptop, 999, 1)</td></tr><tr><td>8</td><td>Completed</td><td>PayPal</td><td>399</td><td>2025-01-02 13:11:15</td><td>2025-01-02</td><td>9179</td><td>List(Electronics, List(LG, White), 5, Tablet, 399, 1)</td></tr><tr><td>14</td><td>Cancelled</td><td>PayPal</td><td>597</td><td>2025-01-01 18:22:26</td><td>2025-01-01</td><td>7207</td><td>List(Electronics, List(Bose, Blue), 3, Wireless Headphones, 199, 3)</td></tr><tr><td>18</td><td>Pending</td><td>Credit Card</td><td>799</td><td>2025-01-22 21:12:08</td><td>2025-01-22</td><td>4468</td><td>List(Electronics, List(Dell, Black), 10, Drone, 799, 1)</td></tr><tr><td>22</td><td>Pending</td><td>PayPal</td><td>199</td><td>2025-01-01 15:49:19</td><td>2025-01-01</td><td>4761</td><td>List(Electronics, List(HP, Silver), 3, Wireless Headphones, 199, 1)</td></tr><tr><td>26</td><td>Shipped</td><td>Bank Transfer</td><td>699</td><td>2025-01-05 19:01:25</td><td>2025-01-05</td><td>7007</td><td>List(Electronics, List(Samsung, Silver), 1, Smartphone, 699, 1)</td></tr><tr><td>29</td><td>Pending</td><td>Bank Transfer</td><td>129</td><td>2025-01-18 03:05:04</td><td>2025-01-18</td><td>5953</td><td>List(Electronics, List(Bose, Gray), 7, External Hard Drive, 129, 1)</td></tr><tr><td>31</td><td>Shipped</td><td>Bank Transfer</td><td>299</td><td>2025-01-18 03:13:29</td><td>2025-01-18</td><td>4996</td><td>List(Electronics, List(Dell, White), 4, Smartwatch, 299, 1)</td></tr><tr><td>33</td><td>Completed</td><td>PayPal</td><td>897</td><td>2025-01-13 04:47:43</td><td>2025-01-13</td><td>9605</td><td>List(Electronics, List(Canon, White), 4, Smartwatch, 299, 3)</td></tr><tr><td>34</td><td>Cancelled</td><td>PayPal</td><td>926</td><td>2025-01-21 00:25:01</td><td>2025-01-21</td><td>9605</td><td>List(Electronics, List(Bose, Silver), 6, Bluetooth Speaker, 149, 2)</td></tr><tr><td>34</td><td>Cancelled</td><td>PayPal</td><td>926</td><td>2025-01-21 00:25:01</td><td>2025-01-21</td><td>9605</td><td>List(Electronics, List(LG, Black), 8, Gaming Console, 499, 1)</td></tr><tr><td>34</td><td>Cancelled</td><td>PayPal</td><td>926</td><td>2025-01-21 00:25:01</td><td>2025-01-21</td><td>9605</td><td>List(Electronics, List(Samsung, Black), 7, External Hard Drive, 129, 1)</td></tr><tr><td>40</td><td>Completed</td><td>PayPal</td><td>298</td><td>2025-01-20 16:18:35</td><td>2025-01-20</td><td>6384</td><td>List(Electronics, List(Bose, Silver), 6, Bluetooth Speaker, 149, 2)</td></tr><tr><td>41</td><td>Shipped</td><td>Credit Card</td><td>999</td><td>2025-01-05 06:10:22</td><td>2025-01-05</td><td>6384</td><td>List(Electronics, List(Sony, Silver), 2, Laptop, 999, 1)</td></tr><tr><td>43</td><td>Pending</td><td>PayPal</td><td>499</td><td>2025-01-24 18:10:37</td><td>2025-01-24</td><td>5028</td><td>List(Electronics, List(LG, Black), 8, Gaming Console, 499, 1)</td></tr><tr><td>50</td><td>Shipped</td><td>Credit Card</td><td>746</td><td>2025-01-11 01:19:09</td><td>2025-01-11</td><td>3712</td><td>List(Electronics, List(Apple, Gray), 6, Bluetooth Speaker, 149, 3)</td></tr><tr><td>50</td><td>Shipped</td><td>Credit Card</td><td>746</td><td>2025-01-11 01:19:09</td><td>2025-01-11</td><td>3712</td><td>List(Electronics, List(Sony, White), 4, Smartwatch, 299, 1)</td></tr><tr><td>51</td><td>Completed</td><td>PayPal</td><td>149</td><td>2025-01-21 13:19:59</td><td>2025-01-21</td><td>8845</td><td>List(Electronics, List(Samsung, Gray), 6, Bluetooth Speaker, 149, 1)</td></tr><tr><td>53</td><td>Pending</td><td>Bank Transfer</td><td>199</td><td>2025-01-21 08:31:02</td><td>2025-01-21</td><td>8845</td><td>List(Electronics, List(Apple, Black), 3, Wireless Headphones, 199, 1)</td></tr><tr><td>56</td><td>Cancelled</td><td>PayPal</td><td>698</td><td>2025-01-01 12:02:41</td><td>2025-01-01</td><td>8580</td><td>List(Electronics, List(HP, Silver), 3, Wireless Headphones, 199, 1)</td></tr><tr><td>56</td><td>Cancelled</td><td>PayPal</td><td>698</td><td>2025-01-01 12:02:41</td><td>2025-01-01</td><td>8580</td><td>List(Electronics, List(LG, Gray), 8, Gaming Console, 499, 1)</td></tr><tr><td>62</td><td>Completed</td><td>Bank Transfer</td><td>985</td><td>2025-01-24 12:00:54</td><td>2025-01-24</td><td>7123</td><td>List(Electronics, List(Dell, White), 7, External Hard Drive, 129, 3)</td></tr><tr><td>62</td><td>Completed</td><td>Bank Transfer</td><td>985</td><td>2025-01-24 12:00:54</td><td>2025-01-24</td><td>7123</td><td>List(Electronics, List(GoPro, Blue), 4, Smartwatch, 299, 2)</td></tr><tr><td>66</td><td>Cancelled</td><td>Credit Card</td><td>598</td><td>2025-01-17 21:16:11</td><td>2025-01-17</td><td>3084</td><td>List(Electronics, List(Bose, Silver), 4, Smartwatch, 299, 1)</td></tr><tr><td>66</td><td>Cancelled</td><td>Credit Card</td><td>598</td><td>2025-01-17 21:16:11</td><td>2025-01-17</td><td>3084</td><td>List(Electronics, List(GoPro, White), 4, Smartwatch, 299, 1)</td></tr><tr><td>68</td><td>Completed</td><td>Bank Transfer</td><td>149</td><td>2025-01-10 20:35:43</td><td>2025-01-10</td><td>4973</td><td>List(Electronics, List(Bose, Gray), 6, Bluetooth Speaker, 149, 1)</td></tr><tr><td>73</td><td>Shipped</td><td>Credit Card</td><td>387</td><td>2025-01-07 01:02:26</td><td>2025-01-07</td><td>6167</td><td>List(Electronics, List(GoPro, Gray), 7, External Hard Drive, 129, 3)</td></tr><tr><td>75</td><td>Shipped</td><td>Credit Card</td><td>699</td><td>2025-01-19 16:23:16</td><td>2025-01-19</td><td>6167</td><td>List(Electronics, List(GoPro, White), 1, Smartphone, 699, 1)</td></tr><tr><td>76</td><td>Completed</td><td>Bank Transfer</td><td>399</td><td>2025-01-06 02:54:39</td><td>2025-01-06</td><td>3295</td><td>List(Electronics, List(Microsoft, Silver), 5, Tablet, 399, 1)</td></tr><tr><td>78</td><td>Cancelled</td><td>PayPal</td><td>798</td><td>2025-01-21 11:42:51</td><td>2025-01-21</td><td>9084</td><td>List(Electronics, List(Dell, White), 5, Tablet, 399, 2)</td></tr><tr><td>79</td><td>Cancelled</td><td>Credit Card</td><td>998</td><td>2025-01-25 03:52:05</td><td>2025-01-25</td><td>9084</td><td>List(Electronics, List(Dell, Gray), 8, Gaming Console, 499, 2)</td></tr><tr><td>83</td><td>Shipped</td><td>PayPal</td><td>785</td><td>2025-01-07 12:48:05</td><td>2025-01-07</td><td>2344</td><td>List(Electronics, List(Canon, Gray), 7, External Hard Drive, 129, 3)</td></tr><tr><td>83</td><td>Shipped</td><td>PayPal</td><td>785</td><td>2025-01-07 12:48:05</td><td>2025-01-07</td><td>2344</td><td>List(Electronics, List(Sony, Black), 3, Wireless Headphones, 199, 2)</td></tr><tr><td>87</td><td>Pending</td><td>PayPal</td><td>129</td><td>2025-01-02 04:28:38</td><td>2025-01-02</td><td>2141</td><td>List(Electronics, List(Apple, Blue), 7, External Hard Drive, 129, 1)</td></tr><tr><td>90</td><td>Pending</td><td>Credit Card</td><td>258</td><td>2025-01-17 14:30:54</td><td>2025-01-17</td><td>9247</td><td>List(Electronics, List(Canon, White), 7, External Hard Drive, 129, 1)</td></tr><tr><td>90</td><td>Pending</td><td>Credit Card</td><td>258</td><td>2025-01-17 14:30:54</td><td>2025-01-17</td><td>9247</td><td>List(Electronics, List(Samsung, Black), 7, External Hard Drive, 129, 1)</td></tr><tr><td>94</td><td>Pending</td><td>Credit Card</td><td>895</td><td>2025-01-10 09:51:48</td><td>2025-01-10</td><td>6627</td><td>List(Electronics, List(Sony, Black), 6, Bluetooth Speaker, 149, 2)</td></tr><tr><td>94</td><td>Pending</td><td>Credit Card</td><td>895</td><td>2025-01-10 09:51:48</td><td>2025-01-10</td><td>6627</td><td>List(Electronics, List(Apple, Blue), 3, Wireless Headphones, 199, 3)</td></tr><tr><td>98</td><td>Completed</td><td>Credit Card</td><td>985</td><td>2025-01-08 05:57:55</td><td>2025-01-08</td><td>9150</td><td>List(Electronics, List(HP, Blue), 7, External Hard Drive, 129, 3)</td></tr><tr><td>98</td><td>Completed</td><td>Credit Card</td><td>985</td><td>2025-01-08 05:57:55</td><td>2025-01-08</td><td>9150</td><td>List(Electronics, List(Samsung, Gray), 4, Smartwatch, 299, 2)</td></tr><tr><td>99</td><td>Shipped</td><td>Credit Card</td><td>699</td><td>2025-01-10 21:43:46</td><td>2025-01-10</td><td>9150</td><td>List(Electronics, List(Bose, Gray), 1, Smartphone, 699, 1)</td></tr><tr><td>100</td><td>Shipped</td><td>PayPal</td><td>447</td><td>2025-01-04 06:40:13</td><td>2025-01-04</td><td>9150</td><td>List(Electronics, List(LG, Silver), 6, Bluetooth Speaker, 149, 3)</td></tr><tr><td>12</td><td>Cancelled</td><td>PayPal</td><td>999</td><td>2024-12-06 20:26:49</td><td>2024-12-06</td><td>5816</td><td>List(Electronics, List(Sony, White), 2, Laptop, 999, 1)</td></tr><tr><td>13</td><td>Pending</td><td>PayPal</td><td>999</td><td>2024-12-17 03:41:37</td><td>2024-12-17</td><td>4858</td><td>List(Electronics, List(GoPro, Black), 2, Laptop, 999, 1)</td></tr><tr><td>16</td><td>Pending</td><td>Bank Transfer</td><td>597</td><td>2024-12-08 22:59:48</td><td>2024-12-08</td><td>5204</td><td>List(Electronics, List(Sony, Silver), 3, Wireless Headphones, 199, 3)</td></tr><tr><td>17</td><td>Pending</td><td>Bank Transfer</td><td>998</td><td>2024-12-02 12:00:50</td><td>2024-12-02</td><td>5204</td><td>List(Electronics, List(Dell, Black), 8, Gaming Console, 499, 2)</td></tr><tr><td>24</td><td>Completed</td><td>PayPal</td><td>1199</td><td>2024-12-21 03:24:26</td><td>2024-12-21</td><td>1211</td><td>List(Electronics, List(GoPro, Gray), 9, Smart TV, 1199, 1)</td></tr><tr><td>27</td><td>Completed</td><td>Credit Card</td><td>904</td><td>2024-12-02 11:24:21</td><td>2024-12-02</td><td>2703</td><td>List(Electronics, List(Dell, White), 7, External Hard Drive, 129, 2)</td></tr><tr><td>27</td><td>Completed</td><td>Credit Card</td><td>904</td><td>2024-12-02 11:24:21</td><td>2024-12-02</td><td>2703</td><td>List(Electronics, List(Canon, Black), 6, Bluetooth Speaker, 149, 3)</td></tr><tr><td>27</td><td>Completed</td><td>Credit Card</td><td>904</td><td>2024-12-02 11:24:21</td><td>2024-12-02</td><td>2703</td><td>List(Electronics, List(Microsoft, Silver), 3, Wireless Headphones, 199, 1)</td></tr><tr><td>28</td><td>Cancelled</td><td>Credit Card</td><td>129</td><td>2024-12-26 03:17:50</td><td>2024-12-26</td><td>2703</td><td>List(Electronics, List(GoPro, Blue), 7, External Hard Drive, 129, 1)</td></tr><tr><td>32</td><td>Pending</td><td>PayPal</td><td>399</td><td>2024-12-28 08:55:57</td><td>2024-12-28</td><td>4996</td><td>List(Electronics, List(Apple, Silver), 5, Tablet, 399, 1)</td></tr><tr><td>37</td><td>Shipped</td><td>Credit Card</td><td>258</td><td>2024-12-22 10:11:49</td><td>2024-12-22</td><td>7829</td><td>List(Electronics, List(HP, Silver), 7, External Hard Drive, 129, 2)</td></tr><tr><td>38</td><td>Shipped</td><td>Credit Card</td><td>447</td><td>2024-12-25 22:05:19</td><td>2024-12-25</td><td>7829</td><td>List(Electronics, List(Apple, Gray), 6, Bluetooth Speaker, 149, 3)</td></tr><tr><td>44</td><td>Completed</td><td>Credit Card</td><td>129</td><td>2024-12-20 08:05:43</td><td>2024-12-20</td><td>7295</td><td>List(Electronics, List(Bose, Blue), 7, External Hard Drive, 129, 1)</td></tr><tr><td>49</td><td>Cancelled</td><td>PayPal</td><td>747</td><td>2024-12-07 23:24:11</td><td>2024-12-07</td><td>7803</td><td>List(Electronics, List(HP, White), 4, Smartwatch, 299, 1)</td></tr><tr><td>49</td><td>Cancelled</td><td>PayPal</td><td>747</td><td>2024-12-07 23:24:11</td><td>2024-12-07</td><td>7803</td><td>List(Electronics, List(Canon, Blue), 4, Smartwatch, 299, 1)</td></tr><tr><td>49</td><td>Cancelled</td><td>PayPal</td><td>747</td><td>2024-12-07 23:24:11</td><td>2024-12-07</td><td>7803</td><td>List(Electronics, List(Samsung, White), 6, Bluetooth Speaker, 149, 1)</td></tr><tr><td>54</td><td>Pending</td><td>Credit Card</td><td>398</td><td>2024-12-20 12:04:27</td><td>2024-12-20</td><td>2054</td><td>List(Electronics, List(Bose, Gray), 3, Wireless Headphones, 199, 2)</td></tr><tr><td>58</td><td>Completed</td><td>PayPal</td><td>699</td><td>2024-12-09 22:40:58</td><td>2024-12-09</td><td>8580</td><td>List(Electronics, List(Microsoft, Gray), 1, Smartphone, 699, 1)</td></tr><tr><td>60</td><td>Shipped</td><td>Bank Transfer</td><td>199</td><td>2024-12-13 13:10:12</td><td>2024-12-13</td><td>3409</td><td>List(Electronics, List(Samsung, Blue), 3, Wireless Headphones, 199, 1)</td></tr><tr><td>61</td><td>Completed</td><td>Bank Transfer</td><td>699</td><td>2024-12-07 07:47:19</td><td>2024-12-07</td><td>7123</td><td>List(Electronics, List(Canon, Black), 1, Smartphone, 699, 1)</td></tr><tr><td>65</td><td>Cancelled</td><td>Bank Transfer</td><td>399</td><td>2024-12-09 13:04:13</td><td>2024-12-09</td><td>3084</td><td>List(Electronics, List(Microsoft, Gray), 5, Tablet, 399, 1)</td></tr><tr><td>67</td><td>Shipped</td><td>PayPal</td><td>897</td><td>2024-12-19 07:11:09</td><td>2024-12-19</td><td>3084</td><td>List(Electronics, List(LG, Blue), 4, Smartwatch, 299, 3)</td></tr><tr><td>69</td><td>Completed</td><td>Bank Transfer</td><td>699</td><td>2024-12-30 02:42:01</td><td>2024-12-30</td><td>4973</td><td>List(Electronics, List(Dell, Gray), 1, Smartphone, 699, 1)</td></tr><tr><td>70</td><td>Shipped</td><td>PayPal</td><td>897</td><td>2024-12-04 17:17:24</td><td>2024-12-04</td><td>7997</td><td>List(Electronics, List(Sony, Black), 4, Smartwatch, 299, 3)</td></tr><tr><td>71</td><td>Completed</td><td>Bank Transfer</td><td>199</td><td>2024-12-27 11:16:39</td><td>2024-12-27</td><td>7997</td><td>List(Electronics, List(Microsoft, Black), 3, Wireless Headphones, 199, 1)</td></tr><tr><td>74</td><td>Pending</td><td>PayPal</td><td>699</td><td>2024-12-22 15:54:11</td><td>2024-12-22</td><td>6167</td><td>List(Electronics, List(Samsung, Blue), 1, Smartphone, 699, 1)</td></tr><tr><td>80</td><td>Cancelled</td><td>Bank Transfer</td><td>998</td><td>2024-12-11 07:43:54</td><td>2024-12-11</td><td>9687</td><td>List(Electronics, List(Samsung, White), 8, Gaming Console, 499, 2)</td></tr><tr><td>81</td><td>Completed</td><td>PayPal</td><td>699</td><td>2024-12-27 02:27:45</td><td>2024-12-27</td><td>9687</td><td>List(Electronics, List(GoPro, Blue), 1, Smartphone, 699, 1)</td></tr><tr><td>82</td><td>Completed</td><td>PayPal</td><td>387</td><td>2024-12-28 00:54:08</td><td>2024-12-28</td><td>2344</td><td>List(Electronics, List(Sony, Blue), 7, External Hard Drive, 129, 3)</td></tr><tr><td>91</td><td>Cancelled</td><td>Bank Transfer</td><td>699</td><td>2024-12-17 00:09:53</td><td>2024-12-17</td><td>5592</td><td>List(Electronics, List(Canon, Silver), 1, Smartphone, 699, 1)</td></tr><tr><td>93</td><td>Pending</td><td>PayPal</td><td>598</td><td>2024-12-22 05:07:46</td><td>2024-12-22</td><td>6627</td><td>List(Electronics, List(LG, Silver), 4, Smartwatch, 299, 2)</td></tr><tr><td>95</td><td>Completed</td><td>Bank Transfer</td><td>946</td><td>2024-12-28 04:28:30</td><td>2024-12-28</td><td>6627</td><td>List(Electronics, List(GoPro, White), 4, Smartwatch, 299, 2)</td></tr><tr><td>95</td><td>Completed</td><td>Bank Transfer</td><td>946</td><td>2024-12-28 04:28:30</td><td>2024-12-28</td><td>6627</td><td>List(Electronics, List(Bose, Gray), 3, Wireless Headphones, 199, 1)</td></tr><tr><td>95</td><td>Completed</td><td>Bank Transfer</td><td>946</td><td>2024-12-28 04:28:30</td><td>2024-12-28</td><td>6627</td><td>List(Electronics, List(Dell, Silver), 6, Bluetooth Speaker, 149, 1)</td></tr><tr><td>96</td><td>Shipped</td><td>PayPal</td><td>149</td><td>2024-12-02 12:27:45</td><td>2024-12-02</td><td>6406</td><td>List(Electronics, List(Microsoft, Black), 6, Bluetooth Speaker, 149, 1)</td></tr><tr><td>97</td><td>Completed</td><td>Bank Transfer</td><td>499</td><td>2024-12-07 16:14:34</td><td>2024-12-07</td><td>6406</td><td>List(Electronics, List(Sony, Silver), 8, Gaming Console, 499, 1)</td></tr><tr><td>5</td><td>Cancelled</td><td>Bank Transfer</td><td>998</td><td>2024-11-16 23:07:31</td><td>2024-11-16</td><td>3892</td><td>List(Electronics, List(Dell, Blue), 8, Gaming Console, 499, 2)</td></tr><tr><td>7</td><td>Pending</td><td>Credit Card</td><td>645</td><td>2024-11-19 19:18:48</td><td>2024-11-19</td><td>1987</td><td>List(Electronics, List(LG, Blue), 7, External Hard Drive, 129, 2)</td></tr><tr><td>7</td><td>Pending</td><td>Credit Card</td><td>645</td><td>2024-11-19 19:18:48</td><td>2024-11-19</td><td>1987</td><td>List(Electronics, List(HP, Gray), 7, External Hard Drive, 129, 3)</td></tr><tr><td>9</td><td>Shipped</td><td>Bank Transfer</td><td>999</td><td>2024-11-27 13:15:29</td><td>2024-11-27</td><td>9179</td><td>List(Electronics, List(Apple, Black), 2, Laptop, 999, 1)</td></tr><tr><td>20</td><td>Pending</td><td>PayPal</td><td>798</td><td>2024-11-18 02:38:21</td><td>2024-11-18</td><td>8539</td><td>List(Electronics, List(Sony, Silver), 5, Tablet, 399, 2)</td></tr><tr><td>21</td><td>Cancelled</td><td>Bank Transfer</td><td>298</td><td>2024-11-21 11:25:35</td><td>2024-11-21</td><td>8539</td><td>List(Electronics, List(GoPro, Blue), 6, Bluetooth Speaker, 149, 2)</td></tr><tr><td>23</td><td>Shipped</td><td>PayPal</td><td>997</td><td>2024-11-22 16:04:05</td><td>2024-11-22</td><td>4761</td><td>List(Electronics, List(Apple, Gray), 5, Tablet, 399, 1)</td></tr><tr><td>23</td><td>Shipped</td><td>PayPal</td><td>997</td><td>2024-11-22 16:04:05</td><td>2024-11-22</td><td>4761</td><td>List(Electronics, List(Dell, Gray), 4, Smartwatch, 299, 2)</td></tr><tr><td>25</td><td>Completed</td><td>PayPal</td><td>999</td><td>2024-11-05 11:45:31</td><td>2024-11-05</td><td>9706</td><td>List(Electronics, List(LG, Gray), 2, Laptop, 999, 1)</td></tr><tr><td>30</td><td>Shipped</td><td>Bank Transfer</td><td>199</td><td>2024-11-12 03:20:29</td><td>2024-11-12</td><td>4996</td><td>List(Electronics, List(GoPro, White), 3, Wireless Headphones, 199, 1)</td></tr><tr><td>35</td><td>Shipped</td><td>Bank Transfer</td><td>199</td><td>2024-11-20 19:09:04</td><td>2024-11-20</td><td>4914</td><td>List(Electronics, List(Dell, Gray), 3, Wireless Headphones, 199, 1)</td></tr><tr><td>36</td><td>Completed</td><td>PayPal</td><td>199</td><td>2024-11-02 10:39:46</td><td>2024-11-02</td><td>4914</td><td>List(Electronics, List(Canon, Silver), 3, Wireless Headphones, 199, 1)</td></tr><tr><td>42</td><td>Completed</td><td>Credit Card</td><td>149</td><td>2024-11-08 18:32:25</td><td>2024-11-08</td><td>5028</td><td>List(Electronics, List(Bose, Gray), 6, Bluetooth Speaker, 149, 1)</td></tr><tr><td>45</td><td>Shipped</td><td>Credit Card</td><td>799</td><td>2024-11-07 15:41:43</td><td>2024-11-07</td><td>7295</td><td>List(Electronics, List(Dell, White), 10, Drone, 799, 1)</td></tr><tr><td>46</td><td>Pending</td><td>PayPal</td><td>199</td><td>2024-11-26 17:16:53</td><td>2024-11-26</td><td>7295</td><td>List(Electronics, List(Samsung, Black), 3, Wireless Headphones, 199, 1)</td></tr><tr><td>47</td><td>Shipped</td><td>Credit Card</td><td>298</td><td>2024-11-22 02:01:19</td><td>2024-11-22</td><td>7803</td><td>List(Electronics, List(LG, Blue), 6, Bluetooth Speaker, 149, 2)</td></tr><tr><td>48</td><td>Completed</td><td>PayPal</td><td>387</td><td>2024-11-13 06:35:56</td><td>2024-11-13</td><td>7803</td><td>List(Electronics, List(Apple, Black), 7, External Hard Drive, 129, 3)</td></tr><tr><td>52</td><td>Completed</td><td>PayPal</td><td>998</td><td>2024-11-19 21:23:45</td><td>2024-11-19</td><td>8845</td><td>List(Electronics, List(GoPro, White), 8, Gaming Console, 499, 2)</td></tr><tr><td>57</td><td>Cancelled</td><td>Bank Transfer</td><td>586</td><td>2024-11-19 11:32:44</td><td>2024-11-19</td><td>8580</td><td>List(Electronics, List(HP, Silver), 3, Wireless Headphones, 199, 1)</td></tr><tr><td>57</td><td>Cancelled</td><td>Bank Transfer</td><td>586</td><td>2024-11-19 11:32:44</td><td>2024-11-19</td><td>8580</td><td>List(Electronics, List(Sony, Silver), 7, External Hard Drive, 129, 3)</td></tr><tr><td>63</td><td>Cancelled</td><td>Bank Transfer</td><td>646</td><td>2024-11-24 08:41:28</td><td>2024-11-24</td><td>7123</td><td>List(Electronics, List(GoPro, Blue), 3, Wireless Headphones, 199, 1)</td></tr><tr><td>63</td><td>Cancelled</td><td>Bank Transfer</td><td>646</td><td>2024-11-24 08:41:28</td><td>2024-11-24</td><td>7123</td><td>List(Electronics, List(Bose, Silver), 6, Bluetooth Speaker, 149, 3)</td></tr><tr><td>64</td><td>Completed</td><td>Bank Transfer</td><td>984</td><td>2024-11-28 12:23:21</td><td>2024-11-28</td><td>2639</td><td>List(Electronics, List(Microsoft, White), 7, External Hard Drive, 129, 3)</td></tr><tr><td>64</td><td>Completed</td><td>Bank Transfer</td><td>984</td><td>2024-11-28 12:23:21</td><td>2024-11-28</td><td>2639</td><td>List(Electronics, List(Canon, Blue), 3, Wireless Headphones, 199, 3)</td></tr><tr><td>88</td><td>Cancelled</td><td>Bank Transfer</td><td>387</td><td>2024-11-15 11:39:44</td><td>2024-11-15</td><td>9247</td><td>List(Electronics, List(Bose, White), 7, External Hard Drive, 129, 3)</td></tr><tr><td>89</td><td>Cancelled</td><td>Bank Transfer</td><td>149</td><td>2024-11-22 12:09:15</td><td>2024-11-22</td><td>9247</td><td>List(Electronics, List(GoPro, Silver), 6, Bluetooth Speaker, 149, 1)</td></tr><tr><td>92</td><td>Shipped</td><td>PayPal</td><td>258</td><td>2024-11-24 23:33:21</td><td>2024-11-24</td><td>5592</td><td>List(Electronics, List(Sony, Black), 7, External Hard Drive, 129, 2)</td></tr><tr><td>6</td><td>Pending</td><td>Credit Card</td><td>799</td><td>2024-10-28 04:47:27</td><td>2024-10-28</td><td>1987</td><td>List(Electronics, List(GoPro, Black), 10, Drone, 799, 1)</td></tr><tr><td>10</td><td>Pending</td><td>Credit Card</td><td>399</td><td>2024-10-07 22:09:27</td><td>2024-10-07</td><td>5816</td><td>List(Electronics, List(GoPro, White), 5, Tablet, 399, 1)</td></tr><tr><td>11</td><td>Pending</td><td>Bank Transfer</td><td>897</td><td>2024-10-13 17:34:19</td><td>2024-10-13</td><td>5816</td><td>List(Electronics, List(Canon, White), 4, Smartwatch, 299, 3)</td></tr><tr><td>15</td><td>Completed</td><td>Bank Transfer</td><td>1199</td><td>2024-10-20 01:47:25</td><td>2024-10-20</td><td>7207</td><td>List(Electronics, List(GoPro, White), 9, Smart TV, 1199, 1)</td></tr><tr><td>19</td><td>Shipped</td><td>PayPal</td><td>499</td><td>2024-10-13 12:40:26</td><td>2024-10-13</td><td>8539</td><td>List(Electronics, List(Dell, Silver), 8, Gaming Console, 499, 1)</td></tr><tr><td>39</td><td>Shipped</td><td>PayPal</td><td>387</td><td>2024-10-29 21:39:19</td><td>2024-10-29</td><td>9263</td><td>List(Electronics, List(Sony, Black), 7, External Hard Drive, 129, 3)</td></tr><tr><td>55</td><td>Shipped</td><td>Bank Transfer</td><td>699</td><td>2024-10-25 05:49:16</td><td>2024-10-25</td><td>9018</td><td>List(Electronics, List(HP, Black), 1, Smartphone, 699, 1)</td></tr><tr><td>59</td><td>Pending</td><td>PayPal</td><td>499</td><td>2024-10-23 02:51:05</td><td>2024-10-23</td><td>3409</td><td>List(Electronics, List(Dell, Black), 8, Gaming Console, 499, 1)</td></tr><tr><td>72</td><td>Cancelled</td><td>PayPal</td><td>328</td><td>2024-10-06 10:23:28</td><td>2024-10-06</td><td>3889</td><td>List(Electronics, List(Microsoft, Gray), 3, Wireless Headphones, 199, 1)</td></tr><tr><td>72</td><td>Cancelled</td><td>PayPal</td><td>328</td><td>2024-10-06 10:23:28</td><td>2024-10-06</td><td>3889</td><td>List(Electronics, List(Samsung, Silver), 7, External Hard Drive, 129, 1)</td></tr><tr><td>77</td><td>Pending</td><td>Credit Card</td><td>398</td><td>2024-10-15 13:09:33</td><td>2024-10-15</td><td>9084</td><td>List(Electronics, List(HP, Silver), 3, Wireless Headphones, 199, 2)</td></tr><tr><td>84</td><td>Completed</td><td>PayPal</td><td>998</td><td>2024-10-25 03:37:42</td><td>2024-10-25</td><td>2344</td><td>List(Electronics, List(Sony, Black), 10, Drone, 799, 1)</td></tr><tr><td>84</td><td>Completed</td><td>PayPal</td><td>998</td><td>2024-10-25 03:37:42</td><td>2024-10-25</td><td>2344</td><td>List(Electronics, List(LG, Black), 3, Wireless Headphones, 199, 1)</td></tr><tr><td>85</td><td>Shipped</td><td>Bank Transfer</td><td>998</td><td>2024-10-23 20:06:42</td><td>2024-10-23</td><td>5011</td><td>List(Electronics, List(GoPro, Black), 8, Gaming Console, 499, 2)</td></tr><tr><td>86</td><td>Completed</td><td>PayPal</td><td>1199</td><td>2024-10-19 13:30:47</td><td>2024-10-19</td><td>5011</td><td>List(Electronics, List(Dell, White), 9, Smart TV, 1199, 1)</td></tr></tbody></table></div>"
      ]
     },
     "metadata": {
      "application/vnd.databricks.v1+output": {
       "addedWidgets": {},
       "aggData": [],
       "aggError": "",
       "aggOverflow": false,
       "aggSchema": [],
       "aggSeriesLimitReached": false,
       "aggType": "",
       "arguments": {},
       "columnCustomDisplayInfos": {},
       "data": [
        [
         1,
         "Completed",
         "Bank Transfer",
         499,
         "2025-01-05 10:13:59",
         "2025-01-05",
         6973,
         [
          "Electronics",
          [
           "Sony",
           "Blue"
          ],
          8,
          "Gaming Console",
          499,
          1
         ]
        ],
        [
         2,
         "Cancelled",
         "PayPal",
         985,
         "2025-01-19 00:05:13",
         "2025-01-19",
         3532,
         [
          "Electronics",
          [
           "Canon",
           "Gray"
          ],
          4,
          "Smartwatch",
          299,
          2
         ]
        ],
        [
         2,
         "Cancelled",
         "PayPal",
         985,
         "2025-01-19 00:05:13",
         "2025-01-19",
         3532,
         [
          "Electronics",
          [
           "Dell",
           "Blue"
          ],
          7,
          "External Hard Drive",
          129,
          3
         ]
        ],
        [
         3,
         "Completed",
         "Bank Transfer",
         597,
         "2025-01-08 23:11:00",
         "2025-01-08",
         3532,
         [
          "Electronics",
          [
           "Apple",
           "White"
          ],
          3,
          "Wireless Headphones",
          199,
          3
         ]
        ],
        [
         4,
         "Cancelled",
         "Bank Transfer",
         999,
         "2025-01-05 05:49:26",
         "2025-01-05",
         3532,
         [
          "Electronics",
          [
           "Microsoft",
           "Black"
          ],
          2,
          "Laptop",
          999,
          1
         ]
        ],
        [
         8,
         "Completed",
         "PayPal",
         399,
         "2025-01-02 13:11:15",
         "2025-01-02",
         9179,
         [
          "Electronics",
          [
           "LG",
           "White"
          ],
          5,
          "Tablet",
          399,
          1
         ]
        ],
        [
         14,
         "Cancelled",
         "PayPal",
         597,
         "2025-01-01 18:22:26",
         "2025-01-01",
         7207,
         [
          "Electronics",
          [
           "Bose",
           "Blue"
          ],
          3,
          "Wireless Headphones",
          199,
          3
         ]
        ],
        [
         18,
         "Pending",
         "Credit Card",
         799,
         "2025-01-22 21:12:08",
         "2025-01-22",
         4468,
         [
          "Electronics",
          [
           "Dell",
           "Black"
          ],
          10,
          "Drone",
          799,
          1
         ]
        ],
        [
         22,
         "Pending",
         "PayPal",
         199,
         "2025-01-01 15:49:19",
         "2025-01-01",
         4761,
         [
          "Electronics",
          [
           "HP",
           "Silver"
          ],
          3,
          "Wireless Headphones",
          199,
          1
         ]
        ],
        [
         26,
         "Shipped",
         "Bank Transfer",
         699,
         "2025-01-05 19:01:25",
         "2025-01-05",
         7007,
         [
          "Electronics",
          [
           "Samsung",
           "Silver"
          ],
          1,
          "Smartphone",
          699,
          1
         ]
        ],
        [
         29,
         "Pending",
         "Bank Transfer",
         129,
         "2025-01-18 03:05:04",
         "2025-01-18",
         5953,
         [
          "Electronics",
          [
           "Bose",
           "Gray"
          ],
          7,
          "External Hard Drive",
          129,
          1
         ]
        ],
        [
         31,
         "Shipped",
         "Bank Transfer",
         299,
         "2025-01-18 03:13:29",
         "2025-01-18",
         4996,
         [
          "Electronics",
          [
           "Dell",
           "White"
          ],
          4,
          "Smartwatch",
          299,
          1
         ]
        ],
        [
         33,
         "Completed",
         "PayPal",
         897,
         "2025-01-13 04:47:43",
         "2025-01-13",
         9605,
         [
          "Electronics",
          [
           "Canon",
           "White"
          ],
          4,
          "Smartwatch",
          299,
          3
         ]
        ],
        [
         34,
         "Cancelled",
         "PayPal",
         926,
         "2025-01-21 00:25:01",
         "2025-01-21",
         9605,
         [
          "Electronics",
          [
           "Bose",
           "Silver"
          ],
          6,
          "Bluetooth Speaker",
          149,
          2
         ]
        ],
        [
         34,
         "Cancelled",
         "PayPal",
         926,
         "2025-01-21 00:25:01",
         "2025-01-21",
         9605,
         [
          "Electronics",
          [
           "LG",
           "Black"
          ],
          8,
          "Gaming Console",
          499,
          1
         ]
        ],
        [
         34,
         "Cancelled",
         "PayPal",
         926,
         "2025-01-21 00:25:01",
         "2025-01-21",
         9605,
         [
          "Electronics",
          [
           "Samsung",
           "Black"
          ],
          7,
          "External Hard Drive",
          129,
          1
         ]
        ],
        [
         40,
         "Completed",
         "PayPal",
         298,
         "2025-01-20 16:18:35",
         "2025-01-20",
         6384,
         [
          "Electronics",
          [
           "Bose",
           "Silver"
          ],
          6,
          "Bluetooth Speaker",
          149,
          2
         ]
        ],
        [
         41,
         "Shipped",
         "Credit Card",
         999,
         "2025-01-05 06:10:22",
         "2025-01-05",
         6384,
         [
          "Electronics",
          [
           "Sony",
           "Silver"
          ],
          2,
          "Laptop",
          999,
          1
         ]
        ],
        [
         43,
         "Pending",
         "PayPal",
         499,
         "2025-01-24 18:10:37",
         "2025-01-24",
         5028,
         [
          "Electronics",
          [
           "LG",
           "Black"
          ],
          8,
          "Gaming Console",
          499,
          1
         ]
        ],
        [
         50,
         "Shipped",
         "Credit Card",
         746,
         "2025-01-11 01:19:09",
         "2025-01-11",
         3712,
         [
          "Electronics",
          [
           "Apple",
           "Gray"
          ],
          6,
          "Bluetooth Speaker",
          149,
          3
         ]
        ],
        [
         50,
         "Shipped",
         "Credit Card",
         746,
         "2025-01-11 01:19:09",
         "2025-01-11",
         3712,
         [
          "Electronics",
          [
           "Sony",
           "White"
          ],
          4,
          "Smartwatch",
          299,
          1
         ]
        ],
        [
         51,
         "Completed",
         "PayPal",
         149,
         "2025-01-21 13:19:59",
         "2025-01-21",
         8845,
         [
          "Electronics",
          [
           "Samsung",
           "Gray"
          ],
          6,
          "Bluetooth Speaker",
          149,
          1
         ]
        ],
        [
         53,
         "Pending",
         "Bank Transfer",
         199,
         "2025-01-21 08:31:02",
         "2025-01-21",
         8845,
         [
          "Electronics",
          [
           "Apple",
           "Black"
          ],
          3,
          "Wireless Headphones",
          199,
          1
         ]
        ],
        [
         56,
         "Cancelled",
         "PayPal",
         698,
         "2025-01-01 12:02:41",
         "2025-01-01",
         8580,
         [
          "Electronics",
          [
           "HP",
           "Silver"
          ],
          3,
          "Wireless Headphones",
          199,
          1
         ]
        ],
        [
         56,
         "Cancelled",
         "PayPal",
         698,
         "2025-01-01 12:02:41",
         "2025-01-01",
         8580,
         [
          "Electronics",
          [
           "LG",
           "Gray"
          ],
          8,
          "Gaming Console",
          499,
          1
         ]
        ],
        [
         62,
         "Completed",
         "Bank Transfer",
         985,
         "2025-01-24 12:00:54",
         "2025-01-24",
         7123,
         [
          "Electronics",
          [
           "Dell",
           "White"
          ],
          7,
          "External Hard Drive",
          129,
          3
         ]
        ],
        [
         62,
         "Completed",
         "Bank Transfer",
         985,
         "2025-01-24 12:00:54",
         "2025-01-24",
         7123,
         [
          "Electronics",
          [
           "GoPro",
           "Blue"
          ],
          4,
          "Smartwatch",
          299,
          2
         ]
        ],
        [
         66,
         "Cancelled",
         "Credit Card",
         598,
         "2025-01-17 21:16:11",
         "2025-01-17",
         3084,
         [
          "Electronics",
          [
           "Bose",
           "Silver"
          ],
          4,
          "Smartwatch",
          299,
          1
         ]
        ],
        [
         66,
         "Cancelled",
         "Credit Card",
         598,
         "2025-01-17 21:16:11",
         "2025-01-17",
         3084,
         [
          "Electronics",
          [
           "GoPro",
           "White"
          ],
          4,
          "Smartwatch",
          299,
          1
         ]
        ],
        [
         68,
         "Completed",
         "Bank Transfer",
         149,
         "2025-01-10 20:35:43",
         "2025-01-10",
         4973,
         [
          "Electronics",
          [
           "Bose",
           "Gray"
          ],
          6,
          "Bluetooth Speaker",
          149,
          1
         ]
        ],
        [
         73,
         "Shipped",
         "Credit Card",
         387,
         "2025-01-07 01:02:26",
         "2025-01-07",
         6167,
         [
          "Electronics",
          [
           "GoPro",
           "Gray"
          ],
          7,
          "External Hard Drive",
          129,
          3
         ]
        ],
        [
         75,
         "Shipped",
         "Credit Card",
         699,
         "2025-01-19 16:23:16",
         "2025-01-19",
         6167,
         [
          "Electronics",
          [
           "GoPro",
           "White"
          ],
          1,
          "Smartphone",
          699,
          1
         ]
        ],
        [
         76,
         "Completed",
         "Bank Transfer",
         399,
         "2025-01-06 02:54:39",
         "2025-01-06",
         3295,
         [
          "Electronics",
          [
           "Microsoft",
           "Silver"
          ],
          5,
          "Tablet",
          399,
          1
         ]
        ],
        [
         78,
         "Cancelled",
         "PayPal",
         798,
         "2025-01-21 11:42:51",
         "2025-01-21",
         9084,
         [
          "Electronics",
          [
           "Dell",
           "White"
          ],
          5,
          "Tablet",
          399,
          2
         ]
        ],
        [
         79,
         "Cancelled",
         "Credit Card",
         998,
         "2025-01-25 03:52:05",
         "2025-01-25",
         9084,
         [
          "Electronics",
          [
           "Dell",
           "Gray"
          ],
          8,
          "Gaming Console",
          499,
          2
         ]
        ],
        [
         83,
         "Shipped",
         "PayPal",
         785,
         "2025-01-07 12:48:05",
         "2025-01-07",
         2344,
         [
          "Electronics",
          [
           "Canon",
           "Gray"
          ],
          7,
          "External Hard Drive",
          129,
          3
         ]
        ],
        [
         83,
         "Shipped",
         "PayPal",
         785,
         "2025-01-07 12:48:05",
         "2025-01-07",
         2344,
         [
          "Electronics",
          [
           "Sony",
           "Black"
          ],
          3,
          "Wireless Headphones",
          199,
          2
         ]
        ],
        [
         87,
         "Pending",
         "PayPal",
         129,
         "2025-01-02 04:28:38",
         "2025-01-02",
         2141,
         [
          "Electronics",
          [
           "Apple",
           "Blue"
          ],
          7,
          "External Hard Drive",
          129,
          1
         ]
        ],
        [
         90,
         "Pending",
         "Credit Card",
         258,
         "2025-01-17 14:30:54",
         "2025-01-17",
         9247,
         [
          "Electronics",
          [
           "Canon",
           "White"
          ],
          7,
          "External Hard Drive",
          129,
          1
         ]
        ],
        [
         90,
         "Pending",
         "Credit Card",
         258,
         "2025-01-17 14:30:54",
         "2025-01-17",
         9247,
         [
          "Electronics",
          [
           "Samsung",
           "Black"
          ],
          7,
          "External Hard Drive",
          129,
          1
         ]
        ],
        [
         94,
         "Pending",
         "Credit Card",
         895,
         "2025-01-10 09:51:48",
         "2025-01-10",
         6627,
         [
          "Electronics",
          [
           "Sony",
           "Black"
          ],
          6,
          "Bluetooth Speaker",
          149,
          2
         ]
        ],
        [
         94,
         "Pending",
         "Credit Card",
         895,
         "2025-01-10 09:51:48",
         "2025-01-10",
         6627,
         [
          "Electronics",
          [
           "Apple",
           "Blue"
          ],
          3,
          "Wireless Headphones",
          199,
          3
         ]
        ],
        [
         98,
         "Completed",
         "Credit Card",
         985,
         "2025-01-08 05:57:55",
         "2025-01-08",
         9150,
         [
          "Electronics",
          [
           "HP",
           "Blue"
          ],
          7,
          "External Hard Drive",
          129,
          3
         ]
        ],
        [
         98,
         "Completed",
         "Credit Card",
         985,
         "2025-01-08 05:57:55",
         "2025-01-08",
         9150,
         [
          "Electronics",
          [
           "Samsung",
           "Gray"
          ],
          4,
          "Smartwatch",
          299,
          2
         ]
        ],
        [
         99,
         "Shipped",
         "Credit Card",
         699,
         "2025-01-10 21:43:46",
         "2025-01-10",
         9150,
         [
          "Electronics",
          [
           "Bose",
           "Gray"
          ],
          1,
          "Smartphone",
          699,
          1
         ]
        ],
        [
         100,
         "Shipped",
         "PayPal",
         447,
         "2025-01-04 06:40:13",
         "2025-01-04",
         9150,
         [
          "Electronics",
          [
           "LG",
           "Silver"
          ],
          6,
          "Bluetooth Speaker",
          149,
          3
         ]
        ],
        [
         12,
         "Cancelled",
         "PayPal",
         999,
         "2024-12-06 20:26:49",
         "2024-12-06",
         5816,
         [
          "Electronics",
          [
           "Sony",
           "White"
          ],
          2,
          "Laptop",
          999,
          1
         ]
        ],
        [
         13,
         "Pending",
         "PayPal",
         999,
         "2024-12-17 03:41:37",
         "2024-12-17",
         4858,
         [
          "Electronics",
          [
           "GoPro",
           "Black"
          ],
          2,
          "Laptop",
          999,
          1
         ]
        ],
        [
         16,
         "Pending",
         "Bank Transfer",
         597,
         "2024-12-08 22:59:48",
         "2024-12-08",
         5204,
         [
          "Electronics",
          [
           "Sony",
           "Silver"
          ],
          3,
          "Wireless Headphones",
          199,
          3
         ]
        ],
        [
         17,
         "Pending",
         "Bank Transfer",
         998,
         "2024-12-02 12:00:50",
         "2024-12-02",
         5204,
         [
          "Electronics",
          [
           "Dell",
           "Black"
          ],
          8,
          "Gaming Console",
          499,
          2
         ]
        ],
        [
         24,
         "Completed",
         "PayPal",
         1199,
         "2024-12-21 03:24:26",
         "2024-12-21",
         1211,
         [
          "Electronics",
          [
           "GoPro",
           "Gray"
          ],
          9,
          "Smart TV",
          1199,
          1
         ]
        ],
        [
         27,
         "Completed",
         "Credit Card",
         904,
         "2024-12-02 11:24:21",
         "2024-12-02",
         2703,
         [
          "Electronics",
          [
           "Dell",
           "White"
          ],
          7,
          "External Hard Drive",
          129,
          2
         ]
        ],
        [
         27,
         "Completed",
         "Credit Card",
         904,
         "2024-12-02 11:24:21",
         "2024-12-02",
         2703,
         [
          "Electronics",
          [
           "Canon",
           "Black"
          ],
          6,
          "Bluetooth Speaker",
          149,
          3
         ]
        ],
        [
         27,
         "Completed",
         "Credit Card",
         904,
         "2024-12-02 11:24:21",
         "2024-12-02",
         2703,
         [
          "Electronics",
          [
           "Microsoft",
           "Silver"
          ],
          3,
          "Wireless Headphones",
          199,
          1
         ]
        ],
        [
         28,
         "Cancelled",
         "Credit Card",
         129,
         "2024-12-26 03:17:50",
         "2024-12-26",
         2703,
         [
          "Electronics",
          [
           "GoPro",
           "Blue"
          ],
          7,
          "External Hard Drive",
          129,
          1
         ]
        ],
        [
         32,
         "Pending",
         "PayPal",
         399,
         "2024-12-28 08:55:57",
         "2024-12-28",
         4996,
         [
          "Electronics",
          [
           "Apple",
           "Silver"
          ],
          5,
          "Tablet",
          399,
          1
         ]
        ],
        [
         37,
         "Shipped",
         "Credit Card",
         258,
         "2024-12-22 10:11:49",
         "2024-12-22",
         7829,
         [
          "Electronics",
          [
           "HP",
           "Silver"
          ],
          7,
          "External Hard Drive",
          129,
          2
         ]
        ],
        [
         38,
         "Shipped",
         "Credit Card",
         447,
         "2024-12-25 22:05:19",
         "2024-12-25",
         7829,
         [
          "Electronics",
          [
           "Apple",
           "Gray"
          ],
          6,
          "Bluetooth Speaker",
          149,
          3
         ]
        ],
        [
         44,
         "Completed",
         "Credit Card",
         129,
         "2024-12-20 08:05:43",
         "2024-12-20",
         7295,
         [
          "Electronics",
          [
           "Bose",
           "Blue"
          ],
          7,
          "External Hard Drive",
          129,
          1
         ]
        ],
        [
         49,
         "Cancelled",
         "PayPal",
         747,
         "2024-12-07 23:24:11",
         "2024-12-07",
         7803,
         [
          "Electronics",
          [
           "HP",
           "White"
          ],
          4,
          "Smartwatch",
          299,
          1
         ]
        ],
        [
         49,
         "Cancelled",
         "PayPal",
         747,
         "2024-12-07 23:24:11",
         "2024-12-07",
         7803,
         [
          "Electronics",
          [
           "Canon",
           "Blue"
          ],
          4,
          "Smartwatch",
          299,
          1
         ]
        ],
        [
         49,
         "Cancelled",
         "PayPal",
         747,
         "2024-12-07 23:24:11",
         "2024-12-07",
         7803,
         [
          "Electronics",
          [
           "Samsung",
           "White"
          ],
          6,
          "Bluetooth Speaker",
          149,
          1
         ]
        ],
        [
         54,
         "Pending",
         "Credit Card",
         398,
         "2024-12-20 12:04:27",
         "2024-12-20",
         2054,
         [
          "Electronics",
          [
           "Bose",
           "Gray"
          ],
          3,
          "Wireless Headphones",
          199,
          2
         ]
        ],
        [
         58,
         "Completed",
         "PayPal",
         699,
         "2024-12-09 22:40:58",
         "2024-12-09",
         8580,
         [
          "Electronics",
          [
           "Microsoft",
           "Gray"
          ],
          1,
          "Smartphone",
          699,
          1
         ]
        ],
        [
         60,
         "Shipped",
         "Bank Transfer",
         199,
         "2024-12-13 13:10:12",
         "2024-12-13",
         3409,
         [
          "Electronics",
          [
           "Samsung",
           "Blue"
          ],
          3,
          "Wireless Headphones",
          199,
          1
         ]
        ],
        [
         61,
         "Completed",
         "Bank Transfer",
         699,
         "2024-12-07 07:47:19",
         "2024-12-07",
         7123,
         [
          "Electronics",
          [
           "Canon",
           "Black"
          ],
          1,
          "Smartphone",
          699,
          1
         ]
        ],
        [
         65,
         "Cancelled",
         "Bank Transfer",
         399,
         "2024-12-09 13:04:13",
         "2024-12-09",
         3084,
         [
          "Electronics",
          [
           "Microsoft",
           "Gray"
          ],
          5,
          "Tablet",
          399,
          1
         ]
        ],
        [
         67,
         "Shipped",
         "PayPal",
         897,
         "2024-12-19 07:11:09",
         "2024-12-19",
         3084,
         [
          "Electronics",
          [
           "LG",
           "Blue"
          ],
          4,
          "Smartwatch",
          299,
          3
         ]
        ],
        [
         69,
         "Completed",
         "Bank Transfer",
         699,
         "2024-12-30 02:42:01",
         "2024-12-30",
         4973,
         [
          "Electronics",
          [
           "Dell",
           "Gray"
          ],
          1,
          "Smartphone",
          699,
          1
         ]
        ],
        [
         70,
         "Shipped",
         "PayPal",
         897,
         "2024-12-04 17:17:24",
         "2024-12-04",
         7997,
         [
          "Electronics",
          [
           "Sony",
           "Black"
          ],
          4,
          "Smartwatch",
          299,
          3
         ]
        ],
        [
         71,
         "Completed",
         "Bank Transfer",
         199,
         "2024-12-27 11:16:39",
         "2024-12-27",
         7997,
         [
          "Electronics",
          [
           "Microsoft",
           "Black"
          ],
          3,
          "Wireless Headphones",
          199,
          1
         ]
        ],
        [
         74,
         "Pending",
         "PayPal",
         699,
         "2024-12-22 15:54:11",
         "2024-12-22",
         6167,
         [
          "Electronics",
          [
           "Samsung",
           "Blue"
          ],
          1,
          "Smartphone",
          699,
          1
         ]
        ],
        [
         80,
         "Cancelled",
         "Bank Transfer",
         998,
         "2024-12-11 07:43:54",
         "2024-12-11",
         9687,
         [
          "Electronics",
          [
           "Samsung",
           "White"
          ],
          8,
          "Gaming Console",
          499,
          2
         ]
        ],
        [
         81,
         "Completed",
         "PayPal",
         699,
         "2024-12-27 02:27:45",
         "2024-12-27",
         9687,
         [
          "Electronics",
          [
           "GoPro",
           "Blue"
          ],
          1,
          "Smartphone",
          699,
          1
         ]
        ],
        [
         82,
         "Completed",
         "PayPal",
         387,
         "2024-12-28 00:54:08",
         "2024-12-28",
         2344,
         [
          "Electronics",
          [
           "Sony",
           "Blue"
          ],
          7,
          "External Hard Drive",
          129,
          3
         ]
        ],
        [
         91,
         "Cancelled",
         "Bank Transfer",
         699,
         "2024-12-17 00:09:53",
         "2024-12-17",
         5592,
         [
          "Electronics",
          [
           "Canon",
           "Silver"
          ],
          1,
          "Smartphone",
          699,
          1
         ]
        ],
        [
         93,
         "Pending",
         "PayPal",
         598,
         "2024-12-22 05:07:46",
         "2024-12-22",
         6627,
         [
          "Electronics",
          [
           "LG",
           "Silver"
          ],
          4,
          "Smartwatch",
          299,
          2
         ]
        ],
        [
         95,
         "Completed",
         "Bank Transfer",
         946,
         "2024-12-28 04:28:30",
         "2024-12-28",
         6627,
         [
          "Electronics",
          [
           "GoPro",
           "White"
          ],
          4,
          "Smartwatch",
          299,
          2
         ]
        ],
        [
         95,
         "Completed",
         "Bank Transfer",
         946,
         "2024-12-28 04:28:30",
         "2024-12-28",
         6627,
         [
          "Electronics",
          [
           "Bose",
           "Gray"
          ],
          3,
          "Wireless Headphones",
          199,
          1
         ]
        ],
        [
         95,
         "Completed",
         "Bank Transfer",
         946,
         "2024-12-28 04:28:30",
         "2024-12-28",
         6627,
         [
          "Electronics",
          [
           "Dell",
           "Silver"
          ],
          6,
          "Bluetooth Speaker",
          149,
          1
         ]
        ],
        [
         96,
         "Shipped",
         "PayPal",
         149,
         "2024-12-02 12:27:45",
         "2024-12-02",
         6406,
         [
          "Electronics",
          [
           "Microsoft",
           "Black"
          ],
          6,
          "Bluetooth Speaker",
          149,
          1
         ]
        ],
        [
         97,
         "Completed",
         "Bank Transfer",
         499,
         "2024-12-07 16:14:34",
         "2024-12-07",
         6406,
         [
          "Electronics",
          [
           "Sony",
           "Silver"
          ],
          8,
          "Gaming Console",
          499,
          1
         ]
        ],
        [
         5,
         "Cancelled",
         "Bank Transfer",
         998,
         "2024-11-16 23:07:31",
         "2024-11-16",
         3892,
         [
          "Electronics",
          [
           "Dell",
           "Blue"
          ],
          8,
          "Gaming Console",
          499,
          2
         ]
        ],
        [
         7,
         "Pending",
         "Credit Card",
         645,
         "2024-11-19 19:18:48",
         "2024-11-19",
         1987,
         [
          "Electronics",
          [
           "LG",
           "Blue"
          ],
          7,
          "External Hard Drive",
          129,
          2
         ]
        ],
        [
         7,
         "Pending",
         "Credit Card",
         645,
         "2024-11-19 19:18:48",
         "2024-11-19",
         1987,
         [
          "Electronics",
          [
           "HP",
           "Gray"
          ],
          7,
          "External Hard Drive",
          129,
          3
         ]
        ],
        [
         9,
         "Shipped",
         "Bank Transfer",
         999,
         "2024-11-27 13:15:29",
         "2024-11-27",
         9179,
         [
          "Electronics",
          [
           "Apple",
           "Black"
          ],
          2,
          "Laptop",
          999,
          1
         ]
        ],
        [
         20,
         "Pending",
         "PayPal",
         798,
         "2024-11-18 02:38:21",
         "2024-11-18",
         8539,
         [
          "Electronics",
          [
           "Sony",
           "Silver"
          ],
          5,
          "Tablet",
          399,
          2
         ]
        ],
        [
         21,
         "Cancelled",
         "Bank Transfer",
         298,
         "2024-11-21 11:25:35",
         "2024-11-21",
         8539,
         [
          "Electronics",
          [
           "GoPro",
           "Blue"
          ],
          6,
          "Bluetooth Speaker",
          149,
          2
         ]
        ],
        [
         23,
         "Shipped",
         "PayPal",
         997,
         "2024-11-22 16:04:05",
         "2024-11-22",
         4761,
         [
          "Electronics",
          [
           "Apple",
           "Gray"
          ],
          5,
          "Tablet",
          399,
          1
         ]
        ],
        [
         23,
         "Shipped",
         "PayPal",
         997,
         "2024-11-22 16:04:05",
         "2024-11-22",
         4761,
         [
          "Electronics",
          [
           "Dell",
           "Gray"
          ],
          4,
          "Smartwatch",
          299,
          2
         ]
        ],
        [
         25,
         "Completed",
         "PayPal",
         999,
         "2024-11-05 11:45:31",
         "2024-11-05",
         9706,
         [
          "Electronics",
          [
           "LG",
           "Gray"
          ],
          2,
          "Laptop",
          999,
          1
         ]
        ],
        [
         30,
         "Shipped",
         "Bank Transfer",
         199,
         "2024-11-12 03:20:29",
         "2024-11-12",
         4996,
         [
          "Electronics",
          [
           "GoPro",
           "White"
          ],
          3,
          "Wireless Headphones",
          199,
          1
         ]
        ],
        [
         35,
         "Shipped",
         "Bank Transfer",
         199,
         "2024-11-20 19:09:04",
         "2024-11-20",
         4914,
         [
          "Electronics",
          [
           "Dell",
           "Gray"
          ],
          3,
          "Wireless Headphones",
          199,
          1
         ]
        ],
        [
         36,
         "Completed",
         "PayPal",
         199,
         "2024-11-02 10:39:46",
         "2024-11-02",
         4914,
         [
          "Electronics",
          [
           "Canon",
           "Silver"
          ],
          3,
          "Wireless Headphones",
          199,
          1
         ]
        ],
        [
         42,
         "Completed",
         "Credit Card",
         149,
         "2024-11-08 18:32:25",
         "2024-11-08",
         5028,
         [
          "Electronics",
          [
           "Bose",
           "Gray"
          ],
          6,
          "Bluetooth Speaker",
          149,
          1
         ]
        ],
        [
         45,
         "Shipped",
         "Credit Card",
         799,
         "2024-11-07 15:41:43",
         "2024-11-07",
         7295,
         [
          "Electronics",
          [
           "Dell",
           "White"
          ],
          10,
          "Drone",
          799,
          1
         ]
        ],
        [
         46,
         "Pending",
         "PayPal",
         199,
         "2024-11-26 17:16:53",
         "2024-11-26",
         7295,
         [
          "Electronics",
          [
           "Samsung",
           "Black"
          ],
          3,
          "Wireless Headphones",
          199,
          1
         ]
        ],
        [
         47,
         "Shipped",
         "Credit Card",
         298,
         "2024-11-22 02:01:19",
         "2024-11-22",
         7803,
         [
          "Electronics",
          [
           "LG",
           "Blue"
          ],
          6,
          "Bluetooth Speaker",
          149,
          2
         ]
        ],
        [
         48,
         "Completed",
         "PayPal",
         387,
         "2024-11-13 06:35:56",
         "2024-11-13",
         7803,
         [
          "Electronics",
          [
           "Apple",
           "Black"
          ],
          7,
          "External Hard Drive",
          129,
          3
         ]
        ],
        [
         52,
         "Completed",
         "PayPal",
         998,
         "2024-11-19 21:23:45",
         "2024-11-19",
         8845,
         [
          "Electronics",
          [
           "GoPro",
           "White"
          ],
          8,
          "Gaming Console",
          499,
          2
         ]
        ],
        [
         57,
         "Cancelled",
         "Bank Transfer",
         586,
         "2024-11-19 11:32:44",
         "2024-11-19",
         8580,
         [
          "Electronics",
          [
           "HP",
           "Silver"
          ],
          3,
          "Wireless Headphones",
          199,
          1
         ]
        ],
        [
         57,
         "Cancelled",
         "Bank Transfer",
         586,
         "2024-11-19 11:32:44",
         "2024-11-19",
         8580,
         [
          "Electronics",
          [
           "Sony",
           "Silver"
          ],
          7,
          "External Hard Drive",
          129,
          3
         ]
        ],
        [
         63,
         "Cancelled",
         "Bank Transfer",
         646,
         "2024-11-24 08:41:28",
         "2024-11-24",
         7123,
         [
          "Electronics",
          [
           "GoPro",
           "Blue"
          ],
          3,
          "Wireless Headphones",
          199,
          1
         ]
        ],
        [
         63,
         "Cancelled",
         "Bank Transfer",
         646,
         "2024-11-24 08:41:28",
         "2024-11-24",
         7123,
         [
          "Electronics",
          [
           "Bose",
           "Silver"
          ],
          6,
          "Bluetooth Speaker",
          149,
          3
         ]
        ],
        [
         64,
         "Completed",
         "Bank Transfer",
         984,
         "2024-11-28 12:23:21",
         "2024-11-28",
         2639,
         [
          "Electronics",
          [
           "Microsoft",
           "White"
          ],
          7,
          "External Hard Drive",
          129,
          3
         ]
        ],
        [
         64,
         "Completed",
         "Bank Transfer",
         984,
         "2024-11-28 12:23:21",
         "2024-11-28",
         2639,
         [
          "Electronics",
          [
           "Canon",
           "Blue"
          ],
          3,
          "Wireless Headphones",
          199,
          3
         ]
        ],
        [
         88,
         "Cancelled",
         "Bank Transfer",
         387,
         "2024-11-15 11:39:44",
         "2024-11-15",
         9247,
         [
          "Electronics",
          [
           "Bose",
           "White"
          ],
          7,
          "External Hard Drive",
          129,
          3
         ]
        ],
        [
         89,
         "Cancelled",
         "Bank Transfer",
         149,
         "2024-11-22 12:09:15",
         "2024-11-22",
         9247,
         [
          "Electronics",
          [
           "GoPro",
           "Silver"
          ],
          6,
          "Bluetooth Speaker",
          149,
          1
         ]
        ],
        [
         92,
         "Shipped",
         "PayPal",
         258,
         "2024-11-24 23:33:21",
         "2024-11-24",
         5592,
         [
          "Electronics",
          [
           "Sony",
           "Black"
          ],
          7,
          "External Hard Drive",
          129,
          2
         ]
        ],
        [
         6,
         "Pending",
         "Credit Card",
         799,
         "2024-10-28 04:47:27",
         "2024-10-28",
         1987,
         [
          "Electronics",
          [
           "GoPro",
           "Black"
          ],
          10,
          "Drone",
          799,
          1
         ]
        ],
        [
         10,
         "Pending",
         "Credit Card",
         399,
         "2024-10-07 22:09:27",
         "2024-10-07",
         5816,
         [
          "Electronics",
          [
           "GoPro",
           "White"
          ],
          5,
          "Tablet",
          399,
          1
         ]
        ],
        [
         11,
         "Pending",
         "Bank Transfer",
         897,
         "2024-10-13 17:34:19",
         "2024-10-13",
         5816,
         [
          "Electronics",
          [
           "Canon",
           "White"
          ],
          4,
          "Smartwatch",
          299,
          3
         ]
        ],
        [
         15,
         "Completed",
         "Bank Transfer",
         1199,
         "2024-10-20 01:47:25",
         "2024-10-20",
         7207,
         [
          "Electronics",
          [
           "GoPro",
           "White"
          ],
          9,
          "Smart TV",
          1199,
          1
         ]
        ],
        [
         19,
         "Shipped",
         "PayPal",
         499,
         "2024-10-13 12:40:26",
         "2024-10-13",
         8539,
         [
          "Electronics",
          [
           "Dell",
           "Silver"
          ],
          8,
          "Gaming Console",
          499,
          1
         ]
        ],
        [
         39,
         "Shipped",
         "PayPal",
         387,
         "2024-10-29 21:39:19",
         "2024-10-29",
         9263,
         [
          "Electronics",
          [
           "Sony",
           "Black"
          ],
          7,
          "External Hard Drive",
          129,
          3
         ]
        ],
        [
         55,
         "Shipped",
         "Bank Transfer",
         699,
         "2024-10-25 05:49:16",
         "2024-10-25",
         9018,
         [
          "Electronics",
          [
           "HP",
           "Black"
          ],
          1,
          "Smartphone",
          699,
          1
         ]
        ],
        [
         59,
         "Pending",
         "PayPal",
         499,
         "2024-10-23 02:51:05",
         "2024-10-23",
         3409,
         [
          "Electronics",
          [
           "Dell",
           "Black"
          ],
          8,
          "Gaming Console",
          499,
          1
         ]
        ],
        [
         72,
         "Cancelled",
         "PayPal",
         328,
         "2024-10-06 10:23:28",
         "2024-10-06",
         3889,
         [
          "Electronics",
          [
           "Microsoft",
           "Gray"
          ],
          3,
          "Wireless Headphones",
          199,
          1
         ]
        ],
        [
         72,
         "Cancelled",
         "PayPal",
         328,
         "2024-10-06 10:23:28",
         "2024-10-06",
         3889,
         [
          "Electronics",
          [
           "Samsung",
           "Silver"
          ],
          7,
          "External Hard Drive",
          129,
          1
         ]
        ],
        [
         77,
         "Pending",
         "Credit Card",
         398,
         "2024-10-15 13:09:33",
         "2024-10-15",
         9084,
         [
          "Electronics",
          [
           "HP",
           "Silver"
          ],
          3,
          "Wireless Headphones",
          199,
          2
         ]
        ],
        [
         84,
         "Completed",
         "PayPal",
         998,
         "2024-10-25 03:37:42",
         "2024-10-25",
         2344,
         [
          "Electronics",
          [
           "Sony",
           "Black"
          ],
          10,
          "Drone",
          799,
          1
         ]
        ],
        [
         84,
         "Completed",
         "PayPal",
         998,
         "2024-10-25 03:37:42",
         "2024-10-25",
         2344,
         [
          "Electronics",
          [
           "LG",
           "Black"
          ],
          3,
          "Wireless Headphones",
          199,
          1
         ]
        ],
        [
         85,
         "Shipped",
         "Bank Transfer",
         998,
         "2024-10-23 20:06:42",
         "2024-10-23",
         5011,
         [
          "Electronics",
          [
           "GoPro",
           "Black"
          ],
          8,
          "Gaming Console",
          499,
          2
         ]
        ],
        [
         86,
         "Completed",
         "PayPal",
         1199,
         "2024-10-19 13:30:47",
         "2024-10-19",
         5011,
         [
          "Electronics",
          [
           "Dell",
           "White"
          ],
          9,
          "Smart TV",
          1199,
          1
         ]
        ]
       ],
       "datasetInfos": [],
       "dbfsResultPath": null,
       "isJsonSchema": true,
       "metadata": {},
       "overflow": false,
       "plotOptions": {
        "customPlotOptions": {},
        "displayType": "table",
        "pivotAggregation": null,
        "pivotColumns": null,
        "xColumns": null,
        "yColumns": null
       },
       "removedWidgets": [],
       "schema": [
        {
         "metadata": "{}",
         "name": "order_id",
         "type": "\"long\""
        },
        {
         "metadata": "{}",
         "name": "order_status",
         "type": "\"string\""
        },
        {
         "metadata": "{}",
         "name": "payment_method",
         "type": "\"string\""
        },
        {
         "metadata": "{}",
         "name": "total_amount",
         "type": "\"long\""
        },
        {
         "metadata": "{}",
         "name": "transaction_timestamp",
         "type": "\"string\""
        },
        {
         "metadata": "{}",
         "name": "order_date",
         "type": "\"string\""
        },
        {
         "metadata": "{}",
         "name": "customer_id",
         "type": "\"long\""
        },
        {
         "metadata": "{}",
         "name": "item",
         "type": "{\"type\":\"struct\",\"fields\":[{\"name\":\"category\",\"type\":\"string\",\"nullable\":true,\"metadata\":{}},{\"name\":\"details\",\"type\":{\"type\":\"struct\",\"fields\":[{\"name\":\"brand\",\"type\":\"string\",\"nullable\":true,\"metadata\":{}},{\"name\":\"color\",\"type\":\"string\",\"nullable\":true,\"metadata\":{}}]},\"nullable\":true,\"metadata\":{}},{\"name\":\"item_id\",\"type\":\"long\",\"nullable\":true,\"metadata\":{}},{\"name\":\"name\",\"type\":\"string\",\"nullable\":true,\"metadata\":{}},{\"name\":\"price\",\"type\":\"long\",\"nullable\":true,\"metadata\":{}},{\"name\":\"quantity\",\"type\":\"long\",\"nullable\":true,\"metadata\":{}}]}"
        }
       ],
       "type": "table"
      }
     },
     "output_type": "display_data"
    }
   ],
   "source": [
    "select * from tv_orders_exploded"
   ]
  },
  {
   "cell_type": "code",
   "execution_count": 0,
   "metadata": {
    "application/vnd.databricks.v1+cell": {
     "cellMetadata": {
      "byteLimit": 2048000,
      "rowLimit": 10000
     },
     "inputWidgets": {},
     "nuid": "c9d4c6d8-76f3-4db0-ae68-f605b07dc2e7",
     "showTitle": false,
     "tableResultSettingsMap": {},
     "title": ""
    }
   },
   "outputs": [
    {
     "output_type": "display_data",
     "data": {
      "text/html": [
       "<style scoped>\n",
       "  .table-result-container {\n",
       "    max-height: 300px;\n",
       "    overflow: auto;\n",
       "  }\n",
       "  table, th, td {\n",
       "    border: 1px solid black;\n",
       "    border-collapse: collapse;\n",
       "  }\n",
       "  th, td {\n",
       "    padding: 5px;\n",
       "  }\n",
       "  th {\n",
       "    text-align: left;\n",
       "  }\n",
       "</style><div class='table-result-container'><table class='table-result'><thead style='background-color: white'><tr><th>order_id</th><th>order_status</th><th>payment_method</th><th>total_amount</th><th>transaction_timestamp</th><th>order_date</th><th>customer_id</th><th>item_id</th><th>name</th><th>category</th><th>price</th><th>quantity</th><th>brand</th><th>color</th></tr></thead><tbody><tr><td>1</td><td>Completed</td><td>Bank Transfer</td><td>499</td><td>2025-01-05 10:13:59</td><td>2025-01-05</td><td>6973</td><td>8</td><td>Gaming Console</td><td>Electronics</td><td>499</td><td>1</td><td>Sony</td><td>Blue</td></tr><tr><td>2</td><td>Cancelled</td><td>PayPal</td><td>985</td><td>2025-01-19 00:05:13</td><td>2025-01-19</td><td>3532</td><td>4</td><td>Smartwatch</td><td>Electronics</td><td>299</td><td>2</td><td>Canon</td><td>Gray</td></tr><tr><td>2</td><td>Cancelled</td><td>PayPal</td><td>985</td><td>2025-01-19 00:05:13</td><td>2025-01-19</td><td>3532</td><td>7</td><td>External Hard Drive</td><td>Electronics</td><td>129</td><td>3</td><td>Dell</td><td>Blue</td></tr><tr><td>3</td><td>Completed</td><td>Bank Transfer</td><td>597</td><td>2025-01-08 23:11:00</td><td>2025-01-08</td><td>3532</td><td>3</td><td>Wireless Headphones</td><td>Electronics</td><td>199</td><td>3</td><td>Apple</td><td>White</td></tr><tr><td>4</td><td>Cancelled</td><td>Bank Transfer</td><td>999</td><td>2025-01-05 05:49:26</td><td>2025-01-05</td><td>3532</td><td>2</td><td>Laptop</td><td>Electronics</td><td>999</td><td>1</td><td>Microsoft</td><td>Black</td></tr><tr><td>8</td><td>Completed</td><td>PayPal</td><td>399</td><td>2025-01-02 13:11:15</td><td>2025-01-02</td><td>9179</td><td>5</td><td>Tablet</td><td>Electronics</td><td>399</td><td>1</td><td>LG</td><td>White</td></tr><tr><td>14</td><td>Cancelled</td><td>PayPal</td><td>597</td><td>2025-01-01 18:22:26</td><td>2025-01-01</td><td>7207</td><td>3</td><td>Wireless Headphones</td><td>Electronics</td><td>199</td><td>3</td><td>Bose</td><td>Blue</td></tr><tr><td>18</td><td>Pending</td><td>Credit Card</td><td>799</td><td>2025-01-22 21:12:08</td><td>2025-01-22</td><td>4468</td><td>10</td><td>Drone</td><td>Electronics</td><td>799</td><td>1</td><td>Dell</td><td>Black</td></tr><tr><td>22</td><td>Pending</td><td>PayPal</td><td>199</td><td>2025-01-01 15:49:19</td><td>2025-01-01</td><td>4761</td><td>3</td><td>Wireless Headphones</td><td>Electronics</td><td>199</td><td>1</td><td>HP</td><td>Silver</td></tr><tr><td>26</td><td>Shipped</td><td>Bank Transfer</td><td>699</td><td>2025-01-05 19:01:25</td><td>2025-01-05</td><td>7007</td><td>1</td><td>Smartphone</td><td>Electronics</td><td>699</td><td>1</td><td>Samsung</td><td>Silver</td></tr><tr><td>29</td><td>Pending</td><td>Bank Transfer</td><td>129</td><td>2025-01-18 03:05:04</td><td>2025-01-18</td><td>5953</td><td>7</td><td>External Hard Drive</td><td>Electronics</td><td>129</td><td>1</td><td>Bose</td><td>Gray</td></tr><tr><td>31</td><td>Shipped</td><td>Bank Transfer</td><td>299</td><td>2025-01-18 03:13:29</td><td>2025-01-18</td><td>4996</td><td>4</td><td>Smartwatch</td><td>Electronics</td><td>299</td><td>1</td><td>Dell</td><td>White</td></tr><tr><td>33</td><td>Completed</td><td>PayPal</td><td>897</td><td>2025-01-13 04:47:43</td><td>2025-01-13</td><td>9605</td><td>4</td><td>Smartwatch</td><td>Electronics</td><td>299</td><td>3</td><td>Canon</td><td>White</td></tr><tr><td>34</td><td>Cancelled</td><td>PayPal</td><td>926</td><td>2025-01-21 00:25:01</td><td>2025-01-21</td><td>9605</td><td>6</td><td>Bluetooth Speaker</td><td>Electronics</td><td>149</td><td>2</td><td>Bose</td><td>Silver</td></tr><tr><td>34</td><td>Cancelled</td><td>PayPal</td><td>926</td><td>2025-01-21 00:25:01</td><td>2025-01-21</td><td>9605</td><td>8</td><td>Gaming Console</td><td>Electronics</td><td>499</td><td>1</td><td>LG</td><td>Black</td></tr><tr><td>34</td><td>Cancelled</td><td>PayPal</td><td>926</td><td>2025-01-21 00:25:01</td><td>2025-01-21</td><td>9605</td><td>7</td><td>External Hard Drive</td><td>Electronics</td><td>129</td><td>1</td><td>Samsung</td><td>Black</td></tr><tr><td>40</td><td>Completed</td><td>PayPal</td><td>298</td><td>2025-01-20 16:18:35</td><td>2025-01-20</td><td>6384</td><td>6</td><td>Bluetooth Speaker</td><td>Electronics</td><td>149</td><td>2</td><td>Bose</td><td>Silver</td></tr><tr><td>41</td><td>Shipped</td><td>Credit Card</td><td>999</td><td>2025-01-05 06:10:22</td><td>2025-01-05</td><td>6384</td><td>2</td><td>Laptop</td><td>Electronics</td><td>999</td><td>1</td><td>Sony</td><td>Silver</td></tr><tr><td>43</td><td>Pending</td><td>PayPal</td><td>499</td><td>2025-01-24 18:10:37</td><td>2025-01-24</td><td>5028</td><td>8</td><td>Gaming Console</td><td>Electronics</td><td>499</td><td>1</td><td>LG</td><td>Black</td></tr><tr><td>50</td><td>Shipped</td><td>Credit Card</td><td>746</td><td>2025-01-11 01:19:09</td><td>2025-01-11</td><td>3712</td><td>6</td><td>Bluetooth Speaker</td><td>Electronics</td><td>149</td><td>3</td><td>Apple</td><td>Gray</td></tr><tr><td>50</td><td>Shipped</td><td>Credit Card</td><td>746</td><td>2025-01-11 01:19:09</td><td>2025-01-11</td><td>3712</td><td>4</td><td>Smartwatch</td><td>Electronics</td><td>299</td><td>1</td><td>Sony</td><td>White</td></tr><tr><td>51</td><td>Completed</td><td>PayPal</td><td>149</td><td>2025-01-21 13:19:59</td><td>2025-01-21</td><td>8845</td><td>6</td><td>Bluetooth Speaker</td><td>Electronics</td><td>149</td><td>1</td><td>Samsung</td><td>Gray</td></tr><tr><td>53</td><td>Pending</td><td>Bank Transfer</td><td>199</td><td>2025-01-21 08:31:02</td><td>2025-01-21</td><td>8845</td><td>3</td><td>Wireless Headphones</td><td>Electronics</td><td>199</td><td>1</td><td>Apple</td><td>Black</td></tr><tr><td>56</td><td>Cancelled</td><td>PayPal</td><td>698</td><td>2025-01-01 12:02:41</td><td>2025-01-01</td><td>8580</td><td>3</td><td>Wireless Headphones</td><td>Electronics</td><td>199</td><td>1</td><td>HP</td><td>Silver</td></tr><tr><td>56</td><td>Cancelled</td><td>PayPal</td><td>698</td><td>2025-01-01 12:02:41</td><td>2025-01-01</td><td>8580</td><td>8</td><td>Gaming Console</td><td>Electronics</td><td>499</td><td>1</td><td>LG</td><td>Gray</td></tr><tr><td>62</td><td>Completed</td><td>Bank Transfer</td><td>985</td><td>2025-01-24 12:00:54</td><td>2025-01-24</td><td>7123</td><td>7</td><td>External Hard Drive</td><td>Electronics</td><td>129</td><td>3</td><td>Dell</td><td>White</td></tr><tr><td>62</td><td>Completed</td><td>Bank Transfer</td><td>985</td><td>2025-01-24 12:00:54</td><td>2025-01-24</td><td>7123</td><td>4</td><td>Smartwatch</td><td>Electronics</td><td>299</td><td>2</td><td>GoPro</td><td>Blue</td></tr><tr><td>66</td><td>Cancelled</td><td>Credit Card</td><td>598</td><td>2025-01-17 21:16:11</td><td>2025-01-17</td><td>3084</td><td>4</td><td>Smartwatch</td><td>Electronics</td><td>299</td><td>1</td><td>Bose</td><td>Silver</td></tr><tr><td>66</td><td>Cancelled</td><td>Credit Card</td><td>598</td><td>2025-01-17 21:16:11</td><td>2025-01-17</td><td>3084</td><td>4</td><td>Smartwatch</td><td>Electronics</td><td>299</td><td>1</td><td>GoPro</td><td>White</td></tr><tr><td>68</td><td>Completed</td><td>Bank Transfer</td><td>149</td><td>2025-01-10 20:35:43</td><td>2025-01-10</td><td>4973</td><td>6</td><td>Bluetooth Speaker</td><td>Electronics</td><td>149</td><td>1</td><td>Bose</td><td>Gray</td></tr><tr><td>73</td><td>Shipped</td><td>Credit Card</td><td>387</td><td>2025-01-07 01:02:26</td><td>2025-01-07</td><td>6167</td><td>7</td><td>External Hard Drive</td><td>Electronics</td><td>129</td><td>3</td><td>GoPro</td><td>Gray</td></tr><tr><td>75</td><td>Shipped</td><td>Credit Card</td><td>699</td><td>2025-01-19 16:23:16</td><td>2025-01-19</td><td>6167</td><td>1</td><td>Smartphone</td><td>Electronics</td><td>699</td><td>1</td><td>GoPro</td><td>White</td></tr><tr><td>76</td><td>Completed</td><td>Bank Transfer</td><td>399</td><td>2025-01-06 02:54:39</td><td>2025-01-06</td><td>3295</td><td>5</td><td>Tablet</td><td>Electronics</td><td>399</td><td>1</td><td>Microsoft</td><td>Silver</td></tr><tr><td>78</td><td>Cancelled</td><td>PayPal</td><td>798</td><td>2025-01-21 11:42:51</td><td>2025-01-21</td><td>9084</td><td>5</td><td>Tablet</td><td>Electronics</td><td>399</td><td>2</td><td>Dell</td><td>White</td></tr><tr><td>79</td><td>Cancelled</td><td>Credit Card</td><td>998</td><td>2025-01-25 03:52:05</td><td>2025-01-25</td><td>9084</td><td>8</td><td>Gaming Console</td><td>Electronics</td><td>499</td><td>2</td><td>Dell</td><td>Gray</td></tr><tr><td>83</td><td>Shipped</td><td>PayPal</td><td>785</td><td>2025-01-07 12:48:05</td><td>2025-01-07</td><td>2344</td><td>7</td><td>External Hard Drive</td><td>Electronics</td><td>129</td><td>3</td><td>Canon</td><td>Gray</td></tr><tr><td>83</td><td>Shipped</td><td>PayPal</td><td>785</td><td>2025-01-07 12:48:05</td><td>2025-01-07</td><td>2344</td><td>3</td><td>Wireless Headphones</td><td>Electronics</td><td>199</td><td>2</td><td>Sony</td><td>Black</td></tr><tr><td>87</td><td>Pending</td><td>PayPal</td><td>129</td><td>2025-01-02 04:28:38</td><td>2025-01-02</td><td>2141</td><td>7</td><td>External Hard Drive</td><td>Electronics</td><td>129</td><td>1</td><td>Apple</td><td>Blue</td></tr><tr><td>90</td><td>Pending</td><td>Credit Card</td><td>258</td><td>2025-01-17 14:30:54</td><td>2025-01-17</td><td>9247</td><td>7</td><td>External Hard Drive</td><td>Electronics</td><td>129</td><td>1</td><td>Canon</td><td>White</td></tr><tr><td>90</td><td>Pending</td><td>Credit Card</td><td>258</td><td>2025-01-17 14:30:54</td><td>2025-01-17</td><td>9247</td><td>7</td><td>External Hard Drive</td><td>Electronics</td><td>129</td><td>1</td><td>Samsung</td><td>Black</td></tr><tr><td>94</td><td>Pending</td><td>Credit Card</td><td>895</td><td>2025-01-10 09:51:48</td><td>2025-01-10</td><td>6627</td><td>6</td><td>Bluetooth Speaker</td><td>Electronics</td><td>149</td><td>2</td><td>Sony</td><td>Black</td></tr><tr><td>94</td><td>Pending</td><td>Credit Card</td><td>895</td><td>2025-01-10 09:51:48</td><td>2025-01-10</td><td>6627</td><td>3</td><td>Wireless Headphones</td><td>Electronics</td><td>199</td><td>3</td><td>Apple</td><td>Blue</td></tr><tr><td>98</td><td>Completed</td><td>Credit Card</td><td>985</td><td>2025-01-08 05:57:55</td><td>2025-01-08</td><td>9150</td><td>7</td><td>External Hard Drive</td><td>Electronics</td><td>129</td><td>3</td><td>HP</td><td>Blue</td></tr><tr><td>98</td><td>Completed</td><td>Credit Card</td><td>985</td><td>2025-01-08 05:57:55</td><td>2025-01-08</td><td>9150</td><td>4</td><td>Smartwatch</td><td>Electronics</td><td>299</td><td>2</td><td>Samsung</td><td>Gray</td></tr><tr><td>99</td><td>Shipped</td><td>Credit Card</td><td>699</td><td>2025-01-10 21:43:46</td><td>2025-01-10</td><td>9150</td><td>1</td><td>Smartphone</td><td>Electronics</td><td>699</td><td>1</td><td>Bose</td><td>Gray</td></tr><tr><td>100</td><td>Shipped</td><td>PayPal</td><td>447</td><td>2025-01-04 06:40:13</td><td>2025-01-04</td><td>9150</td><td>6</td><td>Bluetooth Speaker</td><td>Electronics</td><td>149</td><td>3</td><td>LG</td><td>Silver</td></tr><tr><td>12</td><td>Cancelled</td><td>PayPal</td><td>999</td><td>2024-12-06 20:26:49</td><td>2024-12-06</td><td>5816</td><td>2</td><td>Laptop</td><td>Electronics</td><td>999</td><td>1</td><td>Sony</td><td>White</td></tr><tr><td>13</td><td>Pending</td><td>PayPal</td><td>999</td><td>2024-12-17 03:41:37</td><td>2024-12-17</td><td>4858</td><td>2</td><td>Laptop</td><td>Electronics</td><td>999</td><td>1</td><td>GoPro</td><td>Black</td></tr><tr><td>16</td><td>Pending</td><td>Bank Transfer</td><td>597</td><td>2024-12-08 22:59:48</td><td>2024-12-08</td><td>5204</td><td>3</td><td>Wireless Headphones</td><td>Electronics</td><td>199</td><td>3</td><td>Sony</td><td>Silver</td></tr><tr><td>17</td><td>Pending</td><td>Bank Transfer</td><td>998</td><td>2024-12-02 12:00:50</td><td>2024-12-02</td><td>5204</td><td>8</td><td>Gaming Console</td><td>Electronics</td><td>499</td><td>2</td><td>Dell</td><td>Black</td></tr><tr><td>24</td><td>Completed</td><td>PayPal</td><td>1199</td><td>2024-12-21 03:24:26</td><td>2024-12-21</td><td>1211</td><td>9</td><td>Smart TV</td><td>Electronics</td><td>1199</td><td>1</td><td>GoPro</td><td>Gray</td></tr><tr><td>27</td><td>Completed</td><td>Credit Card</td><td>904</td><td>2024-12-02 11:24:21</td><td>2024-12-02</td><td>2703</td><td>7</td><td>External Hard Drive</td><td>Electronics</td><td>129</td><td>2</td><td>Dell</td><td>White</td></tr><tr><td>27</td><td>Completed</td><td>Credit Card</td><td>904</td><td>2024-12-02 11:24:21</td><td>2024-12-02</td><td>2703</td><td>6</td><td>Bluetooth Speaker</td><td>Electronics</td><td>149</td><td>3</td><td>Canon</td><td>Black</td></tr><tr><td>27</td><td>Completed</td><td>Credit Card</td><td>904</td><td>2024-12-02 11:24:21</td><td>2024-12-02</td><td>2703</td><td>3</td><td>Wireless Headphones</td><td>Electronics</td><td>199</td><td>1</td><td>Microsoft</td><td>Silver</td></tr><tr><td>28</td><td>Cancelled</td><td>Credit Card</td><td>129</td><td>2024-12-26 03:17:50</td><td>2024-12-26</td><td>2703</td><td>7</td><td>External Hard Drive</td><td>Electronics</td><td>129</td><td>1</td><td>GoPro</td><td>Blue</td></tr><tr><td>32</td><td>Pending</td><td>PayPal</td><td>399</td><td>2024-12-28 08:55:57</td><td>2024-12-28</td><td>4996</td><td>5</td><td>Tablet</td><td>Electronics</td><td>399</td><td>1</td><td>Apple</td><td>Silver</td></tr><tr><td>37</td><td>Shipped</td><td>Credit Card</td><td>258</td><td>2024-12-22 10:11:49</td><td>2024-12-22</td><td>7829</td><td>7</td><td>External Hard Drive</td><td>Electronics</td><td>129</td><td>2</td><td>HP</td><td>Silver</td></tr><tr><td>38</td><td>Shipped</td><td>Credit Card</td><td>447</td><td>2024-12-25 22:05:19</td><td>2024-12-25</td><td>7829</td><td>6</td><td>Bluetooth Speaker</td><td>Electronics</td><td>149</td><td>3</td><td>Apple</td><td>Gray</td></tr><tr><td>44</td><td>Completed</td><td>Credit Card</td><td>129</td><td>2024-12-20 08:05:43</td><td>2024-12-20</td><td>7295</td><td>7</td><td>External Hard Drive</td><td>Electronics</td><td>129</td><td>1</td><td>Bose</td><td>Blue</td></tr><tr><td>49</td><td>Cancelled</td><td>PayPal</td><td>747</td><td>2024-12-07 23:24:11</td><td>2024-12-07</td><td>7803</td><td>4</td><td>Smartwatch</td><td>Electronics</td><td>299</td><td>1</td><td>HP</td><td>White</td></tr><tr><td>49</td><td>Cancelled</td><td>PayPal</td><td>747</td><td>2024-12-07 23:24:11</td><td>2024-12-07</td><td>7803</td><td>4</td><td>Smartwatch</td><td>Electronics</td><td>299</td><td>1</td><td>Canon</td><td>Blue</td></tr><tr><td>49</td><td>Cancelled</td><td>PayPal</td><td>747</td><td>2024-12-07 23:24:11</td><td>2024-12-07</td><td>7803</td><td>6</td><td>Bluetooth Speaker</td><td>Electronics</td><td>149</td><td>1</td><td>Samsung</td><td>White</td></tr><tr><td>54</td><td>Pending</td><td>Credit Card</td><td>398</td><td>2024-12-20 12:04:27</td><td>2024-12-20</td><td>2054</td><td>3</td><td>Wireless Headphones</td><td>Electronics</td><td>199</td><td>2</td><td>Bose</td><td>Gray</td></tr><tr><td>58</td><td>Completed</td><td>PayPal</td><td>699</td><td>2024-12-09 22:40:58</td><td>2024-12-09</td><td>8580</td><td>1</td><td>Smartphone</td><td>Electronics</td><td>699</td><td>1</td><td>Microsoft</td><td>Gray</td></tr><tr><td>60</td><td>Shipped</td><td>Bank Transfer</td><td>199</td><td>2024-12-13 13:10:12</td><td>2024-12-13</td><td>3409</td><td>3</td><td>Wireless Headphones</td><td>Electronics</td><td>199</td><td>1</td><td>Samsung</td><td>Blue</td></tr><tr><td>61</td><td>Completed</td><td>Bank Transfer</td><td>699</td><td>2024-12-07 07:47:19</td><td>2024-12-07</td><td>7123</td><td>1</td><td>Smartphone</td><td>Electronics</td><td>699</td><td>1</td><td>Canon</td><td>Black</td></tr><tr><td>65</td><td>Cancelled</td><td>Bank Transfer</td><td>399</td><td>2024-12-09 13:04:13</td><td>2024-12-09</td><td>3084</td><td>5</td><td>Tablet</td><td>Electronics</td><td>399</td><td>1</td><td>Microsoft</td><td>Gray</td></tr><tr><td>67</td><td>Shipped</td><td>PayPal</td><td>897</td><td>2024-12-19 07:11:09</td><td>2024-12-19</td><td>3084</td><td>4</td><td>Smartwatch</td><td>Electronics</td><td>299</td><td>3</td><td>LG</td><td>Blue</td></tr><tr><td>69</td><td>Completed</td><td>Bank Transfer</td><td>699</td><td>2024-12-30 02:42:01</td><td>2024-12-30</td><td>4973</td><td>1</td><td>Smartphone</td><td>Electronics</td><td>699</td><td>1</td><td>Dell</td><td>Gray</td></tr><tr><td>70</td><td>Shipped</td><td>PayPal</td><td>897</td><td>2024-12-04 17:17:24</td><td>2024-12-04</td><td>7997</td><td>4</td><td>Smartwatch</td><td>Electronics</td><td>299</td><td>3</td><td>Sony</td><td>Black</td></tr><tr><td>71</td><td>Completed</td><td>Bank Transfer</td><td>199</td><td>2024-12-27 11:16:39</td><td>2024-12-27</td><td>7997</td><td>3</td><td>Wireless Headphones</td><td>Electronics</td><td>199</td><td>1</td><td>Microsoft</td><td>Black</td></tr><tr><td>74</td><td>Pending</td><td>PayPal</td><td>699</td><td>2024-12-22 15:54:11</td><td>2024-12-22</td><td>6167</td><td>1</td><td>Smartphone</td><td>Electronics</td><td>699</td><td>1</td><td>Samsung</td><td>Blue</td></tr><tr><td>80</td><td>Cancelled</td><td>Bank Transfer</td><td>998</td><td>2024-12-11 07:43:54</td><td>2024-12-11</td><td>9687</td><td>8</td><td>Gaming Console</td><td>Electronics</td><td>499</td><td>2</td><td>Samsung</td><td>White</td></tr><tr><td>81</td><td>Completed</td><td>PayPal</td><td>699</td><td>2024-12-27 02:27:45</td><td>2024-12-27</td><td>9687</td><td>1</td><td>Smartphone</td><td>Electronics</td><td>699</td><td>1</td><td>GoPro</td><td>Blue</td></tr><tr><td>82</td><td>Completed</td><td>PayPal</td><td>387</td><td>2024-12-28 00:54:08</td><td>2024-12-28</td><td>2344</td><td>7</td><td>External Hard Drive</td><td>Electronics</td><td>129</td><td>3</td><td>Sony</td><td>Blue</td></tr><tr><td>91</td><td>Cancelled</td><td>Bank Transfer</td><td>699</td><td>2024-12-17 00:09:53</td><td>2024-12-17</td><td>5592</td><td>1</td><td>Smartphone</td><td>Electronics</td><td>699</td><td>1</td><td>Canon</td><td>Silver</td></tr><tr><td>93</td><td>Pending</td><td>PayPal</td><td>598</td><td>2024-12-22 05:07:46</td><td>2024-12-22</td><td>6627</td><td>4</td><td>Smartwatch</td><td>Electronics</td><td>299</td><td>2</td><td>LG</td><td>Silver</td></tr><tr><td>95</td><td>Completed</td><td>Bank Transfer</td><td>946</td><td>2024-12-28 04:28:30</td><td>2024-12-28</td><td>6627</td><td>4</td><td>Smartwatch</td><td>Electronics</td><td>299</td><td>2</td><td>GoPro</td><td>White</td></tr><tr><td>95</td><td>Completed</td><td>Bank Transfer</td><td>946</td><td>2024-12-28 04:28:30</td><td>2024-12-28</td><td>6627</td><td>3</td><td>Wireless Headphones</td><td>Electronics</td><td>199</td><td>1</td><td>Bose</td><td>Gray</td></tr><tr><td>95</td><td>Completed</td><td>Bank Transfer</td><td>946</td><td>2024-12-28 04:28:30</td><td>2024-12-28</td><td>6627</td><td>6</td><td>Bluetooth Speaker</td><td>Electronics</td><td>149</td><td>1</td><td>Dell</td><td>Silver</td></tr><tr><td>96</td><td>Shipped</td><td>PayPal</td><td>149</td><td>2024-12-02 12:27:45</td><td>2024-12-02</td><td>6406</td><td>6</td><td>Bluetooth Speaker</td><td>Electronics</td><td>149</td><td>1</td><td>Microsoft</td><td>Black</td></tr><tr><td>97</td><td>Completed</td><td>Bank Transfer</td><td>499</td><td>2024-12-07 16:14:34</td><td>2024-12-07</td><td>6406</td><td>8</td><td>Gaming Console</td><td>Electronics</td><td>499</td><td>1</td><td>Sony</td><td>Silver</td></tr><tr><td>5</td><td>Cancelled</td><td>Bank Transfer</td><td>998</td><td>2024-11-16 23:07:31</td><td>2024-11-16</td><td>3892</td><td>8</td><td>Gaming Console</td><td>Electronics</td><td>499</td><td>2</td><td>Dell</td><td>Blue</td></tr><tr><td>7</td><td>Pending</td><td>Credit Card</td><td>645</td><td>2024-11-19 19:18:48</td><td>2024-11-19</td><td>1987</td><td>7</td><td>External Hard Drive</td><td>Electronics</td><td>129</td><td>2</td><td>LG</td><td>Blue</td></tr><tr><td>7</td><td>Pending</td><td>Credit Card</td><td>645</td><td>2024-11-19 19:18:48</td><td>2024-11-19</td><td>1987</td><td>7</td><td>External Hard Drive</td><td>Electronics</td><td>129</td><td>3</td><td>HP</td><td>Gray</td></tr><tr><td>9</td><td>Shipped</td><td>Bank Transfer</td><td>999</td><td>2024-11-27 13:15:29</td><td>2024-11-27</td><td>9179</td><td>2</td><td>Laptop</td><td>Electronics</td><td>999</td><td>1</td><td>Apple</td><td>Black</td></tr><tr><td>20</td><td>Pending</td><td>PayPal</td><td>798</td><td>2024-11-18 02:38:21</td><td>2024-11-18</td><td>8539</td><td>5</td><td>Tablet</td><td>Electronics</td><td>399</td><td>2</td><td>Sony</td><td>Silver</td></tr><tr><td>21</td><td>Cancelled</td><td>Bank Transfer</td><td>298</td><td>2024-11-21 11:25:35</td><td>2024-11-21</td><td>8539</td><td>6</td><td>Bluetooth Speaker</td><td>Electronics</td><td>149</td><td>2</td><td>GoPro</td><td>Blue</td></tr><tr><td>23</td><td>Shipped</td><td>PayPal</td><td>997</td><td>2024-11-22 16:04:05</td><td>2024-11-22</td><td>4761</td><td>5</td><td>Tablet</td><td>Electronics</td><td>399</td><td>1</td><td>Apple</td><td>Gray</td></tr><tr><td>23</td><td>Shipped</td><td>PayPal</td><td>997</td><td>2024-11-22 16:04:05</td><td>2024-11-22</td><td>4761</td><td>4</td><td>Smartwatch</td><td>Electronics</td><td>299</td><td>2</td><td>Dell</td><td>Gray</td></tr><tr><td>25</td><td>Completed</td><td>PayPal</td><td>999</td><td>2024-11-05 11:45:31</td><td>2024-11-05</td><td>9706</td><td>2</td><td>Laptop</td><td>Electronics</td><td>999</td><td>1</td><td>LG</td><td>Gray</td></tr><tr><td>30</td><td>Shipped</td><td>Bank Transfer</td><td>199</td><td>2024-11-12 03:20:29</td><td>2024-11-12</td><td>4996</td><td>3</td><td>Wireless Headphones</td><td>Electronics</td><td>199</td><td>1</td><td>GoPro</td><td>White</td></tr><tr><td>35</td><td>Shipped</td><td>Bank Transfer</td><td>199</td><td>2024-11-20 19:09:04</td><td>2024-11-20</td><td>4914</td><td>3</td><td>Wireless Headphones</td><td>Electronics</td><td>199</td><td>1</td><td>Dell</td><td>Gray</td></tr><tr><td>36</td><td>Completed</td><td>PayPal</td><td>199</td><td>2024-11-02 10:39:46</td><td>2024-11-02</td><td>4914</td><td>3</td><td>Wireless Headphones</td><td>Electronics</td><td>199</td><td>1</td><td>Canon</td><td>Silver</td></tr><tr><td>42</td><td>Completed</td><td>Credit Card</td><td>149</td><td>2024-11-08 18:32:25</td><td>2024-11-08</td><td>5028</td><td>6</td><td>Bluetooth Speaker</td><td>Electronics</td><td>149</td><td>1</td><td>Bose</td><td>Gray</td></tr><tr><td>45</td><td>Shipped</td><td>Credit Card</td><td>799</td><td>2024-11-07 15:41:43</td><td>2024-11-07</td><td>7295</td><td>10</td><td>Drone</td><td>Electronics</td><td>799</td><td>1</td><td>Dell</td><td>White</td></tr><tr><td>46</td><td>Pending</td><td>PayPal</td><td>199</td><td>2024-11-26 17:16:53</td><td>2024-11-26</td><td>7295</td><td>3</td><td>Wireless Headphones</td><td>Electronics</td><td>199</td><td>1</td><td>Samsung</td><td>Black</td></tr><tr><td>47</td><td>Shipped</td><td>Credit Card</td><td>298</td><td>2024-11-22 02:01:19</td><td>2024-11-22</td><td>7803</td><td>6</td><td>Bluetooth Speaker</td><td>Electronics</td><td>149</td><td>2</td><td>LG</td><td>Blue</td></tr><tr><td>48</td><td>Completed</td><td>PayPal</td><td>387</td><td>2024-11-13 06:35:56</td><td>2024-11-13</td><td>7803</td><td>7</td><td>External Hard Drive</td><td>Electronics</td><td>129</td><td>3</td><td>Apple</td><td>Black</td></tr><tr><td>52</td><td>Completed</td><td>PayPal</td><td>998</td><td>2024-11-19 21:23:45</td><td>2024-11-19</td><td>8845</td><td>8</td><td>Gaming Console</td><td>Electronics</td><td>499</td><td>2</td><td>GoPro</td><td>White</td></tr><tr><td>57</td><td>Cancelled</td><td>Bank Transfer</td><td>586</td><td>2024-11-19 11:32:44</td><td>2024-11-19</td><td>8580</td><td>3</td><td>Wireless Headphones</td><td>Electronics</td><td>199</td><td>1</td><td>HP</td><td>Silver</td></tr><tr><td>57</td><td>Cancelled</td><td>Bank Transfer</td><td>586</td><td>2024-11-19 11:32:44</td><td>2024-11-19</td><td>8580</td><td>7</td><td>External Hard Drive</td><td>Electronics</td><td>129</td><td>3</td><td>Sony</td><td>Silver</td></tr><tr><td>63</td><td>Cancelled</td><td>Bank Transfer</td><td>646</td><td>2024-11-24 08:41:28</td><td>2024-11-24</td><td>7123</td><td>3</td><td>Wireless Headphones</td><td>Electronics</td><td>199</td><td>1</td><td>GoPro</td><td>Blue</td></tr><tr><td>63</td><td>Cancelled</td><td>Bank Transfer</td><td>646</td><td>2024-11-24 08:41:28</td><td>2024-11-24</td><td>7123</td><td>6</td><td>Bluetooth Speaker</td><td>Electronics</td><td>149</td><td>3</td><td>Bose</td><td>Silver</td></tr><tr><td>64</td><td>Completed</td><td>Bank Transfer</td><td>984</td><td>2024-11-28 12:23:21</td><td>2024-11-28</td><td>2639</td><td>7</td><td>External Hard Drive</td><td>Electronics</td><td>129</td><td>3</td><td>Microsoft</td><td>White</td></tr><tr><td>64</td><td>Completed</td><td>Bank Transfer</td><td>984</td><td>2024-11-28 12:23:21</td><td>2024-11-28</td><td>2639</td><td>3</td><td>Wireless Headphones</td><td>Electronics</td><td>199</td><td>3</td><td>Canon</td><td>Blue</td></tr><tr><td>88</td><td>Cancelled</td><td>Bank Transfer</td><td>387</td><td>2024-11-15 11:39:44</td><td>2024-11-15</td><td>9247</td><td>7</td><td>External Hard Drive</td><td>Electronics</td><td>129</td><td>3</td><td>Bose</td><td>White</td></tr><tr><td>89</td><td>Cancelled</td><td>Bank Transfer</td><td>149</td><td>2024-11-22 12:09:15</td><td>2024-11-22</td><td>9247</td><td>6</td><td>Bluetooth Speaker</td><td>Electronics</td><td>149</td><td>1</td><td>GoPro</td><td>Silver</td></tr><tr><td>92</td><td>Shipped</td><td>PayPal</td><td>258</td><td>2024-11-24 23:33:21</td><td>2024-11-24</td><td>5592</td><td>7</td><td>External Hard Drive</td><td>Electronics</td><td>129</td><td>2</td><td>Sony</td><td>Black</td></tr><tr><td>6</td><td>Pending</td><td>Credit Card</td><td>799</td><td>2024-10-28 04:47:27</td><td>2024-10-28</td><td>1987</td><td>10</td><td>Drone</td><td>Electronics</td><td>799</td><td>1</td><td>GoPro</td><td>Black</td></tr><tr><td>10</td><td>Pending</td><td>Credit Card</td><td>399</td><td>2024-10-07 22:09:27</td><td>2024-10-07</td><td>5816</td><td>5</td><td>Tablet</td><td>Electronics</td><td>399</td><td>1</td><td>GoPro</td><td>White</td></tr><tr><td>11</td><td>Pending</td><td>Bank Transfer</td><td>897</td><td>2024-10-13 17:34:19</td><td>2024-10-13</td><td>5816</td><td>4</td><td>Smartwatch</td><td>Electronics</td><td>299</td><td>3</td><td>Canon</td><td>White</td></tr><tr><td>15</td><td>Completed</td><td>Bank Transfer</td><td>1199</td><td>2024-10-20 01:47:25</td><td>2024-10-20</td><td>7207</td><td>9</td><td>Smart TV</td><td>Electronics</td><td>1199</td><td>1</td><td>GoPro</td><td>White</td></tr><tr><td>19</td><td>Shipped</td><td>PayPal</td><td>499</td><td>2024-10-13 12:40:26</td><td>2024-10-13</td><td>8539</td><td>8</td><td>Gaming Console</td><td>Electronics</td><td>499</td><td>1</td><td>Dell</td><td>Silver</td></tr><tr><td>39</td><td>Shipped</td><td>PayPal</td><td>387</td><td>2024-10-29 21:39:19</td><td>2024-10-29</td><td>9263</td><td>7</td><td>External Hard Drive</td><td>Electronics</td><td>129</td><td>3</td><td>Sony</td><td>Black</td></tr><tr><td>55</td><td>Shipped</td><td>Bank Transfer</td><td>699</td><td>2024-10-25 05:49:16</td><td>2024-10-25</td><td>9018</td><td>1</td><td>Smartphone</td><td>Electronics</td><td>699</td><td>1</td><td>HP</td><td>Black</td></tr><tr><td>59</td><td>Pending</td><td>PayPal</td><td>499</td><td>2024-10-23 02:51:05</td><td>2024-10-23</td><td>3409</td><td>8</td><td>Gaming Console</td><td>Electronics</td><td>499</td><td>1</td><td>Dell</td><td>Black</td></tr><tr><td>72</td><td>Cancelled</td><td>PayPal</td><td>328</td><td>2024-10-06 10:23:28</td><td>2024-10-06</td><td>3889</td><td>3</td><td>Wireless Headphones</td><td>Electronics</td><td>199</td><td>1</td><td>Microsoft</td><td>Gray</td></tr><tr><td>72</td><td>Cancelled</td><td>PayPal</td><td>328</td><td>2024-10-06 10:23:28</td><td>2024-10-06</td><td>3889</td><td>7</td><td>External Hard Drive</td><td>Electronics</td><td>129</td><td>1</td><td>Samsung</td><td>Silver</td></tr><tr><td>77</td><td>Pending</td><td>Credit Card</td><td>398</td><td>2024-10-15 13:09:33</td><td>2024-10-15</td><td>9084</td><td>3</td><td>Wireless Headphones</td><td>Electronics</td><td>199</td><td>2</td><td>HP</td><td>Silver</td></tr><tr><td>84</td><td>Completed</td><td>PayPal</td><td>998</td><td>2024-10-25 03:37:42</td><td>2024-10-25</td><td>2344</td><td>10</td><td>Drone</td><td>Electronics</td><td>799</td><td>1</td><td>Sony</td><td>Black</td></tr><tr><td>84</td><td>Completed</td><td>PayPal</td><td>998</td><td>2024-10-25 03:37:42</td><td>2024-10-25</td><td>2344</td><td>3</td><td>Wireless Headphones</td><td>Electronics</td><td>199</td><td>1</td><td>LG</td><td>Black</td></tr><tr><td>85</td><td>Shipped</td><td>Bank Transfer</td><td>998</td><td>2024-10-23 20:06:42</td><td>2024-10-23</td><td>5011</td><td>8</td><td>Gaming Console</td><td>Electronics</td><td>499</td><td>2</td><td>GoPro</td><td>Black</td></tr><tr><td>86</td><td>Completed</td><td>PayPal</td><td>1199</td><td>2024-10-19 13:30:47</td><td>2024-10-19</td><td>5011</td><td>9</td><td>Smart TV</td><td>Electronics</td><td>1199</td><td>1</td><td>Dell</td><td>White</td></tr></tbody></table></div>"
      ]
     },
     "metadata": {
      "application/vnd.databricks.v1+output": {
       "addedWidgets": {},
       "aggData": [],
       "aggError": "",
       "aggOverflow": false,
       "aggSchema": [],
       "aggSeriesLimitReached": false,
       "aggType": "",
       "arguments": {},
       "columnCustomDisplayInfos": {},
       "data": [
        [
         1,
         "Completed",
         "Bank Transfer",
         499,
         "2025-01-05 10:13:59",
         "2025-01-05",
         6973,
         8,
         "Gaming Console",
         "Electronics",
         499,
         1,
         "Sony",
         "Blue"
        ],
        [
         2,
         "Cancelled",
         "PayPal",
         985,
         "2025-01-19 00:05:13",
         "2025-01-19",
         3532,
         4,
         "Smartwatch",
         "Electronics",
         299,
         2,
         "Canon",
         "Gray"
        ],
        [
         2,
         "Cancelled",
         "PayPal",
         985,
         "2025-01-19 00:05:13",
         "2025-01-19",
         3532,
         7,
         "External Hard Drive",
         "Electronics",
         129,
         3,
         "Dell",
         "Blue"
        ],
        [
         3,
         "Completed",
         "Bank Transfer",
         597,
         "2025-01-08 23:11:00",
         "2025-01-08",
         3532,
         3,
         "Wireless Headphones",
         "Electronics",
         199,
         3,
         "Apple",
         "White"
        ],
        [
         4,
         "Cancelled",
         "Bank Transfer",
         999,
         "2025-01-05 05:49:26",
         "2025-01-05",
         3532,
         2,
         "Laptop",
         "Electronics",
         999,
         1,
         "Microsoft",
         "Black"
        ],
        [
         8,
         "Completed",
         "PayPal",
         399,
         "2025-01-02 13:11:15",
         "2025-01-02",
         9179,
         5,
         "Tablet",
         "Electronics",
         399,
         1,
         "LG",
         "White"
        ],
        [
         14,
         "Cancelled",
         "PayPal",
         597,
         "2025-01-01 18:22:26",
         "2025-01-01",
         7207,
         3,
         "Wireless Headphones",
         "Electronics",
         199,
         3,
         "Bose",
         "Blue"
        ],
        [
         18,
         "Pending",
         "Credit Card",
         799,
         "2025-01-22 21:12:08",
         "2025-01-22",
         4468,
         10,
         "Drone",
         "Electronics",
         799,
         1,
         "Dell",
         "Black"
        ],
        [
         22,
         "Pending",
         "PayPal",
         199,
         "2025-01-01 15:49:19",
         "2025-01-01",
         4761,
         3,
         "Wireless Headphones",
         "Electronics",
         199,
         1,
         "HP",
         "Silver"
        ],
        [
         26,
         "Shipped",
         "Bank Transfer",
         699,
         "2025-01-05 19:01:25",
         "2025-01-05",
         7007,
         1,
         "Smartphone",
         "Electronics",
         699,
         1,
         "Samsung",
         "Silver"
        ],
        [
         29,
         "Pending",
         "Bank Transfer",
         129,
         "2025-01-18 03:05:04",
         "2025-01-18",
         5953,
         7,
         "External Hard Drive",
         "Electronics",
         129,
         1,
         "Bose",
         "Gray"
        ],
        [
         31,
         "Shipped",
         "Bank Transfer",
         299,
         "2025-01-18 03:13:29",
         "2025-01-18",
         4996,
         4,
         "Smartwatch",
         "Electronics",
         299,
         1,
         "Dell",
         "White"
        ],
        [
         33,
         "Completed",
         "PayPal",
         897,
         "2025-01-13 04:47:43",
         "2025-01-13",
         9605,
         4,
         "Smartwatch",
         "Electronics",
         299,
         3,
         "Canon",
         "White"
        ],
        [
         34,
         "Cancelled",
         "PayPal",
         926,
         "2025-01-21 00:25:01",
         "2025-01-21",
         9605,
         6,
         "Bluetooth Speaker",
         "Electronics",
         149,
         2,
         "Bose",
         "Silver"
        ],
        [
         34,
         "Cancelled",
         "PayPal",
         926,
         "2025-01-21 00:25:01",
         "2025-01-21",
         9605,
         8,
         "Gaming Console",
         "Electronics",
         499,
         1,
         "LG",
         "Black"
        ],
        [
         34,
         "Cancelled",
         "PayPal",
         926,
         "2025-01-21 00:25:01",
         "2025-01-21",
         9605,
         7,
         "External Hard Drive",
         "Electronics",
         129,
         1,
         "Samsung",
         "Black"
        ],
        [
         40,
         "Completed",
         "PayPal",
         298,
         "2025-01-20 16:18:35",
         "2025-01-20",
         6384,
         6,
         "Bluetooth Speaker",
         "Electronics",
         149,
         2,
         "Bose",
         "Silver"
        ],
        [
         41,
         "Shipped",
         "Credit Card",
         999,
         "2025-01-05 06:10:22",
         "2025-01-05",
         6384,
         2,
         "Laptop",
         "Electronics",
         999,
         1,
         "Sony",
         "Silver"
        ],
        [
         43,
         "Pending",
         "PayPal",
         499,
         "2025-01-24 18:10:37",
         "2025-01-24",
         5028,
         8,
         "Gaming Console",
         "Electronics",
         499,
         1,
         "LG",
         "Black"
        ],
        [
         50,
         "Shipped",
         "Credit Card",
         746,
         "2025-01-11 01:19:09",
         "2025-01-11",
         3712,
         6,
         "Bluetooth Speaker",
         "Electronics",
         149,
         3,
         "Apple",
         "Gray"
        ],
        [
         50,
         "Shipped",
         "Credit Card",
         746,
         "2025-01-11 01:19:09",
         "2025-01-11",
         3712,
         4,
         "Smartwatch",
         "Electronics",
         299,
         1,
         "Sony",
         "White"
        ],
        [
         51,
         "Completed",
         "PayPal",
         149,
         "2025-01-21 13:19:59",
         "2025-01-21",
         8845,
         6,
         "Bluetooth Speaker",
         "Electronics",
         149,
         1,
         "Samsung",
         "Gray"
        ],
        [
         53,
         "Pending",
         "Bank Transfer",
         199,
         "2025-01-21 08:31:02",
         "2025-01-21",
         8845,
         3,
         "Wireless Headphones",
         "Electronics",
         199,
         1,
         "Apple",
         "Black"
        ],
        [
         56,
         "Cancelled",
         "PayPal",
         698,
         "2025-01-01 12:02:41",
         "2025-01-01",
         8580,
         3,
         "Wireless Headphones",
         "Electronics",
         199,
         1,
         "HP",
         "Silver"
        ],
        [
         56,
         "Cancelled",
         "PayPal",
         698,
         "2025-01-01 12:02:41",
         "2025-01-01",
         8580,
         8,
         "Gaming Console",
         "Electronics",
         499,
         1,
         "LG",
         "Gray"
        ],
        [
         62,
         "Completed",
         "Bank Transfer",
         985,
         "2025-01-24 12:00:54",
         "2025-01-24",
         7123,
         7,
         "External Hard Drive",
         "Electronics",
         129,
         3,
         "Dell",
         "White"
        ],
        [
         62,
         "Completed",
         "Bank Transfer",
         985,
         "2025-01-24 12:00:54",
         "2025-01-24",
         7123,
         4,
         "Smartwatch",
         "Electronics",
         299,
         2,
         "GoPro",
         "Blue"
        ],
        [
         66,
         "Cancelled",
         "Credit Card",
         598,
         "2025-01-17 21:16:11",
         "2025-01-17",
         3084,
         4,
         "Smartwatch",
         "Electronics",
         299,
         1,
         "Bose",
         "Silver"
        ],
        [
         66,
         "Cancelled",
         "Credit Card",
         598,
         "2025-01-17 21:16:11",
         "2025-01-17",
         3084,
         4,
         "Smartwatch",
         "Electronics",
         299,
         1,
         "GoPro",
         "White"
        ],
        [
         68,
         "Completed",
         "Bank Transfer",
         149,
         "2025-01-10 20:35:43",
         "2025-01-10",
         4973,
         6,
         "Bluetooth Speaker",
         "Electronics",
         149,
         1,
         "Bose",
         "Gray"
        ],
        [
         73,
         "Shipped",
         "Credit Card",
         387,
         "2025-01-07 01:02:26",
         "2025-01-07",
         6167,
         7,
         "External Hard Drive",
         "Electronics",
         129,
         3,
         "GoPro",
         "Gray"
        ],
        [
         75,
         "Shipped",
         "Credit Card",
         699,
         "2025-01-19 16:23:16",
         "2025-01-19",
         6167,
         1,
         "Smartphone",
         "Electronics",
         699,
         1,
         "GoPro",
         "White"
        ],
        [
         76,
         "Completed",
         "Bank Transfer",
         399,
         "2025-01-06 02:54:39",
         "2025-01-06",
         3295,
         5,
         "Tablet",
         "Electronics",
         399,
         1,
         "Microsoft",
         "Silver"
        ],
        [
         78,
         "Cancelled",
         "PayPal",
         798,
         "2025-01-21 11:42:51",
         "2025-01-21",
         9084,
         5,
         "Tablet",
         "Electronics",
         399,
         2,
         "Dell",
         "White"
        ],
        [
         79,
         "Cancelled",
         "Credit Card",
         998,
         "2025-01-25 03:52:05",
         "2025-01-25",
         9084,
         8,
         "Gaming Console",
         "Electronics",
         499,
         2,
         "Dell",
         "Gray"
        ],
        [
         83,
         "Shipped",
         "PayPal",
         785,
         "2025-01-07 12:48:05",
         "2025-01-07",
         2344,
         7,
         "External Hard Drive",
         "Electronics",
         129,
         3,
         "Canon",
         "Gray"
        ],
        [
         83,
         "Shipped",
         "PayPal",
         785,
         "2025-01-07 12:48:05",
         "2025-01-07",
         2344,
         3,
         "Wireless Headphones",
         "Electronics",
         199,
         2,
         "Sony",
         "Black"
        ],
        [
         87,
         "Pending",
         "PayPal",
         129,
         "2025-01-02 04:28:38",
         "2025-01-02",
         2141,
         7,
         "External Hard Drive",
         "Electronics",
         129,
         1,
         "Apple",
         "Blue"
        ],
        [
         90,
         "Pending",
         "Credit Card",
         258,
         "2025-01-17 14:30:54",
         "2025-01-17",
         9247,
         7,
         "External Hard Drive",
         "Electronics",
         129,
         1,
         "Canon",
         "White"
        ],
        [
         90,
         "Pending",
         "Credit Card",
         258,
         "2025-01-17 14:30:54",
         "2025-01-17",
         9247,
         7,
         "External Hard Drive",
         "Electronics",
         129,
         1,
         "Samsung",
         "Black"
        ],
        [
         94,
         "Pending",
         "Credit Card",
         895,
         "2025-01-10 09:51:48",
         "2025-01-10",
         6627,
         6,
         "Bluetooth Speaker",
         "Electronics",
         149,
         2,
         "Sony",
         "Black"
        ],
        [
         94,
         "Pending",
         "Credit Card",
         895,
         "2025-01-10 09:51:48",
         "2025-01-10",
         6627,
         3,
         "Wireless Headphones",
         "Electronics",
         199,
         3,
         "Apple",
         "Blue"
        ],
        [
         98,
         "Completed",
         "Credit Card",
         985,
         "2025-01-08 05:57:55",
         "2025-01-08",
         9150,
         7,
         "External Hard Drive",
         "Electronics",
         129,
         3,
         "HP",
         "Blue"
        ],
        [
         98,
         "Completed",
         "Credit Card",
         985,
         "2025-01-08 05:57:55",
         "2025-01-08",
         9150,
         4,
         "Smartwatch",
         "Electronics",
         299,
         2,
         "Samsung",
         "Gray"
        ],
        [
         99,
         "Shipped",
         "Credit Card",
         699,
         "2025-01-10 21:43:46",
         "2025-01-10",
         9150,
         1,
         "Smartphone",
         "Electronics",
         699,
         1,
         "Bose",
         "Gray"
        ],
        [
         100,
         "Shipped",
         "PayPal",
         447,
         "2025-01-04 06:40:13",
         "2025-01-04",
         9150,
         6,
         "Bluetooth Speaker",
         "Electronics",
         149,
         3,
         "LG",
         "Silver"
        ],
        [
         12,
         "Cancelled",
         "PayPal",
         999,
         "2024-12-06 20:26:49",
         "2024-12-06",
         5816,
         2,
         "Laptop",
         "Electronics",
         999,
         1,
         "Sony",
         "White"
        ],
        [
         13,
         "Pending",
         "PayPal",
         999,
         "2024-12-17 03:41:37",
         "2024-12-17",
         4858,
         2,
         "Laptop",
         "Electronics",
         999,
         1,
         "GoPro",
         "Black"
        ],
        [
         16,
         "Pending",
         "Bank Transfer",
         597,
         "2024-12-08 22:59:48",
         "2024-12-08",
         5204,
         3,
         "Wireless Headphones",
         "Electronics",
         199,
         3,
         "Sony",
         "Silver"
        ],
        [
         17,
         "Pending",
         "Bank Transfer",
         998,
         "2024-12-02 12:00:50",
         "2024-12-02",
         5204,
         8,
         "Gaming Console",
         "Electronics",
         499,
         2,
         "Dell",
         "Black"
        ],
        [
         24,
         "Completed",
         "PayPal",
         1199,
         "2024-12-21 03:24:26",
         "2024-12-21",
         1211,
         9,
         "Smart TV",
         "Electronics",
         1199,
         1,
         "GoPro",
         "Gray"
        ],
        [
         27,
         "Completed",
         "Credit Card",
         904,
         "2024-12-02 11:24:21",
         "2024-12-02",
         2703,
         7,
         "External Hard Drive",
         "Electronics",
         129,
         2,
         "Dell",
         "White"
        ],
        [
         27,
         "Completed",
         "Credit Card",
         904,
         "2024-12-02 11:24:21",
         "2024-12-02",
         2703,
         6,
         "Bluetooth Speaker",
         "Electronics",
         149,
         3,
         "Canon",
         "Black"
        ],
        [
         27,
         "Completed",
         "Credit Card",
         904,
         "2024-12-02 11:24:21",
         "2024-12-02",
         2703,
         3,
         "Wireless Headphones",
         "Electronics",
         199,
         1,
         "Microsoft",
         "Silver"
        ],
        [
         28,
         "Cancelled",
         "Credit Card",
         129,
         "2024-12-26 03:17:50",
         "2024-12-26",
         2703,
         7,
         "External Hard Drive",
         "Electronics",
         129,
         1,
         "GoPro",
         "Blue"
        ],
        [
         32,
         "Pending",
         "PayPal",
         399,
         "2024-12-28 08:55:57",
         "2024-12-28",
         4996,
         5,
         "Tablet",
         "Electronics",
         399,
         1,
         "Apple",
         "Silver"
        ],
        [
         37,
         "Shipped",
         "Credit Card",
         258,
         "2024-12-22 10:11:49",
         "2024-12-22",
         7829,
         7,
         "External Hard Drive",
         "Electronics",
         129,
         2,
         "HP",
         "Silver"
        ],
        [
         38,
         "Shipped",
         "Credit Card",
         447,
         "2024-12-25 22:05:19",
         "2024-12-25",
         7829,
         6,
         "Bluetooth Speaker",
         "Electronics",
         149,
         3,
         "Apple",
         "Gray"
        ],
        [
         44,
         "Completed",
         "Credit Card",
         129,
         "2024-12-20 08:05:43",
         "2024-12-20",
         7295,
         7,
         "External Hard Drive",
         "Electronics",
         129,
         1,
         "Bose",
         "Blue"
        ],
        [
         49,
         "Cancelled",
         "PayPal",
         747,
         "2024-12-07 23:24:11",
         "2024-12-07",
         7803,
         4,
         "Smartwatch",
         "Electronics",
         299,
         1,
         "HP",
         "White"
        ],
        [
         49,
         "Cancelled",
         "PayPal",
         747,
         "2024-12-07 23:24:11",
         "2024-12-07",
         7803,
         4,
         "Smartwatch",
         "Electronics",
         299,
         1,
         "Canon",
         "Blue"
        ],
        [
         49,
         "Cancelled",
         "PayPal",
         747,
         "2024-12-07 23:24:11",
         "2024-12-07",
         7803,
         6,
         "Bluetooth Speaker",
         "Electronics",
         149,
         1,
         "Samsung",
         "White"
        ],
        [
         54,
         "Pending",
         "Credit Card",
         398,
         "2024-12-20 12:04:27",
         "2024-12-20",
         2054,
         3,
         "Wireless Headphones",
         "Electronics",
         199,
         2,
         "Bose",
         "Gray"
        ],
        [
         58,
         "Completed",
         "PayPal",
         699,
         "2024-12-09 22:40:58",
         "2024-12-09",
         8580,
         1,
         "Smartphone",
         "Electronics",
         699,
         1,
         "Microsoft",
         "Gray"
        ],
        [
         60,
         "Shipped",
         "Bank Transfer",
         199,
         "2024-12-13 13:10:12",
         "2024-12-13",
         3409,
         3,
         "Wireless Headphones",
         "Electronics",
         199,
         1,
         "Samsung",
         "Blue"
        ],
        [
         61,
         "Completed",
         "Bank Transfer",
         699,
         "2024-12-07 07:47:19",
         "2024-12-07",
         7123,
         1,
         "Smartphone",
         "Electronics",
         699,
         1,
         "Canon",
         "Black"
        ],
        [
         65,
         "Cancelled",
         "Bank Transfer",
         399,
         "2024-12-09 13:04:13",
         "2024-12-09",
         3084,
         5,
         "Tablet",
         "Electronics",
         399,
         1,
         "Microsoft",
         "Gray"
        ],
        [
         67,
         "Shipped",
         "PayPal",
         897,
         "2024-12-19 07:11:09",
         "2024-12-19",
         3084,
         4,
         "Smartwatch",
         "Electronics",
         299,
         3,
         "LG",
         "Blue"
        ],
        [
         69,
         "Completed",
         "Bank Transfer",
         699,
         "2024-12-30 02:42:01",
         "2024-12-30",
         4973,
         1,
         "Smartphone",
         "Electronics",
         699,
         1,
         "Dell",
         "Gray"
        ],
        [
         70,
         "Shipped",
         "PayPal",
         897,
         "2024-12-04 17:17:24",
         "2024-12-04",
         7997,
         4,
         "Smartwatch",
         "Electronics",
         299,
         3,
         "Sony",
         "Black"
        ],
        [
         71,
         "Completed",
         "Bank Transfer",
         199,
         "2024-12-27 11:16:39",
         "2024-12-27",
         7997,
         3,
         "Wireless Headphones",
         "Electronics",
         199,
         1,
         "Microsoft",
         "Black"
        ],
        [
         74,
         "Pending",
         "PayPal",
         699,
         "2024-12-22 15:54:11",
         "2024-12-22",
         6167,
         1,
         "Smartphone",
         "Electronics",
         699,
         1,
         "Samsung",
         "Blue"
        ],
        [
         80,
         "Cancelled",
         "Bank Transfer",
         998,
         "2024-12-11 07:43:54",
         "2024-12-11",
         9687,
         8,
         "Gaming Console",
         "Electronics",
         499,
         2,
         "Samsung",
         "White"
        ],
        [
         81,
         "Completed",
         "PayPal",
         699,
         "2024-12-27 02:27:45",
         "2024-12-27",
         9687,
         1,
         "Smartphone",
         "Electronics",
         699,
         1,
         "GoPro",
         "Blue"
        ],
        [
         82,
         "Completed",
         "PayPal",
         387,
         "2024-12-28 00:54:08",
         "2024-12-28",
         2344,
         7,
         "External Hard Drive",
         "Electronics",
         129,
         3,
         "Sony",
         "Blue"
        ],
        [
         91,
         "Cancelled",
         "Bank Transfer",
         699,
         "2024-12-17 00:09:53",
         "2024-12-17",
         5592,
         1,
         "Smartphone",
         "Electronics",
         699,
         1,
         "Canon",
         "Silver"
        ],
        [
         93,
         "Pending",
         "PayPal",
         598,
         "2024-12-22 05:07:46",
         "2024-12-22",
         6627,
         4,
         "Smartwatch",
         "Electronics",
         299,
         2,
         "LG",
         "Silver"
        ],
        [
         95,
         "Completed",
         "Bank Transfer",
         946,
         "2024-12-28 04:28:30",
         "2024-12-28",
         6627,
         4,
         "Smartwatch",
         "Electronics",
         299,
         2,
         "GoPro",
         "White"
        ],
        [
         95,
         "Completed",
         "Bank Transfer",
         946,
         "2024-12-28 04:28:30",
         "2024-12-28",
         6627,
         3,
         "Wireless Headphones",
         "Electronics",
         199,
         1,
         "Bose",
         "Gray"
        ],
        [
         95,
         "Completed",
         "Bank Transfer",
         946,
         "2024-12-28 04:28:30",
         "2024-12-28",
         6627,
         6,
         "Bluetooth Speaker",
         "Electronics",
         149,
         1,
         "Dell",
         "Silver"
        ],
        [
         96,
         "Shipped",
         "PayPal",
         149,
         "2024-12-02 12:27:45",
         "2024-12-02",
         6406,
         6,
         "Bluetooth Speaker",
         "Electronics",
         149,
         1,
         "Microsoft",
         "Black"
        ],
        [
         97,
         "Completed",
         "Bank Transfer",
         499,
         "2024-12-07 16:14:34",
         "2024-12-07",
         6406,
         8,
         "Gaming Console",
         "Electronics",
         499,
         1,
         "Sony",
         "Silver"
        ],
        [
         5,
         "Cancelled",
         "Bank Transfer",
         998,
         "2024-11-16 23:07:31",
         "2024-11-16",
         3892,
         8,
         "Gaming Console",
         "Electronics",
         499,
         2,
         "Dell",
         "Blue"
        ],
        [
         7,
         "Pending",
         "Credit Card",
         645,
         "2024-11-19 19:18:48",
         "2024-11-19",
         1987,
         7,
         "External Hard Drive",
         "Electronics",
         129,
         2,
         "LG",
         "Blue"
        ],
        [
         7,
         "Pending",
         "Credit Card",
         645,
         "2024-11-19 19:18:48",
         "2024-11-19",
         1987,
         7,
         "External Hard Drive",
         "Electronics",
         129,
         3,
         "HP",
         "Gray"
        ],
        [
         9,
         "Shipped",
         "Bank Transfer",
         999,
         "2024-11-27 13:15:29",
         "2024-11-27",
         9179,
         2,
         "Laptop",
         "Electronics",
         999,
         1,
         "Apple",
         "Black"
        ],
        [
         20,
         "Pending",
         "PayPal",
         798,
         "2024-11-18 02:38:21",
         "2024-11-18",
         8539,
         5,
         "Tablet",
         "Electronics",
         399,
         2,
         "Sony",
         "Silver"
        ],
        [
         21,
         "Cancelled",
         "Bank Transfer",
         298,
         "2024-11-21 11:25:35",
         "2024-11-21",
         8539,
         6,
         "Bluetooth Speaker",
         "Electronics",
         149,
         2,
         "GoPro",
         "Blue"
        ],
        [
         23,
         "Shipped",
         "PayPal",
         997,
         "2024-11-22 16:04:05",
         "2024-11-22",
         4761,
         5,
         "Tablet",
         "Electronics",
         399,
         1,
         "Apple",
         "Gray"
        ],
        [
         23,
         "Shipped",
         "PayPal",
         997,
         "2024-11-22 16:04:05",
         "2024-11-22",
         4761,
         4,
         "Smartwatch",
         "Electronics",
         299,
         2,
         "Dell",
         "Gray"
        ],
        [
         25,
         "Completed",
         "PayPal",
         999,
         "2024-11-05 11:45:31",
         "2024-11-05",
         9706,
         2,
         "Laptop",
         "Electronics",
         999,
         1,
         "LG",
         "Gray"
        ],
        [
         30,
         "Shipped",
         "Bank Transfer",
         199,
         "2024-11-12 03:20:29",
         "2024-11-12",
         4996,
         3,
         "Wireless Headphones",
         "Electronics",
         199,
         1,
         "GoPro",
         "White"
        ],
        [
         35,
         "Shipped",
         "Bank Transfer",
         199,
         "2024-11-20 19:09:04",
         "2024-11-20",
         4914,
         3,
         "Wireless Headphones",
         "Electronics",
         199,
         1,
         "Dell",
         "Gray"
        ],
        [
         36,
         "Completed",
         "PayPal",
         199,
         "2024-11-02 10:39:46",
         "2024-11-02",
         4914,
         3,
         "Wireless Headphones",
         "Electronics",
         199,
         1,
         "Canon",
         "Silver"
        ],
        [
         42,
         "Completed",
         "Credit Card",
         149,
         "2024-11-08 18:32:25",
         "2024-11-08",
         5028,
         6,
         "Bluetooth Speaker",
         "Electronics",
         149,
         1,
         "Bose",
         "Gray"
        ],
        [
         45,
         "Shipped",
         "Credit Card",
         799,
         "2024-11-07 15:41:43",
         "2024-11-07",
         7295,
         10,
         "Drone",
         "Electronics",
         799,
         1,
         "Dell",
         "White"
        ],
        [
         46,
         "Pending",
         "PayPal",
         199,
         "2024-11-26 17:16:53",
         "2024-11-26",
         7295,
         3,
         "Wireless Headphones",
         "Electronics",
         199,
         1,
         "Samsung",
         "Black"
        ],
        [
         47,
         "Shipped",
         "Credit Card",
         298,
         "2024-11-22 02:01:19",
         "2024-11-22",
         7803,
         6,
         "Bluetooth Speaker",
         "Electronics",
         149,
         2,
         "LG",
         "Blue"
        ],
        [
         48,
         "Completed",
         "PayPal",
         387,
         "2024-11-13 06:35:56",
         "2024-11-13",
         7803,
         7,
         "External Hard Drive",
         "Electronics",
         129,
         3,
         "Apple",
         "Black"
        ],
        [
         52,
         "Completed",
         "PayPal",
         998,
         "2024-11-19 21:23:45",
         "2024-11-19",
         8845,
         8,
         "Gaming Console",
         "Electronics",
         499,
         2,
         "GoPro",
         "White"
        ],
        [
         57,
         "Cancelled",
         "Bank Transfer",
         586,
         "2024-11-19 11:32:44",
         "2024-11-19",
         8580,
         3,
         "Wireless Headphones",
         "Electronics",
         199,
         1,
         "HP",
         "Silver"
        ],
        [
         57,
         "Cancelled",
         "Bank Transfer",
         586,
         "2024-11-19 11:32:44",
         "2024-11-19",
         8580,
         7,
         "External Hard Drive",
         "Electronics",
         129,
         3,
         "Sony",
         "Silver"
        ],
        [
         63,
         "Cancelled",
         "Bank Transfer",
         646,
         "2024-11-24 08:41:28",
         "2024-11-24",
         7123,
         3,
         "Wireless Headphones",
         "Electronics",
         199,
         1,
         "GoPro",
         "Blue"
        ],
        [
         63,
         "Cancelled",
         "Bank Transfer",
         646,
         "2024-11-24 08:41:28",
         "2024-11-24",
         7123,
         6,
         "Bluetooth Speaker",
         "Electronics",
         149,
         3,
         "Bose",
         "Silver"
        ],
        [
         64,
         "Completed",
         "Bank Transfer",
         984,
         "2024-11-28 12:23:21",
         "2024-11-28",
         2639,
         7,
         "External Hard Drive",
         "Electronics",
         129,
         3,
         "Microsoft",
         "White"
        ],
        [
         64,
         "Completed",
         "Bank Transfer",
         984,
         "2024-11-28 12:23:21",
         "2024-11-28",
         2639,
         3,
         "Wireless Headphones",
         "Electronics",
         199,
         3,
         "Canon",
         "Blue"
        ],
        [
         88,
         "Cancelled",
         "Bank Transfer",
         387,
         "2024-11-15 11:39:44",
         "2024-11-15",
         9247,
         7,
         "External Hard Drive",
         "Electronics",
         129,
         3,
         "Bose",
         "White"
        ],
        [
         89,
         "Cancelled",
         "Bank Transfer",
         149,
         "2024-11-22 12:09:15",
         "2024-11-22",
         9247,
         6,
         "Bluetooth Speaker",
         "Electronics",
         149,
         1,
         "GoPro",
         "Silver"
        ],
        [
         92,
         "Shipped",
         "PayPal",
         258,
         "2024-11-24 23:33:21",
         "2024-11-24",
         5592,
         7,
         "External Hard Drive",
         "Electronics",
         129,
         2,
         "Sony",
         "Black"
        ],
        [
         6,
         "Pending",
         "Credit Card",
         799,
         "2024-10-28 04:47:27",
         "2024-10-28",
         1987,
         10,
         "Drone",
         "Electronics",
         799,
         1,
         "GoPro",
         "Black"
        ],
        [
         10,
         "Pending",
         "Credit Card",
         399,
         "2024-10-07 22:09:27",
         "2024-10-07",
         5816,
         5,
         "Tablet",
         "Electronics",
         399,
         1,
         "GoPro",
         "White"
        ],
        [
         11,
         "Pending",
         "Bank Transfer",
         897,
         "2024-10-13 17:34:19",
         "2024-10-13",
         5816,
         4,
         "Smartwatch",
         "Electronics",
         299,
         3,
         "Canon",
         "White"
        ],
        [
         15,
         "Completed",
         "Bank Transfer",
         1199,
         "2024-10-20 01:47:25",
         "2024-10-20",
         7207,
         9,
         "Smart TV",
         "Electronics",
         1199,
         1,
         "GoPro",
         "White"
        ],
        [
         19,
         "Shipped",
         "PayPal",
         499,
         "2024-10-13 12:40:26",
         "2024-10-13",
         8539,
         8,
         "Gaming Console",
         "Electronics",
         499,
         1,
         "Dell",
         "Silver"
        ],
        [
         39,
         "Shipped",
         "PayPal",
         387,
         "2024-10-29 21:39:19",
         "2024-10-29",
         9263,
         7,
         "External Hard Drive",
         "Electronics",
         129,
         3,
         "Sony",
         "Black"
        ],
        [
         55,
         "Shipped",
         "Bank Transfer",
         699,
         "2024-10-25 05:49:16",
         "2024-10-25",
         9018,
         1,
         "Smartphone",
         "Electronics",
         699,
         1,
         "HP",
         "Black"
        ],
        [
         59,
         "Pending",
         "PayPal",
         499,
         "2024-10-23 02:51:05",
         "2024-10-23",
         3409,
         8,
         "Gaming Console",
         "Electronics",
         499,
         1,
         "Dell",
         "Black"
        ],
        [
         72,
         "Cancelled",
         "PayPal",
         328,
         "2024-10-06 10:23:28",
         "2024-10-06",
         3889,
         3,
         "Wireless Headphones",
         "Electronics",
         199,
         1,
         "Microsoft",
         "Gray"
        ],
        [
         72,
         "Cancelled",
         "PayPal",
         328,
         "2024-10-06 10:23:28",
         "2024-10-06",
         3889,
         7,
         "External Hard Drive",
         "Electronics",
         129,
         1,
         "Samsung",
         "Silver"
        ],
        [
         77,
         "Pending",
         "Credit Card",
         398,
         "2024-10-15 13:09:33",
         "2024-10-15",
         9084,
         3,
         "Wireless Headphones",
         "Electronics",
         199,
         2,
         "HP",
         "Silver"
        ],
        [
         84,
         "Completed",
         "PayPal",
         998,
         "2024-10-25 03:37:42",
         "2024-10-25",
         2344,
         10,
         "Drone",
         "Electronics",
         799,
         1,
         "Sony",
         "Black"
        ],
        [
         84,
         "Completed",
         "PayPal",
         998,
         "2024-10-25 03:37:42",
         "2024-10-25",
         2344,
         3,
         "Wireless Headphones",
         "Electronics",
         199,
         1,
         "LG",
         "Black"
        ],
        [
         85,
         "Shipped",
         "Bank Transfer",
         998,
         "2024-10-23 20:06:42",
         "2024-10-23",
         5011,
         8,
         "Gaming Console",
         "Electronics",
         499,
         2,
         "GoPro",
         "Black"
        ],
        [
         86,
         "Completed",
         "PayPal",
         1199,
         "2024-10-19 13:30:47",
         "2024-10-19",
         5011,
         9,
         "Smart TV",
         "Electronics",
         1199,
         1,
         "Dell",
         "White"
        ]
       ],
       "datasetInfos": [],
       "dbfsResultPath": null,
       "isJsonSchema": true,
       "metadata": {},
       "overflow": false,
       "plotOptions": {
        "customPlotOptions": {},
        "displayType": "table",
        "pivotAggregation": null,
        "pivotColumns": null,
        "xColumns": null,
        "yColumns": null
       },
       "removedWidgets": [],
       "schema": [
        {
         "metadata": "{}",
         "name": "order_id",
         "type": "\"long\""
        },
        {
         "metadata": "{}",
         "name": "order_status",
         "type": "\"string\""
        },
        {
         "metadata": "{}",
         "name": "payment_method",
         "type": "\"string\""
        },
        {
         "metadata": "{}",
         "name": "total_amount",
         "type": "\"long\""
        },
        {
         "metadata": "{}",
         "name": "transaction_timestamp",
         "type": "\"string\""
        },
        {
         "metadata": "{}",
         "name": "order_date",
         "type": "\"string\""
        },
        {
         "metadata": "{}",
         "name": "customer_id",
         "type": "\"long\""
        },
        {
         "metadata": "{}",
         "name": "item_id",
         "type": "\"long\""
        },
        {
         "metadata": "{}",
         "name": "name",
         "type": "\"string\""
        },
        {
         "metadata": "{}",
         "name": "category",
         "type": "\"string\""
        },
        {
         "metadata": "{}",
         "name": "price",
         "type": "\"long\""
        },
        {
         "metadata": "{}",
         "name": "quantity",
         "type": "\"long\""
        },
        {
         "metadata": "{}",
         "name": "brand",
         "type": "\"string\""
        },
        {
         "metadata": "{}",
         "name": "color",
         "type": "\"string\""
        }
       ],
       "type": "table"
      }
     },
     "output_type": "display_data"
    }
   ],
   "source": [
    "select order_id,\n",
    "       order_status,\n",
    "       payment_method,\n",
    "       total_amount,\n",
    "       transaction_timestamp,\n",
    "       order_date,\n",
    "       customer_id,\n",
    "       item.item_id,\n",
    "       item.name,\n",
    "       item.category,\n",
    "       item.price,\n",
    "       item.quantity,\n",
    "       item.details.brand,\n",
    "       item.details.color    \n",
    "\n",
    "from tv_orders_exploded"
   ]
  },
  {
   "cell_type": "markdown",
   "metadata": {
    "application/vnd.databricks.v1+cell": {
     "cellMetadata": {},
     "inputWidgets": {},
     "nuid": "da386b64-8281-4468-a88e-7210c93a67e1",
     "showTitle": false,
     "tableResultSettingsMap": {},
     "title": ""
    }
   },
   "source": [
    "#####4. Write the transformed Data to Silver Schema"
   ]
  },
  {
   "cell_type": "code",
   "execution_count": 0,
   "metadata": {
    "application/vnd.databricks.v1+cell": {
     "cellMetadata": {
      "byteLimit": 2048000,
      "rowLimit": 10000
     },
     "inputWidgets": {},
     "nuid": "43f14a51-dce6-493e-8afd-277b42f33bbb",
     "showTitle": false,
     "tableResultSettingsMap": {},
     "title": ""
    }
   },
   "outputs": [
    {
     "output_type": "display_data",
     "data": {
      "text/html": [
       "<style scoped>\n",
       "  .table-result-container {\n",
       "    max-height: 300px;\n",
       "    overflow: auto;\n",
       "  }\n",
       "  table, th, td {\n",
       "    border: 1px solid black;\n",
       "    border-collapse: collapse;\n",
       "  }\n",
       "  th, td {\n",
       "    padding: 5px;\n",
       "  }\n",
       "  th {\n",
       "    text-align: left;\n",
       "  }\n",
       "</style><div class='table-result-container'><table class='table-result'><thead style='background-color: white'><tr><th>num_affected_rows</th><th>num_inserted_rows</th></tr></thead><tbody></tbody></table></div>"
      ]
     },
     "metadata": {
      "application/vnd.databricks.v1+output": {
       "addedWidgets": {},
       "aggData": [],
       "aggError": "",
       "aggOverflow": false,
       "aggSchema": [],
       "aggSeriesLimitReached": false,
       "aggType": "",
       "arguments": {},
       "columnCustomDisplayInfos": {},
       "data": [],
       "datasetInfos": [],
       "dbfsResultPath": null,
       "isJsonSchema": true,
       "metadata": {
        "isDbfsCommandResult": false
       },
       "overflow": false,
       "plotOptions": {
        "customPlotOptions": {},
        "displayType": "table",
        "pivotAggregation": null,
        "pivotColumns": null,
        "xColumns": null,
        "yColumns": null
       },
       "removedWidgets": [],
       "schema": [
        {
         "metadata": "{}",
         "name": "num_affected_rows",
         "type": "\"long\""
        },
        {
         "metadata": "{}",
         "name": "num_inserted_rows",
         "type": "\"long\""
        }
       ],
       "type": "table"
      }
     },
     "output_type": "display_data"
    }
   ],
   "source": [
    "create table gizmobox.silver.orders\n",
    "as\n",
    "select order_id,\n",
    "       order_status,\n",
    "       payment_method,\n",
    "       total_amount,\n",
    "       transaction_timestamp,\n",
    "       order_date,\n",
    "       customer_id,\n",
    "       item.item_id,\n",
    "       item.name,\n",
    "       item.category,\n",
    "       item.price,\n",
    "       item.quantity,\n",
    "       item.details.brand,\n",
    "       item.details.color    \n",
    "\n",
    "from tv_orders_exploded;"
   ]
  },
  {
   "cell_type": "code",
   "execution_count": 0,
   "metadata": {
    "application/vnd.databricks.v1+cell": {
     "cellMetadata": {
      "byteLimit": 2048000,
      "rowLimit": 10000
     },
     "inputWidgets": {},
     "nuid": "aa1a021f-78c8-4a61-814c-d2d9f26ff88f",
     "showTitle": false,
     "tableResultSettingsMap": {},
     "title": ""
    }
   },
   "outputs": [
    {
     "output_type": "display_data",
     "data": {
      "text/html": [
       "<style scoped>\n",
       "  .table-result-container {\n",
       "    max-height: 300px;\n",
       "    overflow: auto;\n",
       "  }\n",
       "  table, th, td {\n",
       "    border: 1px solid black;\n",
       "    border-collapse: collapse;\n",
       "  }\n",
       "  th, td {\n",
       "    padding: 5px;\n",
       "  }\n",
       "  th {\n",
       "    text-align: left;\n",
       "  }\n",
       "</style><div class='table-result-container'><table class='table-result'><thead style='background-color: white'><tr><th>order_id</th><th>order_status</th><th>payment_method</th><th>total_amount</th><th>transaction_timestamp</th><th>order_date</th><th>customer_id</th><th>item_id</th><th>name</th><th>category</th><th>price</th><th>quantity</th><th>brand</th><th>color</th></tr></thead><tbody><tr><td>1</td><td>Completed</td><td>Bank Transfer</td><td>499</td><td>2025-01-05 10:13:59</td><td>2025-01-05</td><td>6973</td><td>8</td><td>Gaming Console</td><td>Electronics</td><td>499</td><td>1</td><td>Sony</td><td>Blue</td></tr><tr><td>2</td><td>Cancelled</td><td>PayPal</td><td>985</td><td>2025-01-19 00:05:13</td><td>2025-01-19</td><td>3532</td><td>4</td><td>Smartwatch</td><td>Electronics</td><td>299</td><td>2</td><td>Canon</td><td>Gray</td></tr><tr><td>2</td><td>Cancelled</td><td>PayPal</td><td>985</td><td>2025-01-19 00:05:13</td><td>2025-01-19</td><td>3532</td><td>7</td><td>External Hard Drive</td><td>Electronics</td><td>129</td><td>3</td><td>Dell</td><td>Blue</td></tr><tr><td>3</td><td>Completed</td><td>Bank Transfer</td><td>597</td><td>2025-01-08 23:11:00</td><td>2025-01-08</td><td>3532</td><td>3</td><td>Wireless Headphones</td><td>Electronics</td><td>199</td><td>3</td><td>Apple</td><td>White</td></tr><tr><td>4</td><td>Cancelled</td><td>Bank Transfer</td><td>999</td><td>2025-01-05 05:49:26</td><td>2025-01-05</td><td>3532</td><td>2</td><td>Laptop</td><td>Electronics</td><td>999</td><td>1</td><td>Microsoft</td><td>Black</td></tr><tr><td>8</td><td>Completed</td><td>PayPal</td><td>399</td><td>2025-01-02 13:11:15</td><td>2025-01-02</td><td>9179</td><td>5</td><td>Tablet</td><td>Electronics</td><td>399</td><td>1</td><td>LG</td><td>White</td></tr><tr><td>14</td><td>Cancelled</td><td>PayPal</td><td>597</td><td>2025-01-01 18:22:26</td><td>2025-01-01</td><td>7207</td><td>3</td><td>Wireless Headphones</td><td>Electronics</td><td>199</td><td>3</td><td>Bose</td><td>Blue</td></tr><tr><td>18</td><td>Pending</td><td>Credit Card</td><td>799</td><td>2025-01-22 21:12:08</td><td>2025-01-22</td><td>4468</td><td>10</td><td>Drone</td><td>Electronics</td><td>799</td><td>1</td><td>Dell</td><td>Black</td></tr><tr><td>22</td><td>Pending</td><td>PayPal</td><td>199</td><td>2025-01-01 15:49:19</td><td>2025-01-01</td><td>4761</td><td>3</td><td>Wireless Headphones</td><td>Electronics</td><td>199</td><td>1</td><td>HP</td><td>Silver</td></tr><tr><td>26</td><td>Shipped</td><td>Bank Transfer</td><td>699</td><td>2025-01-05 19:01:25</td><td>2025-01-05</td><td>7007</td><td>1</td><td>Smartphone</td><td>Electronics</td><td>699</td><td>1</td><td>Samsung</td><td>Silver</td></tr><tr><td>29</td><td>Pending</td><td>Bank Transfer</td><td>129</td><td>2025-01-18 03:05:04</td><td>2025-01-18</td><td>5953</td><td>7</td><td>External Hard Drive</td><td>Electronics</td><td>129</td><td>1</td><td>Bose</td><td>Gray</td></tr><tr><td>31</td><td>Shipped</td><td>Bank Transfer</td><td>299</td><td>2025-01-18 03:13:29</td><td>2025-01-18</td><td>4996</td><td>4</td><td>Smartwatch</td><td>Electronics</td><td>299</td><td>1</td><td>Dell</td><td>White</td></tr><tr><td>33</td><td>Completed</td><td>PayPal</td><td>897</td><td>2025-01-13 04:47:43</td><td>2025-01-13</td><td>9605</td><td>4</td><td>Smartwatch</td><td>Electronics</td><td>299</td><td>3</td><td>Canon</td><td>White</td></tr><tr><td>34</td><td>Cancelled</td><td>PayPal</td><td>926</td><td>2025-01-21 00:25:01</td><td>2025-01-21</td><td>9605</td><td>6</td><td>Bluetooth Speaker</td><td>Electronics</td><td>149</td><td>2</td><td>Bose</td><td>Silver</td></tr><tr><td>34</td><td>Cancelled</td><td>PayPal</td><td>926</td><td>2025-01-21 00:25:01</td><td>2025-01-21</td><td>9605</td><td>8</td><td>Gaming Console</td><td>Electronics</td><td>499</td><td>1</td><td>LG</td><td>Black</td></tr><tr><td>34</td><td>Cancelled</td><td>PayPal</td><td>926</td><td>2025-01-21 00:25:01</td><td>2025-01-21</td><td>9605</td><td>7</td><td>External Hard Drive</td><td>Electronics</td><td>129</td><td>1</td><td>Samsung</td><td>Black</td></tr><tr><td>40</td><td>Completed</td><td>PayPal</td><td>298</td><td>2025-01-20 16:18:35</td><td>2025-01-20</td><td>6384</td><td>6</td><td>Bluetooth Speaker</td><td>Electronics</td><td>149</td><td>2</td><td>Bose</td><td>Silver</td></tr><tr><td>41</td><td>Shipped</td><td>Credit Card</td><td>999</td><td>2025-01-05 06:10:22</td><td>2025-01-05</td><td>6384</td><td>2</td><td>Laptop</td><td>Electronics</td><td>999</td><td>1</td><td>Sony</td><td>Silver</td></tr><tr><td>43</td><td>Pending</td><td>PayPal</td><td>499</td><td>2025-01-24 18:10:37</td><td>2025-01-24</td><td>5028</td><td>8</td><td>Gaming Console</td><td>Electronics</td><td>499</td><td>1</td><td>LG</td><td>Black</td></tr><tr><td>50</td><td>Shipped</td><td>Credit Card</td><td>746</td><td>2025-01-11 01:19:09</td><td>2025-01-11</td><td>3712</td><td>6</td><td>Bluetooth Speaker</td><td>Electronics</td><td>149</td><td>3</td><td>Apple</td><td>Gray</td></tr><tr><td>50</td><td>Shipped</td><td>Credit Card</td><td>746</td><td>2025-01-11 01:19:09</td><td>2025-01-11</td><td>3712</td><td>4</td><td>Smartwatch</td><td>Electronics</td><td>299</td><td>1</td><td>Sony</td><td>White</td></tr><tr><td>51</td><td>Completed</td><td>PayPal</td><td>149</td><td>2025-01-21 13:19:59</td><td>2025-01-21</td><td>8845</td><td>6</td><td>Bluetooth Speaker</td><td>Electronics</td><td>149</td><td>1</td><td>Samsung</td><td>Gray</td></tr><tr><td>53</td><td>Pending</td><td>Bank Transfer</td><td>199</td><td>2025-01-21 08:31:02</td><td>2025-01-21</td><td>8845</td><td>3</td><td>Wireless Headphones</td><td>Electronics</td><td>199</td><td>1</td><td>Apple</td><td>Black</td></tr><tr><td>56</td><td>Cancelled</td><td>PayPal</td><td>698</td><td>2025-01-01 12:02:41</td><td>2025-01-01</td><td>8580</td><td>3</td><td>Wireless Headphones</td><td>Electronics</td><td>199</td><td>1</td><td>HP</td><td>Silver</td></tr><tr><td>56</td><td>Cancelled</td><td>PayPal</td><td>698</td><td>2025-01-01 12:02:41</td><td>2025-01-01</td><td>8580</td><td>8</td><td>Gaming Console</td><td>Electronics</td><td>499</td><td>1</td><td>LG</td><td>Gray</td></tr><tr><td>62</td><td>Completed</td><td>Bank Transfer</td><td>985</td><td>2025-01-24 12:00:54</td><td>2025-01-24</td><td>7123</td><td>7</td><td>External Hard Drive</td><td>Electronics</td><td>129</td><td>3</td><td>Dell</td><td>White</td></tr><tr><td>62</td><td>Completed</td><td>Bank Transfer</td><td>985</td><td>2025-01-24 12:00:54</td><td>2025-01-24</td><td>7123</td><td>4</td><td>Smartwatch</td><td>Electronics</td><td>299</td><td>2</td><td>GoPro</td><td>Blue</td></tr><tr><td>66</td><td>Cancelled</td><td>Credit Card</td><td>598</td><td>2025-01-17 21:16:11</td><td>2025-01-17</td><td>3084</td><td>4</td><td>Smartwatch</td><td>Electronics</td><td>299</td><td>1</td><td>Bose</td><td>Silver</td></tr><tr><td>66</td><td>Cancelled</td><td>Credit Card</td><td>598</td><td>2025-01-17 21:16:11</td><td>2025-01-17</td><td>3084</td><td>4</td><td>Smartwatch</td><td>Electronics</td><td>299</td><td>1</td><td>GoPro</td><td>White</td></tr><tr><td>68</td><td>Completed</td><td>Bank Transfer</td><td>149</td><td>2025-01-10 20:35:43</td><td>2025-01-10</td><td>4973</td><td>6</td><td>Bluetooth Speaker</td><td>Electronics</td><td>149</td><td>1</td><td>Bose</td><td>Gray</td></tr><tr><td>73</td><td>Shipped</td><td>Credit Card</td><td>387</td><td>2025-01-07 01:02:26</td><td>2025-01-07</td><td>6167</td><td>7</td><td>External Hard Drive</td><td>Electronics</td><td>129</td><td>3</td><td>GoPro</td><td>Gray</td></tr><tr><td>75</td><td>Shipped</td><td>Credit Card</td><td>699</td><td>2025-01-19 16:23:16</td><td>2025-01-19</td><td>6167</td><td>1</td><td>Smartphone</td><td>Electronics</td><td>699</td><td>1</td><td>GoPro</td><td>White</td></tr><tr><td>76</td><td>Completed</td><td>Bank Transfer</td><td>399</td><td>2025-01-06 02:54:39</td><td>2025-01-06</td><td>3295</td><td>5</td><td>Tablet</td><td>Electronics</td><td>399</td><td>1</td><td>Microsoft</td><td>Silver</td></tr><tr><td>78</td><td>Cancelled</td><td>PayPal</td><td>798</td><td>2025-01-21 11:42:51</td><td>2025-01-21</td><td>9084</td><td>5</td><td>Tablet</td><td>Electronics</td><td>399</td><td>2</td><td>Dell</td><td>White</td></tr><tr><td>79</td><td>Cancelled</td><td>Credit Card</td><td>998</td><td>2025-01-25 03:52:05</td><td>2025-01-25</td><td>9084</td><td>8</td><td>Gaming Console</td><td>Electronics</td><td>499</td><td>2</td><td>Dell</td><td>Gray</td></tr><tr><td>83</td><td>Shipped</td><td>PayPal</td><td>785</td><td>2025-01-07 12:48:05</td><td>2025-01-07</td><td>2344</td><td>7</td><td>External Hard Drive</td><td>Electronics</td><td>129</td><td>3</td><td>Canon</td><td>Gray</td></tr><tr><td>83</td><td>Shipped</td><td>PayPal</td><td>785</td><td>2025-01-07 12:48:05</td><td>2025-01-07</td><td>2344</td><td>3</td><td>Wireless Headphones</td><td>Electronics</td><td>199</td><td>2</td><td>Sony</td><td>Black</td></tr><tr><td>87</td><td>Pending</td><td>PayPal</td><td>129</td><td>2025-01-02 04:28:38</td><td>2025-01-02</td><td>2141</td><td>7</td><td>External Hard Drive</td><td>Electronics</td><td>129</td><td>1</td><td>Apple</td><td>Blue</td></tr><tr><td>90</td><td>Pending</td><td>Credit Card</td><td>258</td><td>2025-01-17 14:30:54</td><td>2025-01-17</td><td>9247</td><td>7</td><td>External Hard Drive</td><td>Electronics</td><td>129</td><td>1</td><td>Canon</td><td>White</td></tr><tr><td>90</td><td>Pending</td><td>Credit Card</td><td>258</td><td>2025-01-17 14:30:54</td><td>2025-01-17</td><td>9247</td><td>7</td><td>External Hard Drive</td><td>Electronics</td><td>129</td><td>1</td><td>Samsung</td><td>Black</td></tr><tr><td>94</td><td>Pending</td><td>Credit Card</td><td>895</td><td>2025-01-10 09:51:48</td><td>2025-01-10</td><td>6627</td><td>6</td><td>Bluetooth Speaker</td><td>Electronics</td><td>149</td><td>2</td><td>Sony</td><td>Black</td></tr><tr><td>94</td><td>Pending</td><td>Credit Card</td><td>895</td><td>2025-01-10 09:51:48</td><td>2025-01-10</td><td>6627</td><td>3</td><td>Wireless Headphones</td><td>Electronics</td><td>199</td><td>3</td><td>Apple</td><td>Blue</td></tr><tr><td>98</td><td>Completed</td><td>Credit Card</td><td>985</td><td>2025-01-08 05:57:55</td><td>2025-01-08</td><td>9150</td><td>7</td><td>External Hard Drive</td><td>Electronics</td><td>129</td><td>3</td><td>HP</td><td>Blue</td></tr><tr><td>98</td><td>Completed</td><td>Credit Card</td><td>985</td><td>2025-01-08 05:57:55</td><td>2025-01-08</td><td>9150</td><td>4</td><td>Smartwatch</td><td>Electronics</td><td>299</td><td>2</td><td>Samsung</td><td>Gray</td></tr><tr><td>99</td><td>Shipped</td><td>Credit Card</td><td>699</td><td>2025-01-10 21:43:46</td><td>2025-01-10</td><td>9150</td><td>1</td><td>Smartphone</td><td>Electronics</td><td>699</td><td>1</td><td>Bose</td><td>Gray</td></tr><tr><td>100</td><td>Shipped</td><td>PayPal</td><td>447</td><td>2025-01-04 06:40:13</td><td>2025-01-04</td><td>9150</td><td>6</td><td>Bluetooth Speaker</td><td>Electronics</td><td>149</td><td>3</td><td>LG</td><td>Silver</td></tr><tr><td>12</td><td>Cancelled</td><td>PayPal</td><td>999</td><td>2024-12-06 20:26:49</td><td>2024-12-06</td><td>5816</td><td>2</td><td>Laptop</td><td>Electronics</td><td>999</td><td>1</td><td>Sony</td><td>White</td></tr><tr><td>13</td><td>Pending</td><td>PayPal</td><td>999</td><td>2024-12-17 03:41:37</td><td>2024-12-17</td><td>4858</td><td>2</td><td>Laptop</td><td>Electronics</td><td>999</td><td>1</td><td>GoPro</td><td>Black</td></tr><tr><td>16</td><td>Pending</td><td>Bank Transfer</td><td>597</td><td>2024-12-08 22:59:48</td><td>2024-12-08</td><td>5204</td><td>3</td><td>Wireless Headphones</td><td>Electronics</td><td>199</td><td>3</td><td>Sony</td><td>Silver</td></tr><tr><td>17</td><td>Pending</td><td>Bank Transfer</td><td>998</td><td>2024-12-02 12:00:50</td><td>2024-12-02</td><td>5204</td><td>8</td><td>Gaming Console</td><td>Electronics</td><td>499</td><td>2</td><td>Dell</td><td>Black</td></tr><tr><td>24</td><td>Completed</td><td>PayPal</td><td>1199</td><td>2024-12-21 03:24:26</td><td>2024-12-21</td><td>1211</td><td>9</td><td>Smart TV</td><td>Electronics</td><td>1199</td><td>1</td><td>GoPro</td><td>Gray</td></tr><tr><td>27</td><td>Completed</td><td>Credit Card</td><td>904</td><td>2024-12-02 11:24:21</td><td>2024-12-02</td><td>2703</td><td>7</td><td>External Hard Drive</td><td>Electronics</td><td>129</td><td>2</td><td>Dell</td><td>White</td></tr><tr><td>27</td><td>Completed</td><td>Credit Card</td><td>904</td><td>2024-12-02 11:24:21</td><td>2024-12-02</td><td>2703</td><td>6</td><td>Bluetooth Speaker</td><td>Electronics</td><td>149</td><td>3</td><td>Canon</td><td>Black</td></tr><tr><td>27</td><td>Completed</td><td>Credit Card</td><td>904</td><td>2024-12-02 11:24:21</td><td>2024-12-02</td><td>2703</td><td>3</td><td>Wireless Headphones</td><td>Electronics</td><td>199</td><td>1</td><td>Microsoft</td><td>Silver</td></tr><tr><td>28</td><td>Cancelled</td><td>Credit Card</td><td>129</td><td>2024-12-26 03:17:50</td><td>2024-12-26</td><td>2703</td><td>7</td><td>External Hard Drive</td><td>Electronics</td><td>129</td><td>1</td><td>GoPro</td><td>Blue</td></tr><tr><td>32</td><td>Pending</td><td>PayPal</td><td>399</td><td>2024-12-28 08:55:57</td><td>2024-12-28</td><td>4996</td><td>5</td><td>Tablet</td><td>Electronics</td><td>399</td><td>1</td><td>Apple</td><td>Silver</td></tr><tr><td>37</td><td>Shipped</td><td>Credit Card</td><td>258</td><td>2024-12-22 10:11:49</td><td>2024-12-22</td><td>7829</td><td>7</td><td>External Hard Drive</td><td>Electronics</td><td>129</td><td>2</td><td>HP</td><td>Silver</td></tr><tr><td>38</td><td>Shipped</td><td>Credit Card</td><td>447</td><td>2024-12-25 22:05:19</td><td>2024-12-25</td><td>7829</td><td>6</td><td>Bluetooth Speaker</td><td>Electronics</td><td>149</td><td>3</td><td>Apple</td><td>Gray</td></tr><tr><td>44</td><td>Completed</td><td>Credit Card</td><td>129</td><td>2024-12-20 08:05:43</td><td>2024-12-20</td><td>7295</td><td>7</td><td>External Hard Drive</td><td>Electronics</td><td>129</td><td>1</td><td>Bose</td><td>Blue</td></tr><tr><td>49</td><td>Cancelled</td><td>PayPal</td><td>747</td><td>2024-12-07 23:24:11</td><td>2024-12-07</td><td>7803</td><td>4</td><td>Smartwatch</td><td>Electronics</td><td>299</td><td>1</td><td>HP</td><td>White</td></tr><tr><td>49</td><td>Cancelled</td><td>PayPal</td><td>747</td><td>2024-12-07 23:24:11</td><td>2024-12-07</td><td>7803</td><td>4</td><td>Smartwatch</td><td>Electronics</td><td>299</td><td>1</td><td>Canon</td><td>Blue</td></tr><tr><td>49</td><td>Cancelled</td><td>PayPal</td><td>747</td><td>2024-12-07 23:24:11</td><td>2024-12-07</td><td>7803</td><td>6</td><td>Bluetooth Speaker</td><td>Electronics</td><td>149</td><td>1</td><td>Samsung</td><td>White</td></tr><tr><td>54</td><td>Pending</td><td>Credit Card</td><td>398</td><td>2024-12-20 12:04:27</td><td>2024-12-20</td><td>2054</td><td>3</td><td>Wireless Headphones</td><td>Electronics</td><td>199</td><td>2</td><td>Bose</td><td>Gray</td></tr><tr><td>58</td><td>Completed</td><td>PayPal</td><td>699</td><td>2024-12-09 22:40:58</td><td>2024-12-09</td><td>8580</td><td>1</td><td>Smartphone</td><td>Electronics</td><td>699</td><td>1</td><td>Microsoft</td><td>Gray</td></tr><tr><td>60</td><td>Shipped</td><td>Bank Transfer</td><td>199</td><td>2024-12-13 13:10:12</td><td>2024-12-13</td><td>3409</td><td>3</td><td>Wireless Headphones</td><td>Electronics</td><td>199</td><td>1</td><td>Samsung</td><td>Blue</td></tr><tr><td>61</td><td>Completed</td><td>Bank Transfer</td><td>699</td><td>2024-12-07 07:47:19</td><td>2024-12-07</td><td>7123</td><td>1</td><td>Smartphone</td><td>Electronics</td><td>699</td><td>1</td><td>Canon</td><td>Black</td></tr><tr><td>65</td><td>Cancelled</td><td>Bank Transfer</td><td>399</td><td>2024-12-09 13:04:13</td><td>2024-12-09</td><td>3084</td><td>5</td><td>Tablet</td><td>Electronics</td><td>399</td><td>1</td><td>Microsoft</td><td>Gray</td></tr><tr><td>67</td><td>Shipped</td><td>PayPal</td><td>897</td><td>2024-12-19 07:11:09</td><td>2024-12-19</td><td>3084</td><td>4</td><td>Smartwatch</td><td>Electronics</td><td>299</td><td>3</td><td>LG</td><td>Blue</td></tr><tr><td>69</td><td>Completed</td><td>Bank Transfer</td><td>699</td><td>2024-12-30 02:42:01</td><td>2024-12-30</td><td>4973</td><td>1</td><td>Smartphone</td><td>Electronics</td><td>699</td><td>1</td><td>Dell</td><td>Gray</td></tr><tr><td>70</td><td>Shipped</td><td>PayPal</td><td>897</td><td>2024-12-04 17:17:24</td><td>2024-12-04</td><td>7997</td><td>4</td><td>Smartwatch</td><td>Electronics</td><td>299</td><td>3</td><td>Sony</td><td>Black</td></tr><tr><td>71</td><td>Completed</td><td>Bank Transfer</td><td>199</td><td>2024-12-27 11:16:39</td><td>2024-12-27</td><td>7997</td><td>3</td><td>Wireless Headphones</td><td>Electronics</td><td>199</td><td>1</td><td>Microsoft</td><td>Black</td></tr><tr><td>74</td><td>Pending</td><td>PayPal</td><td>699</td><td>2024-12-22 15:54:11</td><td>2024-12-22</td><td>6167</td><td>1</td><td>Smartphone</td><td>Electronics</td><td>699</td><td>1</td><td>Samsung</td><td>Blue</td></tr><tr><td>80</td><td>Cancelled</td><td>Bank Transfer</td><td>998</td><td>2024-12-11 07:43:54</td><td>2024-12-11</td><td>9687</td><td>8</td><td>Gaming Console</td><td>Electronics</td><td>499</td><td>2</td><td>Samsung</td><td>White</td></tr><tr><td>81</td><td>Completed</td><td>PayPal</td><td>699</td><td>2024-12-27 02:27:45</td><td>2024-12-27</td><td>9687</td><td>1</td><td>Smartphone</td><td>Electronics</td><td>699</td><td>1</td><td>GoPro</td><td>Blue</td></tr><tr><td>82</td><td>Completed</td><td>PayPal</td><td>387</td><td>2024-12-28 00:54:08</td><td>2024-12-28</td><td>2344</td><td>7</td><td>External Hard Drive</td><td>Electronics</td><td>129</td><td>3</td><td>Sony</td><td>Blue</td></tr><tr><td>91</td><td>Cancelled</td><td>Bank Transfer</td><td>699</td><td>2024-12-17 00:09:53</td><td>2024-12-17</td><td>5592</td><td>1</td><td>Smartphone</td><td>Electronics</td><td>699</td><td>1</td><td>Canon</td><td>Silver</td></tr><tr><td>93</td><td>Pending</td><td>PayPal</td><td>598</td><td>2024-12-22 05:07:46</td><td>2024-12-22</td><td>6627</td><td>4</td><td>Smartwatch</td><td>Electronics</td><td>299</td><td>2</td><td>LG</td><td>Silver</td></tr><tr><td>95</td><td>Completed</td><td>Bank Transfer</td><td>946</td><td>2024-12-28 04:28:30</td><td>2024-12-28</td><td>6627</td><td>4</td><td>Smartwatch</td><td>Electronics</td><td>299</td><td>2</td><td>GoPro</td><td>White</td></tr><tr><td>95</td><td>Completed</td><td>Bank Transfer</td><td>946</td><td>2024-12-28 04:28:30</td><td>2024-12-28</td><td>6627</td><td>3</td><td>Wireless Headphones</td><td>Electronics</td><td>199</td><td>1</td><td>Bose</td><td>Gray</td></tr><tr><td>95</td><td>Completed</td><td>Bank Transfer</td><td>946</td><td>2024-12-28 04:28:30</td><td>2024-12-28</td><td>6627</td><td>6</td><td>Bluetooth Speaker</td><td>Electronics</td><td>149</td><td>1</td><td>Dell</td><td>Silver</td></tr><tr><td>96</td><td>Shipped</td><td>PayPal</td><td>149</td><td>2024-12-02 12:27:45</td><td>2024-12-02</td><td>6406</td><td>6</td><td>Bluetooth Speaker</td><td>Electronics</td><td>149</td><td>1</td><td>Microsoft</td><td>Black</td></tr><tr><td>97</td><td>Completed</td><td>Bank Transfer</td><td>499</td><td>2024-12-07 16:14:34</td><td>2024-12-07</td><td>6406</td><td>8</td><td>Gaming Console</td><td>Electronics</td><td>499</td><td>1</td><td>Sony</td><td>Silver</td></tr><tr><td>5</td><td>Cancelled</td><td>Bank Transfer</td><td>998</td><td>2024-11-16 23:07:31</td><td>2024-11-16</td><td>3892</td><td>8</td><td>Gaming Console</td><td>Electronics</td><td>499</td><td>2</td><td>Dell</td><td>Blue</td></tr><tr><td>7</td><td>Pending</td><td>Credit Card</td><td>645</td><td>2024-11-19 19:18:48</td><td>2024-11-19</td><td>1987</td><td>7</td><td>External Hard Drive</td><td>Electronics</td><td>129</td><td>2</td><td>LG</td><td>Blue</td></tr><tr><td>7</td><td>Pending</td><td>Credit Card</td><td>645</td><td>2024-11-19 19:18:48</td><td>2024-11-19</td><td>1987</td><td>7</td><td>External Hard Drive</td><td>Electronics</td><td>129</td><td>3</td><td>HP</td><td>Gray</td></tr><tr><td>9</td><td>Shipped</td><td>Bank Transfer</td><td>999</td><td>2024-11-27 13:15:29</td><td>2024-11-27</td><td>9179</td><td>2</td><td>Laptop</td><td>Electronics</td><td>999</td><td>1</td><td>Apple</td><td>Black</td></tr><tr><td>20</td><td>Pending</td><td>PayPal</td><td>798</td><td>2024-11-18 02:38:21</td><td>2024-11-18</td><td>8539</td><td>5</td><td>Tablet</td><td>Electronics</td><td>399</td><td>2</td><td>Sony</td><td>Silver</td></tr><tr><td>21</td><td>Cancelled</td><td>Bank Transfer</td><td>298</td><td>2024-11-21 11:25:35</td><td>2024-11-21</td><td>8539</td><td>6</td><td>Bluetooth Speaker</td><td>Electronics</td><td>149</td><td>2</td><td>GoPro</td><td>Blue</td></tr><tr><td>23</td><td>Shipped</td><td>PayPal</td><td>997</td><td>2024-11-22 16:04:05</td><td>2024-11-22</td><td>4761</td><td>5</td><td>Tablet</td><td>Electronics</td><td>399</td><td>1</td><td>Apple</td><td>Gray</td></tr><tr><td>23</td><td>Shipped</td><td>PayPal</td><td>997</td><td>2024-11-22 16:04:05</td><td>2024-11-22</td><td>4761</td><td>4</td><td>Smartwatch</td><td>Electronics</td><td>299</td><td>2</td><td>Dell</td><td>Gray</td></tr><tr><td>25</td><td>Completed</td><td>PayPal</td><td>999</td><td>2024-11-05 11:45:31</td><td>2024-11-05</td><td>9706</td><td>2</td><td>Laptop</td><td>Electronics</td><td>999</td><td>1</td><td>LG</td><td>Gray</td></tr><tr><td>30</td><td>Shipped</td><td>Bank Transfer</td><td>199</td><td>2024-11-12 03:20:29</td><td>2024-11-12</td><td>4996</td><td>3</td><td>Wireless Headphones</td><td>Electronics</td><td>199</td><td>1</td><td>GoPro</td><td>White</td></tr><tr><td>35</td><td>Shipped</td><td>Bank Transfer</td><td>199</td><td>2024-11-20 19:09:04</td><td>2024-11-20</td><td>4914</td><td>3</td><td>Wireless Headphones</td><td>Electronics</td><td>199</td><td>1</td><td>Dell</td><td>Gray</td></tr><tr><td>36</td><td>Completed</td><td>PayPal</td><td>199</td><td>2024-11-02 10:39:46</td><td>2024-11-02</td><td>4914</td><td>3</td><td>Wireless Headphones</td><td>Electronics</td><td>199</td><td>1</td><td>Canon</td><td>Silver</td></tr><tr><td>42</td><td>Completed</td><td>Credit Card</td><td>149</td><td>2024-11-08 18:32:25</td><td>2024-11-08</td><td>5028</td><td>6</td><td>Bluetooth Speaker</td><td>Electronics</td><td>149</td><td>1</td><td>Bose</td><td>Gray</td></tr><tr><td>45</td><td>Shipped</td><td>Credit Card</td><td>799</td><td>2024-11-07 15:41:43</td><td>2024-11-07</td><td>7295</td><td>10</td><td>Drone</td><td>Electronics</td><td>799</td><td>1</td><td>Dell</td><td>White</td></tr><tr><td>46</td><td>Pending</td><td>PayPal</td><td>199</td><td>2024-11-26 17:16:53</td><td>2024-11-26</td><td>7295</td><td>3</td><td>Wireless Headphones</td><td>Electronics</td><td>199</td><td>1</td><td>Samsung</td><td>Black</td></tr><tr><td>47</td><td>Shipped</td><td>Credit Card</td><td>298</td><td>2024-11-22 02:01:19</td><td>2024-11-22</td><td>7803</td><td>6</td><td>Bluetooth Speaker</td><td>Electronics</td><td>149</td><td>2</td><td>LG</td><td>Blue</td></tr><tr><td>48</td><td>Completed</td><td>PayPal</td><td>387</td><td>2024-11-13 06:35:56</td><td>2024-11-13</td><td>7803</td><td>7</td><td>External Hard Drive</td><td>Electronics</td><td>129</td><td>3</td><td>Apple</td><td>Black</td></tr><tr><td>52</td><td>Completed</td><td>PayPal</td><td>998</td><td>2024-11-19 21:23:45</td><td>2024-11-19</td><td>8845</td><td>8</td><td>Gaming Console</td><td>Electronics</td><td>499</td><td>2</td><td>GoPro</td><td>White</td></tr><tr><td>57</td><td>Cancelled</td><td>Bank Transfer</td><td>586</td><td>2024-11-19 11:32:44</td><td>2024-11-19</td><td>8580</td><td>3</td><td>Wireless Headphones</td><td>Electronics</td><td>199</td><td>1</td><td>HP</td><td>Silver</td></tr><tr><td>57</td><td>Cancelled</td><td>Bank Transfer</td><td>586</td><td>2024-11-19 11:32:44</td><td>2024-11-19</td><td>8580</td><td>7</td><td>External Hard Drive</td><td>Electronics</td><td>129</td><td>3</td><td>Sony</td><td>Silver</td></tr><tr><td>63</td><td>Cancelled</td><td>Bank Transfer</td><td>646</td><td>2024-11-24 08:41:28</td><td>2024-11-24</td><td>7123</td><td>3</td><td>Wireless Headphones</td><td>Electronics</td><td>199</td><td>1</td><td>GoPro</td><td>Blue</td></tr><tr><td>63</td><td>Cancelled</td><td>Bank Transfer</td><td>646</td><td>2024-11-24 08:41:28</td><td>2024-11-24</td><td>7123</td><td>6</td><td>Bluetooth Speaker</td><td>Electronics</td><td>149</td><td>3</td><td>Bose</td><td>Silver</td></tr><tr><td>64</td><td>Completed</td><td>Bank Transfer</td><td>984</td><td>2024-11-28 12:23:21</td><td>2024-11-28</td><td>2639</td><td>7</td><td>External Hard Drive</td><td>Electronics</td><td>129</td><td>3</td><td>Microsoft</td><td>White</td></tr><tr><td>64</td><td>Completed</td><td>Bank Transfer</td><td>984</td><td>2024-11-28 12:23:21</td><td>2024-11-28</td><td>2639</td><td>3</td><td>Wireless Headphones</td><td>Electronics</td><td>199</td><td>3</td><td>Canon</td><td>Blue</td></tr><tr><td>88</td><td>Cancelled</td><td>Bank Transfer</td><td>387</td><td>2024-11-15 11:39:44</td><td>2024-11-15</td><td>9247</td><td>7</td><td>External Hard Drive</td><td>Electronics</td><td>129</td><td>3</td><td>Bose</td><td>White</td></tr><tr><td>89</td><td>Cancelled</td><td>Bank Transfer</td><td>149</td><td>2024-11-22 12:09:15</td><td>2024-11-22</td><td>9247</td><td>6</td><td>Bluetooth Speaker</td><td>Electronics</td><td>149</td><td>1</td><td>GoPro</td><td>Silver</td></tr><tr><td>92</td><td>Shipped</td><td>PayPal</td><td>258</td><td>2024-11-24 23:33:21</td><td>2024-11-24</td><td>5592</td><td>7</td><td>External Hard Drive</td><td>Electronics</td><td>129</td><td>2</td><td>Sony</td><td>Black</td></tr><tr><td>6</td><td>Pending</td><td>Credit Card</td><td>799</td><td>2024-10-28 04:47:27</td><td>2024-10-28</td><td>1987</td><td>10</td><td>Drone</td><td>Electronics</td><td>799</td><td>1</td><td>GoPro</td><td>Black</td></tr><tr><td>10</td><td>Pending</td><td>Credit Card</td><td>399</td><td>2024-10-07 22:09:27</td><td>2024-10-07</td><td>5816</td><td>5</td><td>Tablet</td><td>Electronics</td><td>399</td><td>1</td><td>GoPro</td><td>White</td></tr><tr><td>11</td><td>Pending</td><td>Bank Transfer</td><td>897</td><td>2024-10-13 17:34:19</td><td>2024-10-13</td><td>5816</td><td>4</td><td>Smartwatch</td><td>Electronics</td><td>299</td><td>3</td><td>Canon</td><td>White</td></tr><tr><td>15</td><td>Completed</td><td>Bank Transfer</td><td>1199</td><td>2024-10-20 01:47:25</td><td>2024-10-20</td><td>7207</td><td>9</td><td>Smart TV</td><td>Electronics</td><td>1199</td><td>1</td><td>GoPro</td><td>White</td></tr><tr><td>19</td><td>Shipped</td><td>PayPal</td><td>499</td><td>2024-10-13 12:40:26</td><td>2024-10-13</td><td>8539</td><td>8</td><td>Gaming Console</td><td>Electronics</td><td>499</td><td>1</td><td>Dell</td><td>Silver</td></tr><tr><td>39</td><td>Shipped</td><td>PayPal</td><td>387</td><td>2024-10-29 21:39:19</td><td>2024-10-29</td><td>9263</td><td>7</td><td>External Hard Drive</td><td>Electronics</td><td>129</td><td>3</td><td>Sony</td><td>Black</td></tr><tr><td>55</td><td>Shipped</td><td>Bank Transfer</td><td>699</td><td>2024-10-25 05:49:16</td><td>2024-10-25</td><td>9018</td><td>1</td><td>Smartphone</td><td>Electronics</td><td>699</td><td>1</td><td>HP</td><td>Black</td></tr><tr><td>59</td><td>Pending</td><td>PayPal</td><td>499</td><td>2024-10-23 02:51:05</td><td>2024-10-23</td><td>3409</td><td>8</td><td>Gaming Console</td><td>Electronics</td><td>499</td><td>1</td><td>Dell</td><td>Black</td></tr><tr><td>72</td><td>Cancelled</td><td>PayPal</td><td>328</td><td>2024-10-06 10:23:28</td><td>2024-10-06</td><td>3889</td><td>3</td><td>Wireless Headphones</td><td>Electronics</td><td>199</td><td>1</td><td>Microsoft</td><td>Gray</td></tr><tr><td>72</td><td>Cancelled</td><td>PayPal</td><td>328</td><td>2024-10-06 10:23:28</td><td>2024-10-06</td><td>3889</td><td>7</td><td>External Hard Drive</td><td>Electronics</td><td>129</td><td>1</td><td>Samsung</td><td>Silver</td></tr><tr><td>77</td><td>Pending</td><td>Credit Card</td><td>398</td><td>2024-10-15 13:09:33</td><td>2024-10-15</td><td>9084</td><td>3</td><td>Wireless Headphones</td><td>Electronics</td><td>199</td><td>2</td><td>HP</td><td>Silver</td></tr><tr><td>84</td><td>Completed</td><td>PayPal</td><td>998</td><td>2024-10-25 03:37:42</td><td>2024-10-25</td><td>2344</td><td>10</td><td>Drone</td><td>Electronics</td><td>799</td><td>1</td><td>Sony</td><td>Black</td></tr><tr><td>84</td><td>Completed</td><td>PayPal</td><td>998</td><td>2024-10-25 03:37:42</td><td>2024-10-25</td><td>2344</td><td>3</td><td>Wireless Headphones</td><td>Electronics</td><td>199</td><td>1</td><td>LG</td><td>Black</td></tr><tr><td>85</td><td>Shipped</td><td>Bank Transfer</td><td>998</td><td>2024-10-23 20:06:42</td><td>2024-10-23</td><td>5011</td><td>8</td><td>Gaming Console</td><td>Electronics</td><td>499</td><td>2</td><td>GoPro</td><td>Black</td></tr><tr><td>86</td><td>Completed</td><td>PayPal</td><td>1199</td><td>2024-10-19 13:30:47</td><td>2024-10-19</td><td>5011</td><td>9</td><td>Smart TV</td><td>Electronics</td><td>1199</td><td>1</td><td>Dell</td><td>White</td></tr></tbody></table></div>"
      ]
     },
     "metadata": {
      "application/vnd.databricks.v1+output": {
       "addedWidgets": {},
       "aggData": [],
       "aggError": "",
       "aggOverflow": false,
       "aggSchema": [],
       "aggSeriesLimitReached": false,
       "aggType": "",
       "arguments": {},
       "columnCustomDisplayInfos": {},
       "data": [
        [
         1,
         "Completed",
         "Bank Transfer",
         499,
         "2025-01-05 10:13:59",
         "2025-01-05",
         6973,
         8,
         "Gaming Console",
         "Electronics",
         499,
         1,
         "Sony",
         "Blue"
        ],
        [
         2,
         "Cancelled",
         "PayPal",
         985,
         "2025-01-19 00:05:13",
         "2025-01-19",
         3532,
         4,
         "Smartwatch",
         "Electronics",
         299,
         2,
         "Canon",
         "Gray"
        ],
        [
         2,
         "Cancelled",
         "PayPal",
         985,
         "2025-01-19 00:05:13",
         "2025-01-19",
         3532,
         7,
         "External Hard Drive",
         "Electronics",
         129,
         3,
         "Dell",
         "Blue"
        ],
        [
         3,
         "Completed",
         "Bank Transfer",
         597,
         "2025-01-08 23:11:00",
         "2025-01-08",
         3532,
         3,
         "Wireless Headphones",
         "Electronics",
         199,
         3,
         "Apple",
         "White"
        ],
        [
         4,
         "Cancelled",
         "Bank Transfer",
         999,
         "2025-01-05 05:49:26",
         "2025-01-05",
         3532,
         2,
         "Laptop",
         "Electronics",
         999,
         1,
         "Microsoft",
         "Black"
        ],
        [
         8,
         "Completed",
         "PayPal",
         399,
         "2025-01-02 13:11:15",
         "2025-01-02",
         9179,
         5,
         "Tablet",
         "Electronics",
         399,
         1,
         "LG",
         "White"
        ],
        [
         14,
         "Cancelled",
         "PayPal",
         597,
         "2025-01-01 18:22:26",
         "2025-01-01",
         7207,
         3,
         "Wireless Headphones",
         "Electronics",
         199,
         3,
         "Bose",
         "Blue"
        ],
        [
         18,
         "Pending",
         "Credit Card",
         799,
         "2025-01-22 21:12:08",
         "2025-01-22",
         4468,
         10,
         "Drone",
         "Electronics",
         799,
         1,
         "Dell",
         "Black"
        ],
        [
         22,
         "Pending",
         "PayPal",
         199,
         "2025-01-01 15:49:19",
         "2025-01-01",
         4761,
         3,
         "Wireless Headphones",
         "Electronics",
         199,
         1,
         "HP",
         "Silver"
        ],
        [
         26,
         "Shipped",
         "Bank Transfer",
         699,
         "2025-01-05 19:01:25",
         "2025-01-05",
         7007,
         1,
         "Smartphone",
         "Electronics",
         699,
         1,
         "Samsung",
         "Silver"
        ],
        [
         29,
         "Pending",
         "Bank Transfer",
         129,
         "2025-01-18 03:05:04",
         "2025-01-18",
         5953,
         7,
         "External Hard Drive",
         "Electronics",
         129,
         1,
         "Bose",
         "Gray"
        ],
        [
         31,
         "Shipped",
         "Bank Transfer",
         299,
         "2025-01-18 03:13:29",
         "2025-01-18",
         4996,
         4,
         "Smartwatch",
         "Electronics",
         299,
         1,
         "Dell",
         "White"
        ],
        [
         33,
         "Completed",
         "PayPal",
         897,
         "2025-01-13 04:47:43",
         "2025-01-13",
         9605,
         4,
         "Smartwatch",
         "Electronics",
         299,
         3,
         "Canon",
         "White"
        ],
        [
         34,
         "Cancelled",
         "PayPal",
         926,
         "2025-01-21 00:25:01",
         "2025-01-21",
         9605,
         6,
         "Bluetooth Speaker",
         "Electronics",
         149,
         2,
         "Bose",
         "Silver"
        ],
        [
         34,
         "Cancelled",
         "PayPal",
         926,
         "2025-01-21 00:25:01",
         "2025-01-21",
         9605,
         8,
         "Gaming Console",
         "Electronics",
         499,
         1,
         "LG",
         "Black"
        ],
        [
         34,
         "Cancelled",
         "PayPal",
         926,
         "2025-01-21 00:25:01",
         "2025-01-21",
         9605,
         7,
         "External Hard Drive",
         "Electronics",
         129,
         1,
         "Samsung",
         "Black"
        ],
        [
         40,
         "Completed",
         "PayPal",
         298,
         "2025-01-20 16:18:35",
         "2025-01-20",
         6384,
         6,
         "Bluetooth Speaker",
         "Electronics",
         149,
         2,
         "Bose",
         "Silver"
        ],
        [
         41,
         "Shipped",
         "Credit Card",
         999,
         "2025-01-05 06:10:22",
         "2025-01-05",
         6384,
         2,
         "Laptop",
         "Electronics",
         999,
         1,
         "Sony",
         "Silver"
        ],
        [
         43,
         "Pending",
         "PayPal",
         499,
         "2025-01-24 18:10:37",
         "2025-01-24",
         5028,
         8,
         "Gaming Console",
         "Electronics",
         499,
         1,
         "LG",
         "Black"
        ],
        [
         50,
         "Shipped",
         "Credit Card",
         746,
         "2025-01-11 01:19:09",
         "2025-01-11",
         3712,
         6,
         "Bluetooth Speaker",
         "Electronics",
         149,
         3,
         "Apple",
         "Gray"
        ],
        [
         50,
         "Shipped",
         "Credit Card",
         746,
         "2025-01-11 01:19:09",
         "2025-01-11",
         3712,
         4,
         "Smartwatch",
         "Electronics",
         299,
         1,
         "Sony",
         "White"
        ],
        [
         51,
         "Completed",
         "PayPal",
         149,
         "2025-01-21 13:19:59",
         "2025-01-21",
         8845,
         6,
         "Bluetooth Speaker",
         "Electronics",
         149,
         1,
         "Samsung",
         "Gray"
        ],
        [
         53,
         "Pending",
         "Bank Transfer",
         199,
         "2025-01-21 08:31:02",
         "2025-01-21",
         8845,
         3,
         "Wireless Headphones",
         "Electronics",
         199,
         1,
         "Apple",
         "Black"
        ],
        [
         56,
         "Cancelled",
         "PayPal",
         698,
         "2025-01-01 12:02:41",
         "2025-01-01",
         8580,
         3,
         "Wireless Headphones",
         "Electronics",
         199,
         1,
         "HP",
         "Silver"
        ],
        [
         56,
         "Cancelled",
         "PayPal",
         698,
         "2025-01-01 12:02:41",
         "2025-01-01",
         8580,
         8,
         "Gaming Console",
         "Electronics",
         499,
         1,
         "LG",
         "Gray"
        ],
        [
         62,
         "Completed",
         "Bank Transfer",
         985,
         "2025-01-24 12:00:54",
         "2025-01-24",
         7123,
         7,
         "External Hard Drive",
         "Electronics",
         129,
         3,
         "Dell",
         "White"
        ],
        [
         62,
         "Completed",
         "Bank Transfer",
         985,
         "2025-01-24 12:00:54",
         "2025-01-24",
         7123,
         4,
         "Smartwatch",
         "Electronics",
         299,
         2,
         "GoPro",
         "Blue"
        ],
        [
         66,
         "Cancelled",
         "Credit Card",
         598,
         "2025-01-17 21:16:11",
         "2025-01-17",
         3084,
         4,
         "Smartwatch",
         "Electronics",
         299,
         1,
         "Bose",
         "Silver"
        ],
        [
         66,
         "Cancelled",
         "Credit Card",
         598,
         "2025-01-17 21:16:11",
         "2025-01-17",
         3084,
         4,
         "Smartwatch",
         "Electronics",
         299,
         1,
         "GoPro",
         "White"
        ],
        [
         68,
         "Completed",
         "Bank Transfer",
         149,
         "2025-01-10 20:35:43",
         "2025-01-10",
         4973,
         6,
         "Bluetooth Speaker",
         "Electronics",
         149,
         1,
         "Bose",
         "Gray"
        ],
        [
         73,
         "Shipped",
         "Credit Card",
         387,
         "2025-01-07 01:02:26",
         "2025-01-07",
         6167,
         7,
         "External Hard Drive",
         "Electronics",
         129,
         3,
         "GoPro",
         "Gray"
        ],
        [
         75,
         "Shipped",
         "Credit Card",
         699,
         "2025-01-19 16:23:16",
         "2025-01-19",
         6167,
         1,
         "Smartphone",
         "Electronics",
         699,
         1,
         "GoPro",
         "White"
        ],
        [
         76,
         "Completed",
         "Bank Transfer",
         399,
         "2025-01-06 02:54:39",
         "2025-01-06",
         3295,
         5,
         "Tablet",
         "Electronics",
         399,
         1,
         "Microsoft",
         "Silver"
        ],
        [
         78,
         "Cancelled",
         "PayPal",
         798,
         "2025-01-21 11:42:51",
         "2025-01-21",
         9084,
         5,
         "Tablet",
         "Electronics",
         399,
         2,
         "Dell",
         "White"
        ],
        [
         79,
         "Cancelled",
         "Credit Card",
         998,
         "2025-01-25 03:52:05",
         "2025-01-25",
         9084,
         8,
         "Gaming Console",
         "Electronics",
         499,
         2,
         "Dell",
         "Gray"
        ],
        [
         83,
         "Shipped",
         "PayPal",
         785,
         "2025-01-07 12:48:05",
         "2025-01-07",
         2344,
         7,
         "External Hard Drive",
         "Electronics",
         129,
         3,
         "Canon",
         "Gray"
        ],
        [
         83,
         "Shipped",
         "PayPal",
         785,
         "2025-01-07 12:48:05",
         "2025-01-07",
         2344,
         3,
         "Wireless Headphones",
         "Electronics",
         199,
         2,
         "Sony",
         "Black"
        ],
        [
         87,
         "Pending",
         "PayPal",
         129,
         "2025-01-02 04:28:38",
         "2025-01-02",
         2141,
         7,
         "External Hard Drive",
         "Electronics",
         129,
         1,
         "Apple",
         "Blue"
        ],
        [
         90,
         "Pending",
         "Credit Card",
         258,
         "2025-01-17 14:30:54",
         "2025-01-17",
         9247,
         7,
         "External Hard Drive",
         "Electronics",
         129,
         1,
         "Canon",
         "White"
        ],
        [
         90,
         "Pending",
         "Credit Card",
         258,
         "2025-01-17 14:30:54",
         "2025-01-17",
         9247,
         7,
         "External Hard Drive",
         "Electronics",
         129,
         1,
         "Samsung",
         "Black"
        ],
        [
         94,
         "Pending",
         "Credit Card",
         895,
         "2025-01-10 09:51:48",
         "2025-01-10",
         6627,
         6,
         "Bluetooth Speaker",
         "Electronics",
         149,
         2,
         "Sony",
         "Black"
        ],
        [
         94,
         "Pending",
         "Credit Card",
         895,
         "2025-01-10 09:51:48",
         "2025-01-10",
         6627,
         3,
         "Wireless Headphones",
         "Electronics",
         199,
         3,
         "Apple",
         "Blue"
        ],
        [
         98,
         "Completed",
         "Credit Card",
         985,
         "2025-01-08 05:57:55",
         "2025-01-08",
         9150,
         7,
         "External Hard Drive",
         "Electronics",
         129,
         3,
         "HP",
         "Blue"
        ],
        [
         98,
         "Completed",
         "Credit Card",
         985,
         "2025-01-08 05:57:55",
         "2025-01-08",
         9150,
         4,
         "Smartwatch",
         "Electronics",
         299,
         2,
         "Samsung",
         "Gray"
        ],
        [
         99,
         "Shipped",
         "Credit Card",
         699,
         "2025-01-10 21:43:46",
         "2025-01-10",
         9150,
         1,
         "Smartphone",
         "Electronics",
         699,
         1,
         "Bose",
         "Gray"
        ],
        [
         100,
         "Shipped",
         "PayPal",
         447,
         "2025-01-04 06:40:13",
         "2025-01-04",
         9150,
         6,
         "Bluetooth Speaker",
         "Electronics",
         149,
         3,
         "LG",
         "Silver"
        ],
        [
         12,
         "Cancelled",
         "PayPal",
         999,
         "2024-12-06 20:26:49",
         "2024-12-06",
         5816,
         2,
         "Laptop",
         "Electronics",
         999,
         1,
         "Sony",
         "White"
        ],
        [
         13,
         "Pending",
         "PayPal",
         999,
         "2024-12-17 03:41:37",
         "2024-12-17",
         4858,
         2,
         "Laptop",
         "Electronics",
         999,
         1,
         "GoPro",
         "Black"
        ],
        [
         16,
         "Pending",
         "Bank Transfer",
         597,
         "2024-12-08 22:59:48",
         "2024-12-08",
         5204,
         3,
         "Wireless Headphones",
         "Electronics",
         199,
         3,
         "Sony",
         "Silver"
        ],
        [
         17,
         "Pending",
         "Bank Transfer",
         998,
         "2024-12-02 12:00:50",
         "2024-12-02",
         5204,
         8,
         "Gaming Console",
         "Electronics",
         499,
         2,
         "Dell",
         "Black"
        ],
        [
         24,
         "Completed",
         "PayPal",
         1199,
         "2024-12-21 03:24:26",
         "2024-12-21",
         1211,
         9,
         "Smart TV",
         "Electronics",
         1199,
         1,
         "GoPro",
         "Gray"
        ],
        [
         27,
         "Completed",
         "Credit Card",
         904,
         "2024-12-02 11:24:21",
         "2024-12-02",
         2703,
         7,
         "External Hard Drive",
         "Electronics",
         129,
         2,
         "Dell",
         "White"
        ],
        [
         27,
         "Completed",
         "Credit Card",
         904,
         "2024-12-02 11:24:21",
         "2024-12-02",
         2703,
         6,
         "Bluetooth Speaker",
         "Electronics",
         149,
         3,
         "Canon",
         "Black"
        ],
        [
         27,
         "Completed",
         "Credit Card",
         904,
         "2024-12-02 11:24:21",
         "2024-12-02",
         2703,
         3,
         "Wireless Headphones",
         "Electronics",
         199,
         1,
         "Microsoft",
         "Silver"
        ],
        [
         28,
         "Cancelled",
         "Credit Card",
         129,
         "2024-12-26 03:17:50",
         "2024-12-26",
         2703,
         7,
         "External Hard Drive",
         "Electronics",
         129,
         1,
         "GoPro",
         "Blue"
        ],
        [
         32,
         "Pending",
         "PayPal",
         399,
         "2024-12-28 08:55:57",
         "2024-12-28",
         4996,
         5,
         "Tablet",
         "Electronics",
         399,
         1,
         "Apple",
         "Silver"
        ],
        [
         37,
         "Shipped",
         "Credit Card",
         258,
         "2024-12-22 10:11:49",
         "2024-12-22",
         7829,
         7,
         "External Hard Drive",
         "Electronics",
         129,
         2,
         "HP",
         "Silver"
        ],
        [
         38,
         "Shipped",
         "Credit Card",
         447,
         "2024-12-25 22:05:19",
         "2024-12-25",
         7829,
         6,
         "Bluetooth Speaker",
         "Electronics",
         149,
         3,
         "Apple",
         "Gray"
        ],
        [
         44,
         "Completed",
         "Credit Card",
         129,
         "2024-12-20 08:05:43",
         "2024-12-20",
         7295,
         7,
         "External Hard Drive",
         "Electronics",
         129,
         1,
         "Bose",
         "Blue"
        ],
        [
         49,
         "Cancelled",
         "PayPal",
         747,
         "2024-12-07 23:24:11",
         "2024-12-07",
         7803,
         4,
         "Smartwatch",
         "Electronics",
         299,
         1,
         "HP",
         "White"
        ],
        [
         49,
         "Cancelled",
         "PayPal",
         747,
         "2024-12-07 23:24:11",
         "2024-12-07",
         7803,
         4,
         "Smartwatch",
         "Electronics",
         299,
         1,
         "Canon",
         "Blue"
        ],
        [
         49,
         "Cancelled",
         "PayPal",
         747,
         "2024-12-07 23:24:11",
         "2024-12-07",
         7803,
         6,
         "Bluetooth Speaker",
         "Electronics",
         149,
         1,
         "Samsung",
         "White"
        ],
        [
         54,
         "Pending",
         "Credit Card",
         398,
         "2024-12-20 12:04:27",
         "2024-12-20",
         2054,
         3,
         "Wireless Headphones",
         "Electronics",
         199,
         2,
         "Bose",
         "Gray"
        ],
        [
         58,
         "Completed",
         "PayPal",
         699,
         "2024-12-09 22:40:58",
         "2024-12-09",
         8580,
         1,
         "Smartphone",
         "Electronics",
         699,
         1,
         "Microsoft",
         "Gray"
        ],
        [
         60,
         "Shipped",
         "Bank Transfer",
         199,
         "2024-12-13 13:10:12",
         "2024-12-13",
         3409,
         3,
         "Wireless Headphones",
         "Electronics",
         199,
         1,
         "Samsung",
         "Blue"
        ],
        [
         61,
         "Completed",
         "Bank Transfer",
         699,
         "2024-12-07 07:47:19",
         "2024-12-07",
         7123,
         1,
         "Smartphone",
         "Electronics",
         699,
         1,
         "Canon",
         "Black"
        ],
        [
         65,
         "Cancelled",
         "Bank Transfer",
         399,
         "2024-12-09 13:04:13",
         "2024-12-09",
         3084,
         5,
         "Tablet",
         "Electronics",
         399,
         1,
         "Microsoft",
         "Gray"
        ],
        [
         67,
         "Shipped",
         "PayPal",
         897,
         "2024-12-19 07:11:09",
         "2024-12-19",
         3084,
         4,
         "Smartwatch",
         "Electronics",
         299,
         3,
         "LG",
         "Blue"
        ],
        [
         69,
         "Completed",
         "Bank Transfer",
         699,
         "2024-12-30 02:42:01",
         "2024-12-30",
         4973,
         1,
         "Smartphone",
         "Electronics",
         699,
         1,
         "Dell",
         "Gray"
        ],
        [
         70,
         "Shipped",
         "PayPal",
         897,
         "2024-12-04 17:17:24",
         "2024-12-04",
         7997,
         4,
         "Smartwatch",
         "Electronics",
         299,
         3,
         "Sony",
         "Black"
        ],
        [
         71,
         "Completed",
         "Bank Transfer",
         199,
         "2024-12-27 11:16:39",
         "2024-12-27",
         7997,
         3,
         "Wireless Headphones",
         "Electronics",
         199,
         1,
         "Microsoft",
         "Black"
        ],
        [
         74,
         "Pending",
         "PayPal",
         699,
         "2024-12-22 15:54:11",
         "2024-12-22",
         6167,
         1,
         "Smartphone",
         "Electronics",
         699,
         1,
         "Samsung",
         "Blue"
        ],
        [
         80,
         "Cancelled",
         "Bank Transfer",
         998,
         "2024-12-11 07:43:54",
         "2024-12-11",
         9687,
         8,
         "Gaming Console",
         "Electronics",
         499,
         2,
         "Samsung",
         "White"
        ],
        [
         81,
         "Completed",
         "PayPal",
         699,
         "2024-12-27 02:27:45",
         "2024-12-27",
         9687,
         1,
         "Smartphone",
         "Electronics",
         699,
         1,
         "GoPro",
         "Blue"
        ],
        [
         82,
         "Completed",
         "PayPal",
         387,
         "2024-12-28 00:54:08",
         "2024-12-28",
         2344,
         7,
         "External Hard Drive",
         "Electronics",
         129,
         3,
         "Sony",
         "Blue"
        ],
        [
         91,
         "Cancelled",
         "Bank Transfer",
         699,
         "2024-12-17 00:09:53",
         "2024-12-17",
         5592,
         1,
         "Smartphone",
         "Electronics",
         699,
         1,
         "Canon",
         "Silver"
        ],
        [
         93,
         "Pending",
         "PayPal",
         598,
         "2024-12-22 05:07:46",
         "2024-12-22",
         6627,
         4,
         "Smartwatch",
         "Electronics",
         299,
         2,
         "LG",
         "Silver"
        ],
        [
         95,
         "Completed",
         "Bank Transfer",
         946,
         "2024-12-28 04:28:30",
         "2024-12-28",
         6627,
         4,
         "Smartwatch",
         "Electronics",
         299,
         2,
         "GoPro",
         "White"
        ],
        [
         95,
         "Completed",
         "Bank Transfer",
         946,
         "2024-12-28 04:28:30",
         "2024-12-28",
         6627,
         3,
         "Wireless Headphones",
         "Electronics",
         199,
         1,
         "Bose",
         "Gray"
        ],
        [
         95,
         "Completed",
         "Bank Transfer",
         946,
         "2024-12-28 04:28:30",
         "2024-12-28",
         6627,
         6,
         "Bluetooth Speaker",
         "Electronics",
         149,
         1,
         "Dell",
         "Silver"
        ],
        [
         96,
         "Shipped",
         "PayPal",
         149,
         "2024-12-02 12:27:45",
         "2024-12-02",
         6406,
         6,
         "Bluetooth Speaker",
         "Electronics",
         149,
         1,
         "Microsoft",
         "Black"
        ],
        [
         97,
         "Completed",
         "Bank Transfer",
         499,
         "2024-12-07 16:14:34",
         "2024-12-07",
         6406,
         8,
         "Gaming Console",
         "Electronics",
         499,
         1,
         "Sony",
         "Silver"
        ],
        [
         5,
         "Cancelled",
         "Bank Transfer",
         998,
         "2024-11-16 23:07:31",
         "2024-11-16",
         3892,
         8,
         "Gaming Console",
         "Electronics",
         499,
         2,
         "Dell",
         "Blue"
        ],
        [
         7,
         "Pending",
         "Credit Card",
         645,
         "2024-11-19 19:18:48",
         "2024-11-19",
         1987,
         7,
         "External Hard Drive",
         "Electronics",
         129,
         2,
         "LG",
         "Blue"
        ],
        [
         7,
         "Pending",
         "Credit Card",
         645,
         "2024-11-19 19:18:48",
         "2024-11-19",
         1987,
         7,
         "External Hard Drive",
         "Electronics",
         129,
         3,
         "HP",
         "Gray"
        ],
        [
         9,
         "Shipped",
         "Bank Transfer",
         999,
         "2024-11-27 13:15:29",
         "2024-11-27",
         9179,
         2,
         "Laptop",
         "Electronics",
         999,
         1,
         "Apple",
         "Black"
        ],
        [
         20,
         "Pending",
         "PayPal",
         798,
         "2024-11-18 02:38:21",
         "2024-11-18",
         8539,
         5,
         "Tablet",
         "Electronics",
         399,
         2,
         "Sony",
         "Silver"
        ],
        [
         21,
         "Cancelled",
         "Bank Transfer",
         298,
         "2024-11-21 11:25:35",
         "2024-11-21",
         8539,
         6,
         "Bluetooth Speaker",
         "Electronics",
         149,
         2,
         "GoPro",
         "Blue"
        ],
        [
         23,
         "Shipped",
         "PayPal",
         997,
         "2024-11-22 16:04:05",
         "2024-11-22",
         4761,
         5,
         "Tablet",
         "Electronics",
         399,
         1,
         "Apple",
         "Gray"
        ],
        [
         23,
         "Shipped",
         "PayPal",
         997,
         "2024-11-22 16:04:05",
         "2024-11-22",
         4761,
         4,
         "Smartwatch",
         "Electronics",
         299,
         2,
         "Dell",
         "Gray"
        ],
        [
         25,
         "Completed",
         "PayPal",
         999,
         "2024-11-05 11:45:31",
         "2024-11-05",
         9706,
         2,
         "Laptop",
         "Electronics",
         999,
         1,
         "LG",
         "Gray"
        ],
        [
         30,
         "Shipped",
         "Bank Transfer",
         199,
         "2024-11-12 03:20:29",
         "2024-11-12",
         4996,
         3,
         "Wireless Headphones",
         "Electronics",
         199,
         1,
         "GoPro",
         "White"
        ],
        [
         35,
         "Shipped",
         "Bank Transfer",
         199,
         "2024-11-20 19:09:04",
         "2024-11-20",
         4914,
         3,
         "Wireless Headphones",
         "Electronics",
         199,
         1,
         "Dell",
         "Gray"
        ],
        [
         36,
         "Completed",
         "PayPal",
         199,
         "2024-11-02 10:39:46",
         "2024-11-02",
         4914,
         3,
         "Wireless Headphones",
         "Electronics",
         199,
         1,
         "Canon",
         "Silver"
        ],
        [
         42,
         "Completed",
         "Credit Card",
         149,
         "2024-11-08 18:32:25",
         "2024-11-08",
         5028,
         6,
         "Bluetooth Speaker",
         "Electronics",
         149,
         1,
         "Bose",
         "Gray"
        ],
        [
         45,
         "Shipped",
         "Credit Card",
         799,
         "2024-11-07 15:41:43",
         "2024-11-07",
         7295,
         10,
         "Drone",
         "Electronics",
         799,
         1,
         "Dell",
         "White"
        ],
        [
         46,
         "Pending",
         "PayPal",
         199,
         "2024-11-26 17:16:53",
         "2024-11-26",
         7295,
         3,
         "Wireless Headphones",
         "Electronics",
         199,
         1,
         "Samsung",
         "Black"
        ],
        [
         47,
         "Shipped",
         "Credit Card",
         298,
         "2024-11-22 02:01:19",
         "2024-11-22",
         7803,
         6,
         "Bluetooth Speaker",
         "Electronics",
         149,
         2,
         "LG",
         "Blue"
        ],
        [
         48,
         "Completed",
         "PayPal",
         387,
         "2024-11-13 06:35:56",
         "2024-11-13",
         7803,
         7,
         "External Hard Drive",
         "Electronics",
         129,
         3,
         "Apple",
         "Black"
        ],
        [
         52,
         "Completed",
         "PayPal",
         998,
         "2024-11-19 21:23:45",
         "2024-11-19",
         8845,
         8,
         "Gaming Console",
         "Electronics",
         499,
         2,
         "GoPro",
         "White"
        ],
        [
         57,
         "Cancelled",
         "Bank Transfer",
         586,
         "2024-11-19 11:32:44",
         "2024-11-19",
         8580,
         3,
         "Wireless Headphones",
         "Electronics",
         199,
         1,
         "HP",
         "Silver"
        ],
        [
         57,
         "Cancelled",
         "Bank Transfer",
         586,
         "2024-11-19 11:32:44",
         "2024-11-19",
         8580,
         7,
         "External Hard Drive",
         "Electronics",
         129,
         3,
         "Sony",
         "Silver"
        ],
        [
         63,
         "Cancelled",
         "Bank Transfer",
         646,
         "2024-11-24 08:41:28",
         "2024-11-24",
         7123,
         3,
         "Wireless Headphones",
         "Electronics",
         199,
         1,
         "GoPro",
         "Blue"
        ],
        [
         63,
         "Cancelled",
         "Bank Transfer",
         646,
         "2024-11-24 08:41:28",
         "2024-11-24",
         7123,
         6,
         "Bluetooth Speaker",
         "Electronics",
         149,
         3,
         "Bose",
         "Silver"
        ],
        [
         64,
         "Completed",
         "Bank Transfer",
         984,
         "2024-11-28 12:23:21",
         "2024-11-28",
         2639,
         7,
         "External Hard Drive",
         "Electronics",
         129,
         3,
         "Microsoft",
         "White"
        ],
        [
         64,
         "Completed",
         "Bank Transfer",
         984,
         "2024-11-28 12:23:21",
         "2024-11-28",
         2639,
         3,
         "Wireless Headphones",
         "Electronics",
         199,
         3,
         "Canon",
         "Blue"
        ],
        [
         88,
         "Cancelled",
         "Bank Transfer",
         387,
         "2024-11-15 11:39:44",
         "2024-11-15",
         9247,
         7,
         "External Hard Drive",
         "Electronics",
         129,
         3,
         "Bose",
         "White"
        ],
        [
         89,
         "Cancelled",
         "Bank Transfer",
         149,
         "2024-11-22 12:09:15",
         "2024-11-22",
         9247,
         6,
         "Bluetooth Speaker",
         "Electronics",
         149,
         1,
         "GoPro",
         "Silver"
        ],
        [
         92,
         "Shipped",
         "PayPal",
         258,
         "2024-11-24 23:33:21",
         "2024-11-24",
         5592,
         7,
         "External Hard Drive",
         "Electronics",
         129,
         2,
         "Sony",
         "Black"
        ],
        [
         6,
         "Pending",
         "Credit Card",
         799,
         "2024-10-28 04:47:27",
         "2024-10-28",
         1987,
         10,
         "Drone",
         "Electronics",
         799,
         1,
         "GoPro",
         "Black"
        ],
        [
         10,
         "Pending",
         "Credit Card",
         399,
         "2024-10-07 22:09:27",
         "2024-10-07",
         5816,
         5,
         "Tablet",
         "Electronics",
         399,
         1,
         "GoPro",
         "White"
        ],
        [
         11,
         "Pending",
         "Bank Transfer",
         897,
         "2024-10-13 17:34:19",
         "2024-10-13",
         5816,
         4,
         "Smartwatch",
         "Electronics",
         299,
         3,
         "Canon",
         "White"
        ],
        [
         15,
         "Completed",
         "Bank Transfer",
         1199,
         "2024-10-20 01:47:25",
         "2024-10-20",
         7207,
         9,
         "Smart TV",
         "Electronics",
         1199,
         1,
         "GoPro",
         "White"
        ],
        [
         19,
         "Shipped",
         "PayPal",
         499,
         "2024-10-13 12:40:26",
         "2024-10-13",
         8539,
         8,
         "Gaming Console",
         "Electronics",
         499,
         1,
         "Dell",
         "Silver"
        ],
        [
         39,
         "Shipped",
         "PayPal",
         387,
         "2024-10-29 21:39:19",
         "2024-10-29",
         9263,
         7,
         "External Hard Drive",
         "Electronics",
         129,
         3,
         "Sony",
         "Black"
        ],
        [
         55,
         "Shipped",
         "Bank Transfer",
         699,
         "2024-10-25 05:49:16",
         "2024-10-25",
         9018,
         1,
         "Smartphone",
         "Electronics",
         699,
         1,
         "HP",
         "Black"
        ],
        [
         59,
         "Pending",
         "PayPal",
         499,
         "2024-10-23 02:51:05",
         "2024-10-23",
         3409,
         8,
         "Gaming Console",
         "Electronics",
         499,
         1,
         "Dell",
         "Black"
        ],
        [
         72,
         "Cancelled",
         "PayPal",
         328,
         "2024-10-06 10:23:28",
         "2024-10-06",
         3889,
         3,
         "Wireless Headphones",
         "Electronics",
         199,
         1,
         "Microsoft",
         "Gray"
        ],
        [
         72,
         "Cancelled",
         "PayPal",
         328,
         "2024-10-06 10:23:28",
         "2024-10-06",
         3889,
         7,
         "External Hard Drive",
         "Electronics",
         129,
         1,
         "Samsung",
         "Silver"
        ],
        [
         77,
         "Pending",
         "Credit Card",
         398,
         "2024-10-15 13:09:33",
         "2024-10-15",
         9084,
         3,
         "Wireless Headphones",
         "Electronics",
         199,
         2,
         "HP",
         "Silver"
        ],
        [
         84,
         "Completed",
         "PayPal",
         998,
         "2024-10-25 03:37:42",
         "2024-10-25",
         2344,
         10,
         "Drone",
         "Electronics",
         799,
         1,
         "Sony",
         "Black"
        ],
        [
         84,
         "Completed",
         "PayPal",
         998,
         "2024-10-25 03:37:42",
         "2024-10-25",
         2344,
         3,
         "Wireless Headphones",
         "Electronics",
         199,
         1,
         "LG",
         "Black"
        ],
        [
         85,
         "Shipped",
         "Bank Transfer",
         998,
         "2024-10-23 20:06:42",
         "2024-10-23",
         5011,
         8,
         "Gaming Console",
         "Electronics",
         499,
         2,
         "GoPro",
         "Black"
        ],
        [
         86,
         "Completed",
         "PayPal",
         1199,
         "2024-10-19 13:30:47",
         "2024-10-19",
         5011,
         9,
         "Smart TV",
         "Electronics",
         1199,
         1,
         "Dell",
         "White"
        ]
       ],
       "datasetInfos": [],
       "dbfsResultPath": null,
       "isJsonSchema": true,
       "metadata": {},
       "overflow": false,
       "plotOptions": {
        "customPlotOptions": {},
        "displayType": "table",
        "pivotAggregation": null,
        "pivotColumns": null,
        "xColumns": null,
        "yColumns": null
       },
       "removedWidgets": [],
       "schema": [
        {
         "metadata": "{}",
         "name": "order_id",
         "type": "\"long\""
        },
        {
         "metadata": "{}",
         "name": "order_status",
         "type": "\"string\""
        },
        {
         "metadata": "{}",
         "name": "payment_method",
         "type": "\"string\""
        },
        {
         "metadata": "{}",
         "name": "total_amount",
         "type": "\"long\""
        },
        {
         "metadata": "{}",
         "name": "transaction_timestamp",
         "type": "\"string\""
        },
        {
         "metadata": "{}",
         "name": "order_date",
         "type": "\"string\""
        },
        {
         "metadata": "{}",
         "name": "customer_id",
         "type": "\"long\""
        },
        {
         "metadata": "{}",
         "name": "item_id",
         "type": "\"long\""
        },
        {
         "metadata": "{}",
         "name": "name",
         "type": "\"string\""
        },
        {
         "metadata": "{}",
         "name": "category",
         "type": "\"string\""
        },
        {
         "metadata": "{}",
         "name": "price",
         "type": "\"long\""
        },
        {
         "metadata": "{}",
         "name": "quantity",
         "type": "\"long\""
        },
        {
         "metadata": "{}",
         "name": "brand",
         "type": "\"string\""
        },
        {
         "metadata": "{}",
         "name": "color",
         "type": "\"string\""
        }
       ],
       "type": "table"
      }
     },
     "output_type": "display_data"
    }
   ],
   "source": [
    "select  * from gizmobox.silver.orders"
   ]
  }
 ],
 "metadata": {
  "application/vnd.databricks.v1+notebook": {
   "computePreferences": null,
   "dashboards": [],
   "environmentMetadata": {
    "base_environment": "",
    "environment_version": "2"
   },
   "inputWidgetPreferences": null,
   "language": "sql",
   "notebookMetadata": {},
   "notebookName": "12.2.Transform_orders_data_Explode_Arrays",
   "widgets": {}
  },
  "language_info": {
   "name": "sql"
  }
 },
 "nbformat": 4,
 "nbformat_minor": 0
}