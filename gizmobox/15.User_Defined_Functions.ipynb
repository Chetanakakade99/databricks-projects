{
 "cells": [
  {
   "cell_type": "markdown",
   "metadata": {
    "application/vnd.databricks.v1+cell": {
     "cellMetadata": {},
     "inputWidgets": {},
     "nuid": "2be3984a-5107-4246-94ca-8a529f236c53",
     "showTitle": false,
     "tableResultSettingsMap": {},
     "title": ""
    }
   },
   "source": [
    "###User Defined Functions (UDFs)\n",
    "1. USer Defined Functions (UDF) in Spark are customer functions created by usres to extend the capabilities of Spark SQL and PySpark.\n",
    "2. UDFs allow us to perform calculations or transformations to apply business logic that are not possible with built-in functions\n",
    "3. You define the function once and use it across multiple queries\n",
    "4. SQL UDFs are recommended over Python UDFs due to better optimization"
   ]
  },
  {
   "cell_type": "markdown",
   "metadata": {
    "application/vnd.databricks.v1+cell": {
     "cellMetadata": {},
     "inputWidgets": {},
     "nuid": "ffc6006f-0cc1-440e-8335-efd7d6a5a498",
     "showTitle": false,
     "tableResultSettingsMap": {},
     "title": ""
    }
   },
   "source": [
    "####Syntax\n",
    "\n",
    "#####CREATE OR REPLACE FUNCTION catlogName.schemaName.udfName(paramName dataType)\n",
    "#####RETURNS returnType\n",
    "#####RETURN expression;"
   ]
  },
  {
   "cell_type": "code",
   "execution_count": 0,
   "metadata": {
    "application/vnd.databricks.v1+cell": {
     "cellMetadata": {},
     "inputWidgets": {},
     "nuid": "16cfffa5-efb8-47e5-86d5-e831b1bff74d",
     "showTitle": false,
     "tableResultSettingsMap": {},
     "title": ""
    }
   },
   "outputs": [],
   "source": [
    "-- for example, In payments table, we have a CASE stmt which can be replaced by a UDF:\n",
    "SELECT payment_id,\n",
    "       order_id,\n",
    "       CAST(date_format(payment_timestamp, 'yyyy-MM-dd') as DATE) as payment_date,\n",
    "       date_format(payment_timestamp, 'HH:mm:ss') as payment_time,\n",
    "       CASE payment_status\n",
    "        WHEN 1 THEN 'Success'\n",
    "        WHEN 2 THEN 'Pending'\n",
    "        WHEN 3 THEN 'Cancelled'\n",
    "        WHEN 4 THEN 'Failed'\n",
    "       END AS payment_status,\n",
    "       payment_method\n",
    "FROM GIZMOBOX.BRONZE.payments"
   ]
  },
  {
   "cell_type": "code",
   "execution_count": 0,
   "metadata": {
    "application/vnd.databricks.v1+cell": {
     "cellMetadata": {},
     "inputWidgets": {},
     "nuid": "8e7b4f83-2854-46c5-80d7-40a060a29738",
     "showTitle": false,
     "tableResultSettingsMap": {},
     "title": ""
    }
   },
   "outputs": [],
   "source": [
    "create or replace function gizmobox.default.get_payment_status_udf(payment_status int)\n",
    "returns string\n",
    "return CASE payment_status\n",
    "        WHEN 1 THEN 'Success'\n",
    "        WHEN 2 THEN 'Pending'\n",
    "        WHEN 3 THEN 'Cancelled'\n",
    "        WHEN 4 THEN 'Failed'\n",
    "       END;"
   ]
  },
  {
   "cell_type": "code",
   "execution_count": 0,
   "metadata": {
    "application/vnd.databricks.v1+cell": {
     "cellMetadata": {},
     "inputWidgets": {},
     "nuid": "b1efbb1b-5357-4ec6-bbf2-1e9a5ce93ca7",
     "showTitle": false,
     "tableResultSettingsMap": {},
     "title": ""
    }
   },
   "outputs": [],
   "source": [
    "SELECT payment_id,\n",
    "       order_id,\n",
    "       CAST(date_format(payment_timestamp, 'yyyy-MM-dd') as DATE) as payment_date,\n",
    "       date_format(payment_timestamp, 'HH:mm:ss') as payment_time,\n",
    "       gizmobox.default.get_payment_status_udf(payment_status) AS payment_status,\n",
    "       payment_method\n",
    "FROM GIZMOBOX.BRONZE.payments"
   ]
  }
 ],
 "metadata": {
  "application/vnd.databricks.v1+notebook": {
   "computePreferences": null,
   "dashboards": [],
   "environmentMetadata": {
    "base_environment": "",
    "environment_version": "2"
   },
   "inputWidgetPreferences": null,
   "language": "sql",
   "notebookMetadata": {},
   "notebookName": "15.User_Defined_Functions",
   "widgets": {}
  },
  "language_info": {
   "name": "sql"
  }
 },
 "nbformat": 4,
 "nbformat_minor": 0
}