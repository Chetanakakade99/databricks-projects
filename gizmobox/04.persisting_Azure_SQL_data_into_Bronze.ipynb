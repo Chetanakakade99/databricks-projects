{
 "cells": [
  {
   "cell_type": "markdown",
   "metadata": {
    "application/vnd.databricks.v1+cell": {
     "cellMetadata": {},
     "inputWidgets": {},
     "nuid": "bfe8f9c6-d41f-478f-8c08-74c2e2611c5c",
     "showTitle": false,
     "tableResultSettingsMap": {},
     "title": ""
    }
   },
   "source": [
    "\n",
    "### There are 2 ways to access data from an external database such as MySQL or Azure SQl\n",
    "1. via JDBC in hive metastore schema, using which you can create an external table in Databricks and query the data - can't do this in unity metastore schema\n",
    "2. If you are working with Unity Catalog, you can use Lakehouse Federation to access the tables directly from the external database"
   ]
  },
  {
   "cell_type": "markdown",
   "metadata": {
    "application/vnd.databricks.v1+cell": {
     "cellMetadata": {},
     "inputWidgets": {},
     "nuid": "ea1c66e3-9f6f-48e0-a365-62a2ce2b429c",
     "showTitle": false,
     "tableResultSettingsMap": {},
     "title": ""
    }
   },
   "source": [
    "####Extract Data From the refunds SQL Table From Azure SQL Database\n",
    "1. Create Bronze Schema in Hive Metastore\n",
    "2. Create External Table"
   ]
  },
  {
   "cell_type": "markdown",
   "metadata": {
    "application/vnd.databricks.v1+cell": {
     "cellMetadata": {},
     "inputWidgets": {},
     "nuid": "690b752f-66c9-4312-aca3-ba9e86337dd1",
     "showTitle": false,
     "tableResultSettingsMap": {},
     "title": ""
    }
   },
   "source": [
    "#####1. Create Bronze Schema in Hive Metastore"
   ]
  },
  {
   "cell_type": "code",
   "execution_count": 0,
   "metadata": {
    "application/vnd.databricks.v1+cell": {
     "cellMetadata": {
      "byteLimit": 2048000,
      "rowLimit": 10000
     },
     "inputWidgets": {},
     "nuid": "7057dd75-3432-44ec-b8fa-44bdb0f5c84b",
     "showTitle": false,
     "tableResultSettingsMap": {},
     "title": ""
    }
   },
   "outputs": [
    {
     "output_type": "display_data",
     "data": {
      "text/html": [
       "<style scoped>\n",
       "  .table-result-container {\n",
       "    max-height: 300px;\n",
       "    overflow: auto;\n",
       "  }\n",
       "  table, th, td {\n",
       "    border: 1px solid black;\n",
       "    border-collapse: collapse;\n",
       "  }\n",
       "  th, td {\n",
       "    padding: 5px;\n",
       "  }\n",
       "  th {\n",
       "    text-align: left;\n",
       "  }\n",
       "</style><div class='table-result-container'><table class='table-result'><thead style='background-color: white'><tr></tr></thead><tbody></tbody></table></div>"
      ]
     },
     "metadata": {
      "application/vnd.databricks.v1+output": {
       "addedWidgets": {},
       "aggData": [],
       "aggError": "",
       "aggOverflow": false,
       "aggSchema": [],
       "aggSeriesLimitReached": false,
       "aggType": "",
       "arguments": {},
       "columnCustomDisplayInfos": {},
       "data": [],
       "datasetInfos": [],
       "dbfsResultPath": null,
       "isJsonSchema": true,
       "metadata": {
        "isDbfsCommandResult": false
       },
       "overflow": false,
       "plotOptions": {
        "customPlotOptions": {},
        "displayType": "table",
        "pivotAggregation": null,
        "pivotColumns": null,
        "xColumns": null,
        "yColumns": null
       },
       "removedWidgets": [],
       "schema": [],
       "type": "table"
      }
     },
     "output_type": "display_data"
    }
   ],
   "source": [
    "CREATE SCHEMA IF NOT EXISTS hive_metastore.bronze;"
   ]
  },
  {
   "cell_type": "markdown",
   "metadata": {
    "application/vnd.databricks.v1+cell": {
     "cellMetadata": {},
     "inputWidgets": {},
     "nuid": "a74f4fd2-56be-409a-91cc-303ef140937a",
     "showTitle": false,
     "tableResultSettingsMap": {},
     "title": ""
    }
   },
   "source": [
    "#####2. Create External Table"
   ]
  },
  {
   "cell_type": "code",
   "execution_count": 0,
   "metadata": {
    "application/vnd.databricks.v1+cell": {
     "cellMetadata": {
      "byteLimit": 2048000,
      "rowLimit": 10000
     },
     "inputWidgets": {},
     "nuid": "4ce32b11-7dc6-4a78-b5e6-55748bfdb9b3",
     "showTitle": false,
     "tableResultSettingsMap": {},
     "title": ""
    }
   },
   "outputs": [
    {
     "output_type": "display_data",
     "data": {
      "text/html": [
       "<style scoped>\n",
       "  .table-result-container {\n",
       "    max-height: 300px;\n",
       "    overflow: auto;\n",
       "  }\n",
       "  table, th, td {\n",
       "    border: 1px solid black;\n",
       "    border-collapse: collapse;\n",
       "  }\n",
       "  th, td {\n",
       "    padding: 5px;\n",
       "  }\n",
       "  th {\n",
       "    text-align: left;\n",
       "  }\n",
       "</style><div class='table-result-container'><table class='table-result'><thead style='background-color: white'><tr></tr></thead><tbody></tbody></table></div>"
      ]
     },
     "metadata": {
      "application/vnd.databricks.v1+output": {
       "addedWidgets": {},
       "aggData": [],
       "aggError": "",
       "aggOverflow": false,
       "aggSchema": [],
       "aggSeriesLimitReached": false,
       "aggType": "",
       "arguments": {},
       "columnCustomDisplayInfos": {},
       "data": [],
       "datasetInfos": [],
       "dbfsResultPath": null,
       "isJsonSchema": true,
       "metadata": {
        "isDbfsCommandResult": false
       },
       "overflow": false,
       "plotOptions": {
        "customPlotOptions": {},
        "displayType": "table",
        "pivotAggregation": null,
        "pivotColumns": null,
        "xColumns": null,
        "yColumns": null
       },
       "removedWidgets": [],
       "schema": [],
       "type": "table"
      }
     },
     "output_type": "display_data"
    }
   ],
   "source": [
    "\n",
    "CREATE TABLE IF NOT EXISTS hive_metastore.bronze.refunds\n",
    "USING JDBC\n",
    "OPTIONS (\n",
    "URL 'jdbc:sqlserver://editing-url-for-security-purposes',\n",
    "dbtable 'refunds',\n",
    "user 'admin',\n",
    "password 'Password123'\n",
    ");"
   ]
  },
  {
   "cell_type": "code",
   "execution_count": 0,
   "metadata": {
    "application/vnd.databricks.v1+cell": {
     "cellMetadata": {
      "byteLimit": 2048000,
      "rowLimit": 10000
     },
     "inputWidgets": {},
     "nuid": "bdaa265c-86ed-4fb3-a288-e0d095d582db",
     "showTitle": false,
     "tableResultSettingsMap": {},
     "title": ""
    }
   },
   "outputs": [
    {
     "output_type": "display_data",
     "data": {
      "text/html": [
       "<style scoped>\n",
       "  .table-result-container {\n",
       "    max-height: 300px;\n",
       "    overflow: auto;\n",
       "  }\n",
       "  table, th, td {\n",
       "    border: 1px solid black;\n",
       "    border-collapse: collapse;\n",
       "  }\n",
       "  th, td {\n",
       "    padding: 5px;\n",
       "  }\n",
       "  th {\n",
       "    text-align: left;\n",
       "  }\n",
       "</style><div class='table-result-container'><table class='table-result'><thead style='background-color: white'><tr><th>refund_id</th><th>payment_id</th><th>refund_timestamp</th><th>refund_amount</th><th>refund_reason</th></tr></thead><tbody><tr><td>1</td><td>66</td><td>2025-01-10T11:30:00Z</td><td>85.75</td><td>Payment Error:Retailer</td></tr><tr><td>2</td><td>69</td><td>2025-01-03T12:40:15Z</td><td>120.50</td><td>Order Cancelled:Customer</td></tr><tr><td>3</td><td>72</td><td>2025-01-06T14:45:30Z</td><td>65.00</td><td>Product Returned:Customer</td></tr><tr><td>4</td><td>73</td><td>2025-01-07T16:10:45Z</td><td>210.99</td><td>Order Cancelled:Customer</td></tr><tr><td>5</td><td>75</td><td>2025-01-09T18:25:00Z</td><td>45.20</td><td>Payment Error:Retailer</td></tr><tr><td>6</td><td>80</td><td>2025-01-10T09:35:20Z</td><td>130.15</td><td>Order Cancelled:Customer</td></tr><tr><td>7</td><td>83</td><td>2025-01-12T11:20:40Z</td><td>150.00</td><td>Product Returned:Customer</td></tr><tr><td>8</td><td>85</td><td>2025-01-14T13:15:30Z</td><td>89.99</td><td>Order Cancelled:Customer</td></tr><tr><td>9</td><td>89</td><td>2025-01-15T15:00:00Z</td><td>78.50</td><td>Payment Error:Retailer</td></tr><tr><td>10</td><td>91</td><td>2025-01-17T16:45:15Z</td><td>250.75</td><td>Product Returned:Customer</td></tr></tbody></table></div>"
      ]
     },
     "metadata": {
      "application/vnd.databricks.v1+output": {
       "addedWidgets": {},
       "aggData": [],
       "aggError": "",
       "aggOverflow": false,
       "aggSchema": [],
       "aggSeriesLimitReached": false,
       "aggType": "",
       "arguments": {},
       "columnCustomDisplayInfos": {},
       "data": [
        [
         1,
         66,
         "2025-01-10T11:30:00Z",
         "85.75",
         "Payment Error:Retailer"
        ],
        [
         2,
         69,
         "2025-01-03T12:40:15Z",
         "120.50",
         "Order Cancelled:Customer"
        ],
        [
         3,
         72,
         "2025-01-06T14:45:30Z",
         "65.00",
         "Product Returned:Customer"
        ],
        [
         4,
         73,
         "2025-01-07T16:10:45Z",
         "210.99",
         "Order Cancelled:Customer"
        ],
        [
         5,
         75,
         "2025-01-09T18:25:00Z",
         "45.20",
         "Payment Error:Retailer"
        ],
        [
         6,
         80,
         "2025-01-10T09:35:20Z",
         "130.15",
         "Order Cancelled:Customer"
        ],
        [
         7,
         83,
         "2025-01-12T11:20:40Z",
         "150.00",
         "Product Returned:Customer"
        ],
        [
         8,
         85,
         "2025-01-14T13:15:30Z",
         "89.99",
         "Order Cancelled:Customer"
        ],
        [
         9,
         89,
         "2025-01-15T15:00:00Z",
         "78.50",
         "Payment Error:Retailer"
        ],
        [
         10,
         91,
         "2025-01-17T16:45:15Z",
         "250.75",
         "Product Returned:Customer"
        ]
       ],
       "datasetInfos": [],
       "dbfsResultPath": null,
       "isJsonSchema": true,
       "metadata": {
        "isDbfsCommandResult": false
       },
       "overflow": false,
       "plotOptions": {
        "customPlotOptions": {},
        "displayType": "table",
        "pivotAggregation": null,
        "pivotColumns": null,
        "xColumns": null,
        "yColumns": null
       },
       "removedWidgets": [],
       "schema": [
        {
         "metadata": "{\"isTimestampNTZ\":false,\"signed\":true,\"scale\":0}",
         "name": "refund_id",
         "type": "\"integer\""
        },
        {
         "metadata": "{\"isTimestampNTZ\":false,\"signed\":true,\"scale\":0}",
         "name": "payment_id",
         "type": "\"integer\""
        },
        {
         "metadata": "{\"isTimestampNTZ\":false,\"signed\":false,\"scale\":3}",
         "name": "refund_timestamp",
         "type": "\"timestamp\""
        },
        {
         "metadata": "{\"isTimestampNTZ\":false,\"signed\":true,\"scale\":2}",
         "name": "refund_amount",
         "type": "\"decimal(10,2)\""
        },
        {
         "metadata": "{\"isTimestampNTZ\":false,\"signed\":false,\"scale\":0}",
         "name": "refund_reason",
         "type": "\"string\""
        }
       ],
       "type": "table"
      }
     },
     "output_type": "display_data"
    }
   ],
   "source": [
    "select * from hive_metastore.bronze.refunds"
   ]
  },
  {
   "cell_type": "code",
   "execution_count": 0,
   "metadata": {
    "application/vnd.databricks.v1+cell": {
     "cellMetadata": {
      "byteLimit": 2048000,
      "rowLimit": 10000
     },
     "inputWidgets": {},
     "nuid": "6b621221-f688-4366-9be7-799c1ed985dd",
     "showTitle": false,
     "tableResultSettingsMap": {},
     "title": ""
    }
   },
   "outputs": [
    {
     "output_type": "display_data",
     "data": {
      "text/html": [
       "<style scoped>\n",
       "  .table-result-container {\n",
       "    max-height: 300px;\n",
       "    overflow: auto;\n",
       "  }\n",
       "  table, th, td {\n",
       "    border: 1px solid black;\n",
       "    border-collapse: collapse;\n",
       "  }\n",
       "  th, td {\n",
       "    padding: 5px;\n",
       "  }\n",
       "  th {\n",
       "    text-align: left;\n",
       "  }\n",
       "</style><div class='table-result-container'><table class='table-result'><thead style='background-color: white'><tr><th>col_name</th><th>data_type</th><th>comment</th></tr></thead><tbody><tr><td>refund_id</td><td>int</td><td>null</td></tr><tr><td>payment_id</td><td>int</td><td>null</td></tr><tr><td>refund_timestamp</td><td>timestamp</td><td>null</td></tr><tr><td>refund_amount</td><td>decimal(10,2)</td><td>null</td></tr><tr><td>refund_reason</td><td>string</td><td>null</td></tr><tr><td></td><td></td><td></td></tr><tr><td># Detailed Table Information</td><td></td><td></td></tr><tr><td>Catalog</td><td>hive_metastore</td><td></td></tr><tr><td>Database</td><td>bronze</td><td></td></tr><tr><td>Table</td><td>refunds</td><td></td></tr><tr><td>Owner</td><td>root</td><td></td></tr><tr><td>Created Time</td><td>Wed May 21 22:55:28 UTC 2025</td><td></td></tr><tr><td>Last Access</td><td>UNKNOWN</td><td></td></tr><tr><td>Created By</td><td>Spark 3.5.2</td><td></td></tr><tr><td>Type</td><td>EXTERNAL</td><td></td></tr><tr><td>Provider</td><td>JDBC</td><td></td></tr><tr><td>Location</td><td>jdbc:/JDBC</td><td></td></tr><tr><td>Serde Library</td><td>org.apache.hadoop.hive.serde2.lazy.LazySimpleSerDe</td><td></td></tr><tr><td>InputFormat</td><td>org.apache.hadoop.mapred.SequenceFileInputFormat</td><td></td></tr><tr><td>OutputFormat</td><td>org.apache.hadoop.hive.ql.io.HiveSequenceFileOutputFormat</td><td></td></tr><tr><td>Storage Properties</td><td>[URL=*********(redacted), dbtable=refunds, user=*********(redacted), password=*********(redacted)]</td><td></td></tr></tbody></table></div>"
      ]
     },
     "metadata": {
      "application/vnd.databricks.v1+output": {
       "addedWidgets": {},
       "aggData": [],
       "aggError": "",
       "aggOverflow": false,
       "aggSchema": [],
       "aggSeriesLimitReached": false,
       "aggType": "",
       "arguments": {},
       "columnCustomDisplayInfos": {},
       "data": [
        [
         "refund_id",
         "int",
         null
        ],
        [
         "payment_id",
         "int",
         null
        ],
        [
         "refund_timestamp",
         "timestamp",
         null
        ],
        [
         "refund_amount",
         "decimal(10,2)",
         null
        ],
        [
         "refund_reason",
         "string",
         null
        ],
        [
         "",
         "",
         ""
        ],
        [
         "# Detailed Table Information",
         "",
         ""
        ],
        [
         "Catalog",
         "hive_metastore",
         ""
        ],
        [
         "Database",
         "bronze",
         ""
        ],
        [
         "Table",
         "refunds",
         ""
        ],
        [
         "Owner",
         "root",
         ""
        ],
        [
         "Created Time",
         "Wed May 21 22:55:28 UTC 2025",
         ""
        ],
        [
         "Last Access",
         "UNKNOWN",
         ""
        ],
        [
         "Created By",
         "Spark 3.5.2",
         ""
        ],
        [
         "Type",
         "EXTERNAL",
         ""
        ],
        [
         "Provider",
         "JDBC",
         ""
        ],
        [
         "Location",
         "jdbc:/JDBC",
         ""
        ],
        [
         "Serde Library",
         "org.apache.hadoop.hive.serde2.lazy.LazySimpleSerDe",
         ""
        ],
        [
         "InputFormat",
         "org.apache.hadoop.mapred.SequenceFileInputFormat",
         ""
        ],
        [
         "OutputFormat",
         "org.apache.hadoop.hive.ql.io.HiveSequenceFileOutputFormat",
         ""
        ],
        [
         "Storage Properties",
         "[URL=*********(redacted), dbtable=refunds, user=*********(redacted), password=*********(redacted)]",
         ""
        ]
       ],
       "datasetInfos": [],
       "dbfsResultPath": null,
       "isJsonSchema": true,
       "metadata": {
        "isDbfsCommandResult": false
       },
       "overflow": false,
       "plotOptions": {
        "customPlotOptions": {},
        "displayType": "table",
        "pivotAggregation": null,
        "pivotColumns": null,
        "xColumns": null,
        "yColumns": null
       },
       "removedWidgets": [],
       "schema": [
        {
         "metadata": "{\"comment\":\"name of the column\"}",
         "name": "col_name",
         "type": "\"string\""
        },
        {
         "metadata": "{\"comment\":\"data type of the column\"}",
         "name": "data_type",
         "type": "\"string\""
        },
        {
         "metadata": "{\"comment\":\"comment of the column\"}",
         "name": "comment",
         "type": "\"string\""
        }
       ],
       "type": "table"
      }
     },
     "output_type": "display_data"
    }
   ],
   "source": [
    "desc extended hive_metastore.bronze.refunds"
   ]
  },
  {
   "cell_type": "markdown",
   "metadata": {
    "application/vnd.databricks.v1+cell": {
     "cellMetadata": {},
     "inputWidgets": {},
     "nuid": "044e42a1-acc1-46fa-8451-8ec723d41ccc",
     "showTitle": false,
     "tableResultSettingsMap": {},
     "title": ""
    }
   },
   "source": []
  }
 ],
 "metadata": {
  "application/vnd.databricks.v1+notebook": {
   "computePreferences": null,
   "dashboards": [],
   "environmentMetadata": {
    "base_environment": "",
    "environment_version": "2"
   },
   "inputWidgetPreferences": null,
   "language": "sql",
   "notebookMetadata": {
    "pythonIndentUnit": 4
   },
   "notebookName": "04.persisting_Azure_SQL_data_into_Bronze",
   "widgets": {}
  },
  "language_info": {
   "name": "sql"
  }
 },
 "nbformat": 4,
 "nbformat_minor": 0
}